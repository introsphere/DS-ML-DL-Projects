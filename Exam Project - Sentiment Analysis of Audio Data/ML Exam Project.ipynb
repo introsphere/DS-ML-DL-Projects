{
 "cells": [
  {
   "cell_type": "code",
   "execution_count": null,
   "id": "dad84a32-856a-4234-afbb-1e4b726f1c7c",
   "metadata": {
    "colab": {
     "base_uri": "https://localhost:8080/"
    },
    "execution": {
     "iopub.execute_input": "2022-11-08T13:46:14.868759Z",
     "iopub.status.busy": "2022-11-08T13:46:14.868332Z",
     "iopub.status.idle": "2022-11-08T13:46:35.624007Z",
     "shell.execute_reply": "2022-11-08T13:46:35.623106Z",
     "shell.execute_reply.started": "2022-11-08T13:46:14.868677Z"
    },
    "executionInfo": {
     "elapsed": 3511,
     "status": "ok",
     "timestamp": 1668004828671,
     "user": {
      "displayName": "Tihomir Todorov",
      "userId": "04188387160388165689"
     },
     "user_tz": -120
    },
    "id": "dad84a32-856a-4234-afbb-1e4b726f1c7c",
    "outputId": "7a6c3868-1ce5-437c-c806-eecc90c86842"
   },
   "outputs": [],
   "source": [
    "# !pip install imblearn xgboost catboost lightgbm scikit-learn-intelex hyperopt"
   ]
  },
  {
   "cell_type": "code",
   "execution_count": null,
   "id": "9nVFvH1PmYDZ",
   "metadata": {
    "colab": {
     "base_uri": "https://localhost:8080/"
    },
    "executionInfo": {
     "elapsed": 2222,
     "status": "ok",
     "timestamp": 1668004832527,
     "user": {
      "displayName": "Tihomir Todorov",
      "userId": "04188387160388165689"
     },
     "user_tz": -120
    },
    "id": "9nVFvH1PmYDZ",
    "outputId": "4cc1a1ba-c2df-47cb-b070-09575ec77aa0"
   },
   "outputs": [],
   "source": [
    "# from google.colab import drive\n",
    "# drive.mount('/content/gdrive')"
   ]
  },
  {
   "cell_type": "code",
   "execution_count": 1,
   "id": "feaac041-3256-4718-bcb3-c48eedf431b7",
   "metadata": {
    "execution": {
     "iopub.execute_input": "2022-11-08T13:46:35.625585Z",
     "iopub.status.busy": "2022-11-08T13:46:35.625389Z",
     "iopub.status.idle": "2022-11-08T13:46:36.739906Z",
     "shell.execute_reply": "2022-11-08T13:46:36.738822Z",
     "shell.execute_reply.started": "2022-11-08T13:46:35.625564Z"
    },
    "executionInfo": {
     "elapsed": 4,
     "status": "ok",
     "timestamp": 1668004833043,
     "user": {
      "displayName": "Tihomir Todorov",
      "userId": "04188387160388165689"
     },
     "user_tz": -120
    },
    "id": "feaac041-3256-4718-bcb3-c48eedf431b7",
    "tags": []
   },
   "outputs": [],
   "source": [
    "%matplotlib inline"
   ]
  },
  {
   "cell_type": "code",
   "execution_count": 2,
   "id": "08e63d42",
   "metadata": {
    "execution": {
     "iopub.execute_input": "2022-11-08T13:46:36.742199Z",
     "iopub.status.busy": "2022-11-08T13:46:36.741934Z",
     "iopub.status.idle": "2022-11-08T13:46:36.929853Z",
     "shell.execute_reply": "2022-11-08T13:46:36.929070Z",
     "shell.execute_reply.started": "2022-11-08T13:46:36.742179Z"
    },
    "executionInfo": {
     "elapsed": 696,
     "status": "ok",
     "timestamp": 1668004835103,
     "user": {
      "displayName": "Tihomir Todorov",
      "userId": "04188387160388165689"
     },
     "user_tz": -120
    },
    "id": "08e63d42"
   },
   "outputs": [],
   "source": [
    "# Basic imports\n",
    "import pandas as pd\n",
    "import numpy as np\n",
    "import matplotlib.pyplot as plt\n",
    "import scipy\n",
    "import re\n",
    "\n",
    "import os\n",
    "from os import path\n",
    "\n",
    "import warnings\n",
    "warnings.filterwarnings('ignore')"
   ]
  },
  {
   "cell_type": "code",
   "execution_count": 3,
   "id": "a40b240a",
   "metadata": {
    "execution": {
     "iopub.execute_input": "2022-11-08T13:46:36.931135Z",
     "iopub.status.busy": "2022-11-08T13:46:36.930959Z",
     "iopub.status.idle": "2022-11-08T13:46:37.226413Z",
     "shell.execute_reply": "2022-11-08T13:46:37.225647Z",
     "shell.execute_reply.started": "2022-11-08T13:46:36.931118Z"
    },
    "executionInfo": {
     "elapsed": 1402,
     "status": "ok",
     "timestamp": 1668004838625,
     "user": {
      "displayName": "Tihomir Todorov",
      "userId": "04188387160388165689"
     },
     "user_tz": -120
    },
    "id": "a40b240a"
   },
   "outputs": [],
   "source": [
    "# Plotting\n",
    "import IPython.display as ipd\n",
    "\n",
    "import seaborn as sns \n",
    "sns.set_style(\"whitegrid\")\n",
    "colors = sns.color_palette(\"coolwarm_r\")\n",
    "\n",
    "palette = [\n",
    "    \"#A79AFF\", \"#AFCBFF\", \"#FF9CEE\", \"#FFCCF9\", \n",
    "    \"#85E3FF\", \"#ACE7FF\", \"#AFF8DB\", \"#DBFFD6\", \n",
    "    \"#E7FFAC\", \"#FFFFD1\", \"#FFABAB\", \"#FFCBC1\" \n",
    "]\n",
    "\n",
    "m_color, f_color = \"#FFABAB\", \"#AFCBFF\""
   ]
  },
  {
   "cell_type": "code",
   "execution_count": 4,
   "id": "63ce4d6a",
   "metadata": {
    "id": "63ce4d6a"
   },
   "outputs": [],
   "source": [
    "# Audio procesing\n",
    "from scipy.io import wavfile\n",
    "import noisereduce as nr\n",
    "from pydub import AudioSegment\n",
    "\n",
    "import librosa\n",
    "import librosa.display as ld\n",
    "\n",
    "from pyAudioAnalysis import audioBasicIO as aIO\n",
    "from pyAudioAnalysis import MidTermFeatures as MTF"
   ]
  },
  {
   "cell_type": "code",
   "execution_count": 5,
   "id": "098c5476",
   "metadata": {
    "execution": {
     "iopub.execute_input": "2022-11-08T13:46:37.227555Z",
     "iopub.status.busy": "2022-11-08T13:46:37.227370Z",
     "iopub.status.idle": "2022-11-08T13:46:37.390077Z",
     "shell.execute_reply": "2022-11-08T13:46:37.389286Z",
     "shell.execute_reply.started": "2022-11-08T13:46:37.227536Z"
    },
    "executionInfo": {
     "elapsed": 1251,
     "status": "ok",
     "timestamp": 1668004841723,
     "user": {
      "displayName": "Tihomir Todorov",
      "userId": "04188387160388165689"
     },
     "user_tz": -120
    },
    "id": "098c5476"
   },
   "outputs": [
    {
     "name": "stderr",
     "output_type": "stream",
     "text": [
      "Intel(R) Extension for Scikit-learn* enabled (https://github.com/intel/scikit-learn-intelex)\n"
     ]
    }
   ],
   "source": [
    "# Stats and Modeling\n",
    "from scipy.stats import zscore\n",
    "\n",
    "from sklearnex import patch_sklearn\n",
    "patch_sklearn()\n",
    "\n",
    "from sklearn.preprocessing import StandardScaler, MinMaxScaler, MaxAbsScaler\n",
    "from imblearn.under_sampling import RandomUnderSampler\n",
    "from sklearn.decomposition import PCA\n",
    "\n",
    "\n",
    "from sklearn.experimental import enable_halving_search_cv\n",
    "\n",
    "from sklearn.ensemble import RandomForestClassifier, ExtraTreesClassifier\n",
    "from sklearn.linear_model import Perceptron, LogisticRegression\n",
    "from sklearn.svm import SVC\n",
    "from sklearn.cluster import KMeans\n",
    "from sklearn.neighbors import KNeighborsClassifier\n",
    "from sklearn.naive_bayes import GaussianNB\n",
    "from xgboost import XGBClassifier\n",
    "\n",
    "from sklearn.pipeline import Pipeline\n",
    "\n",
    "from catboost import CatBoostClassifier\n",
    "from lightgbm import LGBMClassifier\n",
    "\n",
    "from sklearn.model_selection import cross_val_score, learning_curve, train_test_split, HalvingGridSearchCV\n",
    "from sklearn.metrics import confusion_matrix, accuracy_score, recall_score"
   ]
  },
  {
   "cell_type": "code",
   "execution_count": 6,
   "id": "81bb9994-5e9d-49cf-a8b9-ca25f8c64e8c",
   "metadata": {
    "execution": {
     "iopub.execute_input": "2022-11-07T07:28:24.663429Z",
     "iopub.status.busy": "2022-11-07T07:28:24.663237Z",
     "iopub.status.idle": "2022-11-07T07:28:24.666617Z",
     "shell.execute_reply": "2022-11-07T07:28:24.666003Z",
     "shell.execute_reply.started": "2022-11-07T07:28:24.663395Z"
    },
    "id": "81bb9994-5e9d-49cf-a8b9-ca25f8c64e8c"
   },
   "outputs": [],
   "source": [
    "#Predefined paths to use in our functions\n",
    "\n",
    "CSV_PATH = \"/home/faeron/Desktop/ML Exam Project/audio-data\"\n",
    "AUDIO_PATH = \"/home/faeron/Desktop/ML Exam Project/csv-folder\""
   ]
  },
  {
   "cell_type": "markdown",
   "id": "bae07f62-1f67-4531-b8e6-e82029c169b9",
   "metadata": {
    "id": "bae07f62-1f67-4531-b8e6-e82029c169b9"
   },
   "source": [
    "# Sentiment Analysis of Audio Data\n",
    "\n",
    "#### An end-to-end project for audio machine learning’s foundational application scenario.\n",
    "\n",
    "### Author: Tihomir Todorov\n",
    "\n",
    "<br>\n",
    "<a href=\"https://imgur.com/31B44bW\"><img src=\"https://i.imgur.com/31B44bW.jpg\" title=\"source: imgur.com\" width=\"800px\"/></a><br>\n",
    "\n",
    "#### Table of Contents:\n",
    "\n",
    "1. [Introduction](#introduction)\n",
    "\n",
    "\n",
    "2. [Data Cleaning](#data_cleaning)\n",
    "\n",
    "    2.1 [Noise Reduction](#noise_reduction)\n",
    "    \n",
    "    2.2 [Trimming](#trimming)\n",
    "\n",
    "\n",
    "3. [Exploratory Data Analysis](#eda)\n",
    "\n",
    "    3.1 [Exploring the Facets of Audio by Gender](#eda_audio_gender)\n",
    "\n",
    "\n",
    "    \n"
   ]
  },
  {
   "cell_type": "markdown",
   "id": "d149a1a7-3c92-428e-86c1-a5d101226a78",
   "metadata": {
    "id": "d149a1a7-3c92-428e-86c1-a5d101226a78"
   },
   "source": [
    "<a name = \"introduction\"></a> \n",
    "\n",
    "## 1. Introduction\n",
    "\n",
    "It is common to see a data science project on image, text or tabular data, but no as often we see such on analyzing audio data. In this project, we will explore how to do that. How to prepare, explore, analyze data, and apply machine learning models to predict certain features. In short: As for all other modalities as well, the \"problem\" always is to get the data into an interpretable format.\n",
    "\n",
    "The interesting thing with audio data is that you can treat it as a different modality:\n",
    "\n",
    "- Extract high-level features and analyze the data in a tabular format.\n",
    "\n",
    "    \n",
    "- Compute frequency plots and inspect the data like image data.\n",
    "\n",
    "\n",
    "- Use temporal sensitive models to treat the data like time-series data, etc...\n",
    "\n",
    "In this noteobok we will look at those three approaches.\n",
    "\n",
    "<br>\n",
    "\n",
    "### 1.1 Motivation\n",
    "\n",
    "I am a musician and a producer, this has been my hobby for many years now, and I am extremely curious about sound, voice, frequencies and their application in Data Science and Machine Learning. Furthermore, I have huge interest in psychology and understanding how A.I can understand sound and voice is going to take a big part in my future career development as a Data Scientist. I realized that besides playing on an instrument or composing virtual sounds, there is a lot to be investigated and explored in the area of sound, and decided to use this project in order to gather a bigger understanding of how sounds are constructed.\n",
    "\n",
    "<br>\n",
    "\n",
    "### 1.2 Previous Research\n",
    "\n",
    "This project was inspired by Michael P. Notter's research published at [Medium](https://medium.com/epfl-extension-school/age-prediction-of-a-speakers-voice-ae9173ceb322)\n",
    "\n",
    "I decided to improve and expand this research and learn from the great skills of an experienced data professional. Other inspirations and resources will be included at the end of this notebook.\n",
    "\n",
    "<br>\n",
    "\n",
    "### 1.3 Our Dataset\n",
    "\n",
    "For this project we will use the Mozilla's Common Voice 11.0 dataset:\n",
    "\n",
    "Common Voice is a corpus of speech data read by users on the Common Voice website (http://voice.mozilla.org/), and based upon text from a number of public domain sources like user submitted blog posts, old books, movies, and other public speech corpora. Its primary purpose is to enable the training and testing of automatic speech recognition (ASR) systems.\n",
    "\n",
    "- **The corpus contains 2,161,672 audio files and various .tsv (tab-separated values) files.**\n",
    "\n",
    "<br>\n",
    "\n",
    "### 1.4 The Structure\n",
    "\n",
    "The corpus is split into several parts for our convenience.\n",
    "\n",
    "- dev - for development and experimentation\n",
    "- train - for use in speech recognition training\n",
    "- test - for testing word error rate\n",
    "\n",
    "<br>\n",
    "\n",
    "### 1.5 Organization and Conventions\n",
    "\n",
    "\n",
    "Each row of a csv file represents a single audio clip, and contains the following information:\n",
    "\n",
    "    filename - relative path of the audio file\n",
    "    \n",
    "    text - supposed transcription of the audio\n",
    "    \n",
    "    up_votes - number of people who said audio matches the text\n",
    "    \n",
    "    down_votes - number of people who said audio does not match text\n",
    "    \n",
    "    age - age of the speaker, if the speaker reported it\n",
    "        teens: '< 19'\n",
    "        twenties: '19 - 29'\n",
    "        thirties: '30 - 39'\n",
    "        fourties: '40 - 49'\n",
    "        fifties: '50 - 59'\n",
    "        sixties: '60 - 69'\n",
    "        seventies: '70 - 79'\n",
    "        eighties: '80 - 89'\n",
    "        nineties: '> 89'\n",
    "    \n",
    "    gender - gender of the speaker, if the speaker reported it\n",
    "        male\n",
    "        female\n",
    "        other\n",
    "    \n",
    "    accent - accent of the speaker, if the speaker reported it\n",
    "        us: 'United States English'\n",
    "        australia: 'Australian English'\n",
    "        england: 'England English'\n",
    "        canada: 'Canadian English'\n",
    "        philippines: 'Filipino'\n",
    "        hongkong: 'Hong Kong English'\n",
    "        indian: 'India and South Asia (India, Pakistan, Sri Lanka)'\n",
    "        ireland: 'Irish English'\n",
    "        malaysia: 'Malaysian English'\n",
    "        newzealand: 'New Zealand English'\n",
    "        scotland: 'Scottish English'\n",
    "        singapore: 'Singaporean English'\n",
    "        southatlandtic: 'South Atlantic (Falkland Islands, Saint Helena)'\n",
    "        african: 'Southern African (South Africa, Zimbabwe, Namibia)'\n",
    "        wales: 'Welsh English'\n",
    "        bermuda: 'West Indies and Bermuda (Bahamas, Bermuda, Jamaica, Trinidad)'\n",
    "\n",
    "\n",
    "- **The audio clips for each subset are stored as mp3 files in the \"clip\" folder with the same naming conventions as it’s corresponding csv file.**\n",
    "\n",
    "\n",
    "<br>\n",
    "\n",
    "### 1.6 Acknowledgments\n",
    "\n",
    "This dataset was compiled by Michael Henretty, Tilman Kamp, Kelly Davis & The Common Voice Team, who included the following acknowledgments:\n",
    "\n",
    "\"We sincerely thank all of the people who donated their voice on the Common Voice website and app. You are the backbone of this project, and we thank you for making this possible!\"\n",
    "\n",
    "<br>\n",
    "\n",
    "<a name = \"data_cleaning\"></a>\n",
    "## 2. Data Cleaning\n",
    "\n",
    "We will be using [librosa](https://librosa.org/doc/main/index.html) to load and visualize audio data and some of it's features. Librosa is a python package for audio and music analysis.\n",
    "\n",
    "\n",
    "\n",
    "\n",
    "### Note: \n",
    "\n",
    "We can experience a problem when loading the files in librosa as mp3, so let's learn something useful, how to convert .mp3 to .wav in python :) As there are more than 2,161,672 files (excluding the ones with missing value for \"gender\"), this will be a long process...\n",
    "\n",
    "- That's why it will be a good idea to reduce our audio data to the amount of observations that contain \"gender\" information and then see if the classes are imbalanced. If they are, we will most probably undersample and equalize the classes in order to reduce the audio even further.\n",
    "\n",
    "\n",
    "- Our goal is to obtain aproximately 200,000 observations out of over 2 million, and all of them should contain gender information."
   ]
  },
  {
   "cell_type": "code",
   "execution_count": null,
   "id": "d04b57d4",
   "metadata": {
    "id": "d04b57d4"
   },
   "outputs": [],
   "source": [
    "valid_data = pd.read_csv(\"validated.tsv\", sep = \"\\t\")"
   ]
  },
  {
   "cell_type": "code",
   "execution_count": null,
   "id": "93d72515",
   "metadata": {},
   "outputs": [],
   "source": [
    "valid_data.head()"
   ]
  },
  {
   "cell_type": "code",
   "execution_count": null,
   "id": "eb5636d0",
   "metadata": {},
   "outputs": [],
   "source": [
    "valid_data.info()"
   ]
  },
  {
   "cell_type": "code",
   "execution_count": null,
   "id": "139cdd35",
   "metadata": {
    "id": "139cdd35",
    "outputId": "f4446db5-68bb-45e8-e9ff-3b252ff23b6a"
   },
   "outputs": [],
   "source": [
    "valid_data.gender.isna().value_counts()"
   ]
  },
  {
   "cell_type": "markdown",
   "id": "c34a89c2",
   "metadata": {},
   "source": [
    "- We see that out of 1,617,877 valid audios 575,032 do not contain gender information, therefore we will remove them from the dataset and later from the audio folder."
   ]
  },
  {
   "cell_type": "code",
   "execution_count": null,
   "id": "d29f7afb",
   "metadata": {
    "id": "d29f7afb"
   },
   "outputs": [],
   "source": [
    "valid_data = valid_data[valid_data.gender.notna()]"
   ]
  },
  {
   "cell_type": "markdown",
   "id": "e0339697",
   "metadata": {
    "id": "e0339697"
   },
   "source": [
    "- As a next step, we should check if our genders are balanced and see if we can reduce the data by undersampling:"
   ]
  },
  {
   "cell_type": "code",
   "execution_count": null,
   "id": "fd45839a",
   "metadata": {},
   "outputs": [],
   "source": [
    "def plot_countplot(data, x, figsize, title, xlabel, ylabel):\n",
    "    plt.figure(figsize = figsize)\n",
    "    sns.countplot(x = x, data = data, palette = colors)\n",
    "    \n",
    "    plt.title(title, fontsize = 14)\n",
    "    plt.xlabel(xlabel, fontsize = 10)\n",
    "    plt.ylabel(ylabel, fontsize = 10)\n",
    "    \n",
    "    plt.show()"
   ]
  },
  {
   "cell_type": "code",
   "execution_count": null,
   "id": "d012077a",
   "metadata": {},
   "outputs": [],
   "source": [
    "plot_countplot(valid_data, x = \"gender\", figsize = (8, 4), title = \"Distribution of Genders\", xlabel = \"Gender\", ylabel = \"Count\")"
   ]
  },
  {
   "cell_type": "code",
   "execution_count": null,
   "id": "62618c8c",
   "metadata": {},
   "outputs": [],
   "source": [
    "valid_data.gender.value_counts()"
   ]
  },
  {
   "cell_type": "markdown",
   "id": "de8aa2c0",
   "metadata": {},
   "source": [
    "- Plenty of disbalance, but that will work for our target of 200k samples.\n",
    "\n",
    "\n",
    "- Let's remove the \"other\" records first:"
   ]
  },
  {
   "cell_type": "code",
   "execution_count": null,
   "id": "f1defb44",
   "metadata": {},
   "outputs": [],
   "source": [
    "valid_data = valid_data[valid_data.gender != \"other\"]"
   ]
  },
  {
   "cell_type": "markdown",
   "id": "6505eb55",
   "metadata": {},
   "source": [
    "- Now we can undersample the dataset so we have 250k records from each:"
   ]
  },
  {
   "cell_type": "code",
   "execution_count": null,
   "id": "308921b8",
   "metadata": {},
   "outputs": [],
   "source": [
    "under_sampler = RandomUnderSampler(sampling_strategy = \"majority\", random_state = 42)"
   ]
  },
  {
   "cell_type": "code",
   "execution_count": null,
   "id": "f62fc69e",
   "metadata": {},
   "outputs": [],
   "source": [
    "def majority_under_sampler(data):\n",
    "    under_sampler = RandomUnderSampler(sampling_strategy = \"majority\", random_state = 42)\n",
    "\n",
    "    data_X, data_Y = under_sampler.fit_resample(data.drop(\"gender\", axis = 1).reset_index(drop = True), data.gender)\n",
    "\n",
    "    balanced_data = pd.concat([pd.DataFrame(data_Y), pd.DataFrame(data_X)], axis = 1)\n",
    "    \n",
    "    return balanced_data"
   ]
  },
  {
   "cell_type": "code",
   "execution_count": null,
   "id": "362dc761",
   "metadata": {},
   "outputs": [],
   "source": [
    "balanced_data = majority_under_sampler(valid_data)"
   ]
  },
  {
   "cell_type": "code",
   "execution_count": null,
   "id": "305db828",
   "metadata": {},
   "outputs": [],
   "source": [
    "plot_countplot(balanced_data, x = \"gender\", figsize = (8, 4), title = \"Distribution of Genders\", xlabel = \"Gender\", ylabel = \"Count\")"
   ]
  },
  {
   "cell_type": "markdown",
   "id": "6f35086b",
   "metadata": {},
   "source": [
    "- Good to go! We have more than 500k observations from which we can take a sample to \"feed\" our model with. Let's remove the columns that we are not going to use and save our file!"
   ]
  },
  {
   "cell_type": "code",
   "execution_count": null,
   "id": "b19d40ad",
   "metadata": {},
   "outputs": [],
   "source": [
    "balanced_data = balanced_data[[\"gender\", \"path\"]]"
   ]
  },
  {
   "cell_type": "code",
   "execution_count": null,
   "id": "9a9bd8ca",
   "metadata": {},
   "outputs": [],
   "source": [
    "# balanced_data.to_csv(\"balanced_data.csv\", index = False)"
   ]
  },
  {
   "cell_type": "code",
   "execution_count": 7,
   "id": "e116a55c",
   "metadata": {},
   "outputs": [],
   "source": [
    "balanced_data = pd.read_csv(\"balanced_data.csv\")"
   ]
  },
  {
   "cell_type": "markdown",
   "id": "6c8cce81",
   "metadata": {},
   "source": [
    "Now we can take a sample from this file."
   ]
  },
  {
   "cell_type": "code",
   "execution_count": 15,
   "id": "9fd39896",
   "metadata": {},
   "outputs": [],
   "source": [
    "sample = balanced_data.sample(n = 200000, random_state = )"
   ]
  },
  {
   "cell_type": "code",
   "execution_count": 16,
   "id": "90014afd",
   "metadata": {},
   "outputs": [
    {
     "data": {
      "text/plain": [
       "male      100347\n",
       "female     99653\n",
       "Name: gender, dtype: int64"
      ]
     },
     "execution_count": 16,
     "metadata": {},
     "output_type": "execute_result"
    }
   ],
   "source": [
    "sample.gender.value_counts()"
   ]
  },
  {
   "cell_type": "markdown",
   "id": "430e9503",
   "metadata": {},
   "source": [
    "The number of men and women in the world is roughly equal, though men hold a slight lead with 102 men for 100 women. More precisely, out of 1,000 people, 504 are men (50.4%) and 496 are women (49.6%).\n",
    "\n",
    "That's why this a very good representation of the population in this sample."
   ]
  },
  {
   "cell_type": "code",
   "execution_count": 20,
   "id": "c62cc20b",
   "metadata": {},
   "outputs": [],
   "source": [
    "sample.to_csv(\"balanced_sample.csv\", index = False)"
   ]
  },
  {
   "cell_type": "code",
   "execution_count": 21,
   "id": "f159999e",
   "metadata": {},
   "outputs": [],
   "source": [
    "data_sample = pd.read_csv(\"balanced_sample.csv\")"
   ]
  },
  {
   "cell_type": "code",
   "execution_count": 22,
   "id": "ddba1c93",
   "metadata": {},
   "outputs": [
    {
     "data": {
      "text/html": [
       "<div>\n",
       "<style scoped>\n",
       "    .dataframe tbody tr th:only-of-type {\n",
       "        vertical-align: middle;\n",
       "    }\n",
       "\n",
       "    .dataframe tbody tr th {\n",
       "        vertical-align: top;\n",
       "    }\n",
       "\n",
       "    .dataframe thead th {\n",
       "        text-align: right;\n",
       "    }\n",
       "</style>\n",
       "<table border=\"1\" class=\"dataframe\">\n",
       "  <thead>\n",
       "    <tr style=\"text-align: right;\">\n",
       "      <th></th>\n",
       "      <th>gender</th>\n",
       "      <th>path</th>\n",
       "    </tr>\n",
       "  </thead>\n",
       "  <tbody>\n",
       "    <tr>\n",
       "      <th>0</th>\n",
       "      <td>male</td>\n",
       "      <td>common_voice_en_25083267.mp3</td>\n",
       "    </tr>\n",
       "    <tr>\n",
       "      <th>1</th>\n",
       "      <td>male</td>\n",
       "      <td>common_voice_en_134492.mp3</td>\n",
       "    </tr>\n",
       "    <tr>\n",
       "      <th>2</th>\n",
       "      <td>male</td>\n",
       "      <td>common_voice_en_18296826.mp3</td>\n",
       "    </tr>\n",
       "  </tbody>\n",
       "</table>\n",
       "</div>"
      ],
      "text/plain": [
       "  gender                          path\n",
       "0   male  common_voice_en_25083267.mp3\n",
       "1   male    common_voice_en_134492.mp3\n",
       "2   male  common_voice_en_18296826.mp3"
      ]
     },
     "execution_count": 22,
     "metadata": {},
     "output_type": "execute_result"
    }
   ],
   "source": [
    "data_sample.head(3)"
   ]
  },
  {
   "cell_type": "markdown",
   "id": "6349cdd5",
   "metadata": {},
   "source": [
    "Perfect! We are ready for the next step... Deleting the unneeded audio from our audio folder."
   ]
  },
  {
   "cell_type": "code",
   "execution_count": 25,
   "id": "6047287b",
   "metadata": {},
   "outputs": [],
   "source": [
    "def delete_unmatched_files(path, data):\n",
    "\n",
    "    os.chdir(path)\n",
    "    audio_files = os.listdir()\n",
    "    files_deleted = 0\n",
    "\n",
    "    for file in audio_files:\n",
    "        name, extension = os.path.splitext(file)\n",
    "        if file not in data.path.to_list():\n",
    "            os.remove(file)\n",
    "            files_deleted += 1\n",
    "            \n",
    "    os.chdir(CSV_PATH)\n",
    "    print(f\"{files_deleted} unmatched files deleted from this folder.\")"
   ]
  },
  {
   "cell_type": "code",
   "execution_count": 27,
   "id": "b61e0557",
   "metadata": {},
   "outputs": [
    {
     "data": {
      "text/plain": [
       "'1,971,879 unmatched files deleted from this folder.'"
      ]
     },
     "execution_count": 27,
     "metadata": {},
     "output_type": "execute_result"
    }
   ],
   "source": [
    "# delete_unmatched_files(AUDIO_PATH, data_sample)\n",
    "'''1,971,879 unmatched files deleted from this folder.'''"
   ]
  },
  {
   "cell_type": "code",
   "execution_count": null,
   "id": "f9b016a5",
   "metadata": {},
   "outputs": [],
   "source": []
  },
  {
   "cell_type": "markdown",
   "id": "491989f8",
   "metadata": {
    "id": "491989f8"
   },
   "source": [
    "- Now that we were patient enough to wait for the deletion, Let's continue with our exploration in librosa."
   ]
  },
  {
   "cell_type": "markdown",
   "id": "74789438",
   "metadata": {
    "id": "74789438"
   },
   "source": [
    "#### By default, librosa resamples the audio file on loading to 22050 Hz. But why?\n",
    "\n",
    "It's true: $44100 Hz$ is essentially the standard for \"high (enough) quality\" audio storage, and it would have been a sensible default. However, they decided for the lower rate of $22050 Hz$ for two reasons:\n",
    "\n",
    "- It cuts down on memory consumption\n",
    "    \n",
    "\n",
    "- $44100$ was overkill for the most common tasks\n",
    "\n",
    "The first point is obvious, but the second point deserves a bit more discussion:\n",
    "\n",
    "- The highest pitches we usually care about detecting are around $C_9 \\approx 8372 Hz$, well below the $11025$ cutoff implied by $fs = 22050$. There's certainly content above $11025 Hz$, but it often turns out to be noisy or redundant with the lower parts of the spectrum, and not so informative for semantic analysis tasks like instrument classification, rhythm analysis, chord recognition, and so on\n",
    "\n",
    "\n",
    "- More info [here](https://librosa.org/blog/2019/07/17/resample-on-load/)\n",
    "\n",
    "__Note__:\n",
    "\n",
    "Due to the conversion of each audio file before loading it, __performing feature exctraction with librosa turns out to be a very slow process for large amounts of data__, as previously tested. That's why we will use another library for that, which we will discuss later.\n",
    "\n",
    "<br>"
   ]
  },
  {
   "cell_type": "markdown",
   "id": "ee14f29d-8a6c-4a70-9145-81bfe3e165b6",
   "metadata": {
    "id": "ee14f29d-8a6c-4a70-9145-81bfe3e165b6"
   },
   "source": [
    "<a name = \"eda\"></a>\n",
    "\n",
    "## 3. Exploratory Data Analysis - Exploring the Facets of Audio by Gender \n",
    "\n",
    "<br>\n",
    "\n",
    "We are ready to continue, but before exploring our dataset, let's first investigate the many facets of audio files. We will need to do this, in order to understand our data and our future work better.\n",
    "\n",
    "__Note:__ \n",
    "\n",
    "__After reading the metadata of our dataset, we can find that many of the audios have the same words, but either different gender or accent, this will be useful to us. We have pre-selected such two audio files with the same text, but different gender and we will explore the audio characteristics of each, to see what insight we can gain.__\n"
   ]
  },
  {
   "cell_type": "markdown",
   "id": "3cc041a8",
   "metadata": {
    "id": "3cc041a8"
   },
   "source": [
    "- In this case, we can choose to work with the \"thirties\" male and female with \"english\" and \"scottish\" accent."
   ]
  },
  {
   "cell_type": "markdown",
   "id": "bf81b744-235a-429a-a3e0-dde3af3135e6",
   "metadata": {
    "id": "bf81b744-235a-429a-a3e0-dde3af3135e6"
   },
   "source": [
    "When you load a sample in librosa it automatically divides it in two files:\n",
    "\n",
    "1. Audio time series. Multi-channel is supported\n",
    "\n",
    "\n",
    "2. The sampling rate (sr) of the file"
   ]
  },
  {
   "cell_type": "code",
   "execution_count": 38,
   "id": "d0224860-bfa6-4d82-8fce-79cd32dd35d7",
   "metadata": {
    "id": "d0224860-bfa6-4d82-8fce-79cd32dd35d7"
   },
   "outputs": [],
   "source": [
    "audio_male, sr_male = librosa.load(\"test_audio/sample-037769.wav\")\n",
    "audio_female, sr_female = librosa.load(\"test_audio/sample-000410.wav\")"
   ]
  },
  {
   "cell_type": "code",
   "execution_count": 39,
   "id": "7803cd48-4bff-4521-a6cc-41e03280052f",
   "metadata": {
    "executionInfo": {
     "elapsed": 31,
     "status": "ok",
     "timestamp": 1667293875919,
     "user": {
      "displayName": "Tihomir Todorov",
      "userId": "04188387160388165689"
     },
     "user_tz": -120
    },
    "id": "7803cd48-4bff-4521-a6cc-41e03280052f",
    "outputId": "be6ac944-9c56-4d6a-87d4-4ef9f605b727"
   },
   "outputs": [
    {
     "data": {
      "text/plain": [
       "(array([ 0.        ,  0.        ,  0.        , ..., -0.00100381,\n",
       "         0.00369414,  0.        ], dtype=float32),\n",
       " array([0.0000000e+00, 0.0000000e+00, 0.0000000e+00, ..., 3.1845491e-06,\n",
       "        2.2952217e-05, 0.0000000e+00], dtype=float32))"
      ]
     },
     "execution_count": 39,
     "metadata": {},
     "output_type": "execute_result"
    }
   ],
   "source": [
    "audio_male, audio_female"
   ]
  },
  {
   "cell_type": "code",
   "execution_count": 40,
   "id": "acc58ec1-0fb2-4a54-a122-da4662430b3c",
   "metadata": {
    "executionInfo": {
     "elapsed": 31,
     "status": "ok",
     "timestamp": 1667293875920,
     "user": {
      "displayName": "Tihomir Todorov",
      "userId": "04188387160388165689"
     },
     "user_tz": -120
    },
    "id": "acc58ec1-0fb2-4a54-a122-da4662430b3c",
    "outputId": "989b4a34-2df4-4b65-a3e8-3750a6e32bbb"
   },
   "outputs": [
    {
     "data": {
      "text/plain": [
       "(22050, 22050)"
      ]
     },
     "execution_count": 40,
     "metadata": {},
     "output_type": "execute_result"
    }
   ],
   "source": [
    "sr_male, sr_female"
   ]
  },
  {
   "cell_type": "markdown",
   "id": "35130b25-33c8-4b83-8601-6520ce959ad0",
   "metadata": {
    "id": "35130b25-33c8-4b83-8601-6520ce959ad0"
   },
   "source": [
    "- We can see that the audio is returned in float32 type array and the default sample rate is 22050"
   ]
  },
  {
   "cell_type": "markdown",
   "id": "cf51add7-3419-4379-8bc1-8242b9505809",
   "metadata": {
    "id": "cf51add7-3419-4379-8bc1-8242b9505809"
   },
   "source": [
    "#### Let's use the IPython.display.Audio to play the random file"
   ]
  },
  {
   "cell_type": "code",
   "execution_count": 55,
   "id": "5835f316-df32-4d1e-97f2-458a9c0086ad",
   "metadata": {
    "executionInfo": {
     "elapsed": 32,
     "status": "ok",
     "timestamp": 1667293875922,
     "user": {
      "displayName": "Tihomir Todorov",
      "userId": "04188387160388165689"
     },
     "user_tz": -120
    },
    "id": "5835f316-df32-4d1e-97f2-458a9c0086ad",
    "outputId": "a7e70660-e573-4b38-930e-f41d7deeee67"
   },
   "outputs": [
    {
     "data": {
      "text/html": [
       "\n",
       "                <audio  controls=\"controls\" >\n",
       "                    <source src=\"data:audio/wav;base64,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\" type=\"audio/wav\" />\n",
       "                    Your browser does not support the audio element.\n",
       "                </audio>\n",
       "              "
      ],
      "text/plain": [
       "<IPython.lib.display.Audio object>"
      ]
     },
     "metadata": {},
     "output_type": "display_data"
    },
    {
     "data": {
      "text/html": [
       "\n",
       "                <audio  controls=\"controls\" >\n",
       "                    <source src=\"data:audio/wav;base64,UklGRghPAQBXQVZFZm10IBAAAAABAAEAIlYAAESsAAACABAAZGF0YeROAQAAAAAAAAAAAAAAAAAAAAAAAAAAAAAAAAAAAAAAAAAAAAAAAAAAAAAAAAAAAAAAAAAAAAAAAAAAAAAAAAAAAAAAAAAAAAAAAAAAAAAAAAAAAAAAAAAAAAAAAAAAAAAAAAAAAAAAAAAAAAAAAAAAAAAAAAAAAAAAAAAAAAAAAAAAAAAAAAAAAAAAAAAAAAAAAAAAAAAAAAAAAAAAAAAAAAAAAAAAAAAAAAAAAAAAAAAAAAAAAAAAAAAAAAAAAAAAAAAAAAAAAAAAAAAAAAAAAAAAAAAAAAAAAAAAAAAAAAAAAAAAAAAAAAAAAAAAAAAAAAAAAAAAAAAAAAAAAAAAAAAAAAAAAAAAAAAAAAAAAAAAAAAAAAAAAAAAAAAAAAAAAAAAAAAAAAAAAAAAAAAAAAAAAAAAAAAAAAAAAAAAAAAAAAAAAAAAAAAAAAAAAAAAAAAAAAAAAAAAAAAAAAAAAAAAAAAAAAAAAAAAAAAAAAAAAAAAAAAAAAAAAAAAAAAAAAAAAAAAAAAAAAAAAAAAAAAAAAAAAAAAAAAAAAAAAAAAAAAAAAAAAAAAAAAAAAAAAAAAAAAAAAAAAAAAAAAAAAAAAAAAAAAAAAAAAAAAAAAAAAAAAAAAAAAAAAAAAAAAAAAAAAAAAAAAAAAAAAAAAAAAAAAAAAAAAAAAAAAAAAAAAAAAAAAAAAAAAAAAAAAAAAAAAAAAAAAAAAAAAAAAAAAAAAAAAAAAAAAAAAAAAAAAAAAAAAAAAAAAAAAAAAAAAAAAAAAAAAAAAAAAAAAAAAAAAAAAAAAAAAAAAAAAAAAAAAAAAAAAAAAAAAAAAAAAAAAAAAAAAAAAAAAAAAAAAAAAAAAAAAAAAAAAAAAAAAAAAAAAAAAAAAAAAAAAAAAAAAAAAAAAAAAAAAAAAAAAAAAAAAAAAAAAAAAAAAAAAAAAAAAAAAAAAAAAAAAAAAAAAAAAAAAAAAAAAAAAAAAAAAAAAAAAAAAAAAAAAAAAAAAAAAAAAAAAAAAAAAAAAAAAAAAAAAAAAAAAAAAAAAAAAAAAAAAAAAAAAAAAAAAAAAAAAAAAAAAAAAAAAAAAAAAAAAAAAAAAAAAAAAAAAAAAAAAAAAAAAAAAAAAAAAAAAAAAAAAAAAAAAAAAAAAAAAAAAAAAAAAAAAAAAAAAAAAAAAAAAAAAAAAAAAAAAAAAAAAAAAAAAAAAAAAAAAAAAAAAAAAAAAAAAAAAAAAAAAAAAAAAAAAAAAAAAAAAAAAAAAAAAAAAAAAAAAAAAAAAAAAAAAAAAAAAAAAAAAAAAAAAAAAAAAAAAAAAAAAAAAAAAAAAAAAAAAAAAAAAAAAAAAAAAAAAAAAAAAAAAAAAAAAAAAAAAAAAAAAAAAAAAAAAAAAAAAAAAAAAAAAAAAAAAAAAAAAAAAAAAAAAAAAAAAAAAAAAAAAAAAAAAAAAAAAAAAAAAAAAAAAAAAAAAAAAAAAAAAAAAAAAAAAAAAAAAAAAAAAAAAAAAAAAAAAAAAAAAAAAAAAAAAAAAAAAAAAAAAAAAAAAAAAAAAAAAAAAAAAAAAAAAAAAAAAAAAAAAAAAAAAAAAAAAAAAAAAAAAAAAAAAAAAAAAAAAAAAAAAAAAAAAAAAAAAAAAAAAAAAAAEAAAAAAAAAAAAAAAAAAAAAAAAAAAAAAAAAAAAAAAAAAAAAAAAAAAAAAAAAAAAAAAAAAAAAAAAAAAAAAAAAAAAAAAAAAAAAAAAAAAADAAQAAwAHAAQAAQADAAIAAAAAAP//+//6//z/+v/9//7//f8AAAEAAAAAAAQABgAFAAYABgAHAAYAAwACAAAAAAAAAP3/+//6//n/+v/8//r//f8AAP//AAAAAAEAAQAAAAEAAgADAAAAAAAAAAAAAAAAAAAAAAD//////f////////8AAAAA//8AAAEAAQAAAAAAAAD+//7/AAD//wAA////////AAD/////AAD//wAAAAACAAEAAQADAAMAAQAAAAAAAAAAAAEAAAAAAAAAAAD+//7///8AAAAA/v/+//////8AAAAAAQACAAMAAwAEAAQAAQAAAAAAAAAAAAAAAQAAAAAAAAD+//7/AAAAAP//AAAAAAAAAAAAAAAAAAD/////AAD///z//f////3//v/+//3///8AAAAAAAAAAAEAAwAEAAIAAgAFAAIAAAAAAAAAAAD9/////v/9////AAD+//3//////wAAAAAAAAAAAAAAAAAAAQAAAAAAAAAAAAAAAAAAAAAAAQAAAAMABQADAAIAAgAAAAAAAAAAAAAAAAD///7////8//3//P/8//7//f/9/wAAAQABAAAAAAABAAMABQADAAIAAQADAAQAAgABAAIAAAD9//7//v/7//z//v/+//z//f/+//3///8AAAAAAAAAAAAAAAAAAAEAAQABAAEAAQAAAAEAAQAAAAEAAAABAAIAAAAAAAAAAAAAAAAAAAAAAAAAAAAAAAAAAAAAAAAAAAAAAAAAAAAAAAAA//8AAAAAAAABAAAAAAABAAMAAgABAAEAAAAAAAIAAAAAAAAA/v/+/wAA///+//7//v/+/wAAAAAAAAAAAAAAAAAAAAD//wAA//8AAAIAAgACAAAAAQAAAAAAAAAAAAAAAAAAAAAA/////////f/+/wAAAAAAAAAAAAAAAAAA//8AAAAAAAAAAAAAAAAAAAAAAQAAAAAAAAABAAAAAAAAAAAAAQABAAAAAAAAAAAAAAAAAAAAAAD//wAAAAAAAAEAAAAAAAAAAAAAAAAAAQAAAAAAAAAAAAAAAAAAAAEAAAAAAAIAAAAAAAEAAAD//wAAAAAAAAAAAgACAAEAAAAAAAEAAgD//wAAAwAAAAAAAQAAAAAAAAABAAEAAAACAAIAAAAAAAEAAQAAAAEAAQD//wAAAAD+/wAAAAAAAP//AAAAAP////8AAP///v8BAAEAAAAAAAEAAAD//wAAAQAAAAAAAAAAAAAAAAAAAAAA//////7/AAD//////v/9//7//P/9//////8AAAAAAAAAAAAAAAAAAAAAAgABAAIAAAAAAAAAAAAAAP7//v/9//3///////////8AAAAAAAAAAAAAAQABAAAAAAAAAAAAAAAAAAAA/////wEAAAD//wAA//8AAAAAAAABAAAAAAACAAEAAAABAAAAAAAAAAAAAAAAAAAAAAABAAEAAAAAAAIAAAAAAAEAAAABAAIAAQACAAQAAwABAAIAAgAAAP//AAAAAAAAAAAAAAAAAAAAAAEA//8AAAAA//8AAP//AAAAAAAAAAAAAAAAAAABAAAAAAAAAAAAAAABAAAAAAAAAAIAAAD//wAA/v/7//z//f/9//7/AAAAAAAAAQACAAMAAwAEAAMAAAAAAAEAAAD+/wAA//8AAAAAAAD//////f///////f/+//7/AAAAAAAAAAAAAAEAAAAAAAEAAAAAAP//AAAAAAAAAAAAAAAAAAAAAAAA///9/////v////7/AAABAAAAAAAAAAEAAQADAAEA//8BAAEAAAAAAAAAAAAAAAAAAAAAAAAA///+//7//v/9//////8AAAAA//8AAAAAAAACAAAAAAAAAAAAAAAAAAAAAAABAAEAAAAAAAMAAgAAAAAAAAAAAP//AAAAAAAAAQABAAAAAQAAAAAA///9/wAAAAAAAAAAAAAAAAAAAAAAAAAAAAABAAAAAAAAAAIAAAAAAAEAAQADAAAAAAAAAAAAAAAAAAAAAAAAAAAAAAAAAAAAAAABAAAAAAAAAP7//f8AAP//////////AQADAAEAAAAAAAEAAQAAAAAAAAAAAAAA//8AAAAAAAAAAAAAAAAAAAAAAAAAAAAAAAAAAAAAAQABAAEAAQABAAEAAQAAAAAAAAD//wAAAAAAAAAAAAAAAAAAAAD//wAAAAD/////AAAAAAAAAAABAAEAAQACAAEAAAAAAAAA/v/+/wAAAAD///7//v8AAAAA//8AAAAAAAAAAP///v//////AAAAAP7//v/+/wAA//8AAAAA//8AAAAAAAAAAAAAAAABAAAAAAAAAAAAAAD//wAA//8AAAAAAAABAAIAAAABAAEAAAAAAAAAAAAAAAAAAAAAAAAAAgABAAAAAgAAAAAAAAAAAAAAAAAAAAAAAAAAAAAAAAAAAAIAAAAAAAAAAAAAAAAAAAAAAAAAAAABAAAAAAAAAAIAAwABAAAAAAD///7//v/+//7/////////AAAAAAAAAgADAAAAAAAAAAAA//8AAAEAAAD//wEAAAAAAAAAAAAAAAAAAAAAAP///v/+//////////7/AgAAAP//AQABAAAAAAABAAEAAAD/////AAAAAP//AAAAAAAAAAD//wAAAAAAAAAAAAAAAAEAAAAAAAAA///+//3//v8AAAAAAAAAAAAAAQABAAQABgADAAAAAAAAAAAAAAAAAAAA//8AAAAAAwADAAQAAwACAAEAAAABAAAAAAD9//z//v/8//3//v8AAAAAAAAAAAAAAAAAAAAAAAAAAP7//v////3//f/9//7/AQAAAAAAAAAAAAAAAgABAAAAAAAAAAEAAQAAAAAAAAAAAP7///8AAAAAAQACAAIAAQACAAQABQACAP///////wAAAAD//wAA//8AAAEAAQABAAEAAQABAAAA///9//3//f/7//z//P/8////AAAAAAIAAgACAAEAAAAAAAAA//////7//v/+//7//////wAAAAAAAAEAAwADAAMAAQAAAAEAAAD///7/AQAAAAAAAAAAAAEAAQAAAAAAAQAAAAAAAQACAAEAAAAAAAAAAAAAAAAAAAD//wAAAQAAAAAAAAAAAAAAAAAAAAAAAAAAAAAA//8AAAAAAAABAAEAAQADAAMAAwADAAAAAAAAAAAAAAAAAP////8AAAAAAAAAAAAAAAAAAAAAAAD//wAAAAAAAAAA//////3///8AAP//AAAAAAIAAwADAAEAAAACAAIAAAD///////////7///8AAAAAAAABAAAAAAAAAAAAAAD///7///8AAAAA//8AAP////8AAP//AAAAAAAAAAACAAAAAAAAAAAAAAAAAAAAAAAAAAAAAQAAAAAAAgACAAAA//8AAP3//f8AAP///f/+/wAAAQACAAAAAQABAAIAAgAAAAAAAAAAAAAAAAD/////AAABAAEAAQADAAMAAwADAAAAAAAAAAAA///+//3///8AAAAAAAACAAEAAAABAAMAAQAAAAEAAAD//wAAAAAAAAAAAAABAP//AAABAAAAAgABAAAAAAD//wAA/v/+//z//P8AAAAAAAABAAAAAAAAAAAAAAAAAP7///////3//v8AAAAAAAAAAAAAAAAAAAAAAAAAAAAAAQACAAMAAAAAAAAA//8AAAAAAAAAAAEAAAAAAAAA/////////P/7///////9/wAAAAABAAIABQAFAAMAAwAAAAEAAwABAAAAAAD+//7////9//z//v8AAP7///8AAAEAAQAAAAEAAwAAAAAAAgABAAAAAAAAAAEAAQAAAAAA//8AAPz//P/+//3///8AAAAAAAAAAAAAAAADAAEAAwADAAEAAgAAAAEAAAABAAAA+//9/////f/9////AAAAAAEAAQAAAAAAAAAAAAEAAAAAAP//AAAAAAAAAAAAAAIAAAAAAAAAAAAAAAAA///+/wAAAAD//wAA/P/8////AAABAAAAAAAAAAEAAwAAAAAA//8AAAAA//8AAAAAAAAAAAAAAAAAAAAA///+/wAAAAD//wAAAQAAAAAAAAD//wAAAQACAAIAAQABAAEAAQD//wAAAAAAAP///////////v/+/wAAAAAAAAAAAQAAAAAAAQABAAMABQACAAAAAQABAAAAAAABAAAAAAD+////AAD///3///8AAAAA//8AAAAAAAAAAAAAAQABAAIAAgACAAAAAAABAAAAAAAAAAAA//////////8AAAAA///+/wAAAQAAAAAAAQACAAQABAADAAIAAQABAAAAAAAAAAAA/////wAA/v/7//3//f/7//7/AAAAAP//AgADAAMABQACAAAAAQAAAAAAAAAAAAAAAAD///7////9//v//f8AAAAAAAABAAEAAAAAAAAAAQAAAAIAAgABAAAAAQABAAAAAQAAAP///v/+//7///8AAAAA//8AAAAAAAAAAAAAAQAAAAIABQAEAAMAAwAFAAEAAAABAAAAAAD///3//f/8//7/AAAAAAAAAAAAAAAAAQADAAEAAgACAAQAAwADAAEAAQADAAEAAAAAAAAA/f/9//v/+//9//z//f///wAAAAAAAAAAAgABAAAAAAAAAAAAAAAAAAAAAAAAAAAAAAAAAP///v/+//7//v8AAAAAAAAAAAIAAAAAAAAAAAAAAAAAAAAAAAAAAAD//wAAAQAAAAAAAAAAAAAA//8AAP///v8AAAAAAAABAAMAAgAAAAAAAAAAAAEAAAD9//3///8BAAAAAAAAAAAA/////wAAAAACAAIAAAAAAAEAAAAAAAAAAQABAAAAAAAAAAAA/////wAAAAABAAIAAAAAAAAAAQABAAEAAgACAAAAAAACAAAAAAABAAAAAAAAAAAAAAAAAP////8AAAAAAAAAAAAAAAAAAAAAAQABAAAAAQAAAAEAAAAAAAAA/////wAAAAD///7//v////////8AAAAAAAAAAP//AAAAAAAAAQADAAMAAgABAAAA//8AAAAA/v/+/////f///wAAAAAAAAAAAQAAAAAAAAAAAAAAAAABAAEAAAAAAAAAAQAAAAAAAAD///////8AAAAAAAABAAEA//8AAAIAAgAAAAEAAAABAAEAAQAAAP//AAAAAAAA///9//v//f////7//v8AAAAAAAABAAIAAwABAAAA///+//////8AAAAAAQAAAAAAAAAAAP//AAD//wAAAAAAAAEAAQAAAAAAAQABAAEAAAABAAEAAQAAAAAAAAAAAAAAAAAAAAAAAAAAAAAAAAAAAAAAAAAAAAAAAgACAAIABAAEAAAAAAABAAAAAAAAAAAAAAAAAAAAAAAAAAAA//8AAAAAAAAAAAAAAQAAAAAA///+//7//v/9//z///8AAP////////////////////8AAP3//f8AAP///f8AAP///P///wAA/////wEAAQAAAAAAAAAAAAIAAwACAAAAAAAAAP//AAAAAAAA//8AAAAAAwAEAAEAAgAEAAMAAAAAAAAAAwACAAAA//8AAAAA/////wIAAwABAAMAAgACAAIAAAAAAAAAAQABAP7///8BAAAA///+/wAAAAAAAAAAAAAAAAAA/v/+/wAAAAAAAAEAAAAAAAAA/v/9/wAAAAD8//r/+v/9//////8AAAAAAQABAAAAAAAAAAAAAAD9//7/AAAAAAAAAgAEAAEAAAABAAAA/f/8//z//f///wAAAAAAAAIABAAEAAIAAAABAAEAAAAAAAAAAAAAAAAA//8AAAEAAQAAAAAAAAAAAAAAAAAAAAEAAgAAAAAAAwADAAIAAAD+/wAA///9/wAAAQAAAAEAAAAAAAAA///8//v//v///wAAAAAAAAIABAADAAIAAgABAAAA//8AAP///f/+//7//v///wAAAAD//wAA/v///wAAAAAAAAAAAAAAAAIAAgAAAP///v////7//P/8//z//f8AAAAAAAAAAP//AAAAAAEAAgAAAAAAAgAAAP//////////AAAAAP//AAACAAAAAAAAAAIAAQAAAP//AAAAAAAAAAAAAAEAAQAAAAEAAgACAAIAAQAAAAAAAwACAP//AAABAAAA//8AAAAA//8AAAAA//8AAAAAAAABAAEAAgACAAAAAQAAAP/////+////AAD9//3/AAD//wAAAAD/////AQABAAAA//8AAAAAAAAAAAEAAAAAAP///f/+//3//f/9//3/AAAAAAAAAAAAAAAAAAAAAP//AAABAAEA//8AAAAAAAAAAAAA///+//7///8BAAIAAQAAAAMABAAAAAAAAQABAAAAAAAAAAIAAgABAAAAAAAAAAEAAAD//wAAAAAAAAAAAAACAAMAAgABAAEAAAAAAAAAAAAAAAAAAAAAAP//AAAAAP///f8AAAAA/v/+//////8AAAAAAAAAAAAAAAAAAP7//P/+/////v8AAAAAAAAAAP/////+//7//////////////wAAAQABAAAAAAAAAAAAAAAAAAAAAAD//wAAAAABAAEAAAAAAAAAAAAAAP//////////AAAAAAAAAgACAAIAAQAAAAAAAAD///3//f///wAAAAAAAAEAAAABAAEA//8AAAAAAAAAAAAAAAACAAUABgAFAAUABAAAAAAAAAAAAAAAAQAAAAAAAwAEAAQABAACAAIAAAD+//7/AAABAAMABQAEAAYACAAEAAEAAAD//wAAAAAAAP//AAABAAIAAAAAAP///v/9//z//P/9////AAAAAAAAAAD//wAA/v/8//3//v/+/////f8AAAAAAAD//////f/9/wAAAAD9/////////wAAAgADAAAAAAAAAP//AAAAAAEAAAAAAAAAAAAAAAAAAAD+//z/+//9//3/+//8////AAABAAEAAAD+////AAAAAP3//v8AAP//AAABAP///v////7//P/9//v/+//7//z/AAACAAEAAAD+/wAAAwABAAAA//8BAAUABwAFAAMABQAGAAQABQAGAAQAAwADAAUACAAHAAoACQAEAAoAEQAGAAAABQAEAAAABAAEAP3//v8GAAcA///+/wEAAAD////////7/wAAAgD7//r///8BAP7//P/9/wAAAQD+//3///8BAAUAAQD+/wIAAAABAAQA/v/2//3/AgD8//r//v/8//z/AAAAAP7/+/8AAAAA+v/6//7//P/6//v//P/5//n//f/6//j/+v8AAP7/+f/9/wAA/v/7/wAAAAAAAAAAAgACAAAAAQACAAAAAAADAAQAAAABAAQABAAHAAcAAQADAAgABQAAAAIABAAAAAAAAgAAAAAABQAFAP//AAAGAAIA/v///wEAAAAAAAQA///1//3/BQABAPz///8AAP7/AAACAP3//f8FAAMA/f8AAAQA//8AAAAAAAAAAAQAAwAAAAEABAAFAAQAAQAAAAIAAgABAAIAAAABAAYABQABAAEAAQD/////AAAAAAAAAAAAAAAAAAAAAP//AAAAAAAAAAABAAAA////////AAD///3/AAABAAAAAAAEAAAAAAAFAAMA/v8CAAYA///9/wAAAAD//wEAAwAAAP7/AgAEAP7/+/8BAAIAAAAAAAAAAAABAAMAAQD+////AQAAAP7///8AAP7/AAD///n//v8AAAAAAAAAAAAAAAAEAAIAAgAAAAMAAwD///7///8AAAAAAQAAAP3///8CAAAAAAAAAAAAAQAAAAAAAAAAAP//AQAAAP7///////z/+//7///////8//7//f/6//v////8//r//v8AAP7//P/9//z/+v/5//7//P/5//v/AAAAAP3/AQAEAAEAAAAAAAAA//8AAAAA//8AAAEAAQABAAMABgAFAAMAAwAFAAgABAADAAUAAwABAAIAAwAEAAMAAQACAAMAAwAGAAYAAQAEAAgAAwACAAYABQAFAAQA//8CAAUAAQABAAQABAACAAAAAAAEAAkABgAEAAYABQAGAAYAAwACAAcABgACAAMAAQAAAAAAAAAAAAEAAAAAAAIAAgAEAAQAAgADAAQAAgABAAEAAAD///3//v8AAP////8AAPz//f8AAP7//f///wAA/f/7//z/+//9//z/+v/9//v/+v/9//v/+f/7//n/8//2//X/7//x//L/8v/2//b/7//y//T/8v/z//L/8v/1//X/8v/0//T/8f/2//b/9P/2//X/8v/2//r/9//3//f/9v/2//b/9P/4//3//v8AAAEAAQACAAAA//8BAAUAAQAAAAMAAQAAAAMAAQAAAAAAAgACAAIAAwACAAQACgAKAAkADAAKAAoADQAKAAgADAANAAoADAANAAwADQAMAAoACgAHAAYACwAJAAgADgAQAA0AEAATAA8AEAATAA4ADQASABEADwAOAA0ADQANAAkABQAFAAYACAAFAAIAAQADAAUAAwAEAAUAAwABAAMAAAAAAAIAAQAAAAAAAAAAAAAA///7//n/9//2//T/8//z//X/9//z//P/9P/y//X/9f/0//f/+P/6//v/+P/1//b/9v/0//T/8P/u//D/7f/n/+j/6f/n/+j/6//s/+z/7v/t/+3/8P/x//P/8//x//L/9v/0//P/8//x//H/8P/u/+3/7//v/+3/7v/v//L/9f/5//j/+v/9////AgACAAEAAwAEAAMABQAEAAMAAQABAAEAAAAAAAEAAQABAAEABAAFAAUABwAIAAsADQAPABIAFgAWABcAGAAVABcAFAASABMAEAAPAA8AEAAQAA4ADwARAA8AEAATABUAFgAXABcAFgATABIAFgAXABYAFAAOAA0ADwAMAA0ACwAGAAYABQADAAMABQACAAMAAQD//wYACgAFAAUABwAFAAQABgAEAAMAAwABAP//+//8//3/+//5//r/+f/1//j//f/7//v//P/8//v//f/9//v/+f/9/////f/8//3//f/7//v/+f/3//j/9v/z//T/9//4//j/+P/6//7//v/8//3//v/+////AQAAAP//AAD///7//f/9//3/+v/6//3//v///////v/9//7//////wAAAQABAAAAAQABAAEABAAEAAEAAAAAAAEAAAAAAAAA////////AAAAAAAAAAAAAP//AQAEAAMAAwACAAAAAwADAAEABAACAAAAAgAAAAAAAQACAAAA//8AAP7/////////AAAAAAEAAgAFAAUACAAGAAMABQAFAAUABAAEAAAAAAAAAAAAAAD//////P/7//3/AAAAAP//AAAAAAEABQAFAAEAAgACAAEAAAABAAEAAAABAAEAAAD+//7////7//z//f/7//r//f//////AAACAAMAAgAEAAMAAgACAAUABAABAAAAAAAAAP7//v/8//z//P/8//3//v8AAAAA/f8AAAEAAAACAAMAAgADAAIAAgACAAEAAQACAAAAAAAAAAAA//8AAP//+////////v8AAAMABAAEAAUABwAIAAUABQAHAAIAAAADAAAAAAAEAAAA/v////7//P/8//3//f///wAAAAAAAP//AQACAAAAAAABAAAAAAADAAAAAAAAAAAAAAD///v//P/9//3/+f/5//v//f8AAAAAAQABAAEAAwAFAAAAAAACAP//AAAAAAAAAAAAAAAA///+//3///8AAP3//v8AAAAAAQABAAEAAgACAAEAAQABAAAAAQAAAAAAAAAAAAAAAAABAP//AAAAAAAAAQAAAP//AAACAAAAAAAAAAAAAAADAAAA//8AAP//AAACAAIAAQAAAAAAAgABAP7/AAAAAP//AAAAAAAAAAAAAP//AAAAAAAAAAABAAAAAAABAAAAAAABAAAAAAAAAAAAAAD9//z/AAAAAAAAAAAAAP//AAAAAAAAAAAAAP//AAAAAAAAAQAAAP//AAACAAEAAAAAAP//AAAAAAEAAwABAAAAAAAAAAAAAAAAAAAAAQAAAAAAAAABAAAAAAAAAAAAAAAAAP//AAAAAAAAAAAAAAAA/v8AAAAAAAAAAAAAAAAAAAAAAQAAAAAAAAAAAAAAAAAAAAAAAAAAAAAA//8AAAAAAQAAAAAAAAAAAAAAAAAAAAAAAAAAAAEAAAAAAAAAAAAAAAAAAAAAAAAAAAAAAAEAAQD///////8AAAAAAAAAAP7/AAABAAAAAQAAAAAAAAAAAAAAAQAAAAAAAAAAAAAAAQABAAAA//8AAAAAAAAAAAAAAAAAAAEAAQAAAAAA//8AAAAAAAAAAAAAAAABAAEAAAAAAAAAAAAAAAAAAAAAAAAAAAABAAAAAAAAAAAAAAAAAP///v8AAAAAAAAAAAAAAAAAAAAA//8AAAAAAAAAAAAAAQAAAAAAAAAAAAAAAAAAAAAAAAAAAAAAAAD//wAAAAAAAAAAAAAAAAAAAAAAAAAAAAAAAAAAAAABAAAAAAAAAAAAAAAAAAAAAAAAAAAAAAAAAAAA//8AAAAA/v///wAAAQAAAAEAAAAAAAAAAAAAAAAAAAAAAAAAAAABAAAAAAABAAEAAQADAAIAAAABAAEAAAABAAEAAAAAAAAAAAACAAEAAAAAAAAAAAAAAAAAAQAAAAAAAAAAAAEAAgAAAAAAAAAAAAEAAAABAAEA/v///wAAAAD//wAAAAAAAAAAAQD//wAAAAD//wAAAAD/////AAAAAAAAAwAAAAAAAQAAAAAAAAABAAAAAAD/////AAAAAP//AAAAAAAAAAD//wAAAQD+//3////+//7/AAAAAP3/////////AAD///3//f///wAA/v/+/wAAAAAAAAAAAQAAAAAAAAAAAAAAAAAAAAAAAAAAAAAAAAAAAAEAAQAAAAAAAgADAAAAAQACAAAAAAAAAAAAAQABAAQAAwABAAEAAAABAAAAAAAAAAAAAAAAAAAAAQABAAEAAQAAAAAAAAAAAAAAAAAAAAAAAAAAAAAAAAD//wAAAAD//wAAAAAAAP////8AAAAAAAAAAAAAAQAAAAAAAgACAAAAAAABAAAA//8AAAEAAAD//wAAAAAAAAAAAAAAAAAAAAABAAEAAAAAAAAAAAABAAEAAAABAAAAAAAAAAAAAAAAAAAAAAAAAP//AAABAAAAAAABAAAAAAABAP//AAAAAAEAAQAAAAEAAAABAAEAAAAAAP//AQAAAAAAAAAAAAAAAAAAAAAAAAAAAAAAAAAAAAAAAAAAAAAAAAABAAAAAAAAAP//AAAAAAAAAAAAAAAAAAAAAAAAAAAAAAAAAAD/////AAAAAAAAAAABAAEAAAAAAAEAAAAAAAAA//8AAAAAAAAAAP7/AAAAAAEAAAAAAAAAAAD//wAAAAAAAAAAAAAAAAAAAQAAAP//AAAAAAAA//8AAAAA/v///wAA//8AAAEAAAAAAAAAAAABAAAAAAAAAAAAAAAAAAAAAAAAAAEAAAAAAP//AAABAAEAAAAAAAAAAAAAAAAAAAAAAAAAAAAAAAAAAAAAAAAAAQD//wAAAAD//wAAAAABAAAAAAD//wAAAQABAAAAAAABAAAA//8AAP//AAD9////AAD//wAAAAAAAAAAAAAAAAAA/v/9/wAAAAAAAAIAAAAAAAAAAAAAAAAAAQAAAP3//v8AAAAAAAAAAAAAAAAAAAEAAAAAAAAAAAAAAAAAAQABAAEABAACAP////8AAAAAAAAAAAAAAAAAAAAAAAAAAAAAAAAAAAAAAAAAAAEAAAACAAEAAQABAAAAAQAAAAAAAAD//wAAAAABAAAAAAAAAAAA/v/+/wAAAAAAAAAAAAABAAIAAgACAAIAAAAAAAAA/f/+/wAA//////////8AAP////8AAP//AAD///7///8AAAAAAAABAAAAAAD//wEAAAD//wAAAAD+//7/AAAAAAAAAAAAAP////8BAAAAAAAAAAEAAAAAAAEAAQAAAAEAAQAAAAAAAAABAAAAAAAAAAEAAAD//wAAAAABAAAAAAD//wIAAwAAAAAAAQAAAAAAAAABAAAA///8//7//v8AAAAAAAAAAP//AAAAAAAAAAD/////AAABAAAAAAABAAEAAAAAAAAAAAD////////8//3////9//z/AAABAAAAAAAAAAAAAAAAAAEAAQABAAEAAgABAAAAAQAAAAAAAAAAAAAAAAD+//7//////wAAAAD//wAAAAAAAAAAAAACAAIAAgACAAEAAAAAAAEAAAAAAAAAAQAAAAAAAAAAAAAA//8AAAAAAAAAAAAAAAAAAAEAAQAAAAIAAwADAAIAAAAAAAEAAAD///3//f////7//f///wEAAAAAAAAA/v///wAAAAAAAAAAAQABAAAAAAADAAAA/v8AAAAAAAAAAAAA/v///wAA///9//3//////wAAAAD/////AAACAAAAAAABAAAAAAABAAEAAAAAAP////8AAAAA//8AAP///////wAAAAAAAAAAAAAAAAEAAQAEAAUAAwADAAQABQADAAIAAQAAAAAAAAAAAPz//P/9////AAD+//7/AAAAAAAAAQAAAAEAAAABAAEAAAAAAAAAAAABAAEAAAAAAAAA/v///////v/8//3//v////z//P8BAAEAAAABAAAAAQABAAIAAQAAAAIAAwAAAP//AAAAAAAA///+/////f/8/////v/+////AQAAAAAAAQABAAIABAACAAQABAAAAAAAAAAAAAAA//////3//v/9//3/AAD/////AAAAAAAAAAABAAMAAgAAAAIAAgABAAAAAQABAAAAAAACAAAAAAD//wAA///+/wAAAAAAAAAAAAAAAAEAAQABAAIAAgADAAAAAgABAAAAAAAAAAAAAAAAAP//AAAAAAAA//8AAAAA//8AAP//AAAAAAAAAAAAAAAAAAAAAAAAAAAAAAAAAAAAAAAAAAD/////AAAAAAAAAAAAAP////8AAAEAAAAAAAAAAAAAAAEAAQAAAAEAAwABAAAAAQAAAAAAAAAAAAAA////////AAAAAP//AAAAAAAAAAAAAAEAAQAAAAAAAAACAAEAAAAAAAAAAAAAAAAA//8AAP7///8AAP3//v8AAAAA//8AAAAAAAAAAAAAAQABAAEAAAAAAAAAAQAAAP////////7///8AAP////8AAAAA/f/9/wAA/////wAAAAAAAAAAAAABAAEAAQAAAAAAAQD//wAAAAAAAAAAAQAAAAAAAAAAAAAAAAAAAAAAAQACAAIAAQAAAAIAAwADAAYABQABAAAAAQAAAAAAAAAAAAAAAAAAAAAAAAAAAAAAAAAAAAAAAQABAAAAAQAEAAMAAQACAAAAAAAAAAEA///+//7//v/8//z//v/8////AAD9//////8AAAAAAAAAAAAAAAAAAAAAAAABAAEAAAAAAAAA/v/+//7/+//8/wAA///9//3///8AAAAAAAAAAAAAAAAAAAEAAAABAAIAAAAAAAAAAQAAAAAAAAD//////v/9////AAABAAAAAAABAAEAAwAEAAUAAgACAAMAAgACAAIAAAAAAAMAAAAAAAAAAAAAAAAA//8AAAEAAAABAAAAAQABAAAAAAAAAAAAAAACAAAAAAAAAAAAAgAAAAAA/////////v8AAP///f/+/wAA///9//7/AAAAAAAAAAAAAAAAAAAAAAAAAAAAAAAAAAAAAAAA//8AAP//AAAAAAIAAAD//wAA///+//7//v8AAAAAAAAAAAAAAAAAAAEAAAAAAAAAAAAAAAAAAAD+//7///////////8AAP///f/+/wAAAAAAAAAAAAAAAAIAAAABAAMAAgABAAAAAAAAAP//AAACAAAAAAAAAAAAAAAAAAAAAAAAAAAAAQABAAEAAwACAAMAAwABAAAAAAAAAAAAAQAAAAAAAAD+/wAAAAD//wAAAAAAAAIAAwABAAEAAgACAAEAAQABAAMABQABAAAAAgAAAAAAAAAAAAAAAAAAAAEAAAAAAAAAAQAAAAEAAgAAAAEAAAABAAAAAAAAAAAAAAD//wAA/f/8//7//P/8//3////7//v//f///////v8AAAAAAAD9//////8AAAAAAAD+//3//f/8//7//f/+//7//v/9//z////+//3///8AAP//AAAAAAAAAQAAAAAA//8AAAEAAAAAAAAAAAAAAAAAAAAAAAAAAAAAAAAAAAAAAAAAAAACAAIAAgAEAAUAAwABAAAAAQADAAIAAAD//wEAAgAAAP//AgACAAAAAAAAAAEAAAAAAAAAAAAAAP////8AAP////8AAAAAAAAAAAAAAAD///////////7//////wAAAAD//wAAAAAAAAAAAQABAAAAAAAAAAAAAAAAAAAAAAD//wAAAQAAAAIAAAAAAAEAAAAAAAAAAAAAAAIAAQAAAAAAAQABAAEAAAAAAAAAAAD//wAAAgAAAAEAAQAAAAEA//8AAAAAAAAAAAAAAAAAAAAAAgADAAMAAgAAAAEAAgAAAAAAAAAAAAAAAAAAAAAAAAD///7/AAAAAP//AAAAAAAAAAAAAAAAAAABAAAAAAAAAAAA///////////+//3//P////3//P/+//7//P/9//7////+/wAAAQAAAAAAAAAAAAAAAQAAAAAAAAAAAP3///8AAP//AAAAAAAAAAAAAAAAAAAAAAAAAAAAAAEAAAABAAIABAADAAIAAQAAAAAAAAAAAAAAAAAAAAAAAAAAAAAAAAAAAP//AAAAAAAAAQAAAAEAAAAAAAAAAAABAAAAAAABAAAAAAABAP//AAAAAP//+//9/wAAAAAAAAAAAAAAAAAAAAAAAAAAAAD//wAAAAAAAAAA/////wAAAAD+//z/+//9/wAAAAD//wAAAAAAAAAAAAAAAAIAAAAAAAAAAAAAAAIAAAAAAAAAAAAAAP3///8AAAAAAAAAAAAAAAD+/wAAAQAAAP//AQAIAAkABgACAAEAAQAAAAAAAAAAAP3//f///wAAAQAAAP///v///wAAAAAAAAAAAQADAAMAAAAAAAEAAAD////////+//z///8AAAAAAAD8//z/AAACAAAA/////wAAAAAAAAEAAAAAAAAA//8AAAEAAAD+//7/AAAAAP3//f///wAAAAAAAAAAAQABAAAAAAACAAMAAgAAAAAAAgABAAAAAAABAAEAAAD+//7/AAAAAP//AAABAAAA//8AAAAAAQAAAAAAAAAAAAAAAQACAAMABAADAAQAAQABAAIAAAAAAAAAAQAAAP3/+//9/wAAAAAAAP//AAABAAIAAQAAAP//AAAAAAAA//8BAAMAAQABAAEAAAAAAAAAAAAAAP//AAAAAP//AAAAAP///P/9/////////wAA/////wAA//8AAAAAAAD//wAAAgAAAAAAAAAAAAAAAAAAAP3//v/+//3//f///wAAAAAAAAAAAAABAAEAAAABAAIAAAAAAAIABQACAP////8AAAEAAQAAAAEAAQABAAAAAQAAAAAAAAAAAAAAAQACAAAAAQAAAAAAAAAAAAAA/f8AAAAAAAAAAAAAAAAAAP//AAABAAAAAAD//wEAAAAAAAAAAAABAAAA///9////////////AAABAAEAAAAAAAAAAAAAAAEAAAAAAAAAAQAAAAAAAgAEAAIAAAAAAAAA//8AAAAA///+//z/+//9//3//P/+/////////wAAAAAAAAAA/f/8/wEAAwABAAAAAAAAAAEAAAAAAAAAAAAAAAAAAQACAAAAAgAEAAMAAAAAAAAAAAAAAP//AAAAAAMABAAEAAMAAgAAAAAAAwADAAQABAADAAEAAQACAAAAAAD+//3/AAAHAAUA/P/8//3//P/7//7//P/6////BAAFAAIAAQAAAP////////7//v8AAP3/+f/9/wAAAAD+//3//f8AAAAA//8AAAMAAwABAAEAAAAAAAAAAAD+//v//f8BAAMAAgAAAP7/+v/7//7//////wAAAQACAAUABwADAAAAAAAAAAAAAwAEAAEAAAD////////7//r///8AAP//AQABAAQABQABAAEAAQABAAAAAAADAAMAAAAAAAAAAAAAAP///v///wAAAAD/////AAAAAAAAAwADAAAA//8AAAEAAAABAAEAAAABAP////8AAAAA/f/7////AgACAAEAAQACAAMAAgACAAAAAAABAAAAAAAAAP///v8AAAAAAAAAAAEABQADAAIAAgAFAAYAAgAAAAEAAQAAAAAAAAD///3//f/7//z/AAD//wAAAAD+//7//v/8/wAAAAD9////AAABAAEAAAAAAP7//v/+//3//v/+/wAA///8//z/+//8/////v8AAAEABAAFAAMAAQADAAQAAQD//wAAAQAAAAAAAAAAAAAA//////7//f///wAAAAAAAP7//f8AAAAA//////3/AAAAAP////8BAAEAAAABAAEAAAAAAAAAAAAAAP7/AAABAAAAAAAAAP//AAAAAAEAAgAFAAMAAAACAAMAAgAAAAEAAQAAAAIABgAIAAQAAQAAAP/////+/wAAAAACAAMAAgABAAAAAAABAAAAAAAAAAAAAAAAAAAAAAAAAP///v/6//z////+/wAAAgAFAAIAAAAAAAAAAQABAAAA//8AAAEAAQACAAUABAAAAP3//f/9//z///8AAP///f///wAA///+/wAAAAD/////AAAAAAAAAAD///3//P/5//v//v8BAAAAAAACAAMAAgAAAAAAAAACAAAAAAAAAAAAAQACAAQAAQD+////AAD/////AAAAAAAAAQD+//3//v/+/////////wAA//8AAAAAAAD9////AAD9//r//P8AAAAAAAAAAAAAAAD/////AAAAAP///v8AAP7//f8AAAAAAAAAAAAA//8BAAQAAwADAAQABgAFAAMABgAFAAMAAgAEAAUAAgAEAAQAAQAAAAAAAAD//wAA/v/9/wAAAAD///7//f////3//P/+//z//P/+//7//v8AAAAAAAAAAAEAAAAAAAAAAQABAAEAAQACAAQAAwABAAIABAAEAAIAAQABAAIAAgABAAAAAgACAAAAAAAAAAIAAgAAAAEAAQAAAAAA//8AAP//+//8//v//f/8//v//P///wAA/f/9///////6//j/+//9//z//f/9////AAAAAAAA//////7//f/9////AAABAAMAAQADAAEAAQAEAAIAAgABAAIABAAFAAYAAwADAAMAAgACAAAAAAAAAAAAAAAAAP//AAABAP3/+//9//3/+v/8//////8AAAIAAQABAAEAAAAAAAAAAAAAAAAAAwAFAAQABAAEAAIABAAGAAUABgAGAAcACQAFAAUABgAHAAgABQAGAAkABgAEAAIABQABAP//AAAAAP///f/9//v//f////7//v/8//7//v/7//n/+v/5//j/+v/9//3//P/8//7//f/7//z//f/9//3//P/+//3//f/+////AAAAAAMAAwADAAQAAgAEAAUABAAAAAAAAAD//wAAAQAAAAAAAQACAAMAAQD///3//f/8//v/+//5//v//f/8//7///////7//f/+//n/+v/8//v//P/8//v//P/+//7//v8BAAIAAAAAAAMAAwADAAQAAgABAAMABQAGAAUABgAJAAsACwAJAAYAAwADAAMAAQAAAAAAAAADAAQAAwAEAAYABgAAAP///v/9//3//f////3/AAAAAP7/AAD+//3//f/+//z/+//7//z////9//7/AAABAAEAAQABAAAAAAAAAP7/AAAAAAAAAgAAAAAAAgAEAAIAAgACAAEAAAAAAP////8AAAAA/v8AAAEAAAAAAAAAAAD///7//P/6//7//v/8//7/AAD///3///8AAAAA/v/7//7/AAAAAAAAAAABAAMABQAFAAQABwAHAAQABgAGAAQAAwAFAAYAAwAFAAgABQAEAAYAAwAEAAQAAQAAAAAA/////wAAAAD+//v//P/7//n/+P/6//f/9f/3//b/9//4//j/9v/3//r/+//9//z/+v/7//v//f/+/////////wEAAQAAAAQABgAEAAIABAAFAAcACAALAAoABwAKAAsACQAHAAcACAAGAAUABwAHAAQABQACAAAAAAABAAAA/f/9//3//f/9//v/+v/5//j/+v/5//r/+//4//r/+v/5//n/+//7//v///8AAAAAAAABAAEAAQABAAMAAgADAAUABQAGAAgACQAKAAsACgAHAAYACAAGAAUABAABAAQAAwAAAAUABgACAAEAAQABAP3/+v/7//n/+P/4//v/+//7//n/+f/4//n/+P/2//j/9//3//j/+v/7//z////+//z//P///wAA//8AAAEAAQABAAEABAAHAAYABwAIAAgABgAFAAgABQACAAUABgAEAAIAAgAFAAYAAgAAAAAAAAD+//7///8AAP7//f///wAA/v/7//z/+//6//n/+//7//r/+v/+//z/+//+//3//v/8//v//v8BAAAA//8AAAAAAQABAAAAAgADAAMABAADAAMABgAFAAQAAgAEAAcAAgADAAMAAwADAAEAAQAAAAEAAAAAAAEAAAAAAP//AAD///3///8AAAAA//8AAAIAAAD9//7/AAAAAP//AAAAAAAAAAAAAAAAAAAAAAAAAAAAAP7///8AAAAAAQABAAEAAAABAAEAAQABAAIAAQABAAIAAQAAAAAAAQACAAIAAwADAAAAAQABAAAAAAAAAP///f///wAA///+//3//v8AAAAA///+//7///8AAAAAAAAAAAAAAQAAAAEA//8AAAAAAAAAAAAAAAAAAAAAAAABAAIAAQABAAEAAQAAAAAA/v/+/////f/+//////8AAAAAAAABAAAA////////AAAAAP//AAABAP7/AAABAAAAAAAAAAAAAAD///7/AAAAAAAAAAAAAAAAAAAAAAAAAAAAAAAAAAAAAP////8AAAAAAAAAAAAAAAACAAEAAQACAAEAAAAAAAEAAQABAAEAAwAAAAAAAAAAAAAAAAAAAAAAAAD/////AAAAAAAAAAABAAEAAQAAAAAAAAAAAAAAAAAAAAAAAAAAAP//AAAAAAAAAQAAAAAAAAAAAAAAAQAAAAAAAAAAAAAAAAAAAAAA//8AAAAA///+/wEA/////wEAAAAAAAAAAQAAAAEAAQABAAIAAAAAAAAAAQABAAAAAAD+//7//f8AAP///v8AAAAAAQACAAEAAgADAAEAAAAAAAAAAQAAAAAAAAD///7//v///wAAAAAAAAIAAAACAAMAAwABAAAAAAAAAAAAAAAAAP//AAD///7/AAD///7///8AAAAAAAAAAAAAAgABAAAAAQAAAAAA//8AAAAA/f/+//7//v/+////AQAAAAAAAAAAAAAAAAD//wAAAAD//wAAAAAAAAAA//8AAAAAAAAAAAAA/v/9/wAAAAD//wAAAQACAAMAAQABAAAAAAAAAP////8AAAAAAAABAAAAAAAAAAEAAAAAAAAAAAAAAAAAAAAAAAEAAQAAAAAAAAAAAAAAAAABAAAAAAAAAAAA//8AAAAAAAAAAAAAAQAAAAAAAQACAAIAAAABAAAAAQAAAAAAAAAAAP//AAAAAAAAAAAAAAAAAQAAAAAAAQAAAAAAAAABAAAAAAABAAAAAAAAAAAAAAAAAAAAAAACAAIAAQAAAAAAAAD9//3/AAAAAAAAAAAAAAAAAAAAAAMAAQAAAP//AAAAAAAAAAAAAAAA/P/8/wAAAAAAAAAAAAAAAAAAAAAAAAEAAQAAAAAAAAABAAEAAAAAAAAAAAD9//7//////wEAAAAAAAAAAAADAAEAAAAAAAAAAAAAAAAAAQAAAAAA//8AAAAAAAAAAAAAAAAAAAAAAAAAAAAAAAAAAAAA/////////v///wAAAQAAAAEAAAAAAAAAAAAAAAEAAQABAAAAAAD/////////////////////AAAAAAAAAAAAAP///////wAAAAAAAAAAAAAAAP//AAAAAAAA/////wAAAAAAAP//AAAAAP//AAD/////AQAAAAIAAgABAAEAAwADAAAAAAAAAAAA//8AAP//AAAAAAAAAAD+/wAAAAACAAEAAAACAAQAAgAAAAMAAQAAAAAAAAD//wAAAAD//wAA//8AAAAA//8AAAAAAQAAAAAAAAD//wAAAAABAAAAAQABAAEAAwABAAAAAAAAAP//AAAAAP3//f///wAAAAD///3///8AAAAAAAACAAIAAQACAAMABAAEAAIAAAAAAAAA//8AAAAA/f/+//7/+//8//z//f8AAP7///8AAP//AQABAAEAAAABAAEAAQAAAAEAAwACAAEAAAAAAAEAAQD/////AAAAAAAAAAAAAAAAAgABAAEAAQABAAEAAQACAAIAAgADAAUAAgD//wAAAAAAAP////8AAP///f/9//3//f/9//z/AAD+//3/AAD//wAAAAABAAAAAAAAAAAA//8AAAAAAAAAAAIAAQAAAAAAAAD8//3//v/+////AAACAAMAAgABAAMAAgAAAAEAAAAAAP//AAAAAAAAAAD+//3/AAAAAPz//P////7//f8AAAEAAAAAAAIAAwACAAMAAgAAAAIAAAD//wAAAQAAAPz//f/9//z//v///wAAAAABAAUAAgAAAAEAAwADAAAAAAAAAAIAAAABAAAAAAABAPz//f/9//3/AAD/////AAABAAEAAQAAAAAAAAAAAAAAAAAAAAEAAQABAAEAAAAAAAAAAAAAAAAA/////wAAAAAAAP7//f/9//7////9//7/AAAAAAIAAgAEAAcABAABAAAABAABAP7/AAD+/////f/+/////v8AAAEAAQAAAAEAAwAEAAMAAwADAAAAAAAAAP///v8AAAAA/v/+//7/AAAAAAAAAAAAAAEAAAAAAAEAAAAAAAAAAAD+//3//f/8//3////+/wAAAQACAAIAAgADAAIAAgACAAAAAAAAAP7//f///////f/9//3//f/+/wAAAgACAAEABQAFAAEAAAAAAAEAAAD///////8AAAAA//8AAP///v8AAP//AAAAAAIAAwACAAMAAwADAAAA//8AAAAA///9////AQABAAAAAAAAAP//AAAAAAAA///9//7///8AAAAA//8AAP//AAAAAAAAAAAAAAAAAAABAAAAAAAAAAIAAgAAAAAAAAAAAAAAAAAAAAAAAgACAAIAAwAEAAMABAADAAIAAgABAAAAAAAAAAAA///+//7//P/9//////8AAAAAAAABAAAAAAD//wAAAAAAAAAA//8AAAAAAAACAAAA/v/8//z//v/+//3//P/9/wAAAAABAAIAAwABAAAAAgADAAAA//8AAAAAAAABAAAA//8AAAAAAAAAAAAAAAABAAAAAAAAAAAAAAABAAEAAAD//wAAAAAAAAAA///+/wAA///+/wAAAQACAAIAAQD//wAAAQAAAP7//f////z//P///wAAAAD//wAAAQAEAAUAAwACAAEAAwAEAAMAAAAAAAAA/v/+/wAAAAAAAAAAAQADAAEAAAACAAIABAADAAIAAQAAAAAA/v/+/wAA/f/9/wAAAAAAAAAAAQABAAMABAADAAMAAAAAAAEAAAAAAAAAAAD9//z/+//+//7///8AAAAAAgABAAIABAADAAIAAQD///3//v/+//7//v////7///8BAAAAAAAAAAEAAQAAAAAAAAD//////////////////wAA/////wAAAAABAAEAAQACAAAAAQABAAMAAwAAAAAA/v/+//3///////v//v8AAAAAAAD//wAAAAABAAAAAAABAAEAAQABAAAAAQAAAP7///8AAAAAAAAAAP////8AAP//AAACAAEAAAAAAAAAAAAAAAEAAgACAAIAAQAAAP//AAAAAP//AAAAAAAA//8BAAAAAAAAAAAAAgD/////AAAAAP//AAADAAEAAAAAAAAA//8AAP7//v////7/AAABAAMAAgAAAAAAAQAAAAAAAAAAAAAAAAD///7///8CAAAAAAAAAAAAAAD+////AAAAAAEAAQABAAQAAQD//////v8AAAAAAAAAAAEAAAAAAAEAAAAAAAAA///+//////8AAAAAAAAAAAEAAQAAAAEAAAAAAAAAAAD//wAABQACAAAAAAABAAAA//8AAAAAAAABAAEAAAADAAUAAwABAAQAAwAAAAAA/v8AAAAA+//9/wAA/v/9/////v///wAAAAAAAAEAAgAAAAAAAQABAAAAAAAAAAAA//////7//v8AAP///f///wAAAAABAAEAAQACAAMAAQAAAAEAAAAAAAAA/v/+//3//f/+/wAA/////wAA//8AAP//AAAAAAAAAAAAAP7//v8AAAAAAAAAAAAAAAAAAP//AAAAAAAA///9/wAAAAAAAAAAAAACAAEAAAD//wAAAgABAAEAAAABAAMAAAABAAIAAQABAAEAAAABAAAAAAAAAAAA//8AAAEAAAABAAEAAgAAAAAAAQABAAAAAAAAAP////////////8AAAAAAAAAAAEAAgAAAAAAAAAAAAAAAAAAAAAAAAABAAAAAAAAAAQAAgAAAAIAAQAAAAAAAQAAAP///f///////v/+////AAD/////AAAAAP///v8AAAAAAAD+/wAA/f///wAA/////wAAAAAAAP///P/9/wAAAAAAAAAAAQACAAMAAwACAAMAAQAAAAEAAQAAAAAAAAAAAAEAAAAAAAAAAAAAAAAAAAAAAAAAAAAAAAAAAAAAAAEAAAAAAAAAAAAAAAAAAAD+//////8AAP//AAAAAAAA//8AAAAA//8AAAAAAAAAAAEAAAABAAEAAAAAAAAAAAAAAAAA//8AAAAAAAAAAAEAAQAAAP////8BAAAA//8AAAIAAgAAAAAAAQAAAP3//v/+//7//f8AAAAAAAAAAAAAAAAAAP////8AAAAAAAABAAAAAAAAAAAAAAAAAP////8AAAEAAQAAAAEAAQAAAAEAAQAAAAAAAAABAAAAAAACAAAAAAAAAP//AAAAAAAAAAAAAAAA//8AAAAAAgABAAAAAQAAAAAAAAAAAAEAAAAAAAAAAAD+/wAAAQAAAAEAAQADAAEAAAAAAAAAAAD/////AAAAAAAAAAACAAIAAQD///3//v8AAAAAAAAAAAAAAAAAAAAA///+/////v/+/wAAAAD//wAAAAAAAP//AAD/////AAAAAAAAAAABAAIAAgABAAAAAQAAAAAAAAAAAAEAAQABAAEAAAAAAAAAAAAAAAEAAAAAAAAAAgACAAAAAQAAAAEAAAAAAAAAAAAAAAAAAAABAAAA//8AAAAAAAAAAAAAAAAAAAAAAAABAAEAAAABAAAAAAAAAAEAAAD//wAAAAAAAAAAAAAAAAAAAAD//wAA//8AAAAAAAACAAEAAAD+/wAAAAD/////AAAAAAAA///+//3//f/9//7//v/+//7///8AAP//AAAAAAAAAAACAAEAAAAAAAAAAAABAAEAAQABAAAAAAAAAAAAAAD//wAAAAAAAAAAAQADAAEAAAACAAIAAAABAAIAAgABAAAAAgABAAAAAAD9//7////9////AAD//wAAAAAAAAEAAQABAAAA//8AAAEAAAABAAIAAQAAAAEAAAAAAAAAAAD/////AAAAAAAAAAAAAAAAAAAAAAAAAQABAAAAAQACAAMAAQAAAP///////////v/9/////////wAA//////////8AAAAAAAAAAAAAAwABAAAAAAAAAAEAAAAAAAAA/v///wAAAAAAAAAAAAAAAAAAAAAAAAAAAAAAAAAAAAAAAP//AAAAAAAAAAAAAAAAAAABAAAAAAAAAP7///8AAAAAAAAAAAEAAAAAAAEAAAAAAAAAAAABAAEAAAAAAAAAAAD//wAAAAAAAAAAAAAAAAAAAAABAAAA//8AAAEAAAD//wAAAAAAAAAAAAD//wAA///9/wAAAAAAAAAAAQAAAAAAAAD/////AAAAAAAAAQABAAAAAgABAAAA//8AAP//AAD///7/AAAAAAAAAAD//wAAAAD//wAAAAAAAAEAAgABAAAAAAAAAAAA/v/8////AAAAAAAAAAAAAAAAAAAAAAAAAAAAAAAAAAACAAIAAQAAAAAAAAAAAAAA//8AAAAAAAAAAAEAAAAAAAAAAAABAAEAAgADAAMABAACAAEAAAAAAAAAAQAAAAAAAAAAAAAAAAAAAAAA/v8AAP//AAAAAAAAAAACAAEAAAAAAAAAAAAAAAAA//8AAAAAAAAAAP7//v8AAAAA///9//7/AAD//wAAAAAAAAAAAAAAAAAAAAAAAAEAAgAAAAAAAAAAAAAAAAAAAAAAAAAAAAAAAAAAAAAA//8AAAAAAAAAAAEAAQABAAAAAAAAAAAAAAAAAAAAAAAAAAAAAAAAAAEAAAAAAAAAAAAAAAAAAQAAAAAAAQABAAEAAQABAAEAAAAAAAAAAQADAAAA//8AAAAAAAAAAAAA//8AAAAAAAD//wAAAQAAAAAAAAAAAAAAAAAAAAAAAAD///3//v8AAP///////wAAAAAAAAEAAAAAAAAAAAAAAAEAAAAAAAAAAAABAAEAAQABAAAAAAAAAAAAAAD//wAAAAAAAAAAAAAAAAEAAAABAAAAAAAAAP7///////7///8AAAAAAAD//wAAAAAAAAAAAAAAAAAAAAAAAAAAAAAAAAAAAAABAAEAAAAAAAAA//8AAP//AAAAAAAAAQADAAIAAAABAAIAAAAAAAAA//8AAAEAAAAAAAAAAAAAAAAAAAAAAAAAAAABAAEAAAAAAAAAAAD///////8AAAAAAAAAAAAAAAD//////f/8/wAAAAAAAAEAAAAAAAEAAAAAAAAAAAAAAAAAAAAAAAAAAAABAAAAAAABAAAAAQABAAEAAQAAAAAA//8AAAAAAAAAAAAAAAAAAAAAAAAAAAAA//8AAAAA/v8AAAAAAAAAAAAAAAAAAAAA//8AAP7//v8AAAAAAQABAAIAAAAAAAAAAAAAAAAAAAAAAAAAAAAAAP//AAABAAAAAAABAAEAAQAAAP//AAD+//7//v/+/wAAAAAAAAAAAQAAAAAA//8AAAAA///9/wAAAAAAAAEAAAABAAEAAQABAAEAAQABAAEAAQABAAEAAQACAAIAAQACAAMAAQABAAAAAQABAAAAAAAAAAAA//8AAAAA////////AAD//wAAAAD/////AAAAAP3////9//7////9//7///8AAP////8AAAAAAAAAAAAAAAAAAAAAAQAAAAAAAAAAAAAAAAAAAAAAAAABAAAAAAAAAAAAAAAAAAAAAAAAAAAAAAAAAP////8AAAAA/////wAAAAAAAAAAAAD//wAAAAAAAAAAAAD///////8AAAAAAAAAAAAAAAAAAAEAAQAAAAAA/////wAAAAAAAAAAAAAAAAEAAQAAAAAAAAAAAP//AAAAAAAAAAAAAAAAAAAAAAEAAAAAAAAAAQACAAAAAQABAAAAAAAAAAEAAAAAAAAAAAAAAAAAAQAAAAAAAAACAAIAAAAAAAAAAAAAAAAAAAAAAAAAAAAAAAAA///////////+//7//v8AAAAA//8AAAAAAAAAAAEAAgAAAAAAAQAAAAAAAAD/////AAAAAAAAAAABAAMAAgAAAAEAAAAAAAAAAAAAAP////8AAAAAAAAAAAAAAAAAAAAAAAAAAAAAAgAAAP7///////3//f/9//z//P8AAAAAAAABAAAAAAAAAAAAAAD//////v///wAA//8AAAAAAAAAAAEAAAD//wAA/////wAAAAAAAAAAAQACAAEABAAFAAMAAgABAAAAAAAAAAAAAAD//wAAAAAAAAAAAAABAAEAAQAAAAEAAAAAAAAAAAD//wAAAAAAAAAAAAAAAAAAAAAAAAEAAQAAAAAAAAD/////AAD//wAAAAAAAAAAAgABAAIAAgAAAAAAAAAAAAEAAAAAAAAAAAABAAEAAgACAAAAAAABAAAAAAD////////+////AAAAAAAAAQAAAAAAAQABAAAAAQAAAP//AAD//////v/+/wAAAAAAAAAAAAAAAAAAAAAAAAAA///+//3//v8AAAAAAAAAAAAAAAAAAAAAAAAAAPz//f/9//7///8AAAAA/v/9/wAAAAAAAAAAAAAAAAAAAAD//wAAAAAAAP7//v8AAAAAAAAAAAAAAQAAAAIAAwAAAAAAAAAAAAAAAAAAAAAAAQABAAAAAQADAAIAAQACAAEAAgABAAAAAQAAAAAAAAAAAAAAAAABAAAAAAAAAAAAAAAAAAAA///+/wAAAAAAAAAAAAD/////AAABAAAAAAAAAAAA/f/+/wAAAAABAAAAAAAAAAAAAAABAAAAAAAAAAAAAAAAAAAAAAAAAAEAAAAAAAEAAAAAAAAAAAAAAAAAAQAAAAAA//8AAAAAAAAAAP7/AAAAAAAAAQABAAEAAAAAAAAAAAD/////AAD+//7/AAAAAAAAAAAAAAAAAQD///7/AAAAAAAAAAAAAAAAAAAAAAAAAAAAAAAAAQABAAAAAAAAAAAAAAAAAAAAAAD/////AAAAAAAAAgADAAEAAAAAAAEAAAAAAAAAAAD+////AAAAAAAAAAAAAP////////7//v8AAAEAAAAAAAMAAwABAAEAAAD9//7///8AAAAAAAABAAAAAAABAAAAAAAAAAAAAAAAAAAAAAD/////AAD//wAAAQAAAP//AAAAAAAAAAACAAEAAAAAAAAA///+/wAAAAD9//7/AAAAAAAAAAAAAAAAAAAAAP//AAAAAAAA/v8AAAIAAAAAAAAAAQAAAAAAAwABAAAAAAAAAAAA//8AAAAAAAAAAAAA/////wAAAAAAAAAAAgAAAAAAAwACAAAAAAABAAAA/v///wAAAAD+/wAAAAAAAAAAAAD9//7/AwACAP//AAADAAEA//8BAAIAAAABAAQAAAD+/wQAAwD//wEABAAAAAAAAQABAP//AAAAAAAAAAAAAAAAAAAAAAEAAAD//wAAAAAAAP//AQAAAP////8AAP7//f8AAP//AAABAAAA//8AAAAA//8AAAAA///9/////v/8////AAAAAP//AAABAAAAAQABAAAAAQAAAAAAAAAAAAAAAAAAAAAAAAABAAEAAAAAAAEAAQAAAAIAAwAAAAAAAQAAAAAAAAABAAAAAAAAAAAAAAAAAAAAAAAAAAAAAQAAAAAAAAAAAAAAAQAAAP//AAABAAAA//8BAAEA//8AAAAA/v///wAA/v/+/wAAAAD9////AgABAP////8AAAAA//8AAAAA/v8AAAAA//8AAAAA/////wAAAAAAAAEAAAAAAAAAAAAAAAAAAAAAAAAAAAAAAAAAAAAAAAAAAAAAAAAAAAAAAAAAAAAAAAEAAAAAAAAAAAAAAAAAAAAAAAAA/////wEAAAAAAAAAAQAAAAAAAAAAAAAAAAAAAP//AAAAAAAAAAAAAAEAAAAAAAAAAAAAAAAAAAABAAAAAQABAAAAAQAAAAAAAQAAAAAA/////wAAAAAAAAAAAAAAAAAAAAABAAMABAABAAAAAQABAAAAAAAAAP////8AAP///v8AAAAAAAAAAAAAAQD///7/AAAAAAAAAQADAAEAAQADAAIAAQADAAIAAAD9/////v/7//7/AAAAAP//AAAAAAEAAAABAAEAAQAAAAEAAAAAAAEAAAD+//7/AAAAAAAA//8AAP///f/9//z//f/9//z//P8AAAAA//8AAAAAAQAAAAAAAAAAAAEAAAD+////AAD9//z//f/9//3//f/9//3/AAAAAAAAAAABAAAAAAABAAAAAQABAAMAAQABAAEA//////7//f/8//3//f/+/wAAAAAAAAAAAAD//wAAAAACAAIAAwADAAIAAQAAAAAAAAAAAP////8AAP//AAAAAAAA//8AAAAAAAABAAEAAwAHAAcAAwADAAUAAgAAAAEAAQAAAAEAAAAAAAAAAAAAAP7/AAAAAAAAAAABAAIAAgAEAAIAAgACAAEAAQABAAIAAAADAAIAAAAAAAAAAAAAAAAAAAAAAAIAAwACAAIAAAAAAAAAAAD//wAAAAAAAAAAAAABAP///f////7//f/+//7//////////v8AAP/////+//7////9/wAAAAD+//////8AAAAA/////////////wAAAAAAAAAAAAAAAAAAAAAAAAAAAAABAAAAAAABAAEA//8AAAAAAAABAAAAAAAAAAAAAAAAAAAAAAAAAAEAAAAAAAAAAAAAAAIAAAAAAAAAAAAAAAAAAAAAAAAAAAAAAAAAAAD//wAAAAD//wAAAAABAAEAAQABAAAAAAAAAP///v////3//v/+//z/AAAAAAAA/////wAAAAABAAAAAAACAAEAAAAAAAAAAAAAAAAAAAAAAAAAAAAAAP/////9/wAAAAAAAAEAAQABAAEAAgADAAQABAACAAAA//8AAP//AAAAAAAAAAAAAP////8AAAAAAAAAAAAAAQACAAMAAgAAAAEAAAAAAAAAAAAAAAAAAAAAAAAAAQD/////AAAAAAAAAAD//wAAAAAAAAAAAAAAAAAA//8AAAAA//8AAAAAAAAAAAAAAAAAAP3///8AAAAAAgAAAAEAAQAAAAAAAAAAAAAAAAAAAAAAAAACAAEA//8BAAAA/v/+/wAAAAAAAAAAAAD///7/AAAAAAAAAAAAAAAAAAAAAAAAAQACAAAAAQAAAP3///8AAAAA/////////v8AAAEAAAAAAAEAAgACAAIAAwACAAAAAAD///7//v/+/////v8AAAAA/////wAAAQAAAAAAAQAAAAAAAAAAAAAAAAAAAP////8AAAAAAAAAAAAAAQAAAP7///8AAP7//f8AAAAA//8AAAAAAAABAAIAAgACAAMABAAEAAMAAwABAAIAAwAAAAAAAAAAAAAA///9/////////wAAAAAAAP//AAABAAAAAQADAAIAAAAAAAAA//8AAAAA/f/8//7////7//v//f/8//3///8AAAAAAAAAAAAAAAAAAAEAAAAAAAAAAQAAAAAAAQABAAAAAAAAAAAAAAAAAAAAAAAAAAAAAAAAAAAAAAAAAAEAAAACAAIAAAACAAIAAAAAAP//AAAAAP7//v/+/wAAAAD///7/AAAAAP//AQAAAAAAAQAAAAAAAAAAAAAAAAAAAAAAAAD//wAAAAAAAAAAAAABAAEAAAABAAAAAAAAAAAAAgACAAQABAACAAEAAAAAAP//AAD//wAAAAAAAP//AAAAAAAAAAAAAAAAAAAAAAAAAAAAAAAAAAAAAAAAAAD//wAAAAD//wAAAAD//////v/+//3//P/+//7//v8AAAAAAAAAAAAA//8AAAAAAAAAAAAAAAAAAAAAAAAAAP////////////8AAAAA//8AAAAAAQAAAAAAAQABAAMAAQABAAAAAAAAAAAAAAAAAAEAAAAAAAAAAAACAAEAAQABAAEAAQABAAAAAAAAAAAAAAAAAAAAAAABAAAAAAAAAAAAAAAAAAAA//8AAAAAAAD//wAAAAD//wAA/f8AAP//////////AAAAAP////8AAAAAAAAAAAAAAAAAAAAAAQACAAIA//8AAAIAAAAAAAEAAQAAAAIAAAAAAAAAAAABAAEAAgAAAAEAAgAAAAIAAwACAAEAAAAAAP////8AAAAAAAD//////v//////////////AAD9//3/AAD//wAA/////wAA//8AAAAAAAD//wAAAAD//wAAAQAAAAAAAAAAAP////8AAAAAAAAAAAEAAAABAAMABAADAAEAAQADAAIAAAAAAAAAAAABAAAAAAD//wAA///+/wAAAAAAAP//AAABAAAAAAAAAAAAAQAAAAAAAAAAAAAA//////7//v8AAAAA//////3//////wAAAAAAAAAAAQABAAEAAQAAAAIAAwAFAAQAAgAAAAAAAAAAAAAAAAABAAAAAQABAAEAAQAAAAAAAAABAP//AAAAAP//AAAAAAIAAgAAAAAAAAD/////AAD//wAAAQABAAAA/f/+//7//f/+////AAAAAP///f8AAP////8AAAAAAAAAAP///P////7//f/9///////+/wEAAAD//wAAAAAAAP//AAAAAP//////////AAAAAAAAAAAAAAAAAAD///3/AAAAAAIAAAABAAMAAAACAAEAAQACAAMABAABAAEAAQAAAAAAAgAFAAQAAgADAAUAAwABAAMABAADAAMABQADAAAAAQABAAAAAAD////////+/wAAAAD//wAAAQABAP//AAAAAP///f8AAAAA/f////7//f/9///////8//7////+//7/AAAAAP7//f/+//7//P8AAAEA/v///wEA/////wAAAQAAAAAAAgACAAAAAQACAAIAAAAAAAAAAgABAAAAAAD//wIAAgABAAIAAwAAAAEAAQAAAAAAAAABAAAAAAAAAP///////wAAAAAAAP//AAD9//3/AAAAAAAA//8AAAAAAAAAAP7//v8AAAAAAAAAAAEAAQAAAAAA///9//7//v///wAAAQAAAAAAAAAAAAAAAAAAAAAAAgADAAAAAAAAAAEAAQADAAIAAAAAAAAAAAD/////AAAAAP////8AAAAAAAAAAAIAAgAAAAEAAwABAAAAAAAAAAEAAwACAAAAAAAAAAAA//8AAAEA///+/wAAAAAAAAAA/v8AAAAAAAABAAAAAAD//////f/+/wAA///+////AQD///3/AAABAAAA/////wAA///9////AAABAAAAAAAEAAQAAQAAAAAAAAAAAAAA/v8AAAAAAAD/////AgABAAAABAAFAAMAAAACAAMAAAD9////AwACAP///v8AAAIAAgABAAIABgACAPz///8EAAQA/P/5/wAAAAD6//f//P////3//f/+/wAAAQD///7/AAAAAP7/+v8AAAYACAAGAAIAAQACAAMA///+/wEAAAD7////AQD+//r/+v/8//n/+//9//3//P/7////AAAAAAAAAAAAAAEAAQAAAAEABgAIAAQABgAIAAYAAwAGAAwADQAMAAoACwALAAwADAD+//D/8//6//b/8//4/wAAAwD+//z/AwAGAAIAAQAEAAoACgAHAAsACAADAAoABwD5//n/AAD///3/7//h/+b/7P/j/+j/+P/1//P/AAACAP3/EAAqADYARAA+AB4ACQD6/9X/x//d/+n/9/8NAAwACwAhACwALgBFAFEAQgA6ACcA+//i/9v/yv/P/+v/+f8IAA4A5//g/xgADwDS/wMAdQBiANb/gv+T/7n/vv/F/zYA3AChAI//Vv9fAPQARQBl/zj/lP+v/1P/i/+fAOYAj/+M/oP/2gCEAMj/pwDHATgBIwAQAIAAywClAAcA2f9WAG8AEwBXACEBAwGQ/z3+Pv7f/vn+jP5p/tn+FP/O/hb/7//y/3f/sf8CAB4AtAAfAdsA2wBMATkBtACMAIgAWQBXAFIADQD2/xsAJQAyAFoANADV/9n/DwDn/83/DAAnAO3/q/+N/2//XP9V/yL/Pv/O/9X/gf8QAMgAcwAfAGkASAALAFMAHgCd/wQAgQAMAHf/if/Z//P/BwDm/27/jv8oAFkAbQCJAIMA2gA/AaMAtf+2/1wAuQBVAMz/AABpACMA5/8IAJr/d/6V/UL+j/99/47/AgGdAZ0A3f98AHIBywBn/2L/tP8j/yT/jgCJAbEA6v6U/U39yP0i////Rv49/dX/1QEcAfEAGgLgAvwBdAB5ApEKtRHJC84BzAdoDJr1juKi9pUNKQJn8hH40AFvBeIDrP5UBAIRuATI5vvuLhv+HQrwbuTZBLAEHt9/1tPvIf7P9qLrv/B+B28QJAAL+CUHFxLSBK30HAQnLU9BWynwCZcKMRdfCQPySvcGA0n03utJ/lUKLwpUB57xetfy23ztsesg57rzpv62+oz4jP+r+ifmGOFV7cvsteaZ9NIKJxSvFQEZgxkNE0ULgwhBCwQQ/BKhFcYdNCl7K/AfSBA5BjwDDv5B75vmFfFy+yr3BPMp+Kv6k/Ik5hzdiNxf5Q3tIuxf7yH/Vgr8BcMB2wUwBzMDXf+w/XcBfgnwDm0SBRjbGusUAQx4CH4HtwVQB/UKYQonCbML+gv6Cu0PJhKGB2j4K/CI8N/1nfoq+/D5l/qn+j/3zPUq+lf8P/Vh61jqN/WoAfMDRgLkCCUPswcr/Or54/wn/oD+jP8GARgELwlUDKgKZgaTAR/8BPci9Gv1Tfx5BIcGyAMHAloALfxc9nPxavCU8hb0dfQU9wz9UQK0Anf+evkA93j2cPdT+/4A4AXNCZUMMwuYBcoBzQLXAwcBS/4dAIAD8wNUAhUBegBH/0/8x/hD94D4g/t2/q//ZgANAr0B9/5a/tj/8//l/ycCKgU7BmEG7AeZCFUG8gR4BQUEowLiBLsGYAZ0BzYI6QWUA+ECWgIAAZQArQI+A+sAGACB/0f8e/n09y/16vL78v3yTfLx8Xzxv/BG75vtNu0e7dPshe2B7sPuy+4K7yjvLe9g7wjvtu5D7z7vJe8u8KTwb/D68BjyZ/M39Jr1b/ly/E/9IQHoBgEKxA1UFCMZ0xvLIOEneSwFL5Q0YTqLO10+lESlRJtA0kCBP0g3US93LHIrXinBJTIfARaVDdYE0PjD7nXq2uX53ubasdlk2NbXe9gM11HRj8qgx4fII8r2y7DP0NQa2JzXANb21l3ZMNqj2VPZudko2trayN7n5gPu8++n8MjzxvOL7Dvl++Rl6ELoU+UY5UXmWubA6FDux/TH+sz+UghYJBVJWlzJXvJl33Cnbwxk01rcVr9SoU1lSoVK8FDjV6tQeT+lMqEiAglE+Iz4yPmM9d3ygfKT8DzqIeIj3WXVDsU9tPGtBbW+wlfSYufU+sH/zvvS93DylO8H7gfk494t7aH5M/psBAYW+hgXDgsBVPTh5zzeeNht1c7XHOH85nfi5d5P3xLVB8UPv6+6w7KttZ/EANUV5AL0dQX8EowWCRPVDCwGEwXlDH4dgTkjWBFpKnEpe/9/0nnfa8daVkvzO7Qs9ielMB47WT0qOFIwmiV/FZkD2fXE6R3dQtgb3vrlmOuI8I3zsvC/5VnV9cUFvSS6z7tkxQTXtOgV9PD8bAnvEuwNEf3b7YnpbO3x8mH8agrYEbMN/QaxAbT5f+8G5b7agtTD1NPa/ObJ9ff9CPqN8APrceaC3EjVv9rY5DHpjO5V+vkDwAekCqcMkQsjCbQFXAEfATcFfQZZCaMbbDdgSCBPRlfTWcVR4EmjQLcu5R+7HJYcFyAgLnY7DT0WOmg0IiMNC8P6wfIz6gHj2+TW7KbzY/rkARQCt/aT5jDXQMnmvoW6qL15yQfbSesC9p79OgRWBHj7vfO38oTwg+3W9ckI6xhqIIkggRn5Dn8FQ/uM8LbqKuiV5K3krOvP8e3wn+w16avkEt3s1nTWjdrz4sTuT/jX/b4BqAEi/Wj6jfkg9EDtAO7I8n70hP77GsI3SEMCSAZOE0z4RDBDDT9fMmMopiT2IekkNy5IMpMuBSvmJNEUdgKe+ej2OvJD7rnuM+4W6+rr2e/c8JjuIuhP3PDRUM4yzR3Ot9Yx44vq6+7V9+EDbQuEDI0JBgRbAf4CqAAP/DL/PQSzAU3/agKaANH2ue+S7Tzp9OLb32HeOdxG3VDgvOCC5DruavJV7/zwvffm+YL3Evcx+Jz1WfHH9J/+YwKh/07/2f/H/6YHwxZLIzYuOTszQ0pDC0VMSUdELTeuL6MtdCiKJJsntyjTIwcjKCTpHKMUmRG7CRz9Tvdu9Wzveeue7SLujOrK5e/ek9Yt0efPr84rzrDTmNw+5bLx5P+lB/AKLQ7QC04E/gAl/5v5/fY1+Fn2V/I28v30RPQt8QXxEvBr62voUeaj4P3cXd1J2dzUc9n03iHgmeVB71H1NvhS+3D8Dvpx+Mz54fsr/mH+xPi79/MLqytDP6ZJ8VZAXnBZy1NPT/E/vSdNF40RjA8tFOMezyVHKoExFDKbJ98dbxbGB2L3GPH477jr9+uR9Un7Cvey8hjvOeZM3KXVI9FZ0X3V5ddk3RXsmfuyBeYNJREaC0wDov+n+rHxXel44nbbYddZ2AbbI92y37Hgnd7o3s7ieOLZ3Rvdad3q1z7U2tjZ3ZPgRucL8W/5rABUBhwIvgiDDRoUPRbEE+EO6QmBDj8iRjdXQidMsVcUW8BXYFXtTYY5uyHEFKgQJA1vDPgRIxjNHOskbSz8KzwnBx8NEIsDmQCN/VP29/PC9YXybe1t7oLw5Or44DXbG9hF0v/MT81k0YzWDN7Y6ff4DQZZChkHaQSjAXL3p+gW3SDUDcz2ySvPbdSR1sPZc9/25J/oy+go5Efe0Nu821Xck98X5RzqYfB0+uMDpAd7CJsL9hBJFAgU9hJmEd8OHBJXIk46wEybVdJa711QXH1XJU8xPt4nGxj4EEQLoAhfDgwWBhmWHogpxC3FKDkjGhvBDdQC1/tn8wvs7OpH607nf+SW53Lpn+WA4ufgB9pb0XbOvM4/0FLWrOGp8NT8F//X/Iz+EP9b9+3sGOWC3HHT8M950wvZ4tvV3JDfp+WX6wPrvOUw5FrmbeYJ5erm9uoI7L7s0fOU/qkFLAlmDscWaB5cIeQfJBxPFeQORRUZKZ05YED4RchM/VB8UolPp0PXMcwh4hXjDSIKqQhqBz4KRhYWJEkoCSfBJrAi0xqKFN0MsQDY9f/vLut15Vnhcd9/3mve+t5e3qzcB9wS22fZM9uI33bjueo99eD6jPlz+Er6Gfnr8nvsOuY73rDYZNiP2KnXi9hS2Rfact5Q4hDh9N6W4MTkWejN65bwEPRn9ib87gP5CAoMQxBVFt8c3x9hHBYWtRNLGnIpTjiHQFFE/USnRNJG60UcO8QrZiDtGC4SyQwGCfUFZgdREe0d6ySXJ6coYiY3JM0j3R1sEkAJpgJx+urvKeUA3P7UQ9LB1ETX1NYZ2Frb0dtW3FjgCeSH6BHy8Po8+yz2bPQ69of2TvYG9U7spN8x2SHXF9MJz8/M7csb0L/YqN1t3OXakt2A48/pm+/J8w71TffE/isHSQoCCwsQqxh3H4YhpB6dHHQlmzdfRmBOaFNyUQNJhUUaRMM1gR8SEpYMtQa0AhcCUQB2ASoNbxwJJbwpRi0qLE8qeSxaKn0eWRN6DwgKP/2272/l4tq/0h3THtbv07XQdtDp0LrSidbO2MnbguWD773vHu1d8Bbyle6N7obwj+rG4Fbcn9q817PUsdAszdXOltMI1QrURtaa27Xgk+e28eL4OvrG/f8Giw3gDSMPzhSYGtodrh8sIP4gKihhNgBEmkweUNJNOElfR5xCFDPzH4oTBguZAlz+EP4Y/f3+HQrqGtcnaS3qL2Qy4zJUMMoqXCGYFssOqAjLAGj37OyL4rTcBtyC2ivV2s8XzXLLXMs8zmzRhNOF2I7gMOaX6Bnq1+ns6IDqG+xf6lXnf+Rt4RDfdd3P2lbWjNMO1mfZZ9ju1sPYKtvn3U7k8+y+8934if8yCEYPpRPPF7QboR6oIf4kyiueOPVE50t5Ud9VVlTATZ1FTTtBLXEdcxDTByUAJ/mN9i34af2oBzQV4iLVLdIzSDa1N6g3kDPKKd8c5BCEBYX51u/86Nfhf9uQ2BzYJthb1krSjM/Pz+jQ8tHz08/WGtiy16/Z+d0A32rcJtsO3DHdnt7B38Hfod+g37rfROCi4Evget5w3Ifd+t+j35vfQOTj6gnxN/gzAL0GNAu9D4AWIB1EIPcivSqpNytErEqaTOBOJlDkTUBK6kMtN2InXRu9FGYPxgdQAA3+HgEBB24OuBWRHJkjxSm0L/Y1LDipM0gsxyRFG1wOAQA989zoX+Dp2TXVStHHzWnLZ8uOzfLPb9FL07fWC9pq2szXytU51jbX/Nfl2JfZfdoQ3HXe5OEe5Kfivd9N37Th/+N543PhfeGR41Hm5ere78TxY/Jq9TX7rwKXCYMOnhNjGnIhKil6M18+V0XOR+pIEUr/SF5EBD7xNrwuvia0IPcblxbvDysKhAg0C80P0RQxGqgfZSRQKCYslS+lMJ4triYpHW0SVAdB/ALyDOng4IXZZtPUzt/L1sn5yGXKYc1w0F/TmdWX1aLTttHU0BHRj9LL1JvWTdi/21ThqOZf6ZLpcugN52vm0+YW5+vlDOQH46Pjr+Ze667utu++8Mvz1vgA//8FUA0PFFEbPCYONRNDJEwGUFFQDE/OTPxH4D/ENbArACTKHzodcBk6FO8PjQ5tEGoU3RgpHEUdjR1NIJQmHS2dL9IsJyZXHZwTzwkkAAH2ouv74r7cI9dK0X7MXcrYy3jPQtIA1KjVvdVM00vQms4Szu3Nys32zeTORtCJ0r/WKtwS4UPkg+VF5rfnVunc6ujs5e7F78Hwd/PU9qb4wvhW+aX7iP4WAcMDQwfXC04RiRjAI40ygz+hRUhGO0YhR95GLkPhO/kyHislJXIgyxx7GZMVNhLhEU4VdRo+Hu8e0x3aHd0gLiZUKsUpOyTjG3UTFA0fCKsBl/hT7vzjeNoU08PN6ckEyJjIRMstz4HTr9cq22Pdt9232/jX/dO40DvOEM34zZjQ29PL1gjZ9dpB3VXgHeQw6NPrS+6E74nwDPNw95P7RP3Q/IT7XPq5+kv9IwG9BeALiRRMIAMu/jndQAZDk0M9ROhD1UDfOjwzWyu4JDogrB09HNIaERmhGIsb6yBUJe0mFycwKD0rQi+sMbAvuShVH3QW5A69B6v/NPYA7Ofhvthr0RLMwcdDxEnD5cVZylfOstHx1BzXWteD1ojVIdSv0YzOO8xtzPDOlNHV05DXmtyW4K7j4ufP7Jjw7/Kt9GP2M/gz+nL8gf7C/wAAxP+GAF4DWgfqCioOYRKFGEMhCyyhNb06xTvSOyU8yjq5Nskxiy2xKbcl9yEDH7UciRobGS4a4R1rIUkiASH6H84ggiMyJ4cpkCdBIcYZvRPMDsoIzwAV+Ijv2OY93r/Wu9DXy0DI8sYuyLPKYs2h0P3UhtlZ3J7ch9uU2rbZadgW1/jVldQL00bS7NL+1BvY0tsg4B7lEur17fPwF/S894r7XP/qAhwF8wQmA7MBMgIgBbkJfg7gEgIYtB6hJdQqhi1PLo8uai7RLJ0qvinRKU0phSi9KJ4poyl0KDsnoCZ3JuwmtCfWJ4UnliflJywoECj2Jbwg9BnRExUOVQdB/1T2Z+185c/e19hI0yPOpMmuxjHGCcgwy6jO09E71OfVdtcX2RHaLNo72nTaCNq72AfXldVF1WXW1tjr3BXiiuZt6Z3ree7N8lP4CP7YAqkFAgYFBVsE4gSxBiYJmwt/DvASfxngIFUmnSgWKWIpvinEKRMpnSdJJu4lfCYjKL8qaizfK5YqAyqEKakoCSg3J2IlxyP4I9skZCRwInofQBs7FlYRAgw6BSr9cfQe7O/li+Fh3ErWrtEaz5nNmc0vz17Q+M91z4TQLNOd1t/ZpNtq23PaUtpq293cIt282wLahNm02j/dneD+48vmuOkU7uDzqPnz/WwA7wGOA5AFogdmCTgK1gmYCZALuRAmGCYfAiODI9si+SI/JA4mGCcvJusjNiIwItwj0ibfKXkrnSutK5MsCi7vLiouFixPKlsp/id2JTwiHh5vGHUSKg7VChsGFP8m9k/sOuMv3BrXSNMD0MrMDsomyY/KCs16z0fS7tW02VbcEd0j3IzaCNne15PXb9iM2U3Zd9db1oXYed2S4mDmZel37Nzv7vNf+f//IAZ1CjgN/w7nD7kPNQ7TC9sJXgk9CzwQPxcPHbgfUiC3IIohvyL/I3gkqiMYItAg0iDgIvgmpiuHLm0ujywdK0sreSzjLLkrrikDJ10jgB9KHP8YvhTZD6wKFQVN/5v5UfPR6zvkSd4G2knWWNIjzlLKVMgtyarM89Fo11naWdls1qXUA9Ut14Ta7twk3OTY4NXl1NXWwtu64QPmDOhy6Z3rI+9u9Av7XAGeBiwLcA56DygPCA8eD58Oaw3xCwwLMAw0EN4VzhrSHVIfCyCQIFEhVSJmI04kTSS3IuwgdSGoJGYoySpPK50qKCoMK6EsNy0dLPspISczI7UenRqFFlERzwrAA4j9+Pjw9Njv0unc43Te+Nm51lHU6NFzzzvObM+j0o7W09lK2/Pa99kQ2XDYpdiy2W/aWdp92vbbrd6j4fTjneVP58HpYO3y8W32Ivpb/WIAMQPLBfUHhQnpCiUMOQx8CqUHTgXXBBcHUAwsE34YFRrLGNQWPRZLGCgceR/BIJUfThwOGcIYNxyIIS4mzyiCKXspUyp6LJsusS/5L9Quxip6JDoefhgUEtYK5AM6/gr6nPZ/8ivtCuh95CbifeDU31bfRt3g2c7WyNRU1PPVMtgA2YfY/9er11rYudsA4Zfk3uQS5ELkVuVJ51jqie2E79jvLu+U7xjzJfkd/08D2wWjB4IJAAziDukQ0hDCDpYL2Ac8BKQBlAC7AWwFAAolDWgO1A5FD14Q9xJwF9QcuiDLIE8dnxkOGcUbmR+DIhcjtCALHXQbXx1RIWAlACgVJ9QhfxrdE/YOxwtLCXoFw//g+Tj1ZfHZ7RnrvekY6fHn4+U/47jgM9+23tfeEuA74nzj9+Li4W3h0uEE4+Pk5+b951vnouU95D3kDeYr6ZbsDPCs8wb3rPnw+63+TALjBWsIYAqjDOwOTxBFENQOGwz+B9cC+v16+mD4ufc7+Wb9TgPWCMAMlg95EvkVmRl1HIEehh/ZHcsYHxNfEDERuhPhFbEWiRZ0Fm4X/RlFHn8j4iaMJf4fBBlbEuQMXAnDBuQCTP1+96Py8+6O7IbrO+vC6vzpR+nt6EDpyOlJ6aXnGuY45UXk5OLT4c7hpeKb463kxOby6e3sve6+7/Dw4fJk9fv3TfpZ/Pz9+P7l/90B+gQQCEEKoAsuDPELuQv/C/0LAAsWCTsGnAJM/+L8yvoi+VH58Pvn//oDswdmCi8LLgpaCLIGMwYuB10IJwilBl4FzQW1CKwNJBPDFxMbIx1qHrEfTCFCIhUhLR0WF04QrAoGB54EXwIXAAj+cPzX+2j8Wv2q/dv84Pr595T0FfHB7bPqiufR4z/gON7m3Uve794l4BXivuQt6OXr/O7q8Mvxh/KX9Kz4jf0TAUUCowE/AHf/tgBtBGEJbg0DD58Oqg7bEKEUkhiXG38cjBqtFucSchDYDukMtwmVBKL9gvYZ8fHtiewl7FDsXO2e71/yyfTO9mf4R/le+cT4uvfL9h72dfU29WP2Q/kN/fcAsAQMCPwKyg33EHIUdRdeGf0ZcRlFGAUX/xWIFZkVPhW5E24RyQ69C7AI3wXAAj//F/yl+ZH3n/VB9Bb0/fQV9qT2e/a29Yb08fL58EPvje6k7sfuuu7t7u/v6/HA9IX4VP10AlYG6gd+B04GoQUpBgQIsgr3DJ0NfQzZCnwKNgxxD9ISxxQOFIgQxgsRCIQGiAZlBkcEdf/I+BXy4+y16Rboo+bx4xvgzNyf2+7cCOC245jm8ecl6IboVequ7dfxFPbX+QD9DgDPA6YIOA6vEzMYfxsJHjwgKSKqI30kXyRtI1giySHXIUAieSK9IeoflR01G+QYiBb1E/IQMQ26CC4EVwCx/Vn81fsp++D5OPht9t/0+POI8wDzAPJZ8BHuoevA6d3oBekF6lfrfOyH7RPvV/EQ9EP3zfre/cb/dABlAGYA1gBXAZEBawHRAOD/Gf8l/1cAdQK/BIcGdQdvB8QGAgZxBeQE8gMgAjz/jvu092r0JfKW8CDvkO3r61nqV+lR6T/q7usY7h3wavEQ8nny+/L087z1Svgp+9/9UQCxAm4FDwm4De0SAhhYHH4fZyF3Imoj1CSZJhQoeyg6J58kuSFAH18dCxznGicZVhbFEhgP4AtnCZIH6wXbA/QAUv2K+Uf21fMa8s/wge+v7Uzr8eg6537mneYS537npOcx50bmmuWn5XHm5Ofk6Qns8u2b7zTx9fIQ9aP3nvrK/bkAFQPZBCQGGAcrCOMJGQxkDmUQmxG6EUYRBxFWEVASkxNGFNATORLjD1MNEQtQCbkHuAX2AlH/EfsB96Pz7vDC7tPsp+ov6KzljeNi4kfixeKK437kUeX25c/mO+hv6nntDPHB9GX46ft2/0wDlAdXDHQRahamGugdUyAzIsojaCUpJ7YomimnKckoRifPJcAk/iNKIyoi/h+zHN0YIxXUEdUO5AuxCPwE2ADq/L75Nvf/9O/y7/Ds7vbsFetK6aXnRuYj5RrkOuOr4m7ibOLG4q7jMeUa5xzpM+t97eXvMfJi9K/2Lfm3+zH+sQBRA/cFegjyCoAN6Q+6EcUSORNGE/cSehIsEiES9BExEfwP7g5MDuYNgA3SDEcLegi+BNkAZf11+qT3evTC8KDssOit5eXjFuOs4gzi/+Dc3zbfc9+V4EfiH+TH5R7nfeh86kztvfBx9Pr3K/ss/i8BbQQhCDcMPBDIE+kW6RnaHLUfkyJLJV8nkCgNKRop7SioKDkoeidNJqAkiiI5IMAdJxtrGHoVVRIOD60LTQgJBeoB6v7l+7f4efVd8nfvx+xS6hHoGOaR5I7jBePz4jbjn+Mk5MzkguU35v3m1Oeo6Ijpfupx62Tsie3+7rjwnvKe9KD2hvhL+hj88f2b//sALQItA9wDUQS8BBsFXAWUBfYFdwbcBiMHjgcnCMAIRwnCCSIKUApgCl0KLQq/CRAJKwg/B30G6AV7BUAFHQX0BOUEDgVaBbQFCAY+BmYGnAbOBuwGDwc+B1IHRgcxBxAH0gZ3BvsFSQVWBDsDFgIDARkAav/b/j7+jf3q/G38+/ts+676u/mP+EH3Bfbt9Mzzm/KZ8enwcPAz8EzwrvAr8cDxiPJw80z0KvU69nH3mfid+X36Nfvj+7D8rf3O/vr/JAFbAq8DJAW5BlwI8gltC9QMFg4ZD9YPPBA9EOYPaQ/KDvAN/gwoDF8LngoHCp8JUgkkCRgJJgkxCQEJewi4B70GiAVKBBQDpQH2/1D+1Px2+0b6ZPm6+Bb4g/cm9/D2xPan9qT2nvaL9ob2mPax9sn28vY394D3v/cH+Fv4u/g3+dT5hvoz++H7p/yA/U/+GP/u/7QARgHFAVcCyQL9AiEDUANsA34DtQMIBE0EfQSfBLAEtASxBLAEpQR8BDgE3gNWA5oCywESAXsA8/9v//j+g/4J/rX9qP20/cH99v1N/oD+gP56/nD+Rv4h/jn+Wf5G/i/+Kv4a/hj+R/6P/t3+Pv+b//D/VgCyAAIBfgEEAk8CegKeAogCOAIHAvIBpwEjAY0A5P8x/7v+l/6I/nH+YP5H/i/+Sv6Y/vb+Tf9//3j/WP9A/yj/HP85/1X/Rv86/1T/mf8ZAMkAcAHmAT4CpAIiA6cDIgR8BI4EVQQWBP4D+gMRBD4ERQQQBMEDfANTA0wDUwNRAzQD6gJrAtMBVQEBAbkAcQAhAKr///5S/sr9W/0J/cr8c/wH/KP7T/sQ++/66Pro+uX67foN+z77afuD+4z7g/t4+4H7lfuw++L7Ffw1/F78qfwD/XT9D/64/lb/6P9VAJcA2gAZAUEBcAG0AeQB7gH/ATUCfQLXAkkDvgMkBH8E2AQbBUkFcQV5BVgFMgUDBagEOQTfA44DKgPDAlQC0wFeAf4ApwBXAAMAkP8C/5D+R/4I/tb9tf19/R79svxV/A/86vvT+537S/v7+rT6efpj+m76j/rV+kn71vth/OD8Wv3p/Yf+If+n/wUAQgB6ALcA7AAmAXABrQHtAU8CuQIWA38D5gM1BHEEnASoBKMEnASGBHAEXQQoBMsDWAPiAoQCTwIeAsoBYgEBAZ0AQAD7/8P/lP9l/z7/Kv8g/wb/zP6M/mP+Vf5Y/lD+OP4d/gn+D/4//oz+3v4u/4L/2v85AKEABQFfAa0B3gHwAe8B5gHdAeUBBAIkAi0CHQL+AfMBFAJEAlMCMgLuAZsBQQHdAHMAGwDZ/4P/If/J/mf++v2d/Ur95PyF/En8EvzP+4j7Pvv2+sf6v/rS+uT67fr9+iL7VvuR+9z7OPyp/C39nv3w/UT+vf5b/wAAmgAdAYgB4gE2ApoCCQNhA5oDxwPqA/kD/QMMBC4EUQRpBHQEeARrBEQEGgT5A8cDgwNNAyUD7AKbAkgC6wGAAR0B0gCZAFsADwCz/0T/z/5q/h7+4f2t/Yb9Wf0X/d78y/zg/AL9Iv07/Uf9T/1g/Xv9kf2a/an9vf3J/df95v3r/e79Bf4v/lb+c/6P/rL+6v4w/2//q//m/yIAaAC3AAgBWgGsAfIBMQJvAp0CtQLEAtkC/wIqAzkDHgPrArACbwI0AgUC2AGrAXUBJwHMAH8ASAAcAPT/0f+2/4//T/8F/8f+mP5//nf+ZP5M/kP+M/4Q/vn9+/36/e395/3w/Q7+Sv6M/q/+uv7S/gP/Qv+G/7//1//r/xUAQABgAIcArQDFAOMACQEUAQUB9ADiANAAzADJALYAnQCIAHgAZQBHACMABQDt/97/z/+s/4T/eP9+/4D/iv+U/43/jP+e/6L/kP+J/43/jf+R/5j/nf+k/7H/tf/D//D/JQBNAHwAuQDnAAUBKAFEAUwBTQFfAW8BYQE6ARwBEAEBAe0A2gDNAMMAsACQAHEAVgAsAAYA9f/V/6D/hP+C/1j/Cf/L/qT+e/5U/kL+N/4k/g/+Cv4T/hz+L/5C/kr+Wf6C/qj+xP77/jr/W/9v/5r/z//9/zoAhQDKAPcAGAFCAXcBsgHtASsCXQJwAnsCiAKJAn4ChgKNAmECFwLYAaABbgFHARABwACCAGUAYgBlAEsACgDD/3j/PP8t/wr/jP7a/TP94PyB/dX+O/9S/sf9PP6H/nz+8v6D/4z/qP8UAEMASQBwAFwAAAD8/0kAQgD2/wcAkQAwAa4BBQL4AZUBRQERAecA5gDlAJcALQAAAAcAHAArADsARgAlANz/ov+k/7H/if9l/3T/Yv8I/8H+1P7c/nX+Cv70/en91/0C/k/+ef6j/ub+Kv+K//H/JwA+AGsArgCzAHAAKADs/8X/zv8BAEAAZgCRANMA2ACcAHQAiAC2AMYArQCCAGQAgwChAIQAlQDlABIBDwHjALQAyADPAIQAUwBUAPX/I/+F/mT+bf4r/g3+1P52/9j+Pv6o/jb/3/+iAasCogAG/zoBYwOGAgUBUgApAJcAtwGRA1YDU//r/VACGQTg/1v9x/7V/0oBjgO3AgAADv8R/4b/sgA4AHz92fza/1ABvP/T/i//ZgALAY39C/ph/V8Bjf4l/I3+Vf4e/db/A/5y+CL9bgi9D0IX3RW69zzYYuWuBNv/wur88NMB6wA3+pz7iwLHClgGUPJQ7FUACw69AmP5iwb8FIQUTBPLDP7tZdTt5JcApgJdALUN8RdjFC0bkDwHUoUqGOItxsXlJQilBkb24frCDdAMF/cJ7D/zCvDs1/DQhPqlMzxAThyWABkMsBUF+bbY4NWg2RXXpeBK+EMQwR3SFjH+0+y/8jn5sOtN5AP6VxINFjwTChOwDjgFUfZS5fvdXuTD88cCbAoME5sfEyOyG1YQUgMx/F38U/oh/HwJtxFfDpMMaAid/Yb4YffX8bPwyvaq+ZP91gcSBzP7M/2kAozxTuNq9OUCuPO77a4G8RduDkABsf08ACEEuwCc9NnyQgZIFbIJ+fga/WgJcAlcA+EAsv1+9zD2QgGJC34FKwPjDscI2/Su/AwRJAn29eb0cvzjANoCwwNwCFYJAv6x9+H83vzD+nf98fdZ9JEHfBOK/vXxc/+o/8z0FPymAdf39flUBecBHf1iASX+jfg0/ZX/g/o0+fv8jQA8AtcAv/4YAEACnwBX/Jn8GQMXANTzfPz9ECcGPO549VYFEwDi/akHMQZhAYEJFQl2+Kn6kxDrCS3s4PAADskKt/ED880JBw/e+szswfkXCBMC4/2NAZP8lf57Ca39buxp/GUPj/6U6zz6cA0GB0f8JQLMBeP8lPu4AFP8bfrXAbAFxQdXCKL9zfb3Ar8H3PVl76EExxXQDa7+vv8zDC4NBPwu7Jbz0QefCuD+j/+rDEcQbAQS+W75c/yA+Hn1Z/sYBGUL2Q2TAq/1M/mB/i/4ovTf+UX/hASwCicNuwoZA0D5dfg//vD6lfRf/TQMgQku/fABhAxoAMDvffjrB/YDvPoB/nYFCwkiCTwBgPc5/LsFrf3G82cBNA35+yLu4fw2CY8Clf8wA1P/Yv2PBNgD0fgB9iv8Nv5c/Cv9ZAJFCpMKRP4O96j9ZQAG/C78pfyv/dEGZAqxAfv/dgO1+GfuZvjXAT/8PP+2D+kOe/sJ+p8LYAoR9nrzjgbfDicAf/arB+YW5wMc7b/4yAq4Ajv3T/yuA2gEKQKg/Tz7+P8IA9j9RfwHArf+IPS/+Z8HLgBM8rv8dgpq/+vxo/rZB1UEEvqc+Rn/OwCy//YAgQENBlMLIgFY87L7YQlpAR31f/ndAegD5QQ1BIsB6gEaAkf8F/Zl+V4D6waTAhQCaQWIA+4AtQK9AQ396vky+cf+Rgm4CokDwQJsBIv9mfZU97j6oP6MAZQA4ACqBOcD7/6h/hcB0v8l/or/4f9P/7QC0AWoAuj+jf63/Fb7zv5//1D7Cf7tBSkFWQBdBG4K+wYy/7X7avw4/kj/pgBRAsP/AvqV+Qr/NgF5/Jf2V/cuAD0GkgKPAqwMGw7o/3P35v1wAuj9PvtY/rABWQNTA3oBgwBqAOL9fPvq/OD99/v1/PYBAQS+/4j6h/wgBJIEw/t9+NP+8f+m+IT4xgHaBZMCzQH7A5kDKQIpAS7+Lvw5/ngAfQDd/woBGwVzB+UCcvw7/LP/2wAEAJX/GwKzBSEDY/wC+1f+W//Z/b38dP2ZAaYF4wPTAOwCAAW1AH/6CPnF+///cAOBAm//QgE1BbACyfxx+xz8JPpj+G/5ZfxYAYwGRwe1A60BSAI/AID7pfpB/n0Avv+m/qL/ZgPTBuQFPAEl/MD4NvnM/cICMAbnCEgJFwZ1AqQBmQHS/q77bPu7+7r73v43BFsGXASvANb7Nfe89Ub4O/1yAUQDoAP7AlwCWAPqA4EBpP2x+qT5g/uB/5ACegOSAl8Alf6N/ar8Bf2k/ikAyQHLAx0FuQShAhgAaf4Q/cn7GPyI/Y7+8v/BAMz+0vzW/V/+J/wF/MT/TgKXAgkEnwUUBSwEEgP2/6z9C/9VAWQCrwJGAvcBtwEHAHr+UP8sAKr+l/wR/NP9WAG9A4kDaQLZAKr+av1j/mcBegSQBAsCIwDl/jD9A/1K/qX9BvxZ/fAAkQPWBKUFBwVEAT77f/eJ+a/+kAGqAUkC3gPpA9kBHAC5AGEBof3T9w743P55BI8FQQXRBMIByPsm+Pj7EgNMBFj/w/uy/C7/2gDLAsMFQAY0AXj6LfgU+7P/wAKAAqD/If18/Y8ABQSNBdkEPAKp/YT5LfpoAFIH2QgtBHb+9vtb+4f6uftzAGYEoAO0/638mv1cAf8CsADs/aL8uPtd/IoAcAZZCh0JMQJe+qv3cvrv/Yr+cP2M/Uz/OAGKAkMDGQNEAX79tvmq+cP+owWtCV8JxwbxBDkEfgH8+0v57Pw8AVMBhAHdBrQN+Q3IBmoAyv+U/+P7OPoW/9YF3wd9BdsD/QPoAdv8Kfhy9hz4QfqC+gD83f+O//P4LPSb9HHz0+7b7VHy8PSU8/T0tPk/+oz1RvKk86v27/fo96L4J/oE+xb6bPif+E367Plr91P39Pp3/tj/LAGmAzsErAGRAbwFNwixCJ0L1Q5kDw8QnBEEEbYOfA0NDR0M4QvoDmEUShfUFQUUkRQdFWcSEQ6JDa4RdhR1EVsNkg9+FIoReAhXBUgIZAYT/7j7if5MAO77GPZ09Rb2BfGm6vLpHutT6HvkH+S55YLmpuaW5iLmCOaB5d/is+E35evnnua25i7pWOrl637ubu3i6UXqpO2I7i3urvF/9x/5U/cX+BP6pvkp+VP5wfgy+jj9Zv29/hAG7gqcCaAPbR9hJ2MlCSuaNxk6+jNhMv42NT0iPko19i+dOS1A+DN7JssmUChbIQUawBfXGCkbxReqC/QD1wfuCJT/7/T863flEeV24fTXBtuk5gDgls43zdHWeNuV3KHboNnn3l3nHeb34vvrW/TI6xLgUuLL6jrvp/Cd7mrqLOn95qHfatyW40zqNebR3pngoOia7CbsX+og6AbqjfDS9VT7IgINAn/8gPsI/qAE2BdZLLUtkihkM7dA70DxRGJR0lFmSTNGrT/GOLpA0EaFOnEvbCwjIFIRuRCNEqsJwAHxAMr5Ke067U71NfJH6Ivh1do32QLgaOGq3fLkfPLW8iXjm9Rk1qndt9kV2bLq+/kc9kDsBOvR8rv4u/Dw4jziFezP8JDwmfVH/gf9j+wW2QfPxs0Bz+HPKNSn3Pzfvd0X4wDvkPNW8AjtLuwz8RH+6Q6OHpMjqxm8DskL+QmWDc8eHjD8Np8+Jkm4TFtOCVE9SBM4ZTBJK3AloTBuRadEoTT4LgYoqBGoAYsEmgjwBJkABv92AswGVf1x6UnfttqSzJPCR8xN23DhVOMq5jXsJfI16vnXf9Wy4ybqcOs1+boGtwJu+AXzHfBb8lf2CvHn7RT7oASN/Pz4JgEK/srs0eAS3Rja39qB4HjkaeU15Mvflt0O4w/pI+i45tbrzvNM+3kFIhGkEosGR/7xAfQE0woVIK01IzxbPthBZ0EJQjVBqzWrLPEyJDsePBk/fka4RN8yuB6jE9kMNgmECmgIKwNzBUoH4vzp8HzplN1Zz0jHlsbqzCXX7t5u4SDhn+J95pfoQufx5YTpBPTH/2oEcgUpCVAIlwD8/FD/2QCIAIH/VP9eAjUEs/3p8x/xoPGw62XhVNvF2p/aENkR2D7Y3dcb1VLUy9tS5Y3nzOfe7P/xjPekA0kMjwfzAjcH1AzLGAgv5zw4P8pIjFCfRYI+pkeERnA6AjzVQbg8VDxxQpY7CC1FIywVVgUaBMMItgR3A8IIoQAr75DsAu4X3afJdcZnyI3JAtE22GzYPdgD2djZJ+Bb6aPuvfN4/UYG5gd7B9ILKA2VA1/83QFXBNb7s/jt/yEFLgKZ9/bqtea56Afka9tY3cjl1OPu2NfVGN104XDeBdwq32DmEuxn6x3rzPOs/eD+6v1fAgAGSQTGBx0aAzJDPl8/WkOxRps82TKQPG1K5kjfQ5hFtEMhPiA6qjBDJzEnECAVDQkHeQ1KCVQEOgwhCFnva+Cn4dncUdN00gXTn88J0UvUB9Pn1GPY4tQj1gnm3/SU+T/+FAHQ+7363wKXBiYFmgkyD6ULkQT4AMP8MPeo8+nv2evh6ofqWep07p/vm+S91uLQO8+9z0TUmNjm3QPprfEI8tnyPfQ27lToB+w581T8YAl9C/cB2QycMCBFrj5aPElENkARNLEzKz7fSUtPsUZBOsE+QUlEPvcpUyZ5JH0SIANOBPoJGg5CEYgK+vqC7rTjitlm2MjYC89cx7/L1M7czG7SjtoX2hraa99+4Sjnofg9BAcCXwcDFX0TRgkmC2UPRwuiCo4NiAdn/fb34fJt7lTu0OrR4uzhr+Sq3vXWiNnY3RfZmNNC18/f4+Sd5H3mnfBP+hb6f/az90f4RfTX8wP6lQDxBqES5SUgOaZBo0G2QjtDGTsOMM4vUjpZRf1IbUTiQWlHPEZLMmUdGRqsGesNcQU6Ce8O2hCYDK38feg53b7VGMtOxtDJrcwEzsfPIs01yCDL+9FX0rXUReOX83f7XABNB5sPjxjmGPsJjP7ABTwOLwsdDP8WABmuC539KfXi72Pu6uv85HTkCu3k7Fbij+EI54zgy9ee2Xfb/dpM47fv3fXo+KT4hO8i5jnmxepr8Oz4tf7HAtgVWTUKRalDmEUGQVEuvig5Nr0/iUdbU2BPlEGUQ4FDuS7TIdwk4BnyBjAJABIgDb4MDw96+unfbtYSzEDBb8xr2AXO/ch00dXKIr/yxkPSLtSA2kLnVvIR/6gL5Q5zEGIXPBK3/XP50g60HLEXzBZSGvMRVQQa+3D0Q/Ra+HDz7OnY6izvlOix3yniQOc44uraPd3x5bvsVe4M7ffvqfXO8dHmJeOP5cDo5e+q9+77d/70AFgNFyi1OuM3+jRoOk02BizBLUg4GEFjRlJH+UM6QJg8JDJEI/kdxR1NElYE4AVeD+oRVg2iABXsqtyR1kHR9MuuytfMIc7SzKPM3s1lzyjUrdiX2Ind7u3x/NID3AzDF/EYjg0h/t/7DAtyF9IWchMsEOcHp/5i/GEAiwNK/0Xz1OfH4wjmJ+lu6UfqfeqQ41DdnOAq5uPoFOu56srnJ+hA6ifosOVt5jnove0C95X8MAA7EBssgDseObA5lTudMdAq6DK7Oiw/DUjZRz47SzjyOzwy0SVEJMkd9AyUCC0SRxKwDPcOcAcQ7xvfZNvT0/TRnNpV16rLHM4u0h7JGcbq0NHVktI91w/jXfDyAlYRRg6rBEYBH/6P/PEH0BgYIF8dvxIOBGL+egQ0CN0Cnf1Y/S76kvB76nbv3/Vv8IDiWdiQ12reAeYK6eXqj+zI5u3c7Nyi5Cvnn+T34zHq0PfAAEv+AgIsGBYw9zhqN84zLi/jK/QuITgnQpFJ0Um8PyU2lTanNq4u5CYRIuUaFxNaD1YP0BEQFP0OQQDT74Hjsthe0tvVy9jf0ynSgNPBzFnF2saMyqrNIdNf1tzYcOTe9Ff/3whJFf4VoQYv/BwCYA5tG0smvyaVHqgTzQaU/7ACSQbvAmf75fSv8RLtSOYn5jXp6+KJ2TLZUd6V4eDg0t8C5EnnveIr35jhpeLv4fTmb/Pw/v7+Uffj+Y8QVy6hPYM8UDkaM1wkySDBNWNOSlhXU25E1TqaPPY3FSuPKb4v4Ce8FW8Q9BcoGbIRiQic+mTr6uK32ifUftoZ3i7Q98TnxJbBbr7ewwrLtc6z0L7SIdf04OHtB/bE+RIDrRAYFq8T7xBvDqcS1R5+JOYiBSHyF9cJoQJqAiUFkQVG+xftYuuW8HjsVuTT5G3pp+b13ODWLtgW3WziH+XZ54HsM+nV3GXXL+Aj7T/12Po1/1n9BPxbC+MlTzWnN8A1ciybI6oppTZsQo9ObU5xPYczKzpIO/AxuDG7NuItrh9oG/oYqhNjElUM8fwV9kj0euSr1UrWV9Kyxr3GKMrZwW+7or6CwT/H1tLB1+7WMN+X7pv5cwGcCCcJGwaICZgRPxqUJeArqyQvGzwZQxZtDugHKgSgA9sDg/0H9cnyI+9J5UXfut6K3HnamNtK3TfeyN0T3Srg7ORg4/Lcndxp4hTkSeUk8FH7ifgr73fzLw1oKs8xLCjJJi8thyssKYg0kUdXUWVKET4GPKlAej0GNUU3sUGRPkIr2R4IIbMgkhjiED8HRvqG7/HlYt9E3sjW6sWFvebBycH+ucm5PsMxyUnIPsmfzzbYQuJi7aL5YgjxEJwKXgK4CFsYxSMoKe0rvSq2I20XgwpsBZAJbg0HCKT8rfaW9UbuouMz4dzioN061XbUYdxN5OLicduo2g/fFd3r18/aouPk54rm5uhR8q/1+uqU6NYBqR7nI5sflCS0KGwkHyV9Md1DiFSZVMZEzEBgSmZERzdSQVxQ30ZeNkMyKC/3JvEdnRDAAtj+Q/ui7JPi1ON72/7H2L4JvyC7I7r4wFnDt8FHxcjI4Mq/09XfH+mr89f83Pzo+z8EiA2fEToZoyP7I1MbDBX1EFUNog7jD4IMZAuWCUb+SfQm9vf1oOur5DvkguHs3zzkxOeD5jblvOXm45XfyNyN27fb8d4x4hHkL+rD8Mnr+uFX5hX6eA0kFp0ZSx9RIiUgAyNmMOBAwksoTapHP0SmRaBFqERvR/dJy0ZnPxk3CC27INUYRxjnFXsNKgWx+9TsN98Q1y3SD9JO0f/H3r/6wZHEtsKXxZfNgNGF0aPSOtXF3IDry/jp/voCIwRH/cX5tAW+FHsZFBmBFpEPAgsQDEQMOQz4DqUO5ginAYn6KfYx9zT8VgFRALr2zOus5ovmLegg6vvrmu3F60Hjqtmx1nzZQt2P3ubdmt5S3oPaxd2e8mEMNRREC0sIrhPkH1QnHzMcQhpIEEHcNYg24UQyTJhFjkIaRlZBDzOPJ4kmAC6WMRMojhqMEUwGNPi78lb2JPba7f3judnpzvHKbs4+0NnQ7tQN1ObK/MbWzS3Y0+GA6BTqHugJ5lzo6fCE+y0EQgmeCRgJRgv9C5AM2RObG68bzBkXGOQPuAUbBU8Lxw2YCngE7vw29ozxiu4U7wDzlvBA48jYvdgF1ybQBdCh107cJtp502bN0c/O29Prf/tcBPwCcQCIBNsM/xpMLzE8fTy8OiQ4hTPKN8tEbkvwSk5MHkm8OzEyKTT6NRY05zRBMGUgzhXUE0kKPv5B/CD6RfF/6jTkrtjA0BzRBdH/zr3Pnc/TyjPH1MkczgrSVNlS3u7bnttM4ufosu3r83v6PgD/A94CNgKSCiQW8hhOFKISBRYSF90TjhKlFSsYpROLCRYEzgWlBLj8zPWZ867wV+pa5RzjPN+j2tLZJNsM3KXe1eDH3ZzZ29mD3l7qHft4AycAs/0NAukF4AgUFJQjhSqaKY8nJSWFJkUvODYQNzQ7LkA+O7ky6DEIN4Y6yDeAL0En2CPLIegaiRJfDo8KtwHh9ofvAusQ5ijg5dod2LrV6NBUzcPNQs+a0b3VeNc11f/UANq+39Pj0ega7/r0FPqj/PP8zgFZCxYPcA2QERcYOxbaEUMVjxtcG8UUgw0XCmULtgsJBWf+5P+N/9H0uesr7dTuKepi5uvlX+R34RjfWd9u4xLnjOZG5jjqWO0y7ajxp/t9/9f6MPruAj8MZA9rDxcSiBhvHCYasBvDJ+AvaihMIDYllStBKYYmyCjRKsUohyIGHDQbWxwAFtYL4wncDV4K5P689tjzpvC/7drsCux4673p5eIx3M7dFuP45DnlCOYU5zfoheiF6RHvx/c1/ez8bPtf/ZEBVQQMBnQIcArDCtgI5gXHBZUH+Qb2BeUGuQXfAY3/rf1k+pD5OvxU/pn+s/zG9u/wffIA+CX3UPFJ8Wz2NPVg7HXn9OwG9o33WPD564Dxm/Z48prw7PuHCPkGI/07/LYHQhK/Eq8Q5hQWGdEUMxC6FnQh3CHYGrUZ/ByIGmsUoBKoFR4Z1BdTEFQKlgszDC4HfQUCCZEGWP08+QL8pvzU+hL8B/0Y+fH0zfTi9Yb2e/cc+A76bf6y/+X6efZo95/6vvyU/n0AJwC5/MD5Fvoh+xP7r/xT/9P9i/hS9vn5bv60/iH8rfpL+6X8Mf10+8/4LvhJ+DL3qvcZ+gj5Y/M+7wTwE/Ox9Qn3n/TQ7XrqUfFs+5j++vq19aryivVN/G//Pf/PAfAEWQNaATEFxwkGCF4F0QiYDU0OBg5mDgUNPQxXDrAOigtuCaAJ6gmZCgEMiwoyBZICUQbiCRwIsgXwBb4EUQMBBwgLXQlHB5cI/gehBFYEVgZuBQ0D5wL+A9AErgV3BG7/cvsx/Fb9nf1/AeMFRgPd/K765vuE/KP9x//9/qn5MvVn97b9YQBW/N/1aPNe9fb1CfR09V36d/re80rwa/Ut+zL5T/RM9Vv6dfs59zT0Tvdi/CX9CfwL/jgAYf5C+6z6LvzW/pcCrwXZBQcDQgDBANsCTwIPANwA5wPOA4gBTgJUBBQC/Pxw+wf/uwLZAs4AQf9e/3gAZQETA3EFHAQt/4P/0gaMCtYG1gMwBisJVwgSB4oJ7wuRCY4FNgVTCIUKfwmmB/0GNQUbAqwBRwNsAxEDdgJGAIb+dP65/64CGQSw/zj5A/lk/6UD7QBg/Vf+mP46/HH+RwIt/arzn/LL+mMDvwXI/571qfCF80/4PP4RBh0GFfmi7uz01QAwA5v/1P4MALb+WvtE+qH86v91AfQA+wDMAer+Svhg9rL8uAK3AeL8e/ks+Wv69fsG/tj+z/ye+ov7vv6sAE4AQgAhAhAEbARzBFYEygLmASIETQdWCN0G5APlABUA9AGHAx0DKAK7ANf+9v70AI0BHQHwAawCWgJIAj4CqAKRBMkFQgXRBYwH9wYPBGgCBQP/A3YEdgQpA4sAs/4h/gP9gfzJ/vMApP/y+6f32/XM+joCcgLg/PT61vyB/En7Cv74Am8EpAHg/hT/6gA2AUz/9f5zAiwEVf+N+gL98QDE/ur6LPxo/7f+afsY+sr71P6/AMH/df4GAHwBVQBEAEMC8gJTAw4FLgTE/+b9yQBbAzYCgf/3/TD97vs7+0/8yv28/QX8RPpp+uL7DvyD+4b9MgFtAsMAL/9s/zIBoQOnBTwGBgUHAwYCuALhAyUEGgT/A7ABSf23+zr/sgL3AYX/Hf4B/R38U/3hAHADzAEs/r79GAH4AwUECAP7Ap8DmQP0AhwDfQP0AYL/SP+xAGMAsf5j/k7+8/vX+U37zP1Y/U77UPuA/Rv/Rv7r/Fv+SAHXAWwBpgOXBcsCgf/CAQwG/gUNAyoCagMsA83/a/xk/akANv/5+Br2y/kv/u7+/v3a/A/67/bi96P9qwOVBd0Cmf7B/J/+eAIGBvcGKwSpAFEA2gHbAcUAswCKAcYBq/+Y+yn6GP6CAlgCsv8w/uz9oP53ABsCsgL8AtAChgFlAFUBogOfBJADVQLMAdMAMf8b/qj+IgFOA3EBsvxs+mD7lPyC/skBrAJO/3L7U/uo/+AEpgVtAnQBngOtA8MBwQLwBb8GtgSWAhcCaQIFARn+if34/8EAnf2L+RL4vvkk/LH8/fue+wn7WfoE+wL8E/yY/Q4BBwJ6/yb+pf+5AIYA1QCjASwCVgIIAQT+Yvwn/pcARAEzAX4A4P0t+2L7GP5aAXMDBQJH/Qz6FvxlASsFvQS0Aab/dP9W/7v/5AL/BqYGOAHk/Mz9JAAu//n99gEtB6cEI/xh+Gj8RQG2AiMDbgQyBE0An/xM/2oGWAnCBeQBawHyAUkCHAS5Bu8GtgNT/0T9I///ASgC/wDXADb/HfuJ+dP8dAD7AIn/Of1b+qT41vl5/Z0AfwCd/lX+R/7d+8z6iv5OAnABCv/K/jn/Qv7E/Ff9GAGGBFgC0ftw+Cz7ZP+wAdQCEwIX/mX6sftYANoC2wFvABkArP8W/+3/iQKxBHED8/+X/4wCPgJz/sv+oQMTBboB3P+UAXACpv+w/Gb+ngMeBiQDKv82/6IBeQF3/7oAggR4BNT/lPwd/gcCSwQvAyYB9QBtAIH9WfzA/xcDoAJ7AN3+oP0R/YX9m/50AFoCXwGf/H/4VvnJ/dsBswP/Aqz/UPtu+fz7cgC7Ah8CuACb/wj+9/sJ/AMAfgM3AZ/8B/wC/sb+I/91/8X+2P4PAJv/bP5l/8T/gf3X/XMCewSGAVn/vf9a/33/1AINBeYBc/36/FL/SQFiAugCBAN4AiEAVP3l/WoBQAPtArADNgQ+Aab95P0mAegE3gcpB0IBjvvf+9//kwKrAwoE7AFu/Sv7cP3oAMgCsQIvALf8+/pp+4/+5gPXBNX+cfv7/nQAUP3e/agCnwMlAHL+sP/hAHIACf7h/DQBTgUuAf/7qv7kADb8MPtNArwFwv8j+c75G/9pAVD+Zfv7/XwBTP66+U/9AgLy/TT6S//vAjb/vPy0/Wb9//2PATMDwgD3/Rf91P7lAxoHcgKX/Mz+dgMJA+oCxwU7BDL/If8wAxUG4QYYBHn+mv1eA1UGKQOUATYCBv9e/N8AkQXrAnn+3f1V/pr+sv87/679IP80AY//N/6h/yD+X/vE/hYD1QE6AaoBC/xG+HEA2QdPAvX7mv5SAXb/ov6K/0UAIwIoAT/63PhuAmgGtf2r+Az+BwEl/Fj4ofvfAboCO/xF9yD6Qf9SAFT+Pv2C/gwAdf+H/WH9x/68/vb+ngLnBaEDL/70+o78FwQWDL8Ja/8G++z+OgPYBg4LPwo/Aun7wv1QA1YHQwkiB5oAl/wN/88CxAM0AtP/aQCVAt3+wfhw/FwFWANM+Xn4DwERBJ39Xfea+Ov+2wHh/W/7zADhA438vPa6/SQHhQTA+8j7zAGGAU7+PwAVAmYAkgEaBM0AdPso+0r/+QPQBKEAuPxy/PD8Nf1VAMoDQADc+Lb4U//aAQb+W/v//BP/mv1r+of86wHKAMn86f4XASf95foJAOcGowcsAKr4SPu5AxEIaAhIBo0AR/sS/d8FjwzACdQBC/2f/UsCswcmCIQDTf/T/UsAugTiAhX9RP6qAlkBZ//2AD7/k/oj/OACJgUUAKb5LPkc/+8DPQJw/nT9cfwo/AwBLwQwAMH+pQEU/hn5zv/aB4gCw/rT/FAB4QHb/1H6BfglAmIJUv1Z84391gQh/Jv4vwCDA2z94fhd+goAPgP//eX3X/wWBq4Fuvo+9XD7LASACXIIWP9796D4iv3tA7kMzA3UAZD1MPT5/vIOaBFCAA/z8Po4CMIHegAhAdoE9P/o+HT+1gsuDI77lPEP/5sPeAhJ9sf0DAKJClEFxvpL+nYCjAK4+5v+8QYNBGn7hvv0ACQCkwBZACb/O/5nAk4ELP3L+Z4B7QVgADf9lf5T/VH+FQSBA/P8VP2MANn79fmPAuwDUPl49ykABwIC/o/8v/q6+r0A7QK7/MH5BP2o/h//2QDcALD/5/6V/s4AvAG//H/7BwTqCHgEvwAq/SL44f0uC/cLwgB/+gD8TP42ASgFOQaTAwj/kPuD/XEC7AKwAKYC/gR4ArsAcAAH/Tv9zAOSBhoE1QEf/uP7LwFTBQwC/gH1BK//Zfn8/Y8FpgXdAJn85/zvAh8FJP6I+pP/SQFD/lIAVgRiAZX6t/fP/IsHggp4/aTwmvYsBosJR/81+Mf7aQBH/qL7eAC3BQMA+PYb+SUAYQB4ABUE3gBh+Ub6PQB6Ac3+qvzy/eMCewXdAL35bPik/lEFLwZaAxr/Lvli+HUBCQl0BPL7a/uY/5j/L/5AAnYGAwJh+vf7AQYECusAqPeg+3QFZwjcBD7/1/qT+23/sQJYBqYGb/7e9h380AYEB1L+cfwvA60DBf3q/ZgE5QL8+z79ggRmBWX/hPws//8ABQHyAl8D9v0B+a78uAVuCHcAHfiR+Ir99QDjAqQCOf+z+0b7Pf6fASYA5ftq/v4FEgYl/rX5LfzS/zcDbQdRB17/7vZv9x4AywdaB4YAFfvj+hH9KwDJA20Dnv7I+xX9Of+VAC4A8f1k/lADfQUpANP5MvpoAEIG1gaWAe77lfxOAUgDYgN4A5D/XPli+ToA3AWGBX8AWvu8+vT9iAGQA+YBw/1l/K7+IQHIAh8EMAMB/0X7l/yxAesDmgGi/wL/yP2N/a//pwJrBGYCgvz8+Hr8GALrAyoD7gES/xL87/ybAOYCxwK8/wb70/sYA6wFBgCS/Cb/nwAb/2AAIwVgBbr9b/j+/QcGXAVU/6T91ABfAQP9CvuV/9QDJgLZ/q7+LAB8AEgA+AF9A/D/EPrB+9EFAQtnAzT5TvgH/Sj/QQAoAuIAF/3/+0r+8/8i/tT7Ff5ZAq8CsAElA1oC4v1s/Of/tAM2BYwECAIB/y/9dP0JAHIDUgSQAcn+2v5R/2X+5P5bAfMBoP+4/Wj+AQA6AO//MgDF/uz7O/xL/78AtgA7AFX+8/wf/h4AqAFaAgEBzP4R/xECWgTeAywCxABY/xv/uwEjBP8CHQHvAAoA6P3K/fH/6gAPAO//GwGfAfMA0/8I/h/9Av8gAQ0BNgB8/5z+qv1l/DD8e/5ZAE//S/6R/34A9v6O/Wv/+wK2BKEEuwQgBDABE/5q/msCRwZ9BvUDEwF8/Q76BvtUAAwEMQMwAFr99frh+YD7M/5E/x3/kP4Q/UX7HfqG+e75N/s4/Cr9Qf64/bP7CPvP+/r7Yvxa/q//Mv7I+6X7Xv3A/WX8Nvxx/gQBZQHG/7b+0P6y/jb/PwHIAhsDeQPfAkUAuf7dALYDqwOKAgADJwMnAb3/FQFyA/MEQAURBNUBKAAfADYBQwK4AqMC2AFiAM3+vf1R/ogAugGpAIL/9v6A/VX87v1vAG8ArP63/V39M/wA+3n7Mf1Z/iL+kPyg+lr6WPtt+rX3KPf6+A/5APfx9av1w/Ro9Jb0n/TH9QL3FPZ69Rf3xvcL98v3mPi593H48vpC/Lv+NwP5A/oA6P/JAOQChAjVDfINvA3JEJIRLxAVE/UWfRYBFyMaeRkaF/sYKBuJGf4XYxglGJAXCxiMF58UkxEQEJUOygz3DKYN9wmyAzEAsf0M+l74Yfff80fxBPHq7k/rO+lz54Tlt+U353LnIuYO5Bvju+Rc5kjmFeci6Oblt+LT4t3jbOJ84SvkM+cO6C/pI+tz7I3tB+356WXpQO0g8CbxQ/Rw9nvycOxF6szq8uzc8k/6wP5//+H8F/r3ADYVKSqcMTUtLCpmL4s1OTbBOe1GqVFVTKQ+zTldPqtATz9iPb41bCpkJFEfThnFHN4gcxTxBJoAKvmg63ros+s95/Dgfd7212zPyM5i0SjTk97l69zf7cMkv8/P+djh4WH5IQYT9eXeO9mQ30XvAgIjBqYAhwNRAXHtx+RY9l8COvk78Kvt0uVa3bvcDt7l3jHiT+EE2fHTh9bE2SXbYtzl38Xq7fex+sX3A/l29lTwDPhFDVsiaTN7OBMuIyiGLV0vXDZxTFhVAka+PdZEy0dmRiJFBT7mNcEwaCesH1YiUSLFFbUJ9QWTAIb1FO2I6lDpleV/3Z3UwdGi0WLOrs4d1dfXj9Ys2GTZeNii3EHnmvEK9w76YwBxB0EG1/+EAcIM1BT3FKMWZBsqGKUMSwM2AAAEgApeCGv+FvfU8N/obORw46rkZ+j85yzii99b4bTj4+Xn5RXlMujP63jqZ+ea6Vny5viX9/r1APdb9dH1lwCnE2QmXyxeJOkhnytcMYwycjhjOeUwLy6YNI44xzj3NvYrGhwAFmQVrRLbF/0enRSZBQgEEAAe9B70Bv3l+xzyEOlb5AXl2OZD5kjmYemH7Mzqb+bd5+nuMfQW9xb6ePw0/rH+oPzj+dr5kf/jB2QIwQEb/h/7U/UX9CL4cPvT+1f3dPCx7g/x2vLi9x8AtQB+9oXt7+4J9e/5OgBaA0X87vNc80L1KvR/7hfkXNy33mrm7us371rvaeZD2DPZsvGEC78TihPmF9gfwyNwIacjQzLZPXM1KiaoJuwxfDJrJxokCyuzKBYZWw/oFeAgKSCjE5EJbwqTDawI2QJ/BugKewQW++v4yfin9gH2APW/81P3JvvR98TxXvGZ9cz2QvPx7yXvfO6G7Bbshu5171nsKui/497esN8R53/qtOhe6PnmNuWF6Mbqkek07iP21/Uc8DjxVvtZBMMDlf1y+0v/ygNUAk77Ffn1+fDxzepm8tP84fvM8enn+Orp/18V6xrDG54iUyAGEj0UlSwDOo40iTICMbgnZCV2JrQfdCBuJi8axQiwC2MV2hS2FNgVvwqm+UPzYPcV/DICCAiJAcP1tfFy7kTtO/bN/ZT7dvj49r71OvpX/vz56veV/OP7gPMX7wzyhO5T4c7d++YI7ALsTeug5oXjqeOp3qncW+j08lryXfOT+kL/FPwK93T8SAa5B7IIrg4DEZcNMAjaAlkBAQT/AuT6SvC95+DjgONM5rHqv+aJ22DZWudlAK4WvhulGEYcNB4bHB4lTjWNOzo3Ri4lJ5wsVDZAMGogrhheFyYRrwnmDQ8Y6RkfFLwJKPxd9Qv7AgJuAQoB0wRCBKX7k/MV9Rn8wv9b/oT56/WI9uP13PFx8KTzCvUj70/nduXP5vLmI+fL5E3eZ9yp4TflJujm7hHxN+oL4i7hDOsQ+cQAngAe/jL9vP24/xYFOAuxDIYMyA6mDrwMww7QD2kLWQUf/tn1sO5555/jg+fi6rflu9wD2CPeAvDrA4kPxhFAEmsXHB0yH3MhpSUWKv0pISHQG4kl3CrRHGkQyxBbEN4LoQYLBdENrhWbEWwM8wpGCMYIrAuxCb0I3QtvC64K0gqxBAAAVQNMBHb/mv4oBNADH/lk8nv0ZPX/8xjyZ+tM5k7ruuwr4fDY4tqm3TDeXN0t3p3hBuJU3sPc6ePz7yTzL+0l7rn6LAWuBlMFPwVwCncRuA7UBx4ISgtCDEkJ8QDd90vx7OgG31vepeg87hDmWdvM3VjuxwIkEucWKBerG3Me+h+2Jz0tyS1/L4MpCx0lHlonaySsGywUiAnGBUYKoQooDX0WSxnfETsJ/wZSDAYSVRI7D9wKRwh8Cx4PzA2CC/QH6wHy/PL3pvWu+WP7Off98avqzuRu5crkCeAJ3w/g79zT1hfR6tGS2pDgad9e3IPbz+B06Unttu8f9sL6QPqZ+L774wd6FCwVOQ+yDE8Ngg9bED0NowzSD1MMCAD48yXuu+zl6aLlb+S749vgG99+3+7mWvytEgsXzRDODo8PEhP8HE0m/CqBLS8okBovFMAanCClHm8ZAxMXD24R2RRTF60daCRIIhsYWRAEESYXJx3VHboYWhN9Dy4KbwVtBcUHgQexAXX2lu2J7e3vaO526sjlheIC4GTaztYR207f/dua023Lg8pU0uHZHd0p33DfhN5Y35DhKeeI8hf98f5b+vz4+ABGDdYUgxYhFjEVLxPiD9oNThDdFOkUFA1FAbH4kvTS8L3tK+2J7G3quOXS3UTcBeok//4MRA4SCawFMgarCX8OoxPHGX4caRaMDw4TnBvSHUEYJQ8LC/oQMBfFGa8gKChUKIwhVBaED7sSrRY9FQATpBGUD2kMWweFA+IDvAIw/WT3U/O/8172HfPe7TjsiunV5RPjkN8M31Ti1+Em3UbagNqW3XXhbuIb43TlSecT6mbt7+9A9PP2L/VF9Qn53f3hBIULnA2bDRQNmQtYDd8RwxK3DyoLcQZzA4QAjvyk+UP4rPf89EXvKuu96aPo3ehO65PvcPW4+f74WPZU9hz4avqH/Pj9gwEuBr4HUwfKByMLABEPFeQWQBlfHKYgFCVjKCUtqzHyL5EqsSe5JlEnBymZJ9AkkiN2H3EZxRZmFfASVg9iCb4DxwBQ/Tj5R/cU9oTz5u7w6KjkGeJ73t7ZS9b61XbY69nl2WjaetqB2W3Yg9fD2A/dYeCZ4Rbkw+e160XwoPIY8g7ydfNy9pj7iAFGBjsHgAPj/lX8YvtZ+z76pvd095j5zfkx+IP2/fRd9GX0lvWx+db+2AG9ApICOwJNAukBqgEuBKIIOwwgD0MS0RVMGcIbQR4SIngmqipHLu8xODa5OH430DRAMyUy8i8ULDEnvCMTInYfzxs2GPwTUg/DCc4Cofye+PL10PP/8f7vVOzA5ungl9tt11HVBNSA0hDSm9Jd0njRTtF+0qLUmtYX2K7ZzdsG31HjA+gZ7WPyPvaE99v3q/mw/R4DhwdaCcAJdAm4CDUItQd2B30HYgb3A5wBGABE/4r+ef3f+4n5ePaa8zPy8PL+9fj5V/wg/Jb6lvk1+dn4lvlA/GsAygRNB30IuwoiDskRLxU9GM0bACCyI98msirSLrQxwTLtMSgwCC/XLVcrqihqJ1sndibZIg0dqxfIE6IPegoTBmoD+ADz/K73U/LT7eXqD+hH5C3hzd5a3DraJdj11vrXrdl82tHaGdvc21XdP96u3hDhf+V06UPsMu+C8sT0i/Vl9iD4l/pR/cj+tP7l/pb/U/+h/sL+7f5+/rf9fPyC+8r6LPkZ9xv1cvP38ufy+PJ49IT2Xvcv93j28vWg9h/4Ivqr/UgCjgYeCvUMGRAfFKQXBhuAH9kjnSebK/kujTGQNLA2yDbXNqc2ejTHMX0vJi2PKzEqYCfKItAcUhZxEIsLYgejA9b/lvvG9qzxF+2f6cbm4ePM4H7dYtpv2BPYg9iz2GjYldeL1kDWodZ014LZUtzR3kPhn+Na5eXm9eio6wLvPPJl9Jv2k/kr/Hb+WwAJAaMBuAKKA7gEXQY5BzIHdQZgBJABc/98/kn+Z/0H+0j40/VX9BH15vY0+AH5iPiq9qD1WfZE+PP7IwH8BQ4Kpg11EP0SyxUcGbodFyPUJ8Ur4C4aMcMyuzPVMzozXTKrMWQwpi2WKloo1CVmImoebxmbFAsRrQz5BkkC8/6F+7v32fM78J3tmutp6UXn3OQR4qvfxt2e3GDcHNxL2yva19jc1xvYd9lk21jdlN7L37Dh3+J9407lHOhV6zrvy/IR9ej2ifiU+Tb74/23AFIDogTwA3IC/gC3/xz/2f42/kD9S/uQ947zGfFg8BjxZfJa8wD0H/QZ9GX1CPhG+1b/kQPFBpYJCw3SEP4UuRlOHhcj3CekKpQreizdLcQvMTJpNFc1gTQrMjUvfyztKZAnsiWlI8kgxBzTF1ETYg/KCgoGxAJDAMn80fgz9ePxHO+X7OfpFecn5GThI9+53RzdHNzL2RXXY9X41M/V0tdT2vTcbd8o4VriwuMb5vvp1e5u84D35/qY/MT8VP1b/2cCTgX6Bl0H0AajBVIEJANKAqkBGQAl/VD6mfh+92X2n/RJ8r7wKfAM8BzxHvPV9G/27fdr+KP4Ifoy/VsB4wUVCsUN+BBuEzYVAxfrGWUeFiOmJgEp+SlXKpwrUy1zLiwvbi+OLnss8CnqJ9ImayWcIkkfPRzoGGYUyw7ECWAGxwPcAPj8GPgu8+vuG+uk53rkMuEf3q/bWNk+11PWp9ZX13LXK9cF2GjaO93t30XiX+RN51TrMO8U8iT0uvWL9/r5e/yb/k4AvQFKA14ERQTuAwwEJAQXBCgERAToA1ECZf9q/Mv6lPru+rj6WflZ96f1gfU+9/L4Y/no+SL7BPx0/D39bP7q/7sBwgMzBugIVAuMDQEQChOKFpsZARyvHuQhSSXsKA4scy1CLXAskyvNKhgqyCmgKRkoFiX+IUge6xhpE0MP7QtFCF8Djf16+HX0a/B07CnpHebL4offRt1Q3NTb3tuD3PHbstmX2GPav93b4K/iU+M45EbmAOl46zPtou4u8GXxXfLm8/71Vvi0+tn7Gfs/+i77z/27AH0CpgK3AeX/lf0h/D78Hv2T/dv89Ppr+L711fPw88P1ffcl+D74OviE9/b1m/WH+GH9SQHGA/0FSgjKCjQOwRLaF8ccoSAzI9kltykJLhoxBDKOMV4xJzL7MpgyKjHOLxEuXiriJSMjsSDfG/8VtBEBD94LvwaJAO/6+PVb8cftXOvj6PzkBOB03HXb/Nqp2f7Xu9Vr0/bSn9RI12HZGtk41yDXXtpI36HjY+by5+DopOlA7OHx5Pe2++P8gPsW+g/8vgBXBTQIcgj3BjQG0gYzB/sFVQPaAPH/jgDXAX4BTf3s9sTxT/A99UH/QganBDj+qPm1+RX+RQXZDDoSRRP+D28MVQ7SFnwfuCHpH8UgiiQSJwIo7yldLQUv6ipOIzUgciQeKTImexw6FB0RhQ6IChsJaApYCdkCRvnQ8sHyyvRx8/zuK+uB6VznUOMI4efih+Xm5GHhMN9T4YTkeOMd4ALhuuZA65Dq/+dA6ajtQfCt8HDzXPp7AN4A7/4TAWwGfQlvCRQK9AxcD1sOCQsqCW0JZwnSBxMFKAJ4/p34dvM782H2X/dO8vbnB98g4PXrOvhT+tzyiOuO6lnuQPW2/uwGRAm3BAr/WAFNDNwWQRroGKMZ7B19IWojFSdWLOwuNC1QKngqlS3aLlksnSjLJHUheh+eHcoalxY7EDAJuASBA5cCAP8Z+Rfzpe3U6I/mXueQ52rlluPF4ijhPN7U2kzZWNz14a7k7eN+45TjfuGY3r/g6Omf8q3z7u8w7t7wlvUc+VT8ggE0BeoCa/4z/5UFMwqbBx8CdgGMBKsEmABn/HP67viS9kL2AvkQ+Sry4+n26Xz02P80Acb62vbW9+b5rf2wBZAOnBDsCR4DMwXQDh0Yuhu/Gusajh0LHlAeXSRrLBUvSyxgKJInYCpTLEwqNiaII3Ui9h4lGLcT1hJoD7YI1QJt/rD7nfme9L/tXemW54PlgeLf4EzhOOGv3//dpdvB2NTYgtxa4CnjWuSX4vPfrd+I4vHnZ+7c8iPy7u067c/yZvnF/HH+tP+j/7b+r/7eAXAIzguyBsr/wwAmBycIggG8+yf7Nvss+YD4HPvc+1T0cOhZ5+/2xgVTAtv0nPCP95v9A/8CA0UL6w71Bwn/VgO+FIQgoxsfE7wWEiE+JEAiCSYSLqkvqihmIs4lLy+3MEMmlhySHS4ihx9fF74SWxJsD4QIdgINAIb///ug87fsFey67BPp1eLK3oPeFN/23crcZt263QTb7dbp1qXdmOXz5iXiBN6d30Xm1+yV8KLy7/I+8iH0ZPlZ/rf/e/7w/nQDUwiYCMcFtQTXBUsGWgY8CW8MJQm6AOX6g/oN/QX/rP5f/H339+6M58Xq+/gmAxf9Wu/M6tPwh/fz/MED2gc9BDz8RvonBZsVxhz6FkwRRRfVISIlSCXjKjcwOS0EKLkp+i8GMmYs9ST9ItskMiNHHNEWMBd9FgoOnwRtAjIDuP9i+c70zPHW7T3prebV5gLn1uRH4e/ec96r3TzcWN0r4Y/jiuJi4Azg3OF+5Mnns+t77nruIu1J7hLzT/iC+/X83fz++zv9SgFYBW0H3gYrBEkCKANoBaAGQwX2AVX+B/sE+SH5RfqP+tP3tfBq6RfqzPMu/Yz8qfL26trtOPao+zP+4wBJAgYAXf0RAYMLLhSvFHMRixPeG7gh4yASIYYnTi2kLBsq1ioTLa8sqCnJJ5UoSCjwIiAbXxf+F00W8A/PCUsGHgPM/7D8OPgF8xfwU+/a7Ynq8eZQ5dDlPuUJ4Xjc89xy4fTjxuL44I3f1d3p3U3iEunv7APr/ea25z/ua/QH9sD15faZ+Gn5ffpM/awAngF9/5n9uf66AeYDtwNgATL+Wftx+XH5wvv2/az8oPfF8TzvRPPq+wQBWf2C9jb1CPr4/10EbgdxCc0J4QdJBu0KvRXrHNYaHxfeGR8gnSOLJGkmpymWK+wpzyZ2J1Ur/SqZJAcgMyHAIegcNhYaEoIQIA4rCCwBqf6D/0f8r/Me7Ubsm+xZ6gznWeXN5R3meeIQ3CbaLd+B5Abl1eL64Njfud+04THm1usY7+vsh+ik6VHxtfdA+A/39/eU+U76Dvsy/aIAzgIxAVz+IP9gAjADngHFAAEA3P0A/Hr7pfvm/Bn+ZvvG9MXvjvB49pL91f+u+p30/PRT+Yj8fwB3Bs0I9AQiAZIDDAx0FYsZehc8FiMaHx7sHrIhCyhZK2cpoSdxKJEpwil1KMolfySAJAkhthpTGF0ZEhbqDWMHeQTVAhQBR/2w9l7xqu/Z7ZDqY+md6cTm/uFs35feT9753yrip+HW34Pf+d8N4S7kjueW6Afpu+oj7FfttvDN9Pv1FPU79bf27vgU/Lj+X/8l//L+eP4d/8gBvgMaA6UBMACR/df6r/o2/ez/CgAF/GH1C/H68rX5rf8xACb7pPVY9f/56/4ZApcE/AVUBWEEPAYUDIYT/RepF2EWexjCHMIfyyGgJCAn0yebJ3UndCerJ3Yn6SUTJEAjzSHAHekYIBZ5FEIRTwxUB8UD+AHQ/6D6P/RR8ZnxJvCo6yvojudp5nHikd5T3grh/OKr4cHeGN5k4IviHeMT5CDmZOfD51bpLuxh7nDvXfDe8cnzOPXc9er2Kvmb+wT9Nv3Z/Jv8kPy2/Iv98f5x/+P9D/sp+av5M/yw/tn9g/hJ8w/0SPpHAIEBBv219of1evu6AgwGFAbgBIgDUwTfCAQPnROpFSYV1xMRFrEcFSKyIvYhwCLOI9wk/SbNKGMoYSYRJA4iLyEJITEfZxtpGEYWIRLJDJ4JHwi3BQECQ/00+FD19PRP83ruJup66ePp6eed5Knim+K241nk+eJS4WTi0+Qq5QPkzOTo52zq3+rD6oLrGO0T78/wTvI+9Bn2lPZ/9qr3ufnx+j77//s0/YH92Pyj/G/9QP5z/dH6GPkV+xr/PwBt/AL3M/WA+M/9DQFHAF38vfjo+EL9XwMbCOcI0AW1AtUDRAm1DzUURhVXE54RghOSGFUdkR/UH3gfPR8hIMkiaiVvJREjcCDtHvYefB8BHpIZYRTLENAOBw3NCmAIAQW2/zT6efdL99b2vPS18RPvlu3K60HojOW75s7puOri6FPmoORz5LLlw+d66hTte+00647pl+tt73zx4/F68kLzCvRu9eD2lPdj+Lz51fo3/KL+QQAs/0j9qv29/5AAgf9z/qL+rP9uAHX/svyT+m76Rftr/WABegMCAGf6gvll/gMETwaoBSMEFwOWAzIGrAqtDwQSPRC8DnMSphjxGo4ZzxnxHPEfZCHzIbIhfyCjHogc2RvIHfweMhsGFTYSOhJwEIsMtwlyCMQGpANm/1z7iPnr+Y75sfY+8xbxYu+L7enske2G7RjsU+r46A/pWetN7TPsZuoq6zvtR+6r7jLva+9e783vD/EW89v06PTZ8/fz2PWf9wP4G/gm+bf6fPv0+k760frx+2/8Nvzs+yb8T/3Z/jL/s/3a+2v7Ivwg/Q3/pAEAAsH+DPsc+7X/XAVnB/QEtwEIARAD7gZZDCgRNxG9DLsJYwy2EtoXCBmZF8MWeRdvGDsZQhofG6saVhhMFgIXahghF9YT/xCTDywPXw7/CwkJ7wZHBXsDFgJgAakAov7N+rr2x/R29cH2d/a29P7yVfEO75btju7q8GnyUfH67ajrfeyC7tbvAvF+8Tzwje547k/wevJK8//yW/MA9QT2KPWc9Gj22fgd+hD7fPvM+Sf3hfZq+WT+GgHN/pL6APn++Ub7z/wI/0UAgf42+/T64v5YAoEBTf5D/dD/2gK3A8YDuwRQBawE2AQyB2UKPAxmC3oJFAoMDuwRvxIXEj0S3hE+EFIQVRN3FnQX4hWUEpQQWBGaEkQTahOjETcOjAviCuwL8QwQDF4JOQa/A1sCjAGqAO3//P5S/WP8V/yj+h/3mvRf9Oj0p/S280vyqfAq8OLwEfGj8Inwx++o7RXsAe3s76XybPMH82rz7vOF8h3wYvAM9Jv2IPYF9zf6CPoC9sH0L/gw/P79kPzf+I/4xfye/UD7bf4DBG4Dpf8X/c37Df9wA+X/iPwTBH0K9AWiAWkEogZ0BDQCBATrCU8NvAkdBYYFaAojD1wOdQqPC40PAg3LB0EMUhdjGqwSAQyNDekQohCPD14QRBOqFKYO9wY+Cv8SXBHyB+QD9gXhCMYJeAXf/gL/eQVRBe/7J/jk/PL9Xvs7+7v4hvIE8fP1cvu7+xLzS+lT6zP14vkS9Rvr7ebg7p/46fVt6VvltO/09kHy0O4R8lTzxfHj8234nfjk8mXwHfhS/af5Mvpt/BH7tgAnBPj5P/qGCy8IO+3f6igK7x1CEdX65+4Z8hcH5RyFFRT8BvKq9ooCsxZZG3oBi+uz+hUXpRVC/uD2aQGtCMsM2A7fBFX+2wb/B6wD9QwnEwMJgQC1BFwNtRHnEM4NQwnvA+oEyA0qE58Rbgy0A3T/nwXiDuERmQlK/WT8UQayDYoLzQCW9hv2Zf7BCa0LAPon7AP7LghR+BztEPmN/s/3UvRL79ruJf/EArLoC+E7/IMCLu5r8G78d/FN69H3EPmi8fv2Wfvz9m76XPxI7pvpDP5SC0wAEfqT/ZLzKO6QAQEQIwiM+7HzuvfFCjESZP6o8AoAuRDWCof9H/od/DsC7A/REFH8xPN4AQ8LFwtNCCkB/Pz5ARQIqgrbC3kHt/6J/fgGaRChDlUEFP6qAUAM2A/jA2X9swYFCowG6wloB8f7r/tZBswKSQhgBKkAnv4A/XD+XwVJBv/8tfjOAIYIewE89RL2q/1GAn8EYPyR7/X1uQWkAVH2Nfmm/FT6Af2k/Zb2LfUI/bUBXP58+Tf2ifXu+wUF0gPZ9xbvuPO9AHYH9QHp9/3xm/WXARkIgQDX9xL4B/s8//EEYQMc+iT36wALClQEevnW+gcC4QHOANcFbgZh/oP97QU3Bdr+wgSjCxkEKP+DBQgFNQGaCA0MEAMiAKAGVwaB/ykBiAhFB2cBVgLQBbEEtAIkAm7/Yf1hAsUKdAuyAND1wPYlAZsMJQ7m/3ryo/ayAnMH5wMs/sD7W/1K/zcALgDR/Ov5sf1lApcBFP6e+Uj10Pe3AykLkwEx80/xz/n3AzEIGwBT9FrzlfsfAykFJf969UL0ZvwKAwAD4P2+98b2YfxfAfr/p/0Q/sL5bPUT/qoHAgNM/Q7+4vlv97oCLwxSBV36L/kcAZoJIAnYAI78BQLvCCQG2P4MAW8IvgdqAy8EuQSWAsYEzQhZB2IEXAMSAYUBnQjRCnEBbvxgBF0JQQNs/joA/wBMAI8CfgNLACr+Yv1V/FL+AwGmAKQAPf9Z+d34jgBXAlj9TPwx/Ez79v8uA7b92/jz+qX+z/4y/V7/DAIv/B71/vkpAxwEKP+5+tz5s/sG/fr+lwE/AND8n/sp+mn6vQH5BfL8APVH+/0CKAAM/YMAcf4f9+r7QggOCAf9Dfe3+5EEaAcIA04AtwAhAEEBfgO7BN8HvgXf+1r8zwiOC/YCIgD7BJYGxAHA/8gHOA7ABRX6E/yHBzoNdQWy+7f/MAjEBKr8T/34BEQHYv109fj+wgp2BMT4s/ma/z7/s/t0/XQDnADv9dP27ANICBX+ePXy91r8qvt9/VUFMgah+qXzB/ubAy8DFf8U/MX5I/zKAT0BRf9RAzACLfq0+4QDcv/x9o/9yQqyCI76YfSl+bkCjQyTC375q+2u+IsH5wsOC8D/Ve0d8RQNfxq5BcXpJ+vLB7Ub2hCo9hzrR/imDswWKQi99DrzLgOxDs8JnwJvAQL/Mv48BEgJmAWo/bX5wf2gCIgNeQNw9kT2AwcwFKMDoOtT9KoMlw0SAIr7iPrl+g4CmARg/t372/0L+8v2Kv0cCZoGevXP7eT5LQmUDFICp++X55T72RZAEwr23+fL9fEGagkqAtz5V/ik/koCNgAB/HD3PPv+Bh4GTfeN9jMDOgI8/dMBDPw19O4CyA3S/mf2FACTAL/67/5vBf8IxwMh82rx9QatEUUFMPmv+e0BsQvKDIT+CfAN+a4SbRp9Bl3xv/AWBtgZBQtK8hD/mRAM/1Py7wKPEmET9gRb6p/neAjaGZEL5QRFBJbvaOIX/0Yhrxgf+l/qCeyF/4AVqgrM7kr0vw3DBvDoFuhNCBgdtg0M7krdjusaDRgdoQoQ7hPjRvH3CyIV9wOA8r3tevVpCrYP6va87e0EhQwO/C76Zf9K9j/5SQ3KCy73E/jhCEwCse/e9voKjA3RA4D82fdO92L8EwEPCioWQAg35Dre9gJbKPUlkPbNzMvgdBhFMLcbevN707zhMRRmKx0WpvWm56v4Tw5xCaf7iP7iCrgNFgJJ9477ygDm/H4IJBxxDSzoC9gv8EIk5z3fFarSALuk6UswnENfEqTWGcZW6Won1jk4/r/JpuLDFWIgDwNC45nmrAoaGff+s+xZ9Yb/mAJCAuoArgC5/TX6O/zx/XP8z/+JBkcL7Qr6+yHo7eZE+iwYqynDEuPjnsw+5Hob4zoWFTvdHdx69mcGNhiTFxf4peUD8gEJDx0hGVXuIslF6LQ0+kp4/xauLMHVGyBXOjWl1GCtNPFINC8mc/6t8tXwyfR8BcMR8hMGAOnfNu4MIFgof/sr0aLcXRnLNtUAntZABUsiW+i9xJMFglBOK7TDd6+R/LY3Xyp8+v3aWfBaFGj1d9PiE31MswMUqCrUWD8DOWjdrdDZDPIWUPy0/Vf7t/biCfEA+ul2DIkvMALXxMfXyB6DONsPVuti5W7YI+4yQddMKOb4rHzhiR/pLqUc5O5+zVPxtCVXDtjj2gNxJuv7r9lj944NWAq3DTcEeupu5eQFQCQyCYPmLAULF/nkSd4tGYYd/fdI+3YAEPiiBi0K8vGn5ngDpjE2IQHV4MzHDe0XkwIvHywRhMQ40sQoxjHg/jXub/Se8kQBsxBp/R/35BOxDXjkxOoYEJIJB/k6A+3/Lvw6A+/wRPAXGiEd8fAx5Bv5wP6G+C0Dshm5FirzquKc8gL8ogbtGF0QyvXy54bu9wgFFtoAmvc6CF4F4fVK9CvyugRWLbEZitPzznQNgCYpBbD1/w4KC6vdUN2sFcQsBAwG7+Dt2PnDBxEE8vAZ/M4ifiEW73/OlemQHcYnaAbE9An2MuaZ7iwlTSrI7LzbqwYXGeMAVfNZ//b9xvgxE2UbAuz12O4Bug7bDf8uUAshrfe+6CblSMAdZ/Dt2R3avffjILYiEfnf5JTx/PS9CJAoXQo52+LmDP1YCN4aSAn/2XHZEw2INaEmduYotqXTtBu9QGIvSvlkwgPCeP1eM3Q0mRMh47+37d97Q3FA6OKq0EwFSxYTBeD5R/PR+ZgTsxhJ+P7o/ggIE8vpw++vJ9EdIuj03FD2/BrJI7r8CehP/0oLJwj6ArriQOB9LAdGce8Mvh7rORYoJMIkX/Suu2vmtzPIHWHzdA85EKbTnspkEHxA8R5q393Q0vrtIT0cv+12zOv9rj6WGQ3Y6t25/NsJIQkWCesUd//XyTPY5CaePecRB+FjubXWfD2IU5rzR7KA0qITWzdlLwP+AMLPwisFbDKqI0EA6+e75fT82g5UCCgEgP3q6hH04RNgHgwKedw1yHoId1QsLdC/WbHtB2A8MSrw/IbTX9uQELAkqwgs+mz6ju4F+iwbxxpQ+ITa9uakFIckXBIG/2vk59zZBkMrMBr18NDRsd0GH40/TRQs7b7bWc759ng56TdY+7fRqdwKBNohRRv086/eev0nHjQJY+aX6qUBQRh0HTD3D98e/OUHqvt5CEEMPvUP9YgDSPs7/+8XpAVW3NzwDyTOFgnhPeFlC84WGwUh9Eby5QrLHSsDqtWo1WYQVzukHcPmm9Go4HQLjTStJq/u1s9k3rEJIzBUIZ3uN9RD4lUOUSzIDmLncfO0DOAEcvOO8mL3hwOiICEhmubTxyz+0CcAFKYJIfur0sTlTiGVHYn9swMxDLT3OuUT8EAFgRF5IaQdEOdPxLPqcBRtKB80FP9GvjfiQRR/AhwIpCbUB2fbT+SZ+6cM5SHBFNHjaN6REAAdQu7K3s8DQhqcD0D9F/UZ+g73s/JhDiIkLQDu1ZDlmBR0J1cLceUG4sf6ohRoGj0AA+ps9W79/PnKDbwW7PBy3AECsSQJF5n1guM35cb9vCQ+Jb/uwM9u8+ga9RiUBi/4g/F/+MX9Y/YU/gkbTRlj7Bve5gRpFPn8B/2fDZwDjvjg/Sf3HvcRE6QXrPd074f+RvfV+AQdjx6M733jcv7oAkAA7g57CBj1HwE4B5Lsde4QFZ8fIQX47VnppvIyBQUXihuPA7vZndX8A3Un5SEmB8XlXNit+kIimA+a7BX8xAsK8+rzaRL5BIPtagswG5n0UeQz+L3+8wMcEK0EXfYVBg4KuOhm47AUwy2xA+zW1t+sBlwhjB33/FrfkOc5BZYOuwnND7IInuhl470GLxuyDMn3re3F9aoLdhIAALzvA/nrDnwMSPNn77D9LP6ZB7oeMwwx3h7jTQkKDMUGZxZ7BO/eavFnEoUDZQJfHrkB+Mta4gIazSGwEb8GjvAI3kjzthAkBt382xBsCqXtVvRCBwcDqQHjBdIBc/8/8YrljwcrJkQR1fiF7//o0/YGC4cNgxBiD0vvRtR08vwnoCnP+P3g5vIk/CcDLBRGCFP38QVmAtbm5/C8DpoNDwX6B978Humn69gGnRuJDYbvO+kq+9QMyQ4qAW/4DQErBDz2hvC+/qYRJRcuA6vo8e0TB8AK/QWZCzn+5eUV8EwM1RHqCcEDgPgg8wQAxwca/cn3hQJ8CpAF2v4g+e3zVwADFncNFeue4H77AhWEFFQFz/NG7c/+UhMnCnvzafUGBKMDQgO2CU8AL/Nu/twMKgYy/sP8yfXt+DkKnws6AJoBdgNs+8H7UwDZ/OL/dQnZBhX9yPiz98v9kguZCv/2bO4J+hgEbAK5/fD89APvDj4Hnuqx4k795BG4DTIDRffh7bX6fBKZEXz5KepK9ckKKglo9JnzZAdnEv4Q5AJe6RjoLweTFO0FtwAaA/D+1QNLC5oCl/rb/qYB+/9AAIQFnQnc/evvsP4VFHwKBfrz9/fxgPQ5C2cUtQYO+tX16fn2AskCFPkL97gDcBF4CR/vsufi+qwLcxR+E5X7g+NX7K4IJBWNC3kBJ/5N9yrzYvyxByQLiwplBUn+wfuz+b/52AGVCZ8KfAOy9RXztv6cBA4GxAe6+8TtPffXCKoIpP/s/qQBif4h+4n8+vyT/uEFcgYt/sT8pv3E99v3FgEfBtwBI/oL+eMAMAjJCGYCg/ix9nT/ewTLAW//xf5FAesEUAEU+275A/oG/1wFLgL6+lP77P+qAzgH7gaE/jL1pPmCCL0KlgCs/zUD4f6D/pAEgwNR/dr5fflD/9kHmwfi/5b7Fv0Q//P+agAPBA0E8f+Z/sMBaQIf/ZH5T/6lBD4EoAE7AMD7NfogAkkIzwOu/Rj+5v43/ckAtwXFAi//tP/b+4z2HfvuA94FHANr/4v7Zvp1/AIATwLpASkB6f5n+jT6/v+tBBwFewMuAML7Sfmb++wCHwnUB7ICPf8p/Tz9/QDMBHAElAHJ/qT7rPscAykKBwYI/ED4UPrR/FYBcgfDBm7+2/nv+yT+MQAnAQ8AHAKFAur7JvsoAwIFygElAtf/UPr5+loAJQSoBJcBQv5//Wr93vw+/bgBugcnBDz5lfcV/1ICRAHAAe4A7ftF9yX6vANlCSMG0f6x91P1X/qMAeYFTwbxAnD+e/rn+LX8PAJPA3gABf2f+4v9pgDxAncD0wBw/Zz89PyZ/Wr/jQHBAr4BNP9u/if/cf7A/YT/QAHKAMoAAAMiBX0FQgQgAUL+fQBDBcEFYwSVBFgCm/6r/o4ArABgADQAGP90/nQAjQMQAyj/Of3Z/SD/eAGvAjUCBQJlAK3/OAMXA838dvzSArMDLQBwAGYB4P8cABUBd/6t+3X7rPve/vADQALc+9L53fuG/T38zPi5+S8AHgLq/Gr63Pvk+ij6Xfx7+9f2J/cw/Uz/Ifyo+r37Mv1j/uT8avne+V3/PgO8AR7/hf9tAOP+Ev5h/wb/F/8RAyUFiQEH/uv/agVmCXMKJwrECNAHnghhCQ0KMgoFB/cEwAi7CosHMwePCTMJ0wg/CbcFPQDN/q4BeQbsCCMG2AS9CMAJPgYVBDgCtQDwA5kHBwf7BWwEeQK/A+4BRvoJ+OP71/sr+mn8eP3J+vr5+/u5+9X3XPTr8tvwjvBK9fD4ovdW9c3yH/Cc76Hv4+5V73nw+PCm8kP2sff99JPzfvVC9Ofu3e2i8l71OPXu9rT3T/Ra8fLxMfQD+D/9uwCmA9sIgQvOCVgKGQ0YDuMPnxN7F7McxiLvJc8lviXpJYYiSh75IT4qbyv3KAUqfSYvHlUdLR/gGj0ZJRyDGFMRpA+eDWYJaAsnDIAB3Piy+o34yO8D74Dzdu+A5tfgYdys2fraaNpu1nHX8tvU2GTS39Ro2ZbVYtNr2XXcXdsX3t/eEtuh3Pbg8d5F3orkpucp6ILw8vkC+0H8BQEuAPr92ALgBmoHRQ4VFtkSew3zD4oRvg4RD6kQBg9OEOcW5hoSH7wtXDuxN4swOTSMNG0sSSyxMc0uQSugLBkoiCGRI6chthIRCm0PyQ0RBDoIqBPnETsN8A9TCkj89vnd/zP9dPdj+Cf58fWJ9dT2wfHc6MLjJeG231riTubW67X4CgB27oLUzM6X0s3NadCg4njtqucM36naCt1r5nToU90T2IHgbecs6x72nADjAPD9ffnl7ibpyfFK/b0EIg0GEAAKtwicDFUHP/yA933zSutE7bX+Gg2ZCiz9w++65/PmWuu48y4FWRpdIogegB6GI+wkESPSIo0iux+cHDoeKSl2Nhc38CnSGjsR9AsvCKkKPhdwItAhIR9nIckc6hB1DKAMzAg0BpcGCAd9C2kUdxZcCzD+QfbO7Srple999Fbve+2N8bnuwOlv7H3uJ+jr3EfWddpX4GDhSObS7Ujtu+gV6Ijn5+ZV7NLyJ/SK9w4AJAZxCWcP+hOSEOgJIAbuA5kDAwfXCo0I1/549m/03PAg6Gfgh9wg2mfYttsI5lnsbeZd4eHlM+cK5373ug39Ed0OkxdYID4dDB3eIdsXEQj6CWQObwe8CxwbkRm4D5wU8hemDe4PNyE+I30fNTDhPW81EDOROo8wgSDXH2scdg8ND6oXJxR1Cp4IcAM98Vvke+U+4p/ZStyI4pjeRN2i5MTjxNqn1u7RGclEx6PNINNU2NPicOoC51rjTOXM5LzljO+N+Gb6GQApDMMSQBPIFB4V7BAbCw8HeAXRBWIG1QRrA0oDWv94+F3z8OwO5B3gLeM15zHt4fb2+SP00fCm8VvyU/irB8UU/RThFAsdzB0pFiYVCRLQBG3+r//X+/n+iA/qGIsV/hPeF1Qa+xnQHO8jpSnGLoc1jzhmN1E3RDXCKygf4BUkELQMLQxUDsoNjwfmAv7/CPVD5yfi4OAE3rTepOKC46Ljfeia6sLgPdXd0lTP9scay1TV2dkA3dfiIecr6ozttPD08v/zePan/HEE6AvMElIXIxiFFvgS3gzLBXkAdf0c/Mf9qQHuAqUB7QBz/dP0Yu0m64rpOugU7BvxxfIM9TT3YfaB9gb4qfmX/+oGVghpCuYR1xITDAwK7Am1BI8Afv9S/Qn+nwU/DoYSFBSWFX8Yrx3hInYl+CmhNL48yjvPOSI50DO/LBEnVh9UF8cSRg7sB7ME6wPl/SD03u3P6NThDt6s3mffs+Bp44XkIuOb4N7dC9vw1hbSQNCD0xvZHt71477qvu077ObrDe+O8xT5v/6vAncHnA72E4sWShhpFlEQTgsjB2YA9vuY/e//KgBcADT/g/uw+F32Zu+/5tLjTePK33jf3+Yb7A7p2+g08N70kPgCA6QJzgdXDPoTiA6VBsEIBwhCAHP+mAJMBYUIxg3vEVMVoBmzHoIkJCqHL181pTo7QB9FyEOuPiw87DcjLiUlcR8tGecTPRIbEFUK1gM6/z35qu9h6J/lLuLS35jhBOHT3FDcBd2h2HfVONbQ0R7MFtBf1eTSM9NJ297fg+Ah53XvoPJt9oD89f8CA+gHMwsqDfwPuBF3EaQPBwxwCfEIWAfnBFEDeQHh/7f/f/8k/ij8pPhK88Tv++6a67TlruOl4qfcEtrM4FTnB+66/WoMdhAuFD0YUBE6Br4BHf209W30jvgJ+6X+cAfeDpoPbRBrFucb0B+yKIE0Wj0+RldP31FATw9M+0M3NXgmqBq/EKIKKQhaBowEbQJA/w/7SPXI7tHpH+Zf46Xi2uGp37/f8uCV3S/YjNRAzxXKscsj0LLQ9tLw2ongauIN6OHujfG49Pj5EfyO/c0DUAt8EcUXXBsjG94auRquF0gSPw4ADJQJjAiDCbIJ3wlDC0QJkwJ7/JT1t+oo4zLhCN7l2nXbsdtI2ePXa9nz3CHlf/Ij/WYC/gdAC04GxADLAPb9+vd6+Ef8TP6SA98MdRU4HCAjpynqLBUwmjeOPudBWEcWTv5OrUuxRho8dC74IUsVGAzjCGoHwgYwBjUDA/+b+sb1VfFY7QjqjOcX4zzcxddM1QTRYM2sylnGS8Maw63EUsi8zU7VL90I4l7mwut37sPvDPQF+Vv81QHHCd0Q9BZnG2QdZh0DG4wX1RPnD6IOGRDgEUUTtRIsENoMiAYN/erzmurR4D/cldze2+vcVeEe4rDdldfd0hDUFd0O63v4HgJ5CrcQHA8ICOMB6/pq8+7yPPgC/v8H7hXrIGIoFS7pMas1HDtrQJxCv0QuTOhULFhRV/ZS9UbJNf8keRQFCKgElgRSA/YDGgUpA1T/xPo29DXswuVd4VbdAtof2OzWV9Uq0kfNJslLxx/G4sUDyJPKkM0e1C/dIuXk6sHvx/Qq+HT5+Pur/4EC8gaxDGIPuxGWF5gbKhpnF+oUxRAbDNoJ4whaBtMErQbKBzkGfQLn+RTv5eeM4TraedeC2EXY9dcq2NXXVdtp5dvxRPuqAJ8G3wwcDMQG8QNA/9H30fb8+nj9tAOtEfodySMFKssykDjpPE1FS0upSdJLrlUfWshWsFLBSTc5ailLHN8NhQNtAawADv7J/RH/G/6n/LH6CPM+6S/l1uKY3XTY/dKjzMXIQsZiwtW/tcC8wlTEC8bVyWfR7tm54FTnne0K8xD5zv6YArgEnQZvCeELIQ14Dw4T/RTOFUIXsxZmE2kQHA74C2QKmwm0CQAJWgcRBjwCl/vB9qfxKehm34na7dRE0XvToNEVyP/DN8oi1Y7lZ/mxBqEPlxyvIu8WbQdW/+j2n+9K8237hQFzD/8jxy43Mrc7JERDQ2hE40ikRFlA70gJUpFS7VIIUDxB3C99JL0X9Afk/g79h/r8+Cv++QT4BxYKOgg5/bHx3eoV4IfS/8ozxbq9v7oTuwC7Gr9kx3bM4c2f0GLT5NPQ1pfddeMF6oz1VQF3CAMOBBPCE0gRyg8BEBcRlhLkE9ASgw4qDIQN6wz/CoQMyQ7SDicOGQvfBP7/sfvL81zqBuIg277Wh9NhzkTIMca3ymzUAOPv848AIgn3EkEZihSjCksCb/gZ74rsvO388G/7PAsVGcEj8y70OqxDjUj1S61LokfIR25N+U5BS9FIl0T4OmUxFinOHZgRFgnRAuP8t/rF/Q8BHwFUAGv+kfd87nPmQtsjzbPCdLthtMWxT7UHumq/rsfoz9PV1Nvx4Sfl0eZF6r7udPNE+rsBTAZlCooQ3hMxE7sTUhX+FPUTkBKrD9sNhw8nEncTohR+FSMUPBGLDXAHFwAe+2n3YfEi6qnjBt391s3RWsujxJi/jL2NwdTMnN2z8F0BuA18FyMbDRTBCOT+jPNM627sKPGz9kIDpBRJIpwtSjoGQ2VGKEqVS7VFxUFBR0dMe0tTTMdMMUZRPjI3sCleGacO8AZx/qX4bPfP93T5Mf2t/vH6gPbS89btAuON10fL5L5YuE+3W7dUuV++O8W7zavVrtnx22vfveJs5RLoFutr8Mj3J/5SAxkINAu9DVoRkxOUEzwUJBa+F70YJBm/GOcYexnEFi8QagpAB4kDu/6y+uH1tu936rHkpNys1crR9M2EyOnERcfazzrdUu09+iQC+gvRFRAUpgmMAWD5ePC77lnviO0+9a0HuhbcIdIvSDx2RapP9VOQTJVFREerSelHKEZ1RLZAJD5uOtIuYCA5F2AQCQjHANj7OPkd+3r/8/8J/J34y/Zq8oXo8trUzPjAprlStYqyMbQtumfBk8mA0PvTCdiC3V7fTd/S4fXkTOnO8Mb25vrTARkJnA16EccUVhbhF5kZZhnZFwgX8Be2GQAaOxiXFeISFRDfC8UFf/8u+hX1ke5A5qTeQtk21EvPA8z6yQHLmdF72wLnvPPT/o4IuBAUESwKWgPF+/jyJ+9Z7kHtRvNSAUAOzRmOJzsz4TuuRcdMykv0SHVKq0uySptLQ0tdRsJCaUAZNywpGx8jF1gOCwi3A+z+Ff0HAHIBUv3c+NL29/JK7G7kwNnXzSbGqsGEvAe5ArnHuni/e8aPy7jPMNZC3HXfPuJE5SfnzemV7tDy0/XS+Zf+TQPJCGMO7RGcE9gUdBRwEnURChFND3gNeAxwC1oKpAiNBEX/nvvQ+Oz0W+/w573g/toL1UfQyM/C0rfYzOPQ8W/9vAfQEqcYKBYZEaUKx/+y9c/xx+8179n1FAAzCbcV3yQzMAU5OEIlSOpIIUjqRixEZ0J4QmJAaDscN3Uymym0H6kYhRGACXAD1/6y+7T77vzW+8D4v/bX9UbzAO5v5qzdpNXMztrHisHlvT68n7yxwAjGuspb0SLZwd4J44rnFutb7XfwpvTp9+f6Yf8VBB4I6gx7EaATpRQwFWYTIxHuEGkQPQ5MDKAKDwjIBYoE+gF3/kv9C/zH9svwTewo5lnfT9oT1frQiNFL1L/YtuN/86QBeA08FzwbxhksF6ERvAY7/hP8o/j79E75ZQFGCS8X8ie1Mjo8L0jZTcxLW0qiSYBFqUHDPw46RDJzLxcsKCKVGl4Xig8jB9kDWP7Z9iD1W/T47j/r4Orj5zvjouCf3KDUw80yykzFVsC+v+C/CsBLxfDLJtDk1gbfMuNm5i/rK+6v79LyLfaA+Az8hQEhBrQIogyoEdUTKBXcFmcV/hKzEjoRfg5SDXELqAeIBFsB+vxZ+RH2kPE87fPpneYX44ngFN/T3SHe1+Cd5LXrr/ZNAF0I6hDkFK0SFRAFDNMDr/7q/bb6jvhB/RAE+goKF4slAjC4OZ1ELkmgRwdIe0jmRPFBxz9EORwyRC7JJyoegxguFR8P4whyBDj/zfnj9qzzpu3v6CTnw+RV4ZveQdtH1h7SGs9bywnIysbYxpfHhMlszNPPW9Q52snfe+R06SPuu/E39SD5Rv0FAlsHvQvZDiESSxVBFwoYChiZF5UW8xT1EukQMg+BDTgLugcvAxX/W/v29kXziPF+75zr8eeE5K3fD9zf2/Dc1eAH6xn3NwD9CCURLRMOEf4Pqgw0Bt8CqwHv/ST8cwAPBmEMNRjYJEMsvzKmOb07QTv7PZ1AsT8rP5s+zzmnM/kuWCjKH5gZ8xTuDkUJcAUvAUz8X/hH9HTvsOuD6Tznz+Mb4EDcQdgP1VjSNc/FyyTJ38eHx7PIIcz/0C3WBNsf33Hi0OUD6iLulPEU9Yv40PvR/6EEZwnNDXQRThMGExYSchG+ECsQ0Q8eD5QNmAstCT4FwAAV/Qr5mvT98fjwLu/W7Njq7Od55CHj3uOe5TnqHvLg+UYAGwf2DAMPEA/hDn0M5ggtBzcGvgRHBRYJ9g2xE30bFSN2KAotsjHCNEA2uTgnO9Q6EDnoNq0yVi1XKSAlDx9dGaIUHw8XCu4GqwNb/x37hPap8FfrNOgE5u3jMeLX33fcZNnj1jDU/9ED0XLQitD50WLUINgl3c7hauWn6FDrQe2g71rym/QA9wj6Of1tAEYEnAgfDFkOoQ/GD+kOOw4FDm8Nwwx0DKAL0wlkB2EE7gBN/a75qfZD9LPx4u457JrpN+f45VDm/edt60jxSPhY/i8D0Aa2Bz8G3gSGA+8BPgJQBOMFeQdgCvYNQBLuF8odaSK4Ja4njCgDKbopNSukLOIs7CvwKTwnVyRjIQseOho1FhMSCQ4kCl0GCQOf/7z7Ivj79JzymfH58MjvYO6W7OzpOue65LPhAd8t3avbUNun3Nbeh+FZ5F7mpOfl6ETq++su7j3wK/Jn9Nz2mPlK/IL+cgDtAZAC/wLGA34ENwUbBmwGHgbHBRMFowOiATX/cvxb+Wf2kvTA8+/yTPIy8uvxtvFs8n/zxvRC96D6dP1z//YAuQGCAewA3gDCAaMDVwY0CZYL1Q23EFsUfRjJHHwg9yIcJCckAyRnJOUkUyXVJWwljiOcISIgRB4/HEsagRczFFkRgA5ECxAIyQQTAVH9Cvqd90j2W/Xr8wny/+/C7bjrMuqU6Irmm+Tm4jThG+Aj4LHgSOE54nrjveRq5p3oceqp693sCe5g75DxGfQW9pb3k/js+E35Q/qg+yz9mf6a/1gA/QCOARUCAQLfAB//9fyl+kH5+/jS+Ib4dPh7+JT42Pgn+an5mvrq+4T9N//VAFkCGAO0AkkC8QIMBdQIdg10EWMUmhawGJwbgx9DI/MlISdVJjkkdSLyIbgibiS6JR4lFiMgIXAf2R13HIMaTxdcEwsPawoeBmQCjP5U+kj2/PLp8CjwzO/I7gTtqOr15+rlAeVG5BrjuuEA4BPe+NwN3ePdUN8S4ZziFeQo5rXoB+vK7AjuI+/k8JTzwfbu+XP8tP0X/or+g/8jAUIDFQXLBWwFyQR2BI0E/wQGBcMDsgG3//v90vxl/P37O/tm+pT5Bvk0+fL5kvqu+pD62vrf+5P9af+PAOYA7wBOAdoC/gX5CcQNlRAWEhMTtRRXF7Qa5x2gH3sfLR7jHMwcMB4uIM8hZyJ+IXQfWB3HG5AaJhnYFhMTCg7NCFEEvAD7/ej79PnO99/1TvS/8hrxcu/M7VnsRet16sHp4eif5w/mauRD41jjf+Th5RTn+eeW6FnplOob7M3tle8T8Q7y+/KU9B/3Ofoc/Rz/NQAJAUsCCwSeBXQGcgZwBZ4D2wG4AEYApABAAe0Abf+I/Q38ZPtn+3n7GPs/+kz5evjL9233aPdv94b3Evh8+fL7AP+8AXsDDQTmA/sDxgQ4BlAImQpRDHINnw6DEH4TVRcfG9AdER99HwcgNyEAI8okyyWXJTMk0CHWHscb4xgRFvISIA/JCsgGuAN8AdX/VP5K/OD56vdo9uL0ZPP+8Xfwu+7B7KXq2uis5wDnfubF5fXkpuTi5C7lheU+5m/nDukR6w3tue5v8FTyEPS39bj3J/ql/Lj+8f9JAFYAvQCBAUIC1AIfA+0CbwIvAnACPQOCBKkF8AU4BdMDEQJLAO7+1v14/Mn6OPn39xD3xvYu9wb4CPke+k/71vy6/nUAkAEkAm8CjgLQApYD1QRbBiMICwrqCxEO6hA8FIIXUBpHHF0dNR5XH5ogtSFjIiAiryB7HhYc3Bn5F1kWzxQTE6cQiA2GCh8IFwYdBO8BT/9l/Iv5z/YT9FPxuO5r7F3qfegI5xzmiOUZ5ajkO+RE5A/lMeYk5+nn0ejq6QDrJeyv7Zzvl/FU86v0vvX09nL42/nH+kv74vva/Bf+c//xAG4ClgNiBDAFOAZxB6wIbQlACTkIrgYCBccDaQPOA3kE2QS8BIoEiASIBGYEGQRlAzsC5gCO/zv+Yv1c/bH91f0C/pj+Yf8wAC4BPgIsAzQEfgXbBjsItQkWCygMEg0oDngP1xAzEmoTThTdFCgVQhVrFb4V9xXTFT8VNRTREl4R+Q9zDrgMvAo7CFgFlwIBAFX9s/o++MT1O/PI8Jju2+yr6/HqYOqz6Qrpnuho6FXoT+g86E/otugc6UTpfOkC6sTqwOv17E7u3u+g8V/zDPXG9ob4KPqm+zr96P5mAKABzQITBIsFMQfHCBAKBQvlC+UMzw14Dg4PcQ9ED4cOdQ1ADCwLTwqDCbQI9AcxB0UGSAWJBDkEMAT/A2oDpgL2AY8BqQEtAssCYwPcAysEegT0BJIFOAbwBtkH6ggOCj0LVgw8DfoNaw4+DpANygz7C+MKcAnAB+MFDQSAAlMBWQAz/6r91vvr+TP4zfaA9T30P/OE8s7xAvFH8O3v8+8E8Prvse8a76LugO5r7mzu0u6Q713wFvHR8cLyDPSQ9Sj30viG+jT86v2a/yYBqAI/BNkFXQebCIUJXQpECzIMRA1oDmAPJBCkEKsQQhCYD8oO+Q0tDRgMmAoFCYUH8AVeBOECXQH5/9P+if33+6H6yPkH+SH4M/c+9lH1pfQU9HPz9fLL8uzyP/PA85X0yPUs96D4/vk4+6j8a/4PAHoB7gJ6BBgGxQdnCfIKfwwLDm4PdxAaEXkRvRHnEdkRkREzEc4QYBDeDzEPWg6FDc0MAAzSClUJ7gerBkgFtQMNAkwAX/5x/Jv6rfjI9kT1DPTb8sDx6fAn8GXv+O7Z7sHuwe7w7jPvde/g75bwhPGM8qzz2vQG9kD3pfj6+UD7t/wm/m3/nQCyAdMC4wPBBJsFRQa4BkEHuAf7B1YIvAjlCAMJIgn4CJwIMQiyByoHagakBRUFXgSPA+0CSwK0AUYB6wCOADAA3/+Y/2P/Sv9G/0r/UP+D/8X/0//o/xQAVQCrALkAnACYAGYAHQD+/8v/ff9O/x3/0P6o/pn+ff5r/lL+Mv4I/pz9Gf2k/Pr7PPuh+ib6tvlC+QL57/jO+Ob4UfmL+YP5zPlE+mT6d/rB+vL6FftX+5j73ftq/DD96P27/tD/3gDfASYDmATIBbUGrQePCDMJ3wlvCp4K3wo/CyYLygqoClsKyQlVCcUI/QdkB9QGBwZEBaUEAgRgA4gClgH8AFYAbf/F/hn+G/1X/ML79PpT+uj5Rfnm+P/44fjy+H350fku+t/6dPvg+0z8y/xo/dT9xv3Z/Wz+qf6g/hX/mP/c/0oAygAoAZYBFwKLAt0C5ALZAuoCrAIyAukBcAGeABEAqv/9/pb+bf4B/rn90/3J/ZP9vv0V/iX+GP4I/iv+ef6P/qn+3v7X/uP+a//h/9D/8f9DAPj/xf9CAHQAWwDWAFcBUAGVATsCSwITAoEC6AJ1AhkCQAKyAeAAGQESAUAAJgAoAD3/pv7v/uz+W/4i/kf+Uv5O/kH+M/4x/kH+Qv7i/ZD92v09/kD+Jv5t/jT/2f/C/9b/2QBiATQBlwHBAXIB5wFmAvsBqQEYAn4CKwIOAvMCKgNmAugCxgNHA1wD4wPDAhgCtgLlAdcA6gB6ACAA7/9G/2j/VP+X/vH+8f7s/XX+L//j/az9sv4g/u/9If54/ZP+B/+f/WL/hAAc/in/CQGg/rz+ZwH4/yn/4gHxAV4BLAP4ArEClAOUAksDhQQtAhQCfgSRAlEAhwKMAtv/MgFjArX/Y/9pAegAkv9cAB0Bpf/R/qz/OP9J/l3+nP1P/Gz8ff1I/Qb87fza/uj9+/x8/1YAL/4m/9cAz/+3AC8BRP8hADcAcf50ABIBsP7BADkCyP78/9UDugAx/qMBNAKa/9n/KgFjADP+if5VANH9MfxL/yz+5PoU/hYALvyg/PP/1f3z/KH+wv2i/pn/hv6u/+P/kv4CABgB9P/gAE4ClADoAFUDwQJXAmcCcgJeBBMESgO6BD0DbwL1BfgE2wDNA9UFowAeAQQFUQGA/0sC9gBh/1cAVACL/3X+kP4B/wX96/zN/7P+Ffwl/iX+L/x3/u78vfqk/vf8yfrD/6H+CPul/un/hP2j/nH/L/+IAG//EQDHAv/+cf8RBTMAY/6qBRoCVP2pBBoFIP7/AfYF2gABAV0EqwJuAXcBAgP4Apj+qQE2BXf9wf1lBGv+wfurAun/xvrI/wkBNv0U/3n/p/16/5L/Dv7y/Kj9TgC8/cD84gDN/SH85gGJ/6D7oAHdAc37CgFSBWf9Uf6kBmcBLvvQAsAFhfzg/ZIGC//O+dkFmwR6+JgA9gdE+zX7tQeIALT4HANYA5P6+v83Azb8Lv33AJD9ufzg/6T+JPy8/sAAGf6t/sABKf9y/acB0wFZ/V3/oAMBAJD9vgHqAV3+vP8CAsT+Fv5uArr/K/yKAS4BCvux/iACyvwQ/aMBeP7i/MkAK/+z/RwA7/2A/WcAAv7E/WwBTv7A+wYB2wGX/Y3+vgB8ACgApP+4AQ4D9f+UAGwDngHWADUC6wEmA3QDyQBvBNcGy/49AZIKFAJX/JkHEgdn/EICdQknAUf+qQSOBHL/mv3/AcMC4/tI/nIDb/tS+0UFlP0C9vkCeAKB9Kj8zwMn+cz6iQA1+9771/4C+5n7o/8C/RL7zv4Q/9P8zP0r/5z+Qv6w/4L/0f2J/5sBIv8p/k8CRgIL/RD+JgSDAtf8cACfAyz/xACdAjD/FQQQBaH60/8fCzH+4vf7CDEFwfddAtMF0/1bAbwBdP6AAUoBPgEQA7v97/9PCCP+4voXCqYCb/erA70Eqf3RAq4Bc/61A4QCJgBQBDsBv/1WAxYCBv5aAgwBMf4uA0QBH/1XAa0Be/0O/Jz9nAICAL/20v2GB+v6afZCBK//jPevADX99vZbA8kBwvPx/MkHk/z798UA0QHA/dz8U/+4/1T8tgC9ArX4/PzZCev+VvT6BGUKz/fh+hoLAgLJ+SoFqQYM/C/+uAcoAvb55AIrCOT86vpdB3sG5Pqe/3UIPAAr+5gDewRw/ab/zAQS/0D+Mgbs/yr8dQVwALH7HgT2ALH8eQSR/7/5rAiLA6rzJgeJCY/yVADKCqT3Zf2WC3791vcWCFoIsPgg+d4JSgmb8mP4wRA9/iDwgwsBBkjvhgZYDSLv/fr9Ejv6nPDUCOQDpfarAmYDaPghAMMEcPkZ+8YDDQEq/FD5dwBJCAH7+PePCLn/HvN6BXoFL/JaAcIJx/PM+u4JnP7Q+xv+MP4ABnL8K/QlCZcGFO/aAakNE/NY/bIOMvWM9fsL+gGp9z0AuAOm/6L+QgPaAxX8Wf7PCJz98PbFC10Ei/J2CasKAvInA5cQPPb+9kEQwgKM8H4E8Qu9+Wv81Qq0Av/27wJSCjv8fvzoB6L/1fhDBuIJUPvr+ksFZAPRAEf/bfxaBDkELvii/3AKG/7B+f4Dxf73+/0EmgAz/eH/IvtnAr8GNPd2/eAJRvbg9rwNmP5R8mcEOwEt+zkE+Pzi/HUFLfhF+UwKwPwT9LUGQwIO91oDqwVt/qb56PkCDBwFEOquAg8W7fA/9L8XsPyf60ASMwhX6yYIpgvn7hD/xwxM+4ABvgi69Cf9FRT7++Xtbg7KDdTupv2mFvb70+1vESIMAOkuBEIZZ+4T7ZUbgQqg58EI8xSj7n76MBVk+uPwCgyxBwryiwDYD/L3pPFpDz4I0+yCBGQRG+pd9MEcz/r95kETIwk16SkENQkW9CcDbQNs9LQGAgM/7WkGtg/x8D36wwns86v6mg/T+8jydQc+AtjzCASLCaH31fx9BXP4FwHzDajy/u4XFkEKoeVUBK0YUu0s7wgXhQQe7aAEEQvB96v7vgaX/6j9dwO2/1/+AwND/z788wLZACH5wwZRC/jvTPZ3GJ4FjOf8AMgVDv1t8sgHlQrG+QD7Dwe3BYf/LgO2Afn2VACqEMAF2PjAAKAGlgDd/ZkDMAkFBAr2YflkDFgHCPiqAjYMrv1N8kkACQ+t/+XxSwFkCjH+Y/cL/4IG4QRM/I30nvp8BwYDUPWF+yQL5gDS8YkDlAuW9Zf4dAds98T1ng+VAZXquQtnEVLmAfs2IfL3ytu6CLsZbPEE7lUSSQj07FcEXhCW7Tn1kBf/95PmKBN4CgDqtQlaErHrxvXiEcb+BvSNAf39+QCeB4n8kP/CBRQBPgI6+Tb4UQttAmnyDQZLCr33LwSqC8z4sPx6AxT+zwI//C38pApk/CL5GBP+AknpSQhCEJXqyfyMFSbxJ/R1Fw8ClO3+A5kNs/sv83wDKgs99w71Rg5qBDLxbQ+PDGnhrf0FIer3G+VaCyMP7/FG/bsPKfnt9VgQtAbD7I39oBTr+S3qGgxSD4T0XPnZBOEEFgWx+eD13wj5BVP0UANIBhvynAMTEMn3Y/grCW0CDvUi+roL8AYz8+n8Rw5i/Brzrw6qCGbpW/xCD7P7Kf5/CYj7XvkXBy4Gzf02+zD/EAiH/srv6gQeEU/5Y/yHDkX8/fDNC/sQKfCT858VgwOr5rYFqRjt98HzLwti/VL1Ew0uAobvDQrwDoXyQfphCRn8Jv8hBezxYfy8Fgf7M+bwDM0VY/GQ+fISOvbh58cRsBJs53P0phcXBSvzVQdmBZ/tYAIvGvDu3d4CHiIdEdh58YUsFv4g3AcQXw0a5PQFoxYG46XsHSYfCvTWGwJ2JOzrDt+dGh4Rm97j+HoX0/eA9SERQQEi80UBUALz/5T+R/jnA7oMmf1N/oQKVfn/9cwT9wUA5SMCYBh+80jxeRgdCubv8QvgCjrmlfy+GN/7p+87AzAFSgVBBmPzSPluF2QD/uO9AEsTTPRS9uIVMAAC6DUT6xo735LqsCE1AeTgBxQsFjzbT/idLwb/eddFDQIgDurD4rUQ8BBi9LUAkA7C+NzztgpqB2nyuvqmChcCxfaR+CwF1xBQAbjt0wEVEZDxSuosEcQKzue0AZsZb/M67F8SiwW25gcE5BVp7nnq3RPUDwPvbvsUFV0Bveo7/nkOc/9T9zUEjgj7/LX+2gxqA8zxpQDeDwT5P+zIBpQQHv2E+1MHOAOw+Zz95AZjAKT0T/4PCWz++fozB8gFdfub/NQAwwA9+5n3lgWsCEv0Tf5eEnX5FvF6EekIsuiD+7kSOv0g8ocFHgvn/Yv6ZwUjBQ33L/u2B8v8Q/beCUgNSvaM9iQLzgU/9t/8/wQf/cv4jgAnBCYA1f6pAHoCGwBc+i7+mAOF+0z7dAmqBa/3KAFfCdX3PvfaDnQDn+iOAM0VavRS8BkYmQkd6KQFlhIM7W/3fhep+UrnqhGVGMLruO/3FpkFiuiJA3IP6vA6+8kVsPgk8YYbxggr3WgAXRk18gbwvw7aAwT1bgYWCv343fm7A3D/lPu1ASYDwPoX+7QIpghU+Lv28wo/CrroF/IDHvEFwd4MBAMedPjl8LcPiQWl75kCTQ5l+g3wRgSYEnz50fF7EAkLYPH1/JEHbf4EAN7/LPkFAtMDUfwJBpn+mfTsEC8Hl94cAcohl+vT4EUjBhZF1N/4XiuR9PHcphyTFQzWFfhtK/fzydmeHqAcQ9ka8GEkLwKh45UMDBEk5jz+ah/78SvmqRqIDyjkbQE8F6z01vm0EUH8MPdBC2cEW/W7+60KGwJq7wMCKBZk96rpOg/MCQnqoQfyElPp+/NxE8T9pvN6CS4Eh/bKAasCHvg3/hcE3wL/AVj6jvbwAxUQWgIg70f7zA0xAezzrAHbCHD9mQC/B6P6CPhpB64E9fmRA9sG6Pij/esH5v7K/7QFovqN/iYLm/hH77ANMBHf71f0bg5hAnL0XAQ+BRj0zf5BDk35J+0XCeMTo/aZ7LMKxhM/9ZTunQlJCiX1l/5/C3T2tPb/Ej8DouhoBJ4XUPYF6osJwwxp8gT8mRM2AHvslwcaE7fyXvLDD3kFyfGBA9cOtvm7898Ktwtl8lH2YQ/iA0LsgACiEon8FvdgBKL9v/7jBwT7OPdYBQID7P4hA6D6Rv08Db3+8+90BIQJmfWC+WwKbATp+Lz/4gWa++74YwghBnjxSPxpD7P5WfXEFSMGQOTyAikaqPWs7jsPuQdJ84UDnweo9AkA8RGr+iDsfAmjDzLwI/VZEs8C/uxqBZoQmfNa85QNHgaG9fEAvAaT+OD7dQ2DAuLu8AEVFPT1muj0EEkWi+xd9G0XNAFt55YELxJ+9SX0bwvGBUf2Cf1rB4oCPPz6AQ4C1PUC+90N/QV/8/T/QA5P+/nuRQRNDdb2ZPPKDB4KYPEU/FwOKf129+gKZwGv8UQGSgtc8gT6vRLjBb/yH/4pCIf7HvZKBiYMifwl+A0DzQGa+0IBlANv/ST+vACj+x39NQdEBAj5zv4OCscAKfTw++oGwwTw/yP+xv4fA3cC6Pmz+VoFdwdo+7n4QwT7BND5d/7CCe8AAviG/pH/L/28Ad4BcQBDA3kAKv5AAi/+V/n8Ab8E/vxH/i0CUP64/SQDzQPj/eL7RgDv/oH5awAWCSsAe/p1BIADMPp7/jsDm/6k/fkAsQBw/tX+VAIUBKoAqP5o/wL8pvvvAfoB6f4KAvABeP0XAOsDc/9P/QgCZQH//EL/XwPwAPr8QwBoBRICnvss/SUBQf5A/oMEBQGf+QUAMwVf/SD86wIPAMX7oAAUAoH+e/+vAeQAtP8ZAP8Aqf+m/Yj/+QKHAqn/rP4OAaQCNv4Z/DECQAJF/O//4QNB/ir/sAYQAiX64//FBFz9ifpZA1MG6v5l/ugD/ACs/p4D5gCI+oz/EQP8+6X8nAWMAwT8Vv6LA24AhPuc/hUBvfxw/pcEXACB+1UCFQVz/Ub9VgOnAAb8ev/IApX//f0MAlUCT/40/2YAiP31/s0Bcv4v/mICv/8X/pUCnP9/+8wBxQLZ+hr9BQVbAT78RgKwBEn8dPv3A50BQ/lC/54Gwf4+++wDMQNm+5n+0ALI/bD8OAEbAF3+mwGpAUb/zQCrANz9A/+0/wj+4gCZAqb/QAElAg/9dv/vBKT+/Pr5AXoBMvxQADYE/ADH/8wAJv+a/nIA2f+O/oIBuQNJAN3+6wH0/z39RQKGAjb8Vf9sBEIARP/9AlIBMQCdAb3+RP7DAe7/A/9kA4ECG/+BAcECs/7f/AAAgQF9/mv9fAHFAt7+i/9OAycAAv0AAFH/GPwP/xwBJP6G/98C//+k/rsBuP+w/NX/pABZ/Gb8+wA9AjP/E/2f/xQC3v3c+oD/JAC3+33+QgIw/hj84/+CALr8vfvD/6YBPv1A/NcBYQHW/Ir/1gBy/BP+4ADc/Kn9hwN2Ad39owHZAkz+Bv54AboAKf7O/yMCrwCNAPcCwQH4/7IBiAFxAFACuQF6//UBuAMxAcwBKwSjAY//HAKBAlL/YP+VAs8C+gDQATEDIgJ4ATQC3QFaAS4C0AKcAvwBhwGQAvwCvQB3AFoD9wIAAAMBHwNPAb4ApwOrAtH+QQBhAhP/cP77AZMAff1H/44Ajf6I/T7+jP78/XT9Q/0f/Xr9qv1J/Kz7Kv3c++b4Nfur/e/6qfo1/Sf8ePst/Xj8z/uF/XH91fwS/sX9hvzJ/Gv9Mf6Q/Qn8wf1d/2v9Hv2R/ub9y/27/vH9Nf4CAHH/9f6SADkAI//4/zT/Kv2z/Q//Ef9w/zAAsv8c/wAAeACE/5MArwPYA68CRgXoB/IHowkqC80JHwqeC70K+QoGDWUNUA5uED0PVw2dD/QQ0w0dDIkNjA0nDHQMSA2nCwIK+QrUCKsC3QH1A3//z/va/pD+wvov+4n5xPOU8970D/B77YHvSe5w7GftlezV6+btLO2e6hjsje1p7DnuBvJG80j0r/ZA9+71kvZd+Mf3hPeF+kz82/pu+1v+u/5J/jkAQgHAALcAW/9z/nsA6f+2/N7+yAHB/db7MQApAAr9FP/n/+P7u/uR/tj9nP99B7oMRw0IDxwRchABED4SnBRCFikZhxt6G/McwyHYJMojSCL1IS8g+xsHGjIePyGUHVMc+h1iFvUKZQgdB8T+GPlY+nv3IfBI7rrsH+Q03x7h/9vi08jWZdpw11/ZydwB2xPcWt6p3LPdrOJF58frGO8q8oX4af3F/QL/PwGFBKIIVwacBckP2hR0EOoQChP+EK4QChFyELwUBxsvGZgP6whuCm4Jpf/c/ccGHgYV/nb6VPfM9qX4CvM37KXt2+7D6b3mFewi9K311PAR7eHp6OXI5vLmjuTP7MH1BPBn7ETy3PKD8CHzzvO+8fj1dfzn+3D7hgNJCw0JkQYXD3kYlxmjGXAcHSAUIZgdLh36IEQjkiWGJrYlmSqOMf4vRCuZK+MqFCfXJBwjzyXbLOYrkyTWH/cZlBAVCNQCOv54+Xr47PY47lfnZOnA6AngkNpY2UfWFNZx103Wxtmy4DLigd1K2AbbwOId4/Xg7OdF8QD0NPQN9V/2gvoH/v/8M/wq/wcFiQniBzUGEgp2DPwJfAbzBN0HkQtKCZ4EpgTGBhkGbgNHAC//XADT/Yn4wPb+92L6mfss+Vf2Ova+9rP0ePE98pH27vcI9YjzDfUz9k73gvia+F76lPzj+jr45PhU+1T8g/zQ/ef9ivxr/S/+i/u5+hL+Af4S+hD67fti+w78y/8QBXQK4g8UFakV4BJMFYIZmxaMFfgd1iJQIGkh3yTlJaAnCynNJk8kLiZOKMgk5iKaKmgwqSqsJGgjFR4mF2wTag4aCvAIxQXK//b3AvGj8HLvbeUr34ziRuHL2sXa4dwK3R7hJ+OH3J3YUt+J5NfhaOV28D/z8PDf8kfyxvCy9/v9Yfv5+sgAaQPQAVoBTAPSBXgFJAIB/5n+1ANWCi0KzAbRBK0CBP/m9zzzEvkZ/3P6W/Un9+j3bfYG9APukOw68BrtgOjQ657yKPgV+fv0qfEA8d7vsu0o7iz1ff5yAOP81/zE/E/5oPnM+nX5z/z3/1v9Gf0AAIoBGgIHAcn93/ps+xAAbAhFEhAXzxTHEacQqQt1BncOsxqwG58cnCENIBggNiZQJfkeeh+qI+cgChy0IvkvITPLLIgm9xyEEBwMuQoeBsUHBAwBCZsA6PVQ8A/wHeqd4ejdCtyw3VzihOBv3kDnQ+s74U/Z3Ndx2hDjpeln7BrzdPo/+o/yZ+1k8uX54Pt9/D3/QgLnBfAHKAVtBZsLrAxIBwADtQOoCVUP0BHXEccNQQjIAsn6Pvbh+rsAvgGtAOn8uPjh+Jz3mvIG8fjxNPD77SHv3fJQ9gr56Prq9nDuj+wr8Fnxt/PR+EP8nv0R/Lb3e/Vi91X5/vdH9Yz2K/tC+2P56Pw5/4L9ZPwy+Gr0+/ic/1UE3wu2FAoY3hIGDAMMVw5GDd0Q5BlpHH8cNyBdHyIfByUIJbceaByVHuYfVB8BIzcrgi3SJ5QhHBlNDgoMiA2GCOoGdQlWBWz+fPfz75Xt7+ur5Cjfg94b3l/f4+G+4K7f4OFm4D3aDNeb2qjh0+Y36lHtiO9e8mXy3e0K7lv0AvlD+5j8y/1NAtsGBAU+Al8EAwcFCOIGagQvCB4Q7BEUD58MzQpRCU4FAgC2//UCYARFAtr8wPkr/Nf6HPRb8o3yKu8T79bv6+xL74T1XfR17wjvTvDJ757wEfQA9rD12/b09nzyDPEQ9aT0vPGG9Gz2BfQV9X34Cfkj+fb5SfmN90H3hfkq/UcCxwpxE6oUHRAzEPATvRFqDqsUMB2NHQIeSSOjJPQmUi/iLlUm7SfPLb4pHyYSLRg0tDPtL0gqnyJLHH0Z/xU4D5MMGg7oCE3/5PlD9v7xUu0C5qnfCd8S3yvdEt0f3crc4dyp2J/TpNXs2oTeaOFV5Ejn7OiF6MXo3+rF7W3yuvZ/98j5j/67/wAB6gRdBLEBswPMBWoErwX+CisNGgt8CUQH7AL4ADoCbgGSAE4ErQXtAEH+7P6M/QD72/lP+UP4+PeD+TP7mvyV/nT+hPoN9+/1avSu9GX4e/qz+tP7hfrj9gv2cPeh90L3Gvjk+IT4p/is+Tv63/rK+9P6Ufie91n5L/w5AGAF/AtTEuoSIxAkERkSgA/rEP8WlRlVGjceUiAlH14hSCUBJPwgqiJVJbUjjSM2KfUrYShXJjAkmBueFC0VYRM3DcoLUgtvBFT9v/k89cTwru4u6/zlIOSQ5BTjMuEC4SzhzuAV3yLcgNsu3j7gbOFZ5MvmO+fD56LnMueD6dPsz+5T8ZHzXvT79t/6OPzm/Eb/dACc/w8A0QLABWUIHgsCC68HbQYHB24EVQIUBTUG/wJHAbUA9P1x/KH9Vv2O+5D75PtO+qn5KvtF+yH6vvqc+ur3SvdT+Xf5afg7+S36F/mf9yr3wvaB9qz3lfiV99H3K/pj+pf59vsA/s38WPyE/cH9G/7m/+IBLwQ6B+EJtgzZD8QQPRBIEdASuRP8FSUZKxucHbggkyEKIpok6CXOJDYknST4JO0kxyRfJfMlkSSAIT0eMhpnFQQSfQ+vC40HCAW7Ajf+Y/lf9rjySu4L65PnkeS245/ip+Cc3+be6N233AXa4dfB2R3ccdzH3pbiheT25bbnG+lu6vfraO4+8ZbzofZW+hD87fsJ/fb+3v9qAfMDwgU3B/YIWQpaCskJAgowCVEH+gb7BiMG5gWfBT8EKANFAgIA2P3L/Pv6Gflq+Nv3kffR91X4rfhh91/1pPRJ9JDzufNY9TH3OfgW+VL6Q/tE+z37t/s5+wr7Cf09/gj+af/uAIoATQC2ACEA6/+DAYMDrQVVCAML5w14D0kPZBBKEmgSrRIfFaoXtxjiGRAcbh3LHWEfNyHHIK4g3iIoI2whHiJJIyoh4h3OG20ZTBVFEQgPdgyzCDMG2AMA/3b69vdV9NPvw+wq6rPnB+aD5EfjX+Lc4L/ei9zP2oPao9sb3fve0eGt5HnmrudU6WLrfO0P8OzymfWJ+Gb7nP21/7oBgQP5BAgGpwckCugLHwzEC6kLZwteCgEJnQjOCIwHtQVfBZEEJgLhAF8AHf73+5b7ZPpV+Eb4N/n4+Gb4LPg999/0ivIm8pHynfKF8/T0kPUZ9uj2q/al9aH1j/Yi96b3APnI+h38+/yO/Uj9m/yg/NX8Gv1q/jgAfQF/AhsDyQLDAkgEMwbbB20Kxw1BEFkRJxJ4E9EU9BUvF1cYdRlrGtIadxtGHUAf2B8MH9Qd5xyEHPAbxBorGm8aFRqsF3sTJxCnDvULEwfqAq0Amf5J+6X3ZvXQ86LwcuxL6eXmheTW4pviFONF4gXhpOEU4nTgnd9b4S3kW+a156fpbuyq7ivwjPFy86L2tvnH+sb75/6WAvoE8wWZBikISAlPCN8GMAdfCSMLIgooCAII+QftBdMDcwN5A24CUAA2/iz9h/yC+6b6tPkg+IL2FvXY8yXz3fLb8jTzK/Mr8njxV/Jj80Pzw/Ol9Tf2+vTR9Ir2hfiE+VP5FvnK+af6/Ppd+3/8fP4LAIz/Q/5I/ygCBAT7BDIGKwc6CFIJdwkvCr8MUw+iEAMRHxH0ET8TJBSRFUcXkxfkF0EZdBnHGD8ZUxrBGvYZhRj6F+UXohbUFOwTWxOwEZoOTgtTCeMHRgVyAkUAyv1g+1f5V/YB82jxufCT7lTrlekY6jzqe+iu5y3pzumH6LPn+ufC6JLq1ezI7ZHuBvFb8yD00vRc9jz4//lU+wH80fyP/j0AOAHOAdEB7AFMAuYBhAEpAiADygNjA9AB6QAwAfkAvv9k/rL9iv2K/Lb6Nvqa+qH5GPhx97P2FvUX9Or0pvUQ9W31h/at9Y/0fPVc9tj1nvVW9mn38/it+n77ifuY+0j78Ppy/EH/LACb//YAXgOmA9wChgNBBYIGvQYcB+8IlAoGC6sMvg70DlUP6Q9xDyAQHRGMEV8UFBcgFicV7BXWFcsUqRNiEwwVehX6ElcSdxTdFMQS3hCAEMoOEAr2B5wJbgihBQ4G6AVBAmn/hf5c/DP55vbP9az1vfTi8ijyD/Jb8QnwGO5G7VLuge6e7f3tHu+37wHwgfAq8cLwJ/BV8vT0j/QK9Q/4Avkc+Nn4JPot+sr6oPyR/BL78/yyAF8A5P07/sP/pv/y/RH8YPy//tf/Ef5d/KD9Sv8y/vn7Mvr2+PX5Qfwr/D36P/l++uP96P1t9930rPsE/7T4ZPUg/HAB4Pw0+O/7LACJ/gL9Mv2G+8H9OQQaAwz9N/9GBSAEOwCiAYcEpQS+BYMHWAW7BOgK/gzyBaQEeQ2jEHUJWQaQDiYUBQ3QCOkP8REoDHULOg5gDYoLeQuwC1EL9gmWB0YFBgWTBl4EEP+K/2UDHgEr/E/8AP45+6/33/gh+4/5Vffr93j4nffu90/3xPQy9hn57Pbq9AT3Sfmf+S/46Pc3+g/60vdH+d/65Pga+U38C/3P+wT8Xf3r/WH9Wfwz+9z7o/5V//H9av7//hz+Qf6A/hn+iP9yAHv+kv6gAMz/MP/5AB8BLgCAAFL/Yf7TARACvfwf/nEEQQKf+5r87wE0AnX+3vyY/nQASgDk/mv9Vf7bAt4By/l0/VQIywDF9/UF1gxm+1v6EQ3fB2j6HQjyD/X/tQBnEIIJT/47C7ETWgXX/wEOuBEhBH0CARGPEBkCbwQcDQEHPgVZC+kFNgKpCSUF5PzHBqAIyPvqAIwInPt/+IAFQwK69if8RwFH+Zf5QwAb+U7zgP78AbXzCfNtAn7+avCE+WYD2PdH9eP/ePqy86b/0AKJ9vf4pgG3+hX4SQAVAID92P/c/Tn8/P85/0r/2AS1/Yn3aQabCIj4C/0OCWwArftBBiYFAfx1/z8Duv9YAJ0BDAEIBLL+9vHG/oEVC/2j4rwHYhhZ6+rsNBeEA4TlZQUREUPrWvEYFx4DSt9jAEEjmvOM1w8T2Rww4JLxVSS8+pvc3BSXGrHjRvbNI+EChuBjBwsggvaR6n0YLxcf6Wf7pyS9/2PlUhr9Hj7n1Pc3JX8HFOx0Edcc2/Ur+PkbWgoI58wGlikG/TfhVxa7I4nreersHccSKuPP9l4eq/+B4ooOrh5X5fvjyCAADqHX9PldIPv2F+E0Da0Uj+Ky6nUh2wTY0CgCsSgM5rzVph4sFdPYofhmHfbxn+TbExUQK+Wk9vUXbP/f67MHLRHr9avxQQ7dEZnwrfC7F48O0+Zj/TEfRvxH6RwQDw8W8M3+zhGiAQv0cv67DTcF9u5d+2UUqfwr6zoOlgrL41D9fxz0+MLjdAITDnv34PKRBOIGBvhJ9xAD3/wv9dUCwwVs+Yj6UADVAG//0fkPALgLv/u57bgENBEx++/1KwufCmz3ofuyCQkCZ/tDC3gOWvgY9h0MYA3g9233MQ/iDHH0qftyDhcFVvygAd0CxAKj/1f6mgDZBrYEXwYL/G3v4AkYF27q0eJ3GisbqOEh6CIfARDS3Kb24CLr/CHb5gcaFkHpXPZuHoH9SOAXBUQUefSy7WAGMAxk+ZX12gr3BxPrMPyIHk/76ddwCJkrWfie2bgLGibs+jnmtgT2Dcf5z/qfCTEE7Pe9BPEP4/a28/cUPgTn4vsGeB4f8HTnthRKE1Lw8O/hCqYPDO1x6p4TsgkQ6ikDvA+L8Mf4fg0t84rxbw0dAsrxcfiDA4cNXP0/7fUFlgv97nr4uA6q+SvzVhB5DPfv0vJXDH4QKvXA72oNkg7L+vb9BwI1A1gKlf6f8gADkQzPAv39ofkgBNUZEQB54oEJgRuk7kDtKxVNDuHw//qbD6sAxvAWAy0LUvTy998MVvhL9NMXFAH73JAIyxts6UvnyQ1DCbj5iPuU+rMCtQUH8zT1hgkUBKP20vo6Aj0EJAGC/MP+ywCg/6n+HPbZ+wAUMweW6koBFBhI++LugQqxCyL3HPyfCt4G1Pag/cgU2ALz7HsHpA5D8+T60hBAA874wwRlBC4COgDh9moFHguW87D9TBB+9ajw+Rj6C8Xd2f1OIrzxxNyMFFsejOaA68MgOgZV3WkJdxoZ6y/0rxg++FTlexUxF7flJPMtHcgFcuS4/48Wcvyf9FQHmP/G+hAIbfvs9m0QEwNW6rQIGRDq6sX/Qhp06oLrZyMnABnXmRJQI4fjsOwCI7gDqeBbCuESXO40+woQwfoC9bML0Ao99Fzy6wiSEKbyN+mwELsReew59+cLP/4e/FQB8vUJ+J8HvAJK9t37rwQnAnH5l/mOBDQA4vZBAJYCYf5HAPP5awGWDBz4cvQCC7AEDPpyAfn87AOfEJH0VfFLFdkABfCgEh4BcutGFc0OduHu/qUjfPo04JQIrRdu9vfx3BBxBgzoeAvJGALeXfLJKiL5g9pjEN4T/vIH/m4DdPqWAvAAxQGDBFj0hQLTEBrxKve2Fa3+gfMVCxEESPo8BswDfgK3BYH5UwEdDQz1EPcmFZEDJvDrCvUQ6PZ49vINyQyo8NH1NRSMAsHrPAuXEI7sfP3iF0n1hu0XEZwHJ++e+98HuQEx/EL94f4BAkYDOfoV+CoCSwLO+9z9Xv/P+E/+hwjs+ADyLAdWB/f2JPnAAZUBDPx3/DsDrv449+YCOgQq77r9ZRZP9kjqshDHBaDpTAa8EMrwJvWcC5X+vfhwCBMADfdgBMoAXPf1Al4CV/aVAtwHkvSL/ygQSfJU7xAUfQaI7K8BQAj29vj/YQoyAJH66PkJAq4KxfNc8IEYEgxs4HP9PCB0/r7rnwqTC6/v7f6EFy75zuUQE84c9eKh6vMnVQtu2VwFQSRR9X3oqxXhFbPpuvV2IAkCI9v/DiQojeEg5e0yPwq3yZsRpTOz3e7eJTFpEQLQIgVdLSPvY+GrHEAW9uPW9EMbJQXX5+T8xRRNAhXrpP5qFkUAFe3eBDoQ7vUQ7xoNdA+m6j/xvx04B/rVpwCpKv7q4tXrH1UW+NNl/PopO/Go3ykXvw3+4or+khed9OLq+wrRChXxZPbqDgoHIerU9PMXYgkd4i36GCLY/DffXw7eFtvn//UPGdH3eulmFf4JqeC1/zYbY/f+6v8HSQvY+W74KQDXCV8FNe7l+MQVkf7/6RULdQ0I7Mf8hA6R75j6xhyF9UnglhkaGL3d8/c9Jjr6+d4BE/sY1+Zt9Oob9wBa6HAJ8xRP87zxIBB9Cqrx1PytEw0DQOuYBd0Y9PNJ7zcXBAec5OoGtxrl7x7wZhT8BEHxsgBCBjMDKQEb99b/MA+T/LP0zwuUA7P0Rgh8A4DxCQnTDEvtcPsIFE78nPWzCf8BAvu4BIP8rPiiCZgEV/VcAWcJl/2I97P9lQa5Au35Vv6FA+IASP6b/1kCvwB1+/j+hwi1+X/xQBSgDRLgfP2LJE/32+CNEBAT/uup+S0RCP9o9DgCXAm4+5P1mQmGBrztrf/PF5z6gunMDaATlOrk7A4WkBFE6zvwABNfCX7u0v7yCMz3EAAICfP2QvchCg0ImPiw9vIC7Qoc/ynzjQFSCC78FQHD/+H48wjIAyHzoQQFCKrzNgJ8EeT0SvKOEEsGUfRy/jcFsQOY+xj+5Ar/+7jyWQ5WDXPruvhHFmQBv/IFAdMDfgikASfu4f5xDwz+y/1WBTL1nPykEqT9X+5XBkMJC/pG/Hr/mAOlB4P7EvfMATECzAH2AyH4bvjUCx0GefOB/DwHbwE6/un6hf88CXL5N/MKEL4KgOhB/sUb/vZN6J0QsAsY7w4CtwtW9BH8+RJJ/1zrQwVwFc34LemsBqoXsPy+7fQCJwyE+xz5eAhwA3D2nwEQBsT3CgB2DKb56vbcCrn/LPVHBjwDSvhrA/D/XffxCUAFpu03BHMTZ/Ty8p0KvgGc9/8FHQYy9/X+jgpX+zXxFAfMEEP0EfKbECAFf++ABJwKvPZ3/jAIj/cl+w0Nf/+485cDGgpO/HD0+wMeD2P5tPCJC4wLq/GQ+/sLGv0C/EEIyfuq9tAIAwW58kv+zg4AAfT1qv8GAcz/bAYg/I32awuOBWjunwIXEPbzj/exEcz8luodCNYQz/VQ8iQIsAvz9Zb16w3qA8zuRwdpEjXvz/KhFtMEkesGAqsLO/wb/2ED3/cC/MoL4AIM9mP+pAVlA4f8P/jTAxsO+f+U8g//PQir/+j9+AEXAbP9i/yaAhcCSvuxAREG4/sW+jACGACOAIcGbfr290AJ4AIa+T0CGv/o/J4HdP8k9IgDvAlN+I74nAafBtj7N/eYBeIFXfNXAxoRxPNQ9GoSNgCK7TIMlwrC79oERgvC8Y//wg1i+hf65giGAcv2jP3KBqcGCfww+D8F4AUv/Pf7SfzcBqYJGPLt+DQTHf4o710NAgin7bcHgw3K6S39+hf/+cDz8Anz/lr4wgee/uT1yAg5BbT0IgYuC8vvZvhGFl7+F+VnDPkVPeXA9YsiVvpl4lsVRg8+4DEAbB+I8azo/BYoDGzqTgE5Eiv2pvKBD/cHzu9+AIQMfvp//bwG7Pp8/kcKuf0S9x4DSQHM/hQFj/sb+/0GN/yL+CEHyAKM/DYDJfp/8nAJHQ/Y8WP4yRP3+0DorAq8ER/t1fc8GIX7heioDfIMifBbA9oOLfV+90gMyQDA9MEEFwod/UH6Hv40AZ4DBv+R/BsExANI98384Aso/jL4Wg3fAe3tEgNLC6f4O/3LCRL/5vaz/+IBzP2TAGkDYAGe+877lAPCBOQCFP+F/GUFzwA39lYFqgdq9UcAvQsw9+H43w2s/QrxqQc7C8H8zftHABkFe/5X+YsI8QSQ9voCjgJd9QoF/wqB+O38+QSI+ev/XAf++c3/vAf5+WL8CAVUAAAAUf6u/tICFvtU/i8KGfsN9yIREAaf7YoFjAkM80QGpAbw7Y8HMhA57V77ahZQ+hLv7QoLAofwngkHC87v5ADUE0724/ETEiACjukOCzAOeuZZ+9Aa+vuG7V8JYAp49RT65QZt/tz3JgbmC3P4xfbTD1EFUOyOAlwNafQz+84Kjvs7+QUKuAb09tj5+AjCBc7zifcvCQIBTfd5CMcJWfdi+jUEM//A+X/+UghxBVz31Pm+B/sDKvxHAzQAlvjlBNQB1PJlBY8OkfU/+FINDgFp9TsGDQfA9DP8PA2SAnX2twFAB+38L/3iAt//tP+0/mj8uQH7AN0BEgrN+8Dv3QjHD7fx3PPoDgMHZfam++gBIAfqAwH3RP41B0n7nvyfBmr9TPpsBVoFXwCS/Vb5OwE0B7r7rPtwBVUAsfyPA1IBGPnmA9wOofWk6FYLUBQ29nr2SQe//1f9TAjO/+DzmAG1Ddf9mO/pA/MTYPg/7rUMbwg68awDQgzs8CT1uBPSCbvu2vc3CgYGzPwT/dL+tv1JBDMH1fiC+O8HogND+bf8dwHHAxMF6v7w8oj5zxLMCnXq2vcaE9/9pfEUCtcDVPUzC3oHSO17/SAPQ/59988CJATZ/YoAagRi/Mr5iARmBYX75PvFAaP/1gARBrf+EPkHA9QIxv9S9LL67gskBRf1Ff9FCS//DPpFAG4DxABQ/L39UwQsAWD7zgAiAXL/qwUR/EX2kwtACDHvX/zqDuH+wvrCBSH5NvnMD5oB5+1BBQoNW/eb+TIHOwPJ+yj9SAQRBDv5svtJC1IF6vR//M4GtgGo/7z9y/oqBcwJbvfh8hsMig3Q8/b43Afy/MX9tQhQ/8z4BABkAxYECAA2+o8C3gLP9J0CgQ7b9cf55A8g+e3wow12B/jzDv8ZA779UgUdAaz4YQJTA6f7iwDtA44AbPzA+jsBawVEA0j/Y/hu/QUJzf/899EG9QPM8WgBmRB++c3ygAhDCOH4WvsIBqEBLvl3Aj8H7fei+tcNeAFT8CUEpgtO+D384QQl/VsDBQVk9rf+kglv+a37nQ3P/FnxFApVCmP1Y/1WBV77kQBbCDz8BvgsBXoGh/sO+yUDzQOf/UT/OgOY/DL+/gaU/Nb3mwj/BNj0yAEcC5b3ePkyDCL9SfNsC04KnPLu+1ULO/sj9w8NSgWb7osAFRIF+5bwSAezCcD2TP2KCBL8mPtxB1n/SPevA3MKtvtq8yECvgvp/zD2sgAQCsD+mfdXAaUET/5M/REDmALc+Gv65wdwB3f6cvmvA9ME5/5D/cD74f5/BqcAm/iMAkkIX/z/+fAEtQR6/Iz7O/96ART/Wv8UCF0DdvRG/7UL7voX+FcHjf78+KwIIQIE9ZMG6AoP9Zv8Rg6l+y7xgAc2Cbj0Z/2ZDtj9UfWFCRIG9fXdAJADIvSH/b8MI//I+bYJ+wS39vj9OAS//uP+qP8p/I7+aQKeAl0GIAR0+Pv7qQU8+mT1JQfsB4r5Vv95B3v+o/3yBWT/9/c6AVYEG/kK+okH+QbX/IUBdQf9+nD2CwKbALH7rgPNAQX6DwMYBhj6zAEpDRX6S/GpBTAGi/SQ+5ENawel+S7/sQTV+3v7GwPZ/LD5CwcXA/nyu/84DZMAAf/dA7T4evw+B+H44firDncDmPMUCGYKqfPh+1cMZ/8W8xD6+QNmBQn+8/7kCLUAVPclBegEKPVm/+sHF/gQ/BQMPAKd/JoHxQHx9w3+zwHt/0j8ovZSAJEOmgPf+MQErQRL99b82wT1/BL7HANJBNEAbAAkBGEIkAAw9LT6IwWT/jD8dQRVAEP5RQM2CWv+VPtXAnsBkPuI+GH85wY+CFr9Lf6LCVADi/eO/9wDdPea9zUE9gL5/BUE9gcVAKD9PP+J/LP9tf/6+xH9mwL4ARkEzglyAN71+f9hBTP5b/rDB58CuPeq/9wHHAHK/WsD9QEd+v/6FQGi/7z8UgBRAy0CJAH7AA0CwAJ7/ef5GAH8Asv5M/yxCLQGHf1lABcE3/q895kACwDo+Oz/2QiBAR7+LwfiAjH43P9mBfD4evfmBt8GGvnl/BcLJAZ594n7HAaM/lf4bAIdA9H5PQAjCqUB2flGAt8FGP01+/kAR/+5+kcASQYFAWD+AgWhBC38bvrM/gkAjf5M/hMBNgU8A8T95f9fAiH9yPtg/8f8L/u+AxsIAAH8//EEgf4K+cUC0QMe9kn7YQwxAuryQgKhDRH97PYJBJ4CA/jQ/aEF9v9x/aYDSgOz/CL+cwRmAQ37jf5OAtD88vu0BIQE9Pu2/4sHWgEN+rT8TQAFA7UCxfqR+woISAQ4+EMBzQht+2r4HgTPASD6FwAQBT4BhQC3AOb9ev/+AYn+Wf0TA5MDS/so+pIDeAbD/3L9AgEUAUP+a/4MAXMCSAAw/pAAcwHN/f39bALeArf/Dv6R/Rj+GAGPAfz9VgDPBYb+hPWVAPgK5/0l94UFCwbe9+T7aAauADv8wAHSAZ3+Ev9k/nAAAAWeAHv6T/+FAwL+XPzQArQDov8pAFj/SvzzACsEhf2K/QIE2/5x+hEDNASI/YACKgUN+hL53AMKAi38fwPSBWb7/PtpBu0CFfqF/z8FQv7q+l4A/AERAicD4P54/SkCY/9j+58BtQJf/MwAUQVF/Jz64gQzA0r7BAFBBWb7QvlhA5wC3/u7AkoI0f2k99j++QGCANwCLwH0/Dn/HAAR/scBTgO0/ub/HgKs++/51gIABlYA7P5EAT/+Q/sGACYDyf+6AHcD2P0z+o0AGgTwAEQA9gBL/6L9fvxG//IENwLC/ZAEFQRc9SL4vAluBev4GwI2CGf6EvhfBdIE7fy4AfADFfv/+dwAUQL2ATACLgC+AFQAmfp0/NEE9wGH/JgBKQFP+eH9GgZPAd79LgPVAeb6LfxxAhYDzv+rABMD+f5P+14AWwNi/yMAKQTTAM/7h/0FAYQBogEmAkQANP3W/a0Axf+I/p0C5gPs/ZH8vAA9/5n9eALcAt79Gv6V/xD+8/9HAlkALACxAIr9dP4aAykAO/waAQMD9P1v/vwB8QAhAagCKQBs/qH/2f76/QAA0QB6/0EA0AImAtf+Kv/oAUMAEP1H/iwAE/+d/i8AwwGyAmkB3/4a/63/8P14/gMB0QD7/ygB3wGqACH/gv+RAOz+6P1yAG8AOf5dAFwCKgDN/z8BEQDy/gb/pf7V/0IANP7HALcERwBX/TIDtwLp+sD81gKQ/3X8UQESBMgAMP8pAYoARP3J/UoAxP7A/fcBKwNm/nz+EgN9Ae/9GwB7Af/9Av3pANECdgDL/2oCcQEX/V3+fQHT/Rz8YAH6ASL+/gAcBQoBQP1GAPUAq/yz/FQB3gFV/0IBkgRFAoD+GP8qAOH9TfyE/rEAd/+4/lQChARQAQgADgKe/6T6QPuy//kAi/9GARgFmAME//v/pAFo/df75/7Q/b/8QQEeA88AEgK9A1gAlf1e/gX/Ev9Z/yAA3gBaAK8AhwJoArMATwDv/zj+Qf0c/v3/6QB3/5//0gJ0AqL+sf5GAU4Auv13/pgAPwBy/2UBRgOPAen/6QANAKP9gf7W/2f+o/4YAZEA+f7ZADkCBwDZ/t7/EP9k/Xz+igDjAOcA3QFLAqIARP/AACkBDv5U/TcAz/+w/YEA/wJSAJf/4gFCADb95f7fALz+Nf4nAVsBlf8eAdcCfACz/mAANgC7/Q3+SwDwAGwAgQBPAZcBfwAS/1r/aQA7/5D9If9EAQ4AF//4AXkDogAX/8f/s/6b/Y7+/f4n/64AEwE3AEMBTwKsAAr/s/7I/fL8qf0v/+oAeALgAosC4gEsAIT+V/4c/nL9xf6mAFMA8ACjA2MDkQB4AL8AdP2k+wD+Cv9//sgAogMfA50B7QHhAZ7/kv3//Tz//f7I/sIAJgPOA3EDFAMPAtv/H/7s/V39ffxe/rQBRAJ1AbYCagODAH79iv1P/cz6ofow/jQAVwCXAgMEmAHJ/23/WP2t+4r8rv2c/jcAowGuAhYDOAKKAeoAAv9C/iP/4P7x/pwAVgGHAa0CkAIzAT0BWwFYADsA8gBYAb4B1QGXAcYBwQEqAUgB0QHpAF//XP/G/9L+VP7L/5wAov9p/1IADgCH/ov9Dv33+wL7afv4+7H7jPw6/sH9oPyT/ST+gPyK+7780f2t/WL+tgBPAjICbwIQA2MCkQGrAQICywKdA9sDpwTHBd4FuQWXBakEzQMHA2wBwABzAToBsgCIAVoCkAH6/4L/DQDI/ir8UPy3/Ub8DvsX/W3+hf26/cX+Q/48/er8mPxp/Mb8/vwa/dv95P7H/74AEgGvAJ0AJADS/qH+zv8iADYA5QFwAzED6wK6AwQE4QLnAeEBWQFcAJ4A6QHvAm8DswO0AyEDxAFOAJj/7v4s/lz+Df+B/zMA6ADFAPr/K/9a/sz8FPsc+yj8C/w9/Eb+gf8M/zT/rP/r/nf9Cvyc+4D8t/y1/Or+MgH3ALYAywG9AVoAf/9D/y7/Ef8m/1QAIQIQA1MDpQPKAzQD5gHZANcAIAGpAIkA6AEcA7gCZQIjA9wC7QDU/yMAvv+//iD/gADtAG8AqwAwAWsATf8i//D+Uv5S/qX+uP5M/yoANgD+/y8AFgBz/8v+rf71/u3+AP/P/3EAcgCjAPUAyQBRAPf/2f/w/+7/CgCnAPAApgC8ABAB0QAjAAMAdQAEAAv/gP9LAJH/Ov9MAGkAmf/S/xMAef9A/1L/Kf8o/wT/pv7m/oX/Xv8W/+r/PAD3/qj+Z/+Z/tb98f4R/y7+Wv9jAH3/1v/kAPP/Mf/m/+X/av+w/xcAdgC+AJEA5ABzAboAQAAdARkBQgC1AGAB1gC4AJcBhwGQAHEArwBQACAAUQBnAGAACwDq/1YAHACN/xgASgA3/yr/AQC1/0f/sf8YACoAyf+d/xwA4v8j/4j/+/9W/zv/9/8WABYAawBcAEcAOgDX/8v/GQAWAAwAagCwAL0AIAFiAQMB3gAaAcIALgBNAGkAAQAdAJsAlwCSAOkADAHuAMoAhwBHAAYAiP9S/5v/pP+K/9T/7v+y/8T/uf9O/0j/R//c/tv+J/8A/+P+T/+H/0f/ZP+e/0b/Jf9v/1P/NP+f/8H/mP8EAEcAGABxAKMARABWAIEAKwAOAEQAMAAzAHYAWQBaAKYAgABtAKsAgwAxACEACwDO/6n/oP+H/3D/gf+g/3b/V/+r/6X/Qf9r/5L/Q/9W/6D/Zf9A/5L/lP9r/7L/2f+g/83/CgC5/+P/fwAwAOL/ZABQAN//SQBvAN3/FACUAEwAQgCfAMcA2AC4ALcA7QCvAG4AoQCVAEIAWgCCAGUAeQCIAJoAxQB6AG8AuwBFAAYAeAAtAMb/SQA+AKL/EgAyAE3/k/8VAED/GP/P/4//Tf/0/yQA2v8oAHIAGgDm/xQAHwD9//j/BAAEAA8AKwA5ACgADQAfAB0Au/+6/yYA/v/x/3QALgDa/3AAWACw/woAaADp/+D/SAAdAPT/GAADAO3/3//P/97/uv+G/6z/5v/B/5n/8v8PAKb/yf83AO7/s/8kABUAmP/p/xgAkf+o/+r/ff94/8r/fP9s////7/9//9f/JQC//67/FgAHAM7/IQBSAPT/9f9KACIACABFABMA5v8bAOL/tP8kACMA0v8FAAQAuf/0/zEABQAPAEQASwBCAD0AYACCAF8AVgBkACUAAAAlACgAAQDn/+n/9f/N/6X/2f8EANH/yf8CANf/mv/z/yoAz//m/2gAJADD/0gAYADI/wwAZgDN/6f/FgDk/5b/4f8VAO3/7f8dADQAKQAtAFsAWAAhAC0ARQAyACwALABAAEQA/P/t/ygA7/+j/wgATQDq/+//VwBEACEANgAsAPr/q/+w//3/xP+J/wwAQADX/wMAZAALAPH/UwAmAOD/HgA1APP/6f8dACkAFAAGAOX/7//9/7b/wP8KAL7/qf83ABIAm/8WAGIA5v/z/zUA9/8FADsAIQAmACAA8//7//H/vP/K/+z/1v/a//3/BgAbABsABwAdAA4A9/82ADgA4v/+/zwA4P+p/wAA6v+S/87/CQDS/9r/JgAMAMb/3//x/8X/2v/+/+P/8v8eABYADwAUAAIAAwDu/8D/9f8UANH/+P8wAN3/1P8ZAPH/4v8VAP3/9P8dAAEAAgBJACgA7v80AFcAEAD//xgA6/+y/8r/2P+6/93/DgD2//D/JAAWANP/+v82APD/yv8rAEIA8v8IAFQAIQDm/x0AMwD0/+X/AwD5/+3/CgAKAPH//v/4/93/8f/8/+3/BwAkABcAFQAnABcA/f8QACAA9//i/wgADgDy/xMAPgAMAOH/CgASAL3/m//r/w0A5v8OAEIABgD2/zEAFwDh//L/AAD8/wYA9v/o/wYACQD//w0A/v/q/wkACgDq//7/BgDe/+b/DgAOAAsAEwAaACUAAwDb//j/CADm//L/AgDw////DAD0//f//v/h/+7/EwAFAPf/FQAfAP7/AAAkABUA+v8RABMA6f/n//b/5v/d/+P/7f/z//D/AAANAP7/CwAnAP//4v////j/6/8MAAQA9P8PAPj/2f8PAAkAvP/k/xUAy//F/w0A4f/I/ywAIwDQ/wgAMgDt/wkAQQDu/+D/NwACAL7/DAAUAM//+f8JAMv//P80APH/8/9FACwAAAAnACQA9v/9/wUA7//z/wQACAAVABsADAAKAAwA/v8BABcAHAAjADUANAAzADwAJwAgADgAHQDw/wAA/f/W/+P/5//Q//T/AwDb//X/FwDx//H/DwD5/wAALQAiABcAOgAzABIAGQAMAOL/3v/S/53/oP/U/+T/9/8gACcAHAAZAAkAAAAKABAAGwAjABAAFwAtAA4A+P8QAPf/yf/c/9L/o//I//n/7P8EACEA+v/o//3/5f/d/xQALwAZAC0ASgAfAPz/FwAIANT/6P8NAPb/5/8CAAUA8v8IADEAFADh//j/DADq////KgACAPL/HQAFANv/AAAHANT/2f/r/9D/4P/8/+D/3v/5/+r/5v/+//D/2v/l//f/AQAGAAwAGgAXABMAGgAOAP3////5/+z/+/8CAPj/CgAXAPL/6P8EAPD/5P8JAPX/2v8hADwA+f/5/xwA///s/wQA+v/e/+3/AgD5//H///8IAP3/6v/v/wQACAAQACkAHgAKAB8AIgAJABEAEQD0/wgAJQD4/+X/CgDv/9X/DgASAPP/LQA2AO3/CgA1APL/6f8jAAsA+P8VAAIA8/8UAP3/0f/9/xYA6f/q/wYA8P/4/xIA5//p/zUAKgAEAC4AKgD4/w0AEADf//P/CgDT/9n/GAANAAIAIgAOAPb/BADs/9b//P8BAPP/CQAOAP//EgAYAPv/AAALAOL/w//d/9r/tf/K/+v/4v/y/xsAGAALABwAFADr/+b/AgD4/9v/5//5//P/9//+//X/9v/v/93/5//s/9n/7f8HAOX/3/8SAPz/zv///xQA5P/4/x4AAgAGACsAIgAeAB0A+v8HAB4A8f/t/yAAAQDR//n/AwDY/+r/AADp//b/DQABAB0APwAkACYANAD8/+P/BwDt/9D/AgARAOz/BgArABMADwAeAAIA+f8PAAYAAAAgACsAHwA2AEoAOQApAB0A+v/c/+X/4f+9/8X/7v/s/+r/EQAwACUAGAAoACwAEQD1//f//f/0//n/CAAHAPz/AgARAAcA7//0//v/4v/X/+b/8v/t/+3/9/8NABwADwAQABsADAATADIAHgACABcADQDr//z/AgDe//H/EwDy/9//AAAEAOb/8P8AAOz/7/8MABYAFQAiACoAJQAWAPX/6/8AAPT/2P/n/+v/4v8AABAA+//8/wUA9//9//n/zv/K/+r/6//0/x0AKwAgACUALwAqABAA3//B/8H/sP+d/7D/z//U/+L/CgAdABoAHAARAP//AgD5/9P/zv/f/9//8v8SAAoAAwAWAA8A+//6/+7/1//Z/+D/4//1/wIACQAgADIAKwAmACgAHAAGAP7/AwAMAA4ACQAFAAwAGQASAPv/7f/s/+7//f8NABIAFQAgADIAPQA8ACoAFgAJAPz/9v/4//D/4//5/yQAMgAiABQADwAOABEADAAFAP7/9//6/wwAFQAEAAIAEAAUABMAGgASAPr/9v/+//T/4f/b/9//7f/8/wIADQAXAA8AAwASABgAAgD1//P/+f/6/+//5//z//n/7f/v//b/8//1//P/4f/a/+j/9v/9/wEABAAOABoAFQAPAA0AAADs/+L/5v/r/+r/6v/2/wgAEQAGAPv/AgALAAIA/P/+//L/7P/7/wUADQAXABgAFAAZAB4ADQD1/+7/+//9/+z/7P/7//z/+P/1//L//v8LAAwAEAAaABoAFwAXABAABwAJAA8ACgD7/+n/4v/b/8j/tP+u/7H/sv+4/9X/+P8DABMAMQA4ADEANwA0ABwACQACAPP/2f/B/6//qP+z/8n/1P/c/+7///8MABsAHwAdACkANgAyAC0ALQAoACYAJQAYAAwACwAGAPv/8//4/wAAAAAAAA8AHgAkAC0ANQAyADQAQgBDAC4AHwAdABIABQAGAAgA///6/wAA+//0//b/9P/u/+//9f/4//r//P/+/wAAAQACAP//9P/s/+7/6P/X/9D/1v/e/9v/1v/f/+P/4v/r//T/7f/s/+7/5P/g/+z/7//r//P//f/+//3/AAAAAPz///8AAPv//f8GAAMA/f8IAAkA/f8CAA0ABQAHABsAIwAYABMAHAAjABwAFQATAA0ACQANABAAFQAZABUAFwAaAAwAAQAGAAEA/P8OABYABQACAA4ADgAFAAEA/v/3//H/7v/y//n//P/+/wAAAQAAAPv/+v/8//j/7//k/+P/7v/1//T/9f/4//v/+f/x//D/+P/2//H/9//z/+v/+v///+j/6v8AAPn/8/8MABEA+v8AABUACgAAAAoABwD3//3/CQD///T/9////woAAwDt/+//AgAAAPn/DQAcABcAGQAZABAACgALAAAA8v/0/wAAAgD//wAAAgAIABQAEwAMABEACwD8////CwAGAAIADQAWABcAEgAAAPD/8//8//P/3f/W/+b/+f/7//v/BQAIAAMAAwAIAAUAAwAEAPz/+f8IAAsA+//9/wcA/f/0//b/5f/d//D/9v/y//3////2/wEAEwAYACAAGQD8//f/DQAJAPH/9P8FAAEA/v8BAPL/6//9//n/6P/1/wMAAQAIABEADQAPAA8ABAARACMAFAAFABMADQD3//n/AADt/9v/4v/g/9r/6//7//b/8//5//7/CgARAAUABQATABYAGgAlACQAIwAsAB8ABgAEAP3/4v/a/+P/0//F/9r/6P/m//b/AAD6/wYAHQAbAB0AMQA2ADAANAAuACUAIwAMAPH/8//u/8n/uv+//7D/qf+//87/0f/i//L//f8SACsAOABEAEsAQAA7ADsAHQD9//v/7f/K/7j/tP+b/4n/mf+n/6v/u//S/+T//f8VACYAQABUAFAAUABYAD4AGAAQAAYA6P/d/9r/uP+p/7D/nv+T/63/vv/C/+T/BAAXADoAVwBaAGcAfwB0AGEAWwBCACMAGgAFANr/y//J/7b/tf++/67/q//R/+r/9v8bADsARABWAGsAcQB1AG0AVwBRAEoAJAABAPv/6P/T/9P/x/+8/9D/4P/W/+T/CQAXABwALgA1AEAAVABDACwAPgA8ABIAAwAGAO7/4f/n/9v/1//j/9r/y//e/+z/5f/v//b/8/8FABUABwALACYAIQAJAAsADwD1/9//4v/W/8X/wv+8/7z/xP/H/8j/1f/f/+X/9f/+//v//P8AAAEACwASAAAA+v8AAOv/yf/H/8n/uf+3/77/vf/E/97/8P///xsAKwAsADAAKQAYABoADwDw/+//8P/L/73/2//b/9D/9P8IAPz/EQAwACMAJQBGAEIALQA3ADEAEgAXABUA7v/k//L/2v/L/+r/6//a//r/HgAhADEATgBMAE8AWQBDAC4ALAAZAAEA///3/+r/6v/n/+L/7P/1/+f/4f/p/+v/8P/7//v/BwAoAC4AJgAyAC8AHQAgABsA/v/3/wAA5P/M/+H/5f/T/+b//P/t/+z/9v/o/+//EAAUAAwAKQA4ACAAJwA/ACYADgAXAAAA4v/w/+//y//N/+j/2//U//f/DQAJABQAIAAVABEAHwAiABQAFAAYAAUA/v8JAAUA9//9//r/4P/c/+T/4//o//H/8P/1//v/8f/5/w8ACQD8/wYABwD4//3/CQAIAP3/+/8AAP//9P/s//H/6f/b/9//4//k//r/FAAZABsAJgAcAAkACQAIAPv/9f/y/+3/8f/2/+7/5//z//v/+P/1//P/7//u//7/BQAAAAIADwARABEAFQANAAQAAgD///n/+f/8/wAABwAHAPz/+/8AAP3//P8DAAMABAAKAAkABgANABIADAAHAAUAAAAAAAIABQAHAAgAAgD+/wAA9//u//T/9P/v//j//v/+/wsAGgAfACUALwAmABkAEwAJAAIA+//u/+P/4//s/+z/6v/x/wAACgAGAAkAFgAhACwAJwATABAADwD4/+X/6v/q/97/4v/s//X/AAAHABAAHAAiAB8AHAAYABsAJQAaAP//BQAcAAoA7f/s//f/8v/l/+T/6f/w//j/+v/v/+3/AQALAP7/9v/9//7/+//8//v//v8EAP//9P/2//L/5v/m/+3/7f/u//P/+f8AAP//9f/1/wAAAwD2//X/BgATABgADwAHABQAJQAYAP///f8JAAYA9f/k/9//7//x/93/2v/v//v//f8JABkAIgAqACQAGgAlACMAEwAKABAADwD///b/8//2//X/6P/g/+3//v/8/+7/7v8FABcAEgAGABEAKwAsABYADAAWABoADAD1/93/3f/x/+n/0v/W/+j/6v/q//X//v8LABoAGQAYACYALAAiABoAFQAGAPT/7f/1//f/6v/k/+n/8f/x/+n/5f/y/wgAEQAJAAoAGQAdAA8AAAD+/wUADwAQAAAA9f/+/wMA+f/w//b/9f/s//H/8f/s//X/AAD7//P//P8DAAQABgAIAAYAAgAIAAwABAD+/wAAAAD8/wAAAwADAAkADgAHAPj/9f/9/////v8AAA4AFgARABAADgAEAP//AAD5/+//8f/x/+v/8f/8//r//v8LAA4ACwAPABEABQD6//v/AAD7//X/+v/8//b/9P/0/+//8P/+/wUA/////wcACgAIAA8AEgAGAAYADAAGAP7/AQABAPn/+//5//D/8/8AAAIA/P/9/wQADAAOAA4ACQADAAUABgAIAAcACAAMAAsADgANAAUAAgAAAPz/+//5//P/9P8DAAgA/P/7/wYACgAGAAYAAgD2//D/8//v/+r/7P/z//D/6//t/+j/3v/h/+3/6//k/+7/+//8/wYAEgANABEAIQAiABQAFQAbABIABwAGAAQA/P/2//T/9P/x//P//P/7//v/AAABAPz/+v8DAAYAAAD7//7//P/1//b/+f/3//T/9f/4//P/8//3//j/+//9/wEAAgAKABYAHAAbABkAHQAgAB8AHQAbABkAGAASAAgAAwAFAAQA+//0//f/8v/s//L//f////7/AQAAAP/////9//z//v/7//r////8//n///8DAP3//v8MAAoAAQAPACAAIAAfACAAHgAZABgAEwAMAAsACgACAP3////9//X/7v/v/+//6v/r//P/9P/4/wAA/f/2//X/9//v/+z/7v/t/+7/9f/z/+r/8P/2//L/9f8AAAEAAAAFAA4ADwAPABEAFAAUABIADwANAA0ACQAEAP7/+v/5//P/7f/t/+3/6v/q/+7/8//4//z//P/6//f/8f/w//f/9//1//z/AQD///7//f/2/+//8P/1//T/9f/+/wMAAQAAAAQACgALAAwAEQAVABUAEgAMAAsACgAFAAEA///8//j/+f/8//j/9f/0/+//7P/w//H/8f/6/woAFAASABAAEQASAA4ABwAFAAQABQAGAAcABwAJAAkAAwAAAAMABgAEAAUABgAFAAYACAAOABIAEgAPAA8AEQAKAAQAAgD///3//v/8//j/+P/4//X/9f/8/wMAAAABAAMAAQD8//L/8v/0//P/9P/7//3/+f/7//v/9f/u//L/8v/n/+j/+P8AAPv//v8LAA8ABwACAAEAAQACAAEAAQAKABUAGQAcACUAKAAhABsAFAALAAgACAACAAAABQAGAAIABgAPAAgAAQD///r/8f/r/+X/3//k/+j/5f/f/+D/4//e/9n/2//f/+L/4v/f/+D/8v/8//j//P8EAAUA/v/9/wEAAgACAAAABAANABMAFgAXABwAHgAYABUAHQAcABYAGAAfACMAIAAiAB4AFgAUABAABwAAAPv/8//u/+z/7P/y//H/7//w/+//8v/x/+3/6v/s/+v/6//0//j/9//y/+3/7P/w/+//6P/r//T/+//7/wAACQALAAkADQATABIADwARABkAIAAeABoAHQAcABYADAAEAAEA///7//j/+////wAAAQAGAA0ADQAMAAcAAQABAAIAAwABAP7/+v/3//L/8v/z//H/6f/k/+n/8v/4//3/BwAQABAADwAQAA4ABgD///j//f8EAAMAAAACAAYAAQD8//z/+//3//T/+/8BAAAA//8BAAMABQADAAEAAQABAPz/9//0//H/8v/2//X/8f/6/wAA///4//z/BAAEAAUACQARABMAFAAaABkAEgALAAgABgABAPj/8f/r/+n/8f/+/wQABwALAAoABAAGAAsACgAAAP3/BAAMAAUA+f/1//f/8f/w//f/9v/2//f//v8BAP3//v////r/+f8AAAMAAQAAAAAAAAAAAAEABAAFAAAAAQAEAAAA+P/1//j/+//9//n/8//0//n/+P/4//3/AAAAAAEACAAIAAQAAQABAAEA/v/+/wAABAAFAAkADwARAA8ADQAJAAQAAAABAAIA+v/0//r//f/8//7/AgAFAAcACwAPAA0ACQAMAA0ABwAAAPv/9f/x/+//7f/s//D/9v/3//n/BAANAAoACAANAA0ADQALAAMAAwAHAAMAAAAAAAAAAAACAAMAAwAFAAsACwAGAAQABgD///f/+v/9//r/+v/8//7//v/9/////v/+//7/+f/3//b/9//4//f/+P/+/wAA/f///wEAAgADAAQABwAEAAQABQAJAAcAAAD+//v/+f/7//3/+//6/wAAAgD//wAAAwD9//j//f8AAPv/9P/0//n/+//7/wAABAADAAQACgAEAPn/+v/8//T/7P/x//f/8v/0//3/BQAHAAkADAASABIAEQAYABUABQD//wAA+//z//f//v/8//v///8BAAAAAgALAAgA//8AAAQAAQD9/wAAAgAEAAgACQAEAAcACgAIAAYACAAOAA4ACwAJAAQAAAAAAP//AAAAAP7////9//v//P/9//3///8BAPz/+//9//r/+P/5//v///8BAAMAAwAEAAgABAD9//3////8//v//P/1/+v/7//3//b/+v8AAAMAAAAEAA0ACwAJAAYABgAFAAIAAAD///r/8f/z//r/+//4//n//f/7//f/+////wAAAwAFAAMAAAADAAUABgAGAAMAAwAHAAUAAAACAAIA+//7/wAA/v/4//j/+f/w/+7/8//z//H/8//2//T/8//6/////f8AAAQACAAKAAwAEgAOAAoAEwAbABEACAAPAA0AAAABAAkA///1////BgD+////BgD///v/AAADAAAA/P/+//n/9////wIAAAACAAYABQAIABAAFQAXAB4AIwAbABkAHQAZAA4ACwANAP//8P/5//3/7//q//H/3P/C/9n/7v/U/8D/zf/H/7f/2P/0/9D/vv/t/wIA7P8CACMABwACACsAJAD//xUANgASAP//KgAwAAwAHQA2AA8AAwAzACoA9P8DACMAAwDx/wYAAQDr/wAAFQD5/+3/EQAaAPz/AAATAAIA+/8VAAwA6f/0/woA+f/w/wcACQD3/wIAFwAGAPT/BQAIAOr/6/8AAOr/2//3//v/5f/0/xEABgD6/xAAGgAHAAsAHwANAPb/CQAWAAMAAwAUAAQA8v8HABYA///0/wcACwD+/wMADwD///b/BwD//9//6f8EAPr/7v8AAAcA/f8EAAYA6//i//v/+P/g/+f/+P/z//n/BAD6/+///P8EAPb/7//5//n/9P/8//7/7f/v/wIA9v/g//D////1//n/BQD8//L/BgAMAPf/8/8DAAAA9v///wgACgAKAA4AEQAQABgAIAASAAgADQAKAAYABQD///3/AgAJAA0ACAAMABwAGgATAB0AHAATABsAHAAKABEAJgAhABYAGwAhACUAIwAbABcAFAARABYACgD0//3/DwABAPX/AgALAAsACwAMAAMAAAAMAAoA9P/v//3/+v/r/+b/4v/o//f/7f/e/+b/7//1//X/6P/d/+H/7v/t/9f/y//h/+z/2v/g/+7/4f/l//b/6P/c/+//9P/h/9j/4f/w/+z/5v/u//D/9P8DAAIA/f8EAAoADAAPAAgABQAVAAwA//8IAAkABQALAAcABgAWABIADQARAAYABwAXAAwAAgAPABQAEQAKAAQADgAVAA4AEQAOAAAACgASAPf/8v8FAAMA/f8AAPz//v8MAA0AAAD6/wAADgAAAPL/9//5//z/AgDy/+H/9f8EAPn/9v/7//z/AwABAPv/+////wYAAgDw/+////8DAAYABwD+/wIAEwALAAAABAACAAAABgD9//L//v8HAAMA/f/8/wEACAAHAAEA//8AAAMABQAAAPn///8JAA4ABQD//wEAAAD+//v//P/9/wAAAwAAAP7///8CAP3/8v/w//v/AgAAAAMACQAIAAsADwAJAAMAAgABAAEAAgD8//z/BQD9//X//P/z/+z/+P/4/+r/7//8//z//v8CAAgAEQALAAMABgACAPv/+P/x//D/+v/8//r//v8AAAIACAADAP7/AAABAP///////wEAAAD9//7/9v/p//H/9//u//f/AwD//wAACwAHAAYACwD8//r/AwD///7////9/wAACwAKAAQABwAJAA4AEgAMAAwADAAFAAgADgAKAAoACwAFAAIAAgAEAAcAAADx//b/AwAFAAAA/v/7/wAACQADAP7/AQAIAA0AAwD+/wEABQABAPz/9f/w//v/AAD0//b/+f/1/wEABgD+/wEADAAHAP7/AAD+//n/+f/2//H/8//4//7/9f/v//v////7//7/+//1//3/AwD////////7/wAAAwABAAYABgAAAAEAAwAGAA0ACAAAAAAA///5//f/9//1//r/+f/3/wAABgAKAA4ACgAJABAAEgASAAsAAgADAAsABwD//wAAAQAAAAAA+//6//v/+v/7//v//f8BAAEA+//7/wUADAARAA8AAwAAAAUACwAJAAEA+P/z//b/8//q/+3/8v/u/+b/7f/9/wEABgAMAAcAAwARABoAEwARABgADgAAAAAAAAAAAP///P/w/+j/7//0//r//v/9//7/AAAFAAoAEQAWAA4ABwAEAAEAAQD///n/8//u/+n/5//o/+v/9f/9//n/+P8AAP//CAAcABkACwANAAkA//8EAAoAAADw/+n/5//u//f//P/6//L/9/8DAAUACAAOAA0ABwAEAAAA/v8AAAEA/f/+//r/9P/7/wEAAAAAAAQAAgD//wUACgAIAAYABAAAAP//BAAGAAAA//8DAAQAAgABAAMABgAGAAoADwAJAP//AAAFAAIAAgADAPv/9f/6////AAACAAMAAAACAAoADgAPAAkACQAJAAMAAgABAPz/+//9//f/8//3//b/9/8AAP7/+f/8//3/+v8AAAMA/f/4//j/9//2//r//P/7//f/+P/9/wAA/v/+/wEABAAAAP3///8AAAAAAAAAAP///v/+//v/+f/+/wAA/P/5//v//v8AAAEA/f/5//z//v///wQABAAEAAYABgAJAAoACQAHAAYABQADAAIABAABAAAAAgAFAAcABwAJAAgACQATABkAFwAWABkAGgATAA0ACgAHAAMA///+////+f/6/wAAAAD+//3/AAAAAAEAAgD//wAA///9/wAA///7//r/+//1//P/+v/7//f/+P/0//D/7//t/+3/8f/v/+3/8v/5//3/AAADAAMAAwAFAAQAAAAAAP3/9f/v/+z/6f/o/+v/6v/s//T/+v/9/wEACAALAAsAEQAUAA4ADAAPAAkAAgAEAAYABAAFAAgABAADAAYABgAGAAUABgAIAAYABgAKAA4ADgAMAAwADgAPAA8AEQATAA4ACQAHAAEAAAAAAPn/8//1//b/8P/y//v//f/+/wAAAQACAAMAAwADAAcABgD///z/+v/4//n/9//x/+//7v/p/+v/8f/1//X/9v/5//z//f8AAAIAAgD/////AAAAAAEAAQAAAAAAAAD+/wAAAAD9//7////9////AAD+/wAAAQABAAEAAQAAAAAAAAABAAEAAgAAAAAAAQAAAAIAAQABAAEAAAAAAAAAAAAAAAAAAAAAAAAAAAAAAAAAAQAAAAAAAAAAAAAAAAABAAAA\" type=\"audio/wav\" />\n",
       "                    Your browser does not support the audio element.\n",
       "                </audio>\n",
       "              "
      ],
      "text/plain": [
       "<IPython.lib.display.Audio object>"
      ]
     },
     "metadata": {},
     "output_type": "display_data"
    }
   ],
   "source": [
    "ipd.display(ipd.Audio(audio_male, rate = sr_male), ipd.Audio(audio_female, rate = sr_female))"
   ]
  },
  {
   "cell_type": "markdown",
   "id": "6a47d465-89e8-4e45-9c9c-6216bb4bf4c2",
   "metadata": {
    "id": "6a47d465-89e8-4e45-9c9c-6216bb4bf4c2"
   },
   "source": [
    "- We can also plot the signal stored in the audio_file variable"
   ]
  },
  {
   "cell_type": "code",
   "execution_count": 41,
   "id": "9408a474-0510-407c-9e03-1031792ee8b0",
   "metadata": {
    "id": "9408a474-0510-407c-9e03-1031792ee8b0"
   },
   "outputs": [],
   "source": [
    " def plot_waveform_signal(audio, sr, title, color):\n",
    "\n",
    "    plt.figure(figsize = (8, 2))\n",
    "\n",
    "    ld.waveshow(audio, sr = sr, color = color, alpha = 0.7)\n",
    "\n",
    "    plt.title(title, fontsize = 14)\n",
    "    plt.xlabel(\"Time (s)\", fontsize = 10)\n",
    "    plt.ylabel(\"Amplitude (dB)\", fontsize = 10)\n",
    "\n",
    "    plt.show()"
   ]
  },
  {
   "cell_type": "code",
   "execution_count": 42,
   "id": "85708f84",
   "metadata": {
    "id": "85708f84",
    "outputId": "18515d42-743b-402f-9bcb-52f1af5d70bf"
   },
   "outputs": [
    {
     "data": {
      "image/png": "[encoded data removed]",
      "text/plain": [
       "<Figure size 800x200 with 1 Axes>"
      ]
     },
     "metadata": {},
     "output_type": "display_data"
    },
    {
     "data": {
      "image/png": "[encoded data removed]",
      "text/plain": [
       "<Figure size 800x200 with 1 Axes>"
      ]
     },
     "metadata": {},
     "output_type": "display_data"
    },
    {
     "data": {
      "text/plain": [
       "None"
      ]
     },
     "metadata": {},
     "output_type": "display_data"
    },
    {
     "data": {
      "text/plain": [
       "None"
      ]
     },
     "metadata": {},
     "output_type": "display_data"
    }
   ],
   "source": [
    "ipd.display(\n",
    "    plot_waveform_signal(\n",
    "        audio = audio_male, \n",
    "        sr = sr_male,\n",
    "        title = \"Audio Signal as Waveform - Male\",\n",
    "        color = m_color\n",
    "    ), \n",
    "        plot_waveform_signal(\n",
    "        audio = audio_female, \n",
    "        sr = sr_female,\n",
    "        title = \"Audio Signal as Waveform - Female\",\n",
    "        color = f_color\n",
    "    )\n",
    ")"
   ]
  },
  {
   "cell_type": "markdown",
   "id": "04cbb3b0-2774-4562-8c97-ff9556718774",
   "metadata": {
    "id": "04cbb3b0-2774-4562-8c97-ff9556718774"
   },
   "source": [
    "#### What we see here is the **waveform** representation of the spoken sentence: “Don't take any chances”\n",
    "\n",
    "The amplitude of the female audio reaches higher and lower numbers. This amplitude shows us the relative strength of sound waves (transmitted vibrations), which we perceive as loudness or volume.\n",
    "\n",
    "- If you play both audios a few times, you can notice that this difference in amplitude is not really easy to perceive by the human ear.\n",
    "\n",
    "\n",
    "- You can see the obvious difference caused by pronouncing the words in distinct ways, especially the last word - \"chances\" that looks as two words in the male plot, but it is actually one, just pronounced differently.\n",
    "\n",
    "<br>\n",
    " \n",
    "Ok, so, first we called it time-series data, but now we name it waveform? Well, it is both. This becomes clearer when we look only at a small segment of this audio file. The following plot shows the same thing as above, but this time only $45$ milliseconds of it."
   ]
  },
  {
   "cell_type": "code",
   "execution_count": 61,
   "id": "ca6c9091",
   "metadata": {
    "id": "ca6c9091",
    "outputId": "4544dfe6-bedc-45ff-e9ad-b6e1064172ea"
   },
   "outputs": [
    {
     "data": {
      "image/png": "[encoded data removed]",
      "text/plain": [
       "<Figure size 800x200 with 1 Axes>"
      ]
     },
     "metadata": {},
     "output_type": "display_data"
    },
    {
     "data": {
      "image/png": "[encoded data removed]",
      "text/plain": [
       "<Figure size 800x200 with 1 Axes>"
      ]
     },
     "metadata": {},
     "output_type": "display_data"
    },
    {
     "data": {
      "text/plain": [
       "None"
      ]
     },
     "metadata": {},
     "output_type": "display_data"
    },
    {
     "data": {
      "text/plain": [
       "None"
      ]
     },
     "metadata": {},
     "output_type": "display_data"
    }
   ],
   "source": [
    "ipd.display(\n",
    "    plot_waveform_signal(\n",
    "        audio = audio_male[15500 : 16500], \n",
    "        sr = sr_male,\n",
    "        title = \"Audio Signal as Waveform - Male\",\n",
    "        color = m_color\n",
    "    ), \n",
    "        plot_waveform_signal(\n",
    "        audio = audio_female[15500 : 16500], \n",
    "        sr = sr_female,\n",
    "        title = \"Audio Signal as Waveform - Female\",\n",
    "        color = f_color\n",
    "    )\n",
    ")"
   ]
  },
  {
   "cell_type": "markdown",
   "id": "142aae0c-ed92-486c-acb9-411541730b0f",
   "metadata": {
    "id": "142aae0c-ed92-486c-acb9-411541730b0f"
   },
   "source": [
    "What we can see is a temporal signal that oscillates around the value 0 with different frequencies and amplitudes.This signal represents the air pressure change over time, or the physical displacement of a loud speaker’s membrane (or the membrane in your ear for that matter). That’s why this depiction of the audio data is also called waveform.\n",
    "\n",
    "\n",
    "- The frequency is the speed with which this signal oscillates. Low frequency, e.g. $60 Hz$ could be the sound of bass guitar, while a birds song could be in the higher frequency of $8000 Hz$. Human speech is usually anywhere between that.\n",
    "\n",
    "\n",
    "- To know the interpretation speed of this signal, we also need to know the sampling rate at which the data was recorded. In this case, the sampling rate (after resampling from librosa) per second is $22.050$ or $22 kHz$. Which means that the $1.000$ time points we can see in the previous figure represents $45$ milliseconds $(1000 / 22.050 \\approxeq 0.045)$ of audio signal.\n",
    "\n",
    "\n",
    "- Seems that the male's voice frequency oscillates faster around the 0 line, this might be helpful to know.\n",
    "\n",
    "\n",
    "<br>\n",
    "\n",
    "### 3.1.1 The Fast Fourier Transform\n",
    "\n",
    "- While the previous visualization can tell us when something happens (i.e. between 1 and 5 seconds there seem to be a lot of waveforms), it cannot really tell us with what frequency it happens. Because the waveform shows us information about the when, this signal is also said to be in the time domain\n",
    "\n",
    "#### The Fast-Fourier transform is a mathematical formula that allows us to decompose a signal into it’s individual frequencies and the frequency’s amplitude. In other words, it converts the signal from the time domain into the frequency domain. The result is called a spectrum:\n",
    "\n",
    "<br>\n",
    "\n",
    "<div>\n",
    "<a href=\"https://imgur.com/Z833qxp\"><img src=\"https://i.imgur.com/Z833qxp.jpg\" title=\"source: imgur.com\" width = \"840px\"/></a>\n",
    "</div>\n",
    "\n",
    "#### This is possible because every signal can be decomposed into a set of sine and cosine waves that add up to the original signal. This is a remarkable theorem known as [Fourier’s theorem](https://www.sfu.ca/sonic-studio-webdav/handbook/Fourier_Theorem.html).\n",
    "\n",
    "<br>\n",
    "\n",
    "#### Let’s see what our sentence from before looks like, represented in the frequency domain:"
   ]
  },
  {
   "cell_type": "code",
   "execution_count": 44,
   "id": "d837d4d2-ae77-47fd-ad88-cb015e1b9609",
   "metadata": {
    "id": "d837d4d2-ae77-47fd-ad88-cb015e1b9609"
   },
   "outputs": [],
   "source": [
    "def plot_fft(audio, sr, title, color):\n",
    "    # Applies fast fourier transformation to the signal and takes absolute values\n",
    "    sample_freq = np.abs(scipy.fftpack.fft(audio))\n",
    "\n",
    "    # Adding a wrapper around the plot which additionally changes the x-axis to log scaling\n",
    "    frequencies = np.linspace(0, sr, len(sample_freq))\n",
    "\n",
    "    plt.figure(figsize = (8, 2))\n",
    "    plt.semilogx(\n",
    "        frequencies[: len(frequencies) // 2], \n",
    "        sample_freq[: len(frequencies) // 2], \n",
    "        color = color, \n",
    "        alpha = 0.7\n",
    "    )\n",
    "               \n",
    "    plt.title(title, fontsize = 14)\n",
    "    plt.xlabel(\"Frequency (Hz)\", fontsize = 10)\n",
    "    plt.ylabel(\"Amplitude\", fontsize = 10)\n",
    "\n",
    "    plt.show()"
   ]
  },
  {
   "cell_type": "code",
   "execution_count": 45,
   "id": "e639d1ed",
   "metadata": {
    "id": "e639d1ed",
    "outputId": "972fd8aa-e4b0-445a-8e1f-e0fca7ab2cc6"
   },
   "outputs": [
    {
     "data": {
      "image/png": "[encoded data removed]",
      "text/plain": [
       "<Figure size 800x200 with 1 Axes>"
      ]
     },
     "metadata": {},
     "output_type": "display_data"
    },
    {
     "data": {
      "image/png": "[encoded data removed]",
      "text/plain": [
       "<Figure size 800x200 with 1 Axes>"
      ]
     },
     "metadata": {},
     "output_type": "display_data"
    },
    {
     "data": {
      "text/plain": [
       "None"
      ]
     },
     "metadata": {},
     "output_type": "display_data"
    },
    {
     "data": {
      "text/plain": [
       "None"
      ]
     },
     "metadata": {},
     "output_type": "display_data"
    }
   ],
   "source": [
    "ipd.display(\n",
    "    plot_fft(\n",
    "        audio = audio_male,\n",
    "        sr = sr_male,\n",
    "        title = \"Fast Fourier Transform - Male Audio\",\n",
    "        color = m_color\n",
    "    ),\n",
    "    plot_fft(\n",
    "        audio = audio_female,\n",
    "        sr = sr_female,\n",
    "        title = \"Fast Fourier Transform - Female Audio\",\n",
    "        color = f_color\n",
    "    )\n",
    ")"
   ]
  },
  {
   "cell_type": "markdown",
   "id": "82db9902-6542-4f72-aaaa-e76453446f3d",
   "metadata": {
    "id": "82db9902-6542-4f72-aaaa-e76453446f3d"
   },
   "source": [
    "What you can see here is that most of the signal is somewhere between $~100 \\space and ~1000 Hz$ (i.e. between $10^2$ and $10^3$). Plus there seem to be some additional signals from 1’000 to 10’000 Hz that are stronger in the female voice.\n",
    "\n",
    "- That makes sense, as female voice is generally produces higher frequencies than male.\n",
    "\n",
    "<br>"
   ]
  },
  {
   "cell_type": "markdown",
   "id": "443472fe-1782-411c-9880-9747c72f906a",
   "metadata": {
    "id": "443472fe-1782-411c-9880-9747c72f906a"
   },
   "source": [
    "<a name = \"spectrogram\"></a>\n",
    "### 3. 1. 2 Spectrograms\n",
    "\n",
    "Luckily, we don’t always need to decide for either the time or frequency domain. Using a spectrogram plot, we can profit from both domains, while keeping most of their handicaps minimal. There are multiple ways how you can create such spectrogram plots, but for this project we will explore two of them in particular:\n",
    "\n",
    "<br>\n",
    "<a name = \"stft\"></a>\n",
    "\n",
    "#### Short-Time Fourier Transform\n",
    "\n",
    "Using a small, adapted version of the fast fourier transformation before, namely the short-time fourier transformation, we can create such a spectrogram. STFT works as the fast fourier transforms are computed for multiple small time windows (hence “short-time fourier”) in a sliding window manner."
   ]
  },
  {
   "cell_type": "code",
   "execution_count": 46,
   "id": "bbecde02-d3f6-496e-9ed2-ab2ea55f92ee",
   "metadata": {
    "id": "bbecde02-d3f6-496e-9ed2-ab2ea55f92ee"
   },
   "outputs": [],
   "source": [
    "def plot_stft(audio, sr, title):\n",
    "    # Compute short-time Fourier Transform\n",
    "    x_stft = np.abs(librosa.stft(audio))\n",
    "\n",
    "    # Apply logarithmic dB-scale to spectrogram and set maximum to 0 dB\n",
    "    x_stft = librosa.amplitude_to_db(x_stft, ref = np.max)\n",
    "\n",
    "    # Plot STFT spectrogram\n",
    "    plt.figure(figsize = (6, 3))\n",
    "\n",
    "    ld.specshow(x_stft, sr = sr, x_axis = \"time\", y_axis = \"log\", cmap = \"coolwarm\")\n",
    "    plt.colorbar(format = \"%+2.0f dB\")\n",
    "    \n",
    "    plt.title(title, fontsize = 14)\n",
    "    plt.xlabel(\"Time (s)\", fontsize = 10)\n",
    "    plt.ylabel(\"Frequency (Hz)\", fontsize = 10)\n",
    "\n",
    "    plt.show()"
   ]
  },
  {
   "cell_type": "code",
   "execution_count": 47,
   "id": "662cc267",
   "metadata": {
    "id": "662cc267",
    "outputId": "a174df8a-aab1-499a-c245-8635879790d7"
   },
   "outputs": [
    {
     "data": {
      "image/png": "[encoded data removed]",
      "text/plain": [
       "<Figure size 600x300 with 2 Axes>"
      ]
     },
     "metadata": {},
     "output_type": "display_data"
    },
    {
     "data": {
      "image/png": "[encoded data removed]",
      "text/plain": [
       "<Figure size 600x300 with 2 Axes>"
      ]
     },
     "metadata": {},
     "output_type": "display_data"
    },
    {
     "data": {
      "text/plain": [
       "None"
      ]
     },
     "metadata": {},
     "output_type": "display_data"
    },
    {
     "data": {
      "text/plain": [
       "None"
      ]
     },
     "metadata": {},
     "output_type": "display_data"
    }
   ],
   "source": [
    "ipd.display(\n",
    "    plot_stft(\n",
    "        audio = audio_male,\n",
    "        sr = sr_male,\n",
    "        title = \"Short Time Fourier Transform - Male Audio\"\n",
    "    ),\n",
    "    plot_stft(\n",
    "        audio = audio_female,\n",
    "        sr = sr_female,\n",
    "        title = \"Short Time Fourier Transform - Female Audio\"\n",
    "    )\n",
    ")"
   ]
  },
  {
   "cell_type": "markdown",
   "id": "dd0b1f30-5f9a-43a0-9d56-d9c0aeb2429a",
   "metadata": {
    "id": "dd0b1f30-5f9a-43a0-9d56-d9c0aeb2429a"
   },
   "source": [
    "\n",
    "- In all spectrogram plots, the color represents the amount (loudness/volume) of a given frequency, at a given timepoint. +0dB is the loudest, and -80dB is close to silence. On the horizontal x-axis we can see the time, while on the vertical y-axis we can see the different frequencies.\n",
    "\n",
    "\n",
    "- This plot shows, that the female voice is generally stronger on the higher frequencies (256-512Hz) and the male voice is stronger in the lower (around 128Hz) frequencies.\n",
    "\n",
    "<br>\n",
    "<a name = \"mel\"></a>\n",
    "\n",
    "#### The Mel Spectrogram\n",
    "\n",
    "As an alternative to the STFT, we can also compute the mel spectrogram, which is based on the [mel scale](https://www.sfu.ca/sonic-studio-webdav/handbook/Mel.html). This scale accounts for the way we human perceive a sound’s pitch. The mel scale is calculated so that two pairs of frequencies separated by a delta in the mel scale are perceived by humans as having the same perceptual difference.\n",
    "\n",
    "- The mel spectrogram is computed very similar to the STFT, the main difference is just that the y-axis uses a different scale."
   ]
  },
  {
   "cell_type": "code",
   "execution_count": 48,
   "id": "0d638f8b-ab5f-4495-b3d9-9188a8c351a2",
   "metadata": {
    "id": "0d638f8b-ab5f-4495-b3d9-9188a8c351a2"
   },
   "outputs": [],
   "source": [
    "def plot_mel_spectrogram(audio, sr, title):\n",
    "    x_mel = librosa.feature.melspectrogram(y = audio, sr = sr)\n",
    "\n",
    "    # Apply logarithmic dB-scale to spectrogram and set maximum to 0 dB\n",
    "    x_mel = librosa.power_to_db(x_mel, ref = np.max)\n",
    "\n",
    "    plt.figure(figsize = (6, 3))\n",
    "    ld.specshow(x_mel, sr = sr, x_axis = \"time\", y_axis = \"mel\", cmap = \"coolwarm\")\n",
    "    plt.colorbar(format = \"%+2.0f dB\")\n",
    "    \n",
    "    plt.title(title, fontsize = 14)\n",
    "    plt.xlabel(\"Time (s)\", fontsize = 10)\n",
    "    plt.ylabel(\"Frequency (Hz)\", fontsize = 10)\n",
    "    plt.show()"
   ]
  },
  {
   "cell_type": "code",
   "execution_count": 49,
   "id": "2668fd32",
   "metadata": {
    "id": "2668fd32",
    "outputId": "138b79e7-0001-406d-8f75-fb28cb3cc251"
   },
   "outputs": [
    {
     "data": {
      "image/png": "[encoded data removed]",
      "text/plain": [
       "<Figure size 600x300 with 2 Axes>"
      ]
     },
     "metadata": {},
     "output_type": "display_data"
    },
    {
     "data": {
      "image/png": "[encoded data removed]",
      "text/plain": [
       "<Figure size 600x300 with 2 Axes>"
      ]
     },
     "metadata": {},
     "output_type": "display_data"
    },
    {
     "data": {
      "text/plain": [
       "None"
      ]
     },
     "metadata": {},
     "output_type": "display_data"
    },
    {
     "data": {
      "text/plain": [
       "None"
      ]
     },
     "metadata": {},
     "output_type": "display_data"
    }
   ],
   "source": [
    "ipd.display(\n",
    "    plot_mel_spectrogram(\n",
    "        audio = audio_male,\n",
    "        sr = sr_male,\n",
    "        title = \"Mel Spectrogram - Male\"\n",
    "    ),\n",
    "    plot_mel_spectrogram(\n",
    "        audio = audio_male,\n",
    "        sr = sr_male,\n",
    "        title = \"Mel Spectrogram - Male\"\n",
    "    )\n",
    ")"
   ]
  },
  {
   "cell_type": "markdown",
   "id": "0a50499a-939f-4ee9-94f3-f8c6dba57cb8",
   "metadata": {
    "id": "0a50499a-939f-4ee9-94f3-f8c6dba57cb8"
   },
   "source": [
    "- The difference to the STFT might not be too obvious first, but if we take a closer look, we can see that in the STFT plot, the frequency from 0 to 512 Hz take much more space on the y-axis than in the Mel plot.\n",
    "\n",
    "__Note: We are not going to explore all the audio features that we will use in our model in order to save some time and focus on the modelling. Later we will shortly introduce each feature with some general information of it.__\n",
    "\n",
    "<br>\n",
    "\n",
    "\n",
    "#### We saw how our audio features can help our model recognize the speaker's gender, let's now see how to extract those features in the fastest and most effective way."
   ]
  },
  {
   "cell_type": "markdown",
   "id": "deed8583-86f1-4866-b86f-5144f1e2ad90",
   "metadata": {
    "id": "deed8583-86f1-4866-b86f-5144f1e2ad90"
   },
   "source": [
    "<br>\n",
    "\n",
    "<a name = \"feature_ee\"></a>\n",
    "## 4. Feature Extraction & Engineering"
   ]
  },
  {
   "cell_type": "markdown",
   "id": "5c5622ee-034a-443b-bfc4-f5c894d9f53b",
   "metadata": {
    "id": "5c5622ee-034a-443b-bfc4-f5c894d9f53b"
   },
   "source": [
    "In this part we will use the [pyAudioAnalysis](https://github.com/tyiannak/pyAudioAnalysis/wiki) library - an open-source Python library that provides a wide range of audio-related functionalities focusing on feature extraction, classification, segmentation and visualization issues.\n",
    "\n",
    "There are two stages in the audio feature extraction methodology:\n",
    "\n",
    "- __Short-term feature extraction__: It splits the input signal into short-term widnows (frames) and computes a number of features for each frame. This process leads to a sequence of short-term feature vectors for the whole signal.\n",
    "\n",
    "\n",
    "- __Mid-term feature extraction__: In many cases, the signal is represented by statistics on the extracted short-term feature sequences described above. Towards this end, function mid_feature_extraction() from the MidTermFeatures.py file extracts a number of statistcs (e.g. mean and standard deviation) over each short-term feature sequence.\n",
    "\n",
    "\n",
    "#### We will use the second type of extraction to gain more information from our data. Those are the implemented features that we will extract:\n",
    "\n",
    "    1. Zero Crossing Rate  - The rate of sign-changes of the signal during the duration of a particular frame.\n",
    "\n",
    "    2. Energy - The sum of squares of the signal values, normalized by the respective frame length.\n",
    "    \n",
    "    3. Entropy of Energy - The entropy of sub-frames' normalized energies. It can be interpreted as a measure of abrupt changes.\n",
    "    \n",
    "    4. Spectral Centroid - The center of gravity of the spectrum.\n",
    "    \n",
    "    5. Spectral Spread - The second central moment of the spectrum.\n",
    "    \n",
    "    6. Spectral Entropy - Entropy of the normalized spectral energies for a set of sub-frames.\n",
    "\n",
    "    7. Spectral Flux - The squared difference between the normalized magnitudes of the spectra of the two successive frames.\n",
    "\n",
    "    8. Spectral Rolloff - The frequency below which 90% of the magnitude distribution of the spectrum is concentrated.\n",
    "    \n",
    "    9. MFCCs - Mel Frequency Cepstral Coefficients form a cepstral representation where the frequency bands are not linear but distributed according to the mel-scale.\n",
    "\n",
    "    10. Chroma Vector - A 12-element representation of the spectral energy where the bins represent the 12 equal-tempered pitch classes of western-type music (semitone spacing).\n",
    "    \n",
    "    11. Chroma Deviation - The standard deviation of the 12 chroma coefficients.\n",
    "    \n",
    "<br>\n",
    "\n",
    "#### First, we will need to convert our data to .wav format, because pyAudioAnalysis works much faster with that format (as a reference, the time estimated to extract the features for  500k of audios was over 1400 hours...)."
   ]
  },
  {
   "cell_type": "code",
   "execution_count": 69,
   "id": "6c0468c4",
   "metadata": {},
   "outputs": [],
   "source": [
    "def convert_mp3_to_wav(path):\n",
    "    new_path = os.chdir(path)\n",
    "    audio_files = os.listdir(new_path)\n",
    "\n",
    "    for file in audio_files:\n",
    "        # Split the file into the name and the extension\n",
    "        name, extension = os.path.splitext(file)\n",
    "        if extension == \".mp3\":\n",
    "            mp3_sound = AudioSegment.from_mp3(file)\n",
    "           # Convert and rename the files using the old name + \".wav\"\n",
    "            mp3_sound.export(\"{0}.wav\".format(name), format = \"wav\")\n",
    "    \n",
    "    os.chdir(CSV_PATH)"
   ]
  },
  {
   "cell_type": "code",
   "execution_count": 70,
   "id": "d98ab6a9",
   "metadata": {},
   "outputs": [
    {
     "ename": "KeyboardInterrupt",
     "evalue": "",
     "output_type": "error",
     "traceback": [
      "\u001b[0;31m---------------------------------------------------------------------------\u001b[0m",
      "\u001b[0;31mKeyboardInterrupt\u001b[0m                         Traceback (most recent call last)",
      "\u001b[0;32m/tmp/ipykernel_39940/2092727331.py\u001b[0m in \u001b[0;36m<module>\u001b[0;34m\u001b[0m\n\u001b[0;32m----> 1\u001b[0;31m \u001b[0mconvert_mp3_to_wav\u001b[0m\u001b[0;34m(\u001b[0m\u001b[0mAUDIO_PATH\u001b[0m\u001b[0;34m)\u001b[0m\u001b[0;34m\u001b[0m\u001b[0;34m\u001b[0m\u001b[0m\n\u001b[0m",
      "\u001b[0;32m/tmp/ipykernel_39940/1095807281.py\u001b[0m in \u001b[0;36mconvert_mp3_to_wav\u001b[0;34m(path)\u001b[0m\n\u001b[1;32m      7\u001b[0m         \u001b[0mname\u001b[0m\u001b[0;34m,\u001b[0m \u001b[0mextension\u001b[0m \u001b[0;34m=\u001b[0m \u001b[0mos\u001b[0m\u001b[0;34m.\u001b[0m\u001b[0mpath\u001b[0m\u001b[0;34m.\u001b[0m\u001b[0msplitext\u001b[0m\u001b[0;34m(\u001b[0m\u001b[0mfile\u001b[0m\u001b[0;34m)\u001b[0m\u001b[0;34m\u001b[0m\u001b[0;34m\u001b[0m\u001b[0m\n\u001b[1;32m      8\u001b[0m         \u001b[0;32mif\u001b[0m \u001b[0mextension\u001b[0m \u001b[0;34m==\u001b[0m \u001b[0;34m\".mp3\"\u001b[0m\u001b[0;34m:\u001b[0m\u001b[0;34m\u001b[0m\u001b[0;34m\u001b[0m\u001b[0m\n\u001b[0;32m----> 9\u001b[0;31m             \u001b[0mmp3_sound\u001b[0m \u001b[0;34m=\u001b[0m \u001b[0mAudioSegment\u001b[0m\u001b[0;34m.\u001b[0m\u001b[0mfrom_mp3\u001b[0m\u001b[0;34m(\u001b[0m\u001b[0mfile\u001b[0m\u001b[0;34m)\u001b[0m\u001b[0;34m\u001b[0m\u001b[0;34m\u001b[0m\u001b[0m\n\u001b[0m\u001b[1;32m     10\u001b[0m            \u001b[0;31m# Convert and rename the files using the old name + \".wav\"\u001b[0m\u001b[0;34m\u001b[0m\u001b[0;34m\u001b[0m\u001b[0;34m\u001b[0m\u001b[0m\n\u001b[1;32m     11\u001b[0m             \u001b[0mmp3_sound\u001b[0m\u001b[0;34m.\u001b[0m\u001b[0mexport\u001b[0m\u001b[0;34m(\u001b[0m\u001b[0;34m\"{0}.wav\"\u001b[0m\u001b[0;34m.\u001b[0m\u001b[0mformat\u001b[0m\u001b[0;34m(\u001b[0m\u001b[0mname\u001b[0m\u001b[0;34m)\u001b[0m\u001b[0;34m,\u001b[0m \u001b[0mformat\u001b[0m \u001b[0;34m=\u001b[0m \u001b[0;34m\"wav\"\u001b[0m\u001b[0;34m)\u001b[0m\u001b[0;34m\u001b[0m\u001b[0;34m\u001b[0m\u001b[0m\n",
      "\u001b[0;32m~/anaconda3/envs/introsphere/lib/python3.7/site-packages/pydub/audio_segment.py\u001b[0m in \u001b[0;36mfrom_mp3\u001b[0;34m(cls, file, parameters)\u001b[0m\n\u001b[1;32m    794\u001b[0m     \u001b[0;34m@\u001b[0m\u001b[0mclassmethod\u001b[0m\u001b[0;34m\u001b[0m\u001b[0;34m\u001b[0m\u001b[0m\n\u001b[1;32m    795\u001b[0m     \u001b[0;32mdef\u001b[0m \u001b[0mfrom_mp3\u001b[0m\u001b[0;34m(\u001b[0m\u001b[0mcls\u001b[0m\u001b[0;34m,\u001b[0m \u001b[0mfile\u001b[0m\u001b[0;34m,\u001b[0m \u001b[0mparameters\u001b[0m\u001b[0;34m=\u001b[0m\u001b[0;32mNone\u001b[0m\u001b[0;34m)\u001b[0m\u001b[0;34m:\u001b[0m\u001b[0;34m\u001b[0m\u001b[0;34m\u001b[0m\u001b[0m\n\u001b[0;32m--> 796\u001b[0;31m         \u001b[0;32mreturn\u001b[0m \u001b[0mcls\u001b[0m\u001b[0;34m.\u001b[0m\u001b[0mfrom_file\u001b[0m\u001b[0;34m(\u001b[0m\u001b[0mfile\u001b[0m\u001b[0;34m,\u001b[0m \u001b[0;34m'mp3'\u001b[0m\u001b[0;34m,\u001b[0m \u001b[0mparameters\u001b[0m\u001b[0;34m=\u001b[0m\u001b[0mparameters\u001b[0m\u001b[0;34m)\u001b[0m\u001b[0;34m\u001b[0m\u001b[0;34m\u001b[0m\u001b[0m\n\u001b[0m\u001b[1;32m    797\u001b[0m \u001b[0;34m\u001b[0m\u001b[0m\n\u001b[1;32m    798\u001b[0m     \u001b[0;34m@\u001b[0m\u001b[0mclassmethod\u001b[0m\u001b[0;34m\u001b[0m\u001b[0;34m\u001b[0m\u001b[0m\n",
      "\u001b[0;32m~/anaconda3/envs/introsphere/lib/python3.7/site-packages/pydub/audio_segment.py\u001b[0m in \u001b[0;36mfrom_file\u001b[0;34m(cls, file, format, codec, parameters, start_second, duration, **kwargs)\u001b[0m\n\u001b[1;32m    766\u001b[0m         p = subprocess.Popen(conversion_command, stdin=stdin_parameter,\n\u001b[1;32m    767\u001b[0m                              stdout=subprocess.PIPE, stderr=subprocess.PIPE)\n\u001b[0;32m--> 768\u001b[0;31m         \u001b[0mp_out\u001b[0m\u001b[0;34m,\u001b[0m \u001b[0mp_err\u001b[0m \u001b[0;34m=\u001b[0m \u001b[0mp\u001b[0m\u001b[0;34m.\u001b[0m\u001b[0mcommunicate\u001b[0m\u001b[0;34m(\u001b[0m\u001b[0minput\u001b[0m\u001b[0;34m=\u001b[0m\u001b[0mstdin_data\u001b[0m\u001b[0;34m)\u001b[0m\u001b[0;34m\u001b[0m\u001b[0;34m\u001b[0m\u001b[0m\n\u001b[0m\u001b[1;32m    769\u001b[0m \u001b[0;34m\u001b[0m\u001b[0m\n\u001b[1;32m    770\u001b[0m         \u001b[0;32mif\u001b[0m \u001b[0mp\u001b[0m\u001b[0;34m.\u001b[0m\u001b[0mreturncode\u001b[0m \u001b[0;34m!=\u001b[0m \u001b[0;36m0\u001b[0m \u001b[0;32mor\u001b[0m \u001b[0mlen\u001b[0m\u001b[0;34m(\u001b[0m\u001b[0mp_out\u001b[0m\u001b[0;34m)\u001b[0m \u001b[0;34m==\u001b[0m \u001b[0;36m0\u001b[0m\u001b[0;34m:\u001b[0m\u001b[0;34m\u001b[0m\u001b[0;34m\u001b[0m\u001b[0m\n",
      "\u001b[0;32m~/anaconda3/envs/introsphere/lib/python3.7/subprocess.py\u001b[0m in \u001b[0;36mcommunicate\u001b[0;34m(self, input, timeout)\u001b[0m\n\u001b[1;32m    962\u001b[0m \u001b[0;34m\u001b[0m\u001b[0m\n\u001b[1;32m    963\u001b[0m             \u001b[0;32mtry\u001b[0m\u001b[0;34m:\u001b[0m\u001b[0;34m\u001b[0m\u001b[0;34m\u001b[0m\u001b[0m\n\u001b[0;32m--> 964\u001b[0;31m                 \u001b[0mstdout\u001b[0m\u001b[0;34m,\u001b[0m \u001b[0mstderr\u001b[0m \u001b[0;34m=\u001b[0m \u001b[0mself\u001b[0m\u001b[0;34m.\u001b[0m\u001b[0m_communicate\u001b[0m\u001b[0;34m(\u001b[0m\u001b[0minput\u001b[0m\u001b[0;34m,\u001b[0m \u001b[0mendtime\u001b[0m\u001b[0;34m,\u001b[0m \u001b[0mtimeout\u001b[0m\u001b[0;34m)\u001b[0m\u001b[0;34m\u001b[0m\u001b[0;34m\u001b[0m\u001b[0m\n\u001b[0m\u001b[1;32m    965\u001b[0m             \u001b[0;32mexcept\u001b[0m \u001b[0mKeyboardInterrupt\u001b[0m\u001b[0;34m:\u001b[0m\u001b[0;34m\u001b[0m\u001b[0;34m\u001b[0m\u001b[0m\n\u001b[1;32m    966\u001b[0m                 \u001b[0;31m# https://bugs.python.org/issue25942\u001b[0m\u001b[0;34m\u001b[0m\u001b[0;34m\u001b[0m\u001b[0;34m\u001b[0m\u001b[0m\n",
      "\u001b[0;32m~/anaconda3/envs/introsphere/lib/python3.7/subprocess.py\u001b[0m in \u001b[0;36m_communicate\u001b[0;34m(self, input, endtime, orig_timeout)\u001b[0m\n\u001b[1;32m   1713\u001b[0m                             'failed to raise TimeoutExpired.')\n\u001b[1;32m   1714\u001b[0m \u001b[0;34m\u001b[0m\u001b[0m\n\u001b[0;32m-> 1715\u001b[0;31m                     \u001b[0mready\u001b[0m \u001b[0;34m=\u001b[0m \u001b[0mselector\u001b[0m\u001b[0;34m.\u001b[0m\u001b[0mselect\u001b[0m\u001b[0;34m(\u001b[0m\u001b[0mtimeout\u001b[0m\u001b[0;34m)\u001b[0m\u001b[0;34m\u001b[0m\u001b[0;34m\u001b[0m\u001b[0m\n\u001b[0m\u001b[1;32m   1716\u001b[0m                     \u001b[0mself\u001b[0m\u001b[0;34m.\u001b[0m\u001b[0m_check_timeout\u001b[0m\u001b[0;34m(\u001b[0m\u001b[0mendtime\u001b[0m\u001b[0;34m,\u001b[0m \u001b[0morig_timeout\u001b[0m\u001b[0;34m,\u001b[0m \u001b[0mstdout\u001b[0m\u001b[0;34m,\u001b[0m \u001b[0mstderr\u001b[0m\u001b[0;34m)\u001b[0m\u001b[0;34m\u001b[0m\u001b[0;34m\u001b[0m\u001b[0m\n\u001b[1;32m   1717\u001b[0m \u001b[0;34m\u001b[0m\u001b[0m\n",
      "\u001b[0;32m~/anaconda3/envs/introsphere/lib/python3.7/selectors.py\u001b[0m in \u001b[0;36mselect\u001b[0;34m(self, timeout)\u001b[0m\n\u001b[1;32m    413\u001b[0m         \u001b[0mready\u001b[0m \u001b[0;34m=\u001b[0m \u001b[0;34m[\u001b[0m\u001b[0;34m]\u001b[0m\u001b[0;34m\u001b[0m\u001b[0;34m\u001b[0m\u001b[0m\n\u001b[1;32m    414\u001b[0m         \u001b[0;32mtry\u001b[0m\u001b[0;34m:\u001b[0m\u001b[0;34m\u001b[0m\u001b[0;34m\u001b[0m\u001b[0m\n\u001b[0;32m--> 415\u001b[0;31m             \u001b[0mfd_event_list\u001b[0m \u001b[0;34m=\u001b[0m \u001b[0mself\u001b[0m\u001b[0;34m.\u001b[0m\u001b[0m_selector\u001b[0m\u001b[0;34m.\u001b[0m\u001b[0mpoll\u001b[0m\u001b[0;34m(\u001b[0m\u001b[0mtimeout\u001b[0m\u001b[0;34m)\u001b[0m\u001b[0;34m\u001b[0m\u001b[0;34m\u001b[0m\u001b[0m\n\u001b[0m\u001b[1;32m    416\u001b[0m         \u001b[0;32mexcept\u001b[0m \u001b[0mInterruptedError\u001b[0m\u001b[0;34m:\u001b[0m\u001b[0;34m\u001b[0m\u001b[0;34m\u001b[0m\u001b[0m\n\u001b[1;32m    417\u001b[0m             \u001b[0;32mreturn\u001b[0m \u001b[0mready\u001b[0m\u001b[0;34m\u001b[0m\u001b[0;34m\u001b[0m\u001b[0m\n",
      "\u001b[0;31mKeyboardInterrupt\u001b[0m: "
     ]
    }
   ],
   "source": [
    "convert_mp3_to_wav(AUDIO_PATH)"
   ]
  },
  {
   "cell_type": "markdown",
   "id": "93a18199",
   "metadata": {},
   "source": [
    "We will delete the mp3 files with the following function:"
   ]
  },
  {
   "cell_type": "code",
   "execution_count": null,
   "id": "b724b5f5",
   "metadata": {},
   "outputs": [],
   "source": [
    "def delete_mp3_files(path, data):\n",
    "\n",
    "    os.chdir(path)\n",
    "    audio_files = os.listdir()\n",
    "    files_deleted = 0\n",
    "\n",
    "    for file in audio_files:\n",
    "        name, extension = os.path.splitext(file)\n",
    "        if extension == \".mp3\":\n",
    "            os.remove(file)\n",
    "            files_deleted += 1\n",
    "            \n",
    "    os.chdir(CSV_PATH)\n",
    "    print(f\"{files_deleted} .mp3 files deleted from this folder.\")"
   ]
  },
  {
   "cell_type": "markdown",
   "id": "c5380e29-37af-45a6-9149-f9bcc82e7ae9",
   "metadata": {
    "id": "c5380e29-37af-45a6-9149-f9bcc82e7ae9"
   },
   "source": [
    "<br>\n",
    "\n",
    "#### Now let's go ahead and write a function to extract our mid-term features."
   ]
  },
  {
   "cell_type": "code",
   "execution_count": 36,
   "id": "d8292bc7",
   "metadata": {
    "id": "d8292bc7"
   },
   "outputs": [],
   "source": [
    "def mt_feature_extractor(path):\n",
    "    features, files, feature_names = MTF.directory_feature_extraction(path, 1, 1, 0.1, 0.05)\n",
    "    \n",
    "    df = pd.DataFrame(features, columns = feature_names)\n",
    "    df[\"filename\"] = [file for file in files]\n",
    "    \n",
    "    return df"
   ]
  },
  {
   "cell_type": "markdown",
   "id": "a3db22b4-7cec-48b4-a3bf-14d2aac57a3f",
   "metadata": {
    "id": "a3db22b4-7cec-48b4-a3bf-14d2aac57a3f"
   },
   "source": [
    "- We can now apply our function and extract all the features from the audio folder:"
   ]
  },
  {
   "cell_type": "code",
   "execution_count": 63,
   "id": "a8458fa0",
   "metadata": {
    "scrolled": true
   },
   "outputs": [
    {
     "name": "stdout",
     "output_type": "stream",
     "text": [
      "Analyzing file 1 of 515310: /home/faeron/Desktop/ML Exam Project/data/en/clips/common_voice_en_100038.mp3\n",
      "Analyzing file 2 of 515310: /home/faeron/Desktop/ML Exam Project/data/en/clips/common_voice_en_100040.mp3\n",
      "Analyzing file 3 of 515310: /home/faeron/Desktop/ML Exam Project/data/en/clips/common_voice_en_100166.mp3\n",
      "Analyzing file 4 of 515310: /home/faeron/Desktop/ML Exam Project/data/en/clips/common_voice_en_100168.mp3\n",
      "Analyzing file 5 of 515310: /home/faeron/Desktop/ML Exam Project/data/en/clips/common_voice_en_100169.mp3\n",
      "Analyzing file 6 of 515310: /home/faeron/Desktop/ML Exam Project/data/en/clips/common_voice_en_100170.mp3\n",
      "Analyzing file 7 of 515310: /home/faeron/Desktop/ML Exam Project/data/en/clips/common_voice_en_100171.mp3\n",
      "Analyzing file 8 of 515310: /home/faeron/Desktop/ML Exam Project/data/en/clips/common_voice_en_100172.mp3\n",
      "Analyzing file 9 of 515310: /home/faeron/Desktop/ML Exam Project/data/en/clips/common_voice_en_100173.mp3\n",
      "Analyzing file 10 of 515310: /home/faeron/Desktop/ML Exam Project/data/en/clips/common_voice_en_100174.mp3\n",
      "Analyzing file 11 of 515310: /home/faeron/Desktop/ML Exam Project/data/en/clips/common_voice_en_100176.mp3\n",
      "Analyzing file 12 of 515310: /home/faeron/Desktop/ML Exam Project/data/en/clips/common_voice_en_100177.mp3\n",
      "Analyzing file 13 of 515310: /home/faeron/Desktop/ML Exam Project/data/en/clips/common_voice_en_100311.mp3\n",
      "Analyzing file 14 of 515310: /home/faeron/Desktop/ML Exam Project/data/en/clips/common_voice_en_100313.mp3\n",
      "Analyzing file 15 of 515310: /home/faeron/Desktop/ML Exam Project/data/en/clips/common_voice_en_100314.mp3\n",
      "Analyzing file 16 of 515310: /home/faeron/Desktop/ML Exam Project/data/en/clips/common_voice_en_100317.mp3\n",
      "Analyzing file 17 of 515310: /home/faeron/Desktop/ML Exam Project/data/en/clips/common_voice_en_100318.mp3\n",
      "Analyzing file 18 of 515310: /home/faeron/Desktop/ML Exam Project/data/en/clips/common_voice_en_100322.mp3\n",
      "Analyzing file 19 of 515310: /home/faeron/Desktop/ML Exam Project/data/en/clips/common_voice_en_100324.mp3\n",
      "Analyzing file 20 of 515310: /home/faeron/Desktop/ML Exam Project/data/en/clips/common_voice_en_100328.mp3\n",
      "Analyzing file 21 of 515310: /home/faeron/Desktop/ML Exam Project/data/en/clips/common_voice_en_100331.mp3\n",
      "Analyzing file 22 of 515310: /home/faeron/Desktop/ML Exam Project/data/en/clips/common_voice_en_100333.mp3\n",
      "Analyzing file 23 of 515310: /home/faeron/Desktop/ML Exam Project/data/en/clips/common_voice_en_100335.mp3\n",
      "Analyzing file 24 of 515310: /home/faeron/Desktop/ML Exam Project/data/en/clips/common_voice_en_100337.mp3\n",
      "Analyzing file 25 of 515310: /home/faeron/Desktop/ML Exam Project/data/en/clips/common_voice_en_100339.mp3\n",
      "Analyzing file 26 of 515310: /home/faeron/Desktop/ML Exam Project/data/en/clips/common_voice_en_100344.mp3\n",
      "Analyzing file 27 of 515310: /home/faeron/Desktop/ML Exam Project/data/en/clips/common_voice_en_100349.mp3\n",
      "Analyzing file 28 of 515310: /home/faeron/Desktop/ML Exam Project/data/en/clips/common_voice_en_100369.mp3\n",
      "Analyzing file 29 of 515310: /home/faeron/Desktop/ML Exam Project/data/en/clips/common_voice_en_100370.mp3\n",
      "Analyzing file 30 of 515310: /home/faeron/Desktop/ML Exam Project/data/en/clips/common_voice_en_100371.mp3\n",
      "Analyzing file 31 of 515310: /home/faeron/Desktop/ML Exam Project/data/en/clips/common_voice_en_100372.mp3\n",
      "Analyzing file 32 of 515310: /home/faeron/Desktop/ML Exam Project/data/en/clips/common_voice_en_100375.mp3\n",
      "Analyzing file 33 of 515310: /home/faeron/Desktop/ML Exam Project/data/en/clips/common_voice_en_100376.mp3\n",
      "Analyzing file 34 of 515310: /home/faeron/Desktop/ML Exam Project/data/en/clips/common_voice_en_100377.mp3\n",
      "Analyzing file 35 of 515310: /home/faeron/Desktop/ML Exam Project/data/en/clips/common_voice_en_100379.mp3\n",
      "Analyzing file 36 of 515310: /home/faeron/Desktop/ML Exam Project/data/en/clips/common_voice_en_100383.mp3\n",
      "Analyzing file 37 of 515310: /home/faeron/Desktop/ML Exam Project/data/en/clips/common_voice_en_100384.mp3\n",
      "Analyzing file 38 of 515310: /home/faeron/Desktop/ML Exam Project/data/en/clips/common_voice_en_100385.mp3\n",
      "Analyzing file 39 of 515310: /home/faeron/Desktop/ML Exam Project/data/en/clips/common_voice_en_100387.mp3\n",
      "Analyzing file 40 of 515310: /home/faeron/Desktop/ML Exam Project/data/en/clips/common_voice_en_100388.mp3\n",
      "Analyzing file 41 of 515310: /home/faeron/Desktop/ML Exam Project/data/en/clips/common_voice_en_100393.mp3\n",
      "Analyzing file 42 of 515310: /home/faeron/Desktop/ML Exam Project/data/en/clips/common_voice_en_100395.mp3\n",
      "Analyzing file 43 of 515310: /home/faeron/Desktop/ML Exam Project/data/en/clips/common_voice_en_100396.mp3\n",
      "Analyzing file 44 of 515310: /home/faeron/Desktop/ML Exam Project/data/en/clips/common_voice_en_100403.mp3\n",
      "Analyzing file 45 of 515310: /home/faeron/Desktop/ML Exam Project/data/en/clips/common_voice_en_100409.mp3\n",
      "Analyzing file 46 of 515310: /home/faeron/Desktop/ML Exam Project/data/en/clips/common_voice_en_100410.mp3\n",
      "Analyzing file 47 of 515310: /home/faeron/Desktop/ML Exam Project/data/en/clips/common_voice_en_100411.mp3\n",
      "Analyzing file 48 of 515310: /home/faeron/Desktop/ML Exam Project/data/en/clips/common_voice_en_100417.mp3\n",
      "Analyzing file 49 of 515310: /home/faeron/Desktop/ML Exam Project/data/en/clips/common_voice_en_100424.mp3\n",
      "Analyzing file 50 of 515310: /home/faeron/Desktop/ML Exam Project/data/en/clips/common_voice_en_100425.mp3\n",
      "Analyzing file 51 of 515310: /home/faeron/Desktop/ML Exam Project/data/en/clips/common_voice_en_100427.mp3\n",
      "Analyzing file 52 of 515310: /home/faeron/Desktop/ML Exam Project/data/en/clips/common_voice_en_100430.mp3\n",
      "Analyzing file 53 of 515310: /home/faeron/Desktop/ML Exam Project/data/en/clips/common_voice_en_100435.mp3\n",
      "Analyzing file 54 of 515310: /home/faeron/Desktop/ML Exam Project/data/en/clips/common_voice_en_100436.mp3\n",
      "Analyzing file 55 of 515310: /home/faeron/Desktop/ML Exam Project/data/en/clips/common_voice_en_100437.mp3\n",
      "Analyzing file 56 of 515310: /home/faeron/Desktop/ML Exam Project/data/en/clips/common_voice_en_100441.mp3\n",
      "Analyzing file 57 of 515310: /home/faeron/Desktop/ML Exam Project/data/en/clips/common_voice_en_100444.mp3\n",
      "Analyzing file 58 of 515310: /home/faeron/Desktop/ML Exam Project/data/en/clips/common_voice_en_1004468.mp3\n",
      "Analyzing file 59 of 515310: /home/faeron/Desktop/ML Exam Project/data/en/clips/common_voice_en_1004471.mp3\n",
      "Analyzing file 60 of 515310: /home/faeron/Desktop/ML Exam Project/data/en/clips/common_voice_en_1004473.mp3\n",
      "Analyzing file 61 of 515310: /home/faeron/Desktop/ML Exam Project/data/en/clips/common_voice_en_100449.mp3\n",
      "Analyzing file 62 of 515310: /home/faeron/Desktop/ML Exam Project/data/en/clips/common_voice_en_100451.mp3\n",
      "Analyzing file 63 of 515310: /home/faeron/Desktop/ML Exam Project/data/en/clips/common_voice_en_100456.mp3\n",
      "Analyzing file 64 of 515310: /home/faeron/Desktop/ML Exam Project/data/en/clips/common_voice_en_100467.mp3\n",
      "Analyzing file 65 of 515310: /home/faeron/Desktop/ML Exam Project/data/en/clips/common_voice_en_100468.mp3\n",
      "Analyzing file 66 of 515310: /home/faeron/Desktop/ML Exam Project/data/en/clips/common_voice_en_100469.mp3\n",
      "Analyzing file 67 of 515310: /home/faeron/Desktop/ML Exam Project/data/en/clips/common_voice_en_10047.mp3\n",
      "Analyzing file 68 of 515310: /home/faeron/Desktop/ML Exam Project/data/en/clips/common_voice_en_100473.mp3\n",
      "Analyzing file 69 of 515310: /home/faeron/Desktop/ML Exam Project/data/en/clips/common_voice_en_100474.mp3\n",
      "Analyzing file 70 of 515310: /home/faeron/Desktop/ML Exam Project/data/en/clips/common_voice_en_100476.mp3\n",
      "Analyzing file 71 of 515310: /home/faeron/Desktop/ML Exam Project/data/en/clips/common_voice_en_10048.mp3\n",
      "Analyzing file 72 of 515310: /home/faeron/Desktop/ML Exam Project/data/en/clips/common_voice_en_100481.mp3\n",
      "Analyzing file 73 of 515310: /home/faeron/Desktop/ML Exam Project/data/en/clips/common_voice_en_100482.mp3\n",
      "Analyzing file 74 of 515310: /home/faeron/Desktop/ML Exam Project/data/en/clips/common_voice_en_100483.mp3\n",
      "Analyzing file 75 of 515310: /home/faeron/Desktop/ML Exam Project/data/en/clips/common_voice_en_10049.mp3\n",
      "Analyzing file 76 of 515310: /home/faeron/Desktop/ML Exam Project/data/en/clips/common_voice_en_10050.mp3\n",
      "Analyzing file 77 of 515310: /home/faeron/Desktop/ML Exam Project/data/en/clips/common_voice_en_100501.mp3\n"
     ]
    },
    {
     "name": "stdout",
     "output_type": "stream",
     "text": [
      "Analyzing file 78 of 515310: /home/faeron/Desktop/ML Exam Project/data/en/clips/common_voice_en_100504.mp3\n",
      "Analyzing file 79 of 515310: /home/faeron/Desktop/ML Exam Project/data/en/clips/common_voice_en_100507.mp3\n",
      "Analyzing file 80 of 515310: /home/faeron/Desktop/ML Exam Project/data/en/clips/common_voice_en_10051.mp3\n",
      "Analyzing file 81 of 515310: /home/faeron/Desktop/ML Exam Project/data/en/clips/common_voice_en_100511.mp3\n",
      "Analyzing file 82 of 515310: /home/faeron/Desktop/ML Exam Project/data/en/clips/common_voice_en_100515.mp3\n",
      "Analyzing file 83 of 515310: /home/faeron/Desktop/ML Exam Project/data/en/clips/common_voice_en_100516.mp3\n",
      "Analyzing file 84 of 515310: /home/faeron/Desktop/ML Exam Project/data/en/clips/common_voice_en_10052.mp3\n",
      "Analyzing file 85 of 515310: /home/faeron/Desktop/ML Exam Project/data/en/clips/common_voice_en_10053.mp3\n",
      "Analyzing file 86 of 515310: /home/faeron/Desktop/ML Exam Project/data/en/clips/common_voice_en_10054.mp3\n",
      "Analyzing file 87 of 515310: /home/faeron/Desktop/ML Exam Project/data/en/clips/common_voice_en_10055.mp3\n",
      "Analyzing file 88 of 515310: /home/faeron/Desktop/ML Exam Project/data/en/clips/common_voice_en_100553.mp3\n",
      "Analyzing file 89 of 515310: /home/faeron/Desktop/ML Exam Project/data/en/clips/common_voice_en_10061.mp3\n",
      "Analyzing file 90 of 515310: /home/faeron/Desktop/ML Exam Project/data/en/clips/common_voice_en_100704.mp3\n",
      "Analyzing file 91 of 515310: /home/faeron/Desktop/ML Exam Project/data/en/clips/common_voice_en_100705.mp3\n",
      "Analyzing file 92 of 515310: /home/faeron/Desktop/ML Exam Project/data/en/clips/common_voice_en_100710.mp3\n",
      "Analyzing file 93 of 515310: /home/faeron/Desktop/ML Exam Project/data/en/clips/common_voice_en_100713.mp3\n",
      "Analyzing file 94 of 515310: /home/faeron/Desktop/ML Exam Project/data/en/clips/common_voice_en_100715.mp3\n",
      "Analyzing file 95 of 515310: /home/faeron/Desktop/ML Exam Project/data/en/clips/common_voice_en_100719.mp3\n",
      "Analyzing file 96 of 515310: /home/faeron/Desktop/ML Exam Project/data/en/clips/common_voice_en_100725.mp3\n",
      "Analyzing file 97 of 515310: /home/faeron/Desktop/ML Exam Project/data/en/clips/common_voice_en_100731.mp3\n",
      "Analyzing file 98 of 515310: /home/faeron/Desktop/ML Exam Project/data/en/clips/common_voice_en_100857.mp3\n",
      "Analyzing file 99 of 515310: /home/faeron/Desktop/ML Exam Project/data/en/clips/common_voice_en_100858.mp3\n",
      "Analyzing file 100 of 515310: /home/faeron/Desktop/ML Exam Project/data/en/clips/common_voice_en_100859.mp3\n",
      "Analyzing file 101 of 515310: /home/faeron/Desktop/ML Exam Project/data/en/clips/common_voice_en_100863.mp3\n",
      "Analyzing file 102 of 515310: /home/faeron/Desktop/ML Exam Project/data/en/clips/common_voice_en_100864.mp3\n",
      "Analyzing file 103 of 515310: /home/faeron/Desktop/ML Exam Project/data/en/clips/common_voice_en_100871.mp3\n",
      "Analyzing file 104 of 515310: /home/faeron/Desktop/ML Exam Project/data/en/clips/common_voice_en_10087158.mp3\n",
      "Analyzing file 105 of 515310: /home/faeron/Desktop/ML Exam Project/data/en/clips/common_voice_en_10087163.mp3\n",
      "Analyzing file 106 of 515310: /home/faeron/Desktop/ML Exam Project/data/en/clips/common_voice_en_10087164.mp3\n",
      "Analyzing file 107 of 515310: /home/faeron/Desktop/ML Exam Project/data/en/clips/common_voice_en_10087167.mp3\n",
      "Analyzing file 108 of 515310: /home/faeron/Desktop/ML Exam Project/data/en/clips/common_voice_en_10087168.mp3\n",
      "Analyzing file 109 of 515310: /home/faeron/Desktop/ML Exam Project/data/en/clips/common_voice_en_10087169.mp3\n",
      "Analyzing file 110 of 515310: /home/faeron/Desktop/ML Exam Project/data/en/clips/common_voice_en_100873.mp3\n",
      "Analyzing file 111 of 515310: /home/faeron/Desktop/ML Exam Project/data/en/clips/common_voice_en_100874.mp3\n",
      "Analyzing file 112 of 515310: /home/faeron/Desktop/ML Exam Project/data/en/clips/common_voice_en_100877.mp3\n",
      "Analyzing file 113 of 515310: /home/faeron/Desktop/ML Exam Project/data/en/clips/common_voice_en_100880.mp3\n",
      "Analyzing file 114 of 515310: /home/faeron/Desktop/ML Exam Project/data/en/clips/common_voice_en_100881.mp3\n",
      "Analyzing file 115 of 515310: /home/faeron/Desktop/ML Exam Project/data/en/clips/common_voice_en_100882.mp3\n",
      "Analyzing file 116 of 515310: /home/faeron/Desktop/ML Exam Project/data/en/clips/common_voice_en_100887.mp3\n",
      "Analyzing file 117 of 515310: /home/faeron/Desktop/ML Exam Project/data/en/clips/common_voice_en_100892.mp3\n",
      "Analyzing file 118 of 515310: /home/faeron/Desktop/ML Exam Project/data/en/clips/common_voice_en_100896.mp3\n",
      "Analyzing file 119 of 515310: /home/faeron/Desktop/ML Exam Project/data/en/clips/common_voice_en_10090.mp3\n",
      "Analyzing file 120 of 515310: /home/faeron/Desktop/ML Exam Project/data/en/clips/common_voice_en_100901.mp3\n",
      "Analyzing file 121 of 515310: /home/faeron/Desktop/ML Exam Project/data/en/clips/common_voice_en_100902.mp3\n",
      "Analyzing file 122 of 515310: /home/faeron/Desktop/ML Exam Project/data/en/clips/common_voice_en_100904.mp3\n",
      "Analyzing file 123 of 515310: /home/faeron/Desktop/ML Exam Project/data/en/clips/common_voice_en_100905.mp3\n",
      "Analyzing file 124 of 515310: /home/faeron/Desktop/ML Exam Project/data/en/clips/common_voice_en_100907.mp3\n",
      "Analyzing file 125 of 515310: /home/faeron/Desktop/ML Exam Project/data/en/clips/common_voice_en_100908.mp3\n",
      "Analyzing file 126 of 515310: /home/faeron/Desktop/ML Exam Project/data/en/clips/common_voice_en_100909.mp3\n",
      "Analyzing file 127 of 515310: /home/faeron/Desktop/ML Exam Project/data/en/clips/common_voice_en_10091.mp3\n",
      "Analyzing file 128 of 515310: /home/faeron/Desktop/ML Exam Project/data/en/clips/common_voice_en_10091130.mp3\n",
      "Analyzing file 129 of 515310: /home/faeron/Desktop/ML Exam Project/data/en/clips/common_voice_en_100912.mp3\n",
      "Analyzing file 130 of 515310: /home/faeron/Desktop/ML Exam Project/data/en/clips/common_voice_en_100915.mp3\n",
      "Analyzing file 131 of 515310: /home/faeron/Desktop/ML Exam Project/data/en/clips/common_voice_en_100916.mp3\n",
      "Analyzing file 132 of 515310: /home/faeron/Desktop/ML Exam Project/data/en/clips/common_voice_en_10092.mp3\n",
      "Analyzing file 133 of 515310: /home/faeron/Desktop/ML Exam Project/data/en/clips/common_voice_en_100920.mp3\n",
      "Analyzing file 134 of 515310: /home/faeron/Desktop/ML Exam Project/data/en/clips/common_voice_en_100932.mp3\n",
      "Analyzing file 135 of 515310: /home/faeron/Desktop/ML Exam Project/data/en/clips/common_voice_en_10094.mp3\n",
      "Analyzing file 136 of 515310: /home/faeron/Desktop/ML Exam Project/data/en/clips/common_voice_en_100941.mp3\n",
      "Analyzing file 137 of 515310: /home/faeron/Desktop/ML Exam Project/data/en/clips/common_voice_en_100942.mp3\n",
      "Analyzing file 138 of 515310: /home/faeron/Desktop/ML Exam Project/data/en/clips/common_voice_en_100943.mp3\n",
      "Analyzing file 139 of 515310: /home/faeron/Desktop/ML Exam Project/data/en/clips/common_voice_en_100944.mp3\n",
      "Analyzing file 140 of 515310: /home/faeron/Desktop/ML Exam Project/data/en/clips/common_voice_en_100946.mp3\n",
      "Analyzing file 141 of 515310: /home/faeron/Desktop/ML Exam Project/data/en/clips/common_voice_en_100947.mp3\n",
      "Analyzing file 142 of 515310: /home/faeron/Desktop/ML Exam Project/data/en/clips/common_voice_en_1009474.mp3\n",
      "Analyzing file 143 of 515310: /home/faeron/Desktop/ML Exam Project/data/en/clips/common_voice_en_1009475.mp3\n",
      "Analyzing file 144 of 515310: /home/faeron/Desktop/ML Exam Project/data/en/clips/common_voice_en_1009476.mp3\n",
      "Analyzing file 145 of 515310: /home/faeron/Desktop/ML Exam Project/data/en/clips/common_voice_en_1009477.mp3\n",
      "Analyzing file 146 of 515310: /home/faeron/Desktop/ML Exam Project/data/en/clips/common_voice_en_1009478.mp3\n",
      "Analyzing file 147 of 515310: /home/faeron/Desktop/ML Exam Project/data/en/clips/common_voice_en_1009479.mp3\n",
      "Analyzing file 148 of 515310: /home/faeron/Desktop/ML Exam Project/data/en/clips/common_voice_en_1009480.mp3\n",
      "Analyzing file 149 of 515310: /home/faeron/Desktop/ML Exam Project/data/en/clips/common_voice_en_1009481.mp3\n",
      "Analyzing file 150 of 515310: /home/faeron/Desktop/ML Exam Project/data/en/clips/common_voice_en_1009482.mp3\n",
      "Analyzing file 151 of 515310: /home/faeron/Desktop/ML Exam Project/data/en/clips/common_voice_en_1009483.mp3\n",
      "Analyzing file 152 of 515310: /home/faeron/Desktop/ML Exam Project/data/en/clips/common_voice_en_1009484.mp3\n",
      "Analyzing file 153 of 515310: /home/faeron/Desktop/ML Exam Project/data/en/clips/common_voice_en_1009485.mp3\n"
     ]
    },
    {
     "name": "stdout",
     "output_type": "stream",
     "text": [
      "Analyzing file 154 of 515310: /home/faeron/Desktop/ML Exam Project/data/en/clips/common_voice_en_1009486.mp3\n",
      "Analyzing file 155 of 515310: /home/faeron/Desktop/ML Exam Project/data/en/clips/common_voice_en_1009487.mp3\n",
      "Analyzing file 156 of 515310: /home/faeron/Desktop/ML Exam Project/data/en/clips/common_voice_en_1009489.mp3\n",
      "Analyzing file 157 of 515310: /home/faeron/Desktop/ML Exam Project/data/en/clips/common_voice_en_1009490.mp3\n",
      "Analyzing file 158 of 515310: /home/faeron/Desktop/ML Exam Project/data/en/clips/common_voice_en_1009491.mp3\n",
      "Analyzing file 159 of 515310: /home/faeron/Desktop/ML Exam Project/data/en/clips/common_voice_en_10095.mp3\n",
      "Analyzing file 160 of 515310: /home/faeron/Desktop/ML Exam Project/data/en/clips/common_voice_en_100950.mp3\n",
      "Analyzing file 161 of 515310: /home/faeron/Desktop/ML Exam Project/data/en/clips/common_voice_en_100952.mp3\n",
      "Analyzing file 162 of 515310: /home/faeron/Desktop/ML Exam Project/data/en/clips/common_voice_en_100953.mp3\n",
      "Analyzing file 163 of 515310: /home/faeron/Desktop/ML Exam Project/data/en/clips/common_voice_en_100954.mp3\n",
      "Analyzing file 164 of 515310: /home/faeron/Desktop/ML Exam Project/data/en/clips/common_voice_en_10096.mp3\n",
      "Analyzing file 165 of 515310: /home/faeron/Desktop/ML Exam Project/data/en/clips/common_voice_en_100961.mp3\n",
      "Analyzing file 166 of 515310: /home/faeron/Desktop/ML Exam Project/data/en/clips/common_voice_en_100967.mp3\n",
      "Analyzing file 167 of 515310: /home/faeron/Desktop/ML Exam Project/data/en/clips/common_voice_en_100968.mp3\n",
      "Analyzing file 168 of 515310: /home/faeron/Desktop/ML Exam Project/data/en/clips/common_voice_en_10097.mp3\n",
      "Analyzing file 169 of 515310: /home/faeron/Desktop/ML Exam Project/data/en/clips/common_voice_en_100971.mp3\n",
      "Analyzing file 170 of 515310: /home/faeron/Desktop/ML Exam Project/data/en/clips/common_voice_en_100972.mp3\n",
      "Analyzing file 171 of 515310: /home/faeron/Desktop/ML Exam Project/data/en/clips/common_voice_en_100974.mp3\n",
      "Analyzing file 172 of 515310: /home/faeron/Desktop/ML Exam Project/data/en/clips/common_voice_en_10098.mp3\n",
      "Analyzing file 173 of 515310: /home/faeron/Desktop/ML Exam Project/data/en/clips/common_voice_en_100988.mp3\n",
      "Analyzing file 174 of 515310: /home/faeron/Desktop/ML Exam Project/data/en/clips/common_voice_en_100992.mp3\n",
      "Analyzing file 175 of 515310: /home/faeron/Desktop/ML Exam Project/data/en/clips/common_voice_en_100993.mp3\n",
      "Analyzing file 176 of 515310: /home/faeron/Desktop/ML Exam Project/data/en/clips/common_voice_en_100998.mp3\n",
      "Analyzing file 177 of 515310: /home/faeron/Desktop/ML Exam Project/data/en/clips/common_voice_en_10100.mp3\n",
      "Analyzing file 178 of 515310: /home/faeron/Desktop/ML Exam Project/data/en/clips/common_voice_en_101004.mp3\n",
      "Analyzing file 179 of 515310: /home/faeron/Desktop/ML Exam Project/data/en/clips/common_voice_en_101006.mp3\n",
      "Analyzing file 180 of 515310: /home/faeron/Desktop/ML Exam Project/data/en/clips/common_voice_en_101008.mp3\n",
      "Analyzing file 181 of 515310: /home/faeron/Desktop/ML Exam Project/data/en/clips/common_voice_en_101009.mp3\n",
      "Analyzing file 182 of 515310: /home/faeron/Desktop/ML Exam Project/data/en/clips/common_voice_en_101011.mp3\n",
      "Analyzing file 183 of 515310: /home/faeron/Desktop/ML Exam Project/data/en/clips/common_voice_en_101012.mp3\n",
      "Analyzing file 184 of 515310: /home/faeron/Desktop/ML Exam Project/data/en/clips/common_voice_en_101013.mp3\n",
      "Analyzing file 185 of 515310: /home/faeron/Desktop/ML Exam Project/data/en/clips/common_voice_en_101017.mp3\n",
      "Analyzing file 186 of 515310: /home/faeron/Desktop/ML Exam Project/data/en/clips/common_voice_en_101019.mp3\n",
      "Analyzing file 187 of 515310: /home/faeron/Desktop/ML Exam Project/data/en/clips/common_voice_en_10102.mp3\n",
      "Analyzing file 188 of 515310: /home/faeron/Desktop/ML Exam Project/data/en/clips/common_voice_en_10106.mp3\n",
      "Analyzing file 189 of 515310: /home/faeron/Desktop/ML Exam Project/data/en/clips/common_voice_en_101064.mp3\n",
      "Analyzing file 190 of 515310: /home/faeron/Desktop/ML Exam Project/data/en/clips/common_voice_en_101065.mp3\n",
      "Analyzing file 191 of 515310: /home/faeron/Desktop/ML Exam Project/data/en/clips/common_voice_en_101066.mp3\n",
      "Analyzing file 192 of 515310: /home/faeron/Desktop/ML Exam Project/data/en/clips/common_voice_en_101067.mp3\n",
      "Analyzing file 193 of 515310: /home/faeron/Desktop/ML Exam Project/data/en/clips/common_voice_en_101069.mp3\n",
      "Analyzing file 194 of 515310: /home/faeron/Desktop/ML Exam Project/data/en/clips/common_voice_en_101070.mp3\n",
      "Analyzing file 195 of 515310: /home/faeron/Desktop/ML Exam Project/data/en/clips/common_voice_en_101071.mp3\n",
      "Analyzing file 196 of 515310: /home/faeron/Desktop/ML Exam Project/data/en/clips/common_voice_en_101072.mp3\n",
      "Analyzing file 197 of 515310: /home/faeron/Desktop/ML Exam Project/data/en/clips/common_voice_en_101073.mp3\n",
      "Analyzing file 198 of 515310: /home/faeron/Desktop/ML Exam Project/data/en/clips/common_voice_en_101074.mp3\n",
      "Analyzing file 199 of 515310: /home/faeron/Desktop/ML Exam Project/data/en/clips/common_voice_en_101075.mp3\n",
      "Analyzing file 200 of 515310: /home/faeron/Desktop/ML Exam Project/data/en/clips/common_voice_en_101076.mp3\n",
      "Analyzing file 201 of 515310: /home/faeron/Desktop/ML Exam Project/data/en/clips/common_voice_en_101077.mp3\n",
      "Analyzing file 202 of 515310: /home/faeron/Desktop/ML Exam Project/data/en/clips/common_voice_en_101078.mp3\n",
      "Analyzing file 203 of 515310: /home/faeron/Desktop/ML Exam Project/data/en/clips/common_voice_en_101079.mp3\n",
      "Analyzing file 204 of 515310: /home/faeron/Desktop/ML Exam Project/data/en/clips/common_voice_en_10108.mp3\n",
      "Analyzing file 205 of 515310: /home/faeron/Desktop/ML Exam Project/data/en/clips/common_voice_en_101080.mp3\n",
      "Analyzing file 206 of 515310: /home/faeron/Desktop/ML Exam Project/data/en/clips/common_voice_en_101081.mp3\n",
      "Analyzing file 207 of 515310: /home/faeron/Desktop/ML Exam Project/data/en/clips/common_voice_en_101082.mp3\n",
      "Analyzing file 208 of 515310: /home/faeron/Desktop/ML Exam Project/data/en/clips/common_voice_en_101083.mp3\n",
      "Analyzing file 209 of 515310: /home/faeron/Desktop/ML Exam Project/data/en/clips/common_voice_en_101084.mp3\n",
      "Analyzing file 210 of 515310: /home/faeron/Desktop/ML Exam Project/data/en/clips/common_voice_en_101085.mp3\n",
      "Analyzing file 211 of 515310: /home/faeron/Desktop/ML Exam Project/data/en/clips/common_voice_en_101086.mp3\n",
      "Analyzing file 212 of 515310: /home/faeron/Desktop/ML Exam Project/data/en/clips/common_voice_en_101087.mp3\n",
      "Analyzing file 213 of 515310: /home/faeron/Desktop/ML Exam Project/data/en/clips/common_voice_en_101088.mp3\n",
      "Analyzing file 214 of 515310: /home/faeron/Desktop/ML Exam Project/data/en/clips/common_voice_en_101089.mp3\n",
      "Analyzing file 215 of 515310: /home/faeron/Desktop/ML Exam Project/data/en/clips/common_voice_en_101090.mp3\n",
      "Analyzing file 216 of 515310: /home/faeron/Desktop/ML Exam Project/data/en/clips/common_voice_en_101091.mp3\n",
      "Analyzing file 217 of 515310: /home/faeron/Desktop/ML Exam Project/data/en/clips/common_voice_en_101092.mp3\n",
      "Analyzing file 218 of 515310: /home/faeron/Desktop/ML Exam Project/data/en/clips/common_voice_en_101093.mp3\n",
      "Analyzing file 219 of 515310: /home/faeron/Desktop/ML Exam Project/data/en/clips/common_voice_en_101094.mp3\n",
      "Analyzing file 220 of 515310: /home/faeron/Desktop/ML Exam Project/data/en/clips/common_voice_en_101095.mp3\n",
      "Analyzing file 221 of 515310: /home/faeron/Desktop/ML Exam Project/data/en/clips/common_voice_en_101096.mp3\n",
      "Analyzing file 222 of 515310: /home/faeron/Desktop/ML Exam Project/data/en/clips/common_voice_en_101097.mp3\n",
      "Analyzing file 223 of 515310: /home/faeron/Desktop/ML Exam Project/data/en/clips/common_voice_en_101098.mp3\n",
      "Analyzing file 224 of 515310: /home/faeron/Desktop/ML Exam Project/data/en/clips/common_voice_en_101099.mp3\n",
      "Analyzing file 225 of 515310: /home/faeron/Desktop/ML Exam Project/data/en/clips/common_voice_en_10110.mp3\n",
      "Analyzing file 226 of 515310: /home/faeron/Desktop/ML Exam Project/data/en/clips/common_voice_en_101100.mp3\n",
      "Analyzing file 227 of 515310: /home/faeron/Desktop/ML Exam Project/data/en/clips/common_voice_en_101101.mp3\n",
      "Analyzing file 228 of 515310: /home/faeron/Desktop/ML Exam Project/data/en/clips/common_voice_en_101102.mp3\n",
      "Analyzing file 229 of 515310: /home/faeron/Desktop/ML Exam Project/data/en/clips/common_voice_en_101103.mp3\n"
     ]
    },
    {
     "name": "stdout",
     "output_type": "stream",
     "text": [
      "Analyzing file 230 of 515310: /home/faeron/Desktop/ML Exam Project/data/en/clips/common_voice_en_101104.mp3\n",
      "Analyzing file 231 of 515310: /home/faeron/Desktop/ML Exam Project/data/en/clips/common_voice_en_101105.mp3\n",
      "Analyzing file 232 of 515310: /home/faeron/Desktop/ML Exam Project/data/en/clips/common_voice_en_101106.mp3\n",
      "Analyzing file 233 of 515310: /home/faeron/Desktop/ML Exam Project/data/en/clips/common_voice_en_101107.mp3\n",
      "Analyzing file 234 of 515310: /home/faeron/Desktop/ML Exam Project/data/en/clips/common_voice_en_101108.mp3\n",
      "Analyzing file 235 of 515310: /home/faeron/Desktop/ML Exam Project/data/en/clips/common_voice_en_101109.mp3\n",
      "Analyzing file 236 of 515310: /home/faeron/Desktop/ML Exam Project/data/en/clips/common_voice_en_101110.mp3\n",
      "Analyzing file 237 of 515310: /home/faeron/Desktop/ML Exam Project/data/en/clips/common_voice_en_101111.mp3\n",
      "Analyzing file 238 of 515310: /home/faeron/Desktop/ML Exam Project/data/en/clips/common_voice_en_101112.mp3\n",
      "Analyzing file 239 of 515310: /home/faeron/Desktop/ML Exam Project/data/en/clips/common_voice_en_101113.mp3\n",
      "Analyzing file 240 of 515310: /home/faeron/Desktop/ML Exam Project/data/en/clips/common_voice_en_101114.mp3\n",
      "Analyzing file 241 of 515310: /home/faeron/Desktop/ML Exam Project/data/en/clips/common_voice_en_101115.mp3\n",
      "Analyzing file 242 of 515310: /home/faeron/Desktop/ML Exam Project/data/en/clips/common_voice_en_101116.mp3\n",
      "Analyzing file 243 of 515310: /home/faeron/Desktop/ML Exam Project/data/en/clips/common_voice_en_101117.mp3\n",
      "Analyzing file 244 of 515310: /home/faeron/Desktop/ML Exam Project/data/en/clips/common_voice_en_101118.mp3\n",
      "Analyzing file 245 of 515310: /home/faeron/Desktop/ML Exam Project/data/en/clips/common_voice_en_101119.mp3\n",
      "Analyzing file 246 of 515310: /home/faeron/Desktop/ML Exam Project/data/en/clips/common_voice_en_101120.mp3\n",
      "Analyzing file 247 of 515310: /home/faeron/Desktop/ML Exam Project/data/en/clips/common_voice_en_101121.mp3\n",
      "Analyzing file 248 of 515310: /home/faeron/Desktop/ML Exam Project/data/en/clips/common_voice_en_101122.mp3\n",
      "Analyzing file 249 of 515310: /home/faeron/Desktop/ML Exam Project/data/en/clips/common_voice_en_101130.mp3\n",
      "Analyzing file 250 of 515310: /home/faeron/Desktop/ML Exam Project/data/en/clips/common_voice_en_101136.mp3\n",
      "Analyzing file 251 of 515310: /home/faeron/Desktop/ML Exam Project/data/en/clips/common_voice_en_101138.mp3\n",
      "Analyzing file 252 of 515310: /home/faeron/Desktop/ML Exam Project/data/en/clips/common_voice_en_101140.mp3\n",
      "Analyzing file 253 of 515310: /home/faeron/Desktop/ML Exam Project/data/en/clips/common_voice_en_101141.mp3\n",
      "Analyzing file 254 of 515310: /home/faeron/Desktop/ML Exam Project/data/en/clips/common_voice_en_101146.mp3\n",
      "Analyzing file 255 of 515310: /home/faeron/Desktop/ML Exam Project/data/en/clips/common_voice_en_101147.mp3\n",
      "Analyzing file 256 of 515310: /home/faeron/Desktop/ML Exam Project/data/en/clips/common_voice_en_101148.mp3\n",
      "Analyzing file 257 of 515310: /home/faeron/Desktop/ML Exam Project/data/en/clips/common_voice_en_101152.mp3\n",
      "Analyzing file 258 of 515310: /home/faeron/Desktop/ML Exam Project/data/en/clips/common_voice_en_10117.mp3\n",
      "Analyzing file 259 of 515310: /home/faeron/Desktop/ML Exam Project/data/en/clips/common_voice_en_10119.mp3\n",
      "Analyzing file 260 of 515310: /home/faeron/Desktop/ML Exam Project/data/en/clips/common_voice_en_10119830.mp3\n",
      "Analyzing file 261 of 515310: /home/faeron/Desktop/ML Exam Project/data/en/clips/common_voice_en_10119832.mp3\n",
      "Analyzing file 262 of 515310: /home/faeron/Desktop/ML Exam Project/data/en/clips/common_voice_en_10119834.mp3\n",
      "Analyzing file 263 of 515310: /home/faeron/Desktop/ML Exam Project/data/en/clips/common_voice_en_10119838.mp3\n",
      "Analyzing file 264 of 515310: /home/faeron/Desktop/ML Exam Project/data/en/clips/common_voice_en_10119840.mp3\n",
      "Analyzing file 265 of 515310: /home/faeron/Desktop/ML Exam Project/data/en/clips/common_voice_en_10119841.mp3\n",
      "Analyzing file 266 of 515310: /home/faeron/Desktop/ML Exam Project/data/en/clips/common_voice_en_10119843.mp3\n",
      "Analyzing file 267 of 515310: /home/faeron/Desktop/ML Exam Project/data/en/clips/common_voice_en_10119844.mp3\n",
      "Analyzing file 268 of 515310: /home/faeron/Desktop/ML Exam Project/data/en/clips/common_voice_en_10119847.mp3\n",
      "Analyzing file 269 of 515310: /home/faeron/Desktop/ML Exam Project/data/en/clips/common_voice_en_10119849.mp3\n",
      "Analyzing file 270 of 515310: /home/faeron/Desktop/ML Exam Project/data/en/clips/common_voice_en_10119853.mp3\n",
      "Analyzing file 271 of 515310: /home/faeron/Desktop/ML Exam Project/data/en/clips/common_voice_en_10120.mp3\n",
      "Analyzing file 272 of 515310: /home/faeron/Desktop/ML Exam Project/data/en/clips/common_voice_en_10121.mp3\n",
      "Analyzing file 273 of 515310: /home/faeron/Desktop/ML Exam Project/data/en/clips/common_voice_en_10122.mp3\n",
      "Analyzing file 274 of 515310: /home/faeron/Desktop/ML Exam Project/data/en/clips/common_voice_en_101250.mp3\n",
      "Analyzing file 275 of 515310: /home/faeron/Desktop/ML Exam Project/data/en/clips/common_voice_en_101251.mp3\n",
      "Analyzing file 276 of 515310: /home/faeron/Desktop/ML Exam Project/data/en/clips/common_voice_en_101252.mp3\n",
      "Analyzing file 277 of 515310: /home/faeron/Desktop/ML Exam Project/data/en/clips/common_voice_en_101253.mp3\n",
      "Analyzing file 278 of 515310: /home/faeron/Desktop/ML Exam Project/data/en/clips/common_voice_en_101254.mp3\n",
      "Analyzing file 279 of 515310: /home/faeron/Desktop/ML Exam Project/data/en/clips/common_voice_en_101255.mp3\n",
      "Analyzing file 280 of 515310: /home/faeron/Desktop/ML Exam Project/data/en/clips/common_voice_en_101256.mp3\n",
      "Analyzing file 281 of 515310: /home/faeron/Desktop/ML Exam Project/data/en/clips/common_voice_en_101257.mp3\n",
      "Analyzing file 282 of 515310: /home/faeron/Desktop/ML Exam Project/data/en/clips/common_voice_en_101258.mp3\n",
      "Analyzing file 283 of 515310: /home/faeron/Desktop/ML Exam Project/data/en/clips/common_voice_en_101291.mp3\n",
      "Analyzing file 284 of 515310: /home/faeron/Desktop/ML Exam Project/data/en/clips/common_voice_en_101295.mp3\n",
      "Analyzing file 285 of 515310: /home/faeron/Desktop/ML Exam Project/data/en/clips/common_voice_en_101297.mp3\n",
      "Analyzing file 286 of 515310: /home/faeron/Desktop/ML Exam Project/data/en/clips/common_voice_en_101299.mp3\n",
      "Analyzing file 287 of 515310: /home/faeron/Desktop/ML Exam Project/data/en/clips/common_voice_en_101307.mp3\n",
      "Analyzing file 288 of 515310: /home/faeron/Desktop/ML Exam Project/data/en/clips/common_voice_en_101308.mp3\n",
      "Analyzing file 289 of 515310: /home/faeron/Desktop/ML Exam Project/data/en/clips/common_voice_en_101311.mp3\n",
      "Analyzing file 290 of 515310: /home/faeron/Desktop/ML Exam Project/data/en/clips/common_voice_en_101312.mp3\n",
      "Analyzing file 291 of 515310: /home/faeron/Desktop/ML Exam Project/data/en/clips/common_voice_en_10135.mp3\n",
      "Analyzing file 292 of 515310: /home/faeron/Desktop/ML Exam Project/data/en/clips/common_voice_en_10136335.mp3\n",
      "Analyzing file 293 of 515310: /home/faeron/Desktop/ML Exam Project/data/en/clips/common_voice_en_10136341.mp3\n",
      "Analyzing file 294 of 515310: /home/faeron/Desktop/ML Exam Project/data/en/clips/common_voice_en_10136342.mp3\n",
      "Analyzing file 295 of 515310: /home/faeron/Desktop/ML Exam Project/data/en/clips/common_voice_en_10136343.mp3\n",
      "Analyzing file 296 of 515310: /home/faeron/Desktop/ML Exam Project/data/en/clips/common_voice_en_10136352.mp3\n",
      "Analyzing file 297 of 515310: /home/faeron/Desktop/ML Exam Project/data/en/clips/common_voice_en_10136366.mp3\n",
      "Analyzing file 298 of 515310: /home/faeron/Desktop/ML Exam Project/data/en/clips/common_voice_en_10136371.mp3\n",
      "Analyzing file 299 of 515310: /home/faeron/Desktop/ML Exam Project/data/en/clips/common_voice_en_10136378.mp3\n",
      "Analyzing file 300 of 515310: /home/faeron/Desktop/ML Exam Project/data/en/clips/common_voice_en_10137.mp3\n",
      "Analyzing file 301 of 515310: /home/faeron/Desktop/ML Exam Project/data/en/clips/common_voice_en_10138.mp3\n",
      "Analyzing file 302 of 515310: /home/faeron/Desktop/ML Exam Project/data/en/clips/common_voice_en_101380.mp3\n",
      "Analyzing file 303 of 515310: /home/faeron/Desktop/ML Exam Project/data/en/clips/common_voice_en_101381.mp3\n",
      "Analyzing file 304 of 515310: /home/faeron/Desktop/ML Exam Project/data/en/clips/common_voice_en_101382.mp3\n",
      "Analyzing file 305 of 515310: /home/faeron/Desktop/ML Exam Project/data/en/clips/common_voice_en_101383.mp3\n"
     ]
    },
    {
     "name": "stdout",
     "output_type": "stream",
     "text": [
      "Analyzing file 306 of 515310: /home/faeron/Desktop/ML Exam Project/data/en/clips/common_voice_en_101384.mp3\n",
      "Analyzing file 307 of 515310: /home/faeron/Desktop/ML Exam Project/data/en/clips/common_voice_en_101385.mp3\n",
      "Analyzing file 308 of 515310: /home/faeron/Desktop/ML Exam Project/data/en/clips/common_voice_en_101386.mp3\n",
      "Analyzing file 309 of 515310: /home/faeron/Desktop/ML Exam Project/data/en/clips/common_voice_en_101387.mp3\n",
      "Analyzing file 310 of 515310: /home/faeron/Desktop/ML Exam Project/data/en/clips/common_voice_en_101388.mp3\n",
      "Analyzing file 311 of 515310: /home/faeron/Desktop/ML Exam Project/data/en/clips/common_voice_en_101389.mp3\n",
      "Analyzing file 312 of 515310: /home/faeron/Desktop/ML Exam Project/data/en/clips/common_voice_en_101390.mp3\n",
      "Analyzing file 313 of 515310: /home/faeron/Desktop/ML Exam Project/data/en/clips/common_voice_en_101391.mp3\n",
      "Analyzing file 314 of 515310: /home/faeron/Desktop/ML Exam Project/data/en/clips/common_voice_en_101392.mp3\n",
      "Analyzing file 315 of 515310: /home/faeron/Desktop/ML Exam Project/data/en/clips/common_voice_en_101393.mp3\n",
      "Analyzing file 316 of 515310: /home/faeron/Desktop/ML Exam Project/data/en/clips/common_voice_en_101394.mp3\n",
      "Analyzing file 317 of 515310: /home/faeron/Desktop/ML Exam Project/data/en/clips/common_voice_en_101395.mp3\n",
      "Analyzing file 318 of 515310: /home/faeron/Desktop/ML Exam Project/data/en/clips/common_voice_en_101396.mp3\n",
      "Analyzing file 319 of 515310: /home/faeron/Desktop/ML Exam Project/data/en/clips/common_voice_en_101397.mp3\n",
      "Analyzing file 320 of 515310: /home/faeron/Desktop/ML Exam Project/data/en/clips/common_voice_en_101398.mp3\n",
      "Analyzing file 321 of 515310: /home/faeron/Desktop/ML Exam Project/data/en/clips/common_voice_en_101399.mp3\n",
      "Analyzing file 322 of 515310: /home/faeron/Desktop/ML Exam Project/data/en/clips/common_voice_en_101400.mp3\n",
      "Analyzing file 323 of 515310: /home/faeron/Desktop/ML Exam Project/data/en/clips/common_voice_en_101401.mp3\n",
      "Analyzing file 324 of 515310: /home/faeron/Desktop/ML Exam Project/data/en/clips/common_voice_en_101402.mp3\n",
      "Analyzing file 325 of 515310: /home/faeron/Desktop/ML Exam Project/data/en/clips/common_voice_en_101403.mp3\n",
      "Analyzing file 326 of 515310: /home/faeron/Desktop/ML Exam Project/data/en/clips/common_voice_en_101404.mp3\n",
      "Analyzing file 327 of 515310: /home/faeron/Desktop/ML Exam Project/data/en/clips/common_voice_en_101405.mp3\n",
      "Analyzing file 328 of 515310: /home/faeron/Desktop/ML Exam Project/data/en/clips/common_voice_en_101406.mp3\n",
      "Analyzing file 329 of 515310: /home/faeron/Desktop/ML Exam Project/data/en/clips/common_voice_en_101407.mp3\n",
      "Analyzing file 330 of 515310: /home/faeron/Desktop/ML Exam Project/data/en/clips/common_voice_en_101408.mp3\n",
      "Analyzing file 331 of 515310: /home/faeron/Desktop/ML Exam Project/data/en/clips/common_voice_en_101409.mp3\n",
      "Analyzing file 332 of 515310: /home/faeron/Desktop/ML Exam Project/data/en/clips/common_voice_en_101410.mp3\n",
      "Analyzing file 333 of 515310: /home/faeron/Desktop/ML Exam Project/data/en/clips/common_voice_en_101411.mp3\n",
      "Analyzing file 334 of 515310: /home/faeron/Desktop/ML Exam Project/data/en/clips/common_voice_en_101412.mp3\n",
      "Analyzing file 335 of 515310: /home/faeron/Desktop/ML Exam Project/data/en/clips/common_voice_en_101413.mp3\n",
      "Analyzing file 336 of 515310: /home/faeron/Desktop/ML Exam Project/data/en/clips/common_voice_en_101414.mp3\n",
      "Analyzing file 337 of 515310: /home/faeron/Desktop/ML Exam Project/data/en/clips/common_voice_en_101415.mp3\n",
      "Analyzing file 338 of 515310: /home/faeron/Desktop/ML Exam Project/data/en/clips/common_voice_en_101416.mp3\n",
      "Analyzing file 339 of 515310: /home/faeron/Desktop/ML Exam Project/data/en/clips/common_voice_en_101417.mp3\n",
      "Analyzing file 340 of 515310: /home/faeron/Desktop/ML Exam Project/data/en/clips/common_voice_en_101418.mp3\n",
      "Analyzing file 341 of 515310: /home/faeron/Desktop/ML Exam Project/data/en/clips/common_voice_en_101419.mp3\n",
      "Analyzing file 342 of 515310: /home/faeron/Desktop/ML Exam Project/data/en/clips/common_voice_en_101420.mp3\n",
      "Analyzing file 343 of 515310: /home/faeron/Desktop/ML Exam Project/data/en/clips/common_voice_en_101421.mp3\n",
      "Analyzing file 344 of 515310: /home/faeron/Desktop/ML Exam Project/data/en/clips/common_voice_en_101422.mp3\n",
      "Analyzing file 345 of 515310: /home/faeron/Desktop/ML Exam Project/data/en/clips/common_voice_en_101423.mp3\n",
      "Analyzing file 346 of 515310: /home/faeron/Desktop/ML Exam Project/data/en/clips/common_voice_en_101424.mp3\n",
      "Analyzing file 347 of 515310: /home/faeron/Desktop/ML Exam Project/data/en/clips/common_voice_en_101425.mp3\n",
      "Analyzing file 348 of 515310: /home/faeron/Desktop/ML Exam Project/data/en/clips/common_voice_en_101426.mp3\n",
      "Analyzing file 349 of 515310: /home/faeron/Desktop/ML Exam Project/data/en/clips/common_voice_en_101427.mp3\n",
      "Analyzing file 350 of 515310: /home/faeron/Desktop/ML Exam Project/data/en/clips/common_voice_en_101428.mp3\n",
      "Analyzing file 351 of 515310: /home/faeron/Desktop/ML Exam Project/data/en/clips/common_voice_en_101429.mp3\n",
      "Analyzing file 352 of 515310: /home/faeron/Desktop/ML Exam Project/data/en/clips/common_voice_en_101430.mp3\n",
      "Analyzing file 353 of 515310: /home/faeron/Desktop/ML Exam Project/data/en/clips/common_voice_en_101431.mp3\n",
      "Analyzing file 354 of 515310: /home/faeron/Desktop/ML Exam Project/data/en/clips/common_voice_en_101432.mp3\n",
      "Analyzing file 355 of 515310: /home/faeron/Desktop/ML Exam Project/data/en/clips/common_voice_en_101433.mp3\n",
      "Analyzing file 356 of 515310: /home/faeron/Desktop/ML Exam Project/data/en/clips/common_voice_en_101434.mp3\n",
      "Analyzing file 357 of 515310: /home/faeron/Desktop/ML Exam Project/data/en/clips/common_voice_en_101435.mp3\n",
      "Analyzing file 358 of 515310: /home/faeron/Desktop/ML Exam Project/data/en/clips/common_voice_en_101436.mp3\n",
      "Analyzing file 359 of 515310: /home/faeron/Desktop/ML Exam Project/data/en/clips/common_voice_en_101437.mp3\n",
      "Analyzing file 360 of 515310: /home/faeron/Desktop/ML Exam Project/data/en/clips/common_voice_en_101438.mp3\n",
      "Analyzing file 361 of 515310: /home/faeron/Desktop/ML Exam Project/data/en/clips/common_voice_en_101439.mp3\n",
      "Analyzing file 362 of 515310: /home/faeron/Desktop/ML Exam Project/data/en/clips/common_voice_en_10144.mp3\n",
      "Analyzing file 363 of 515310: /home/faeron/Desktop/ML Exam Project/data/en/clips/common_voice_en_101440.mp3\n",
      "Analyzing file 364 of 515310: /home/faeron/Desktop/ML Exam Project/data/en/clips/common_voice_en_101441.mp3\n",
      "Analyzing file 365 of 515310: /home/faeron/Desktop/ML Exam Project/data/en/clips/common_voice_en_101442.mp3\n",
      "Analyzing file 366 of 515310: /home/faeron/Desktop/ML Exam Project/data/en/clips/common_voice_en_101443.mp3\n",
      "Analyzing file 367 of 515310: /home/faeron/Desktop/ML Exam Project/data/en/clips/common_voice_en_101444.mp3\n",
      "Analyzing file 368 of 515310: /home/faeron/Desktop/ML Exam Project/data/en/clips/common_voice_en_101445.mp3\n",
      "Analyzing file 369 of 515310: /home/faeron/Desktop/ML Exam Project/data/en/clips/common_voice_en_101446.mp3\n",
      "Analyzing file 370 of 515310: /home/faeron/Desktop/ML Exam Project/data/en/clips/common_voice_en_101447.mp3\n",
      "Analyzing file 371 of 515310: /home/faeron/Desktop/ML Exam Project/data/en/clips/common_voice_en_101448.mp3\n",
      "Analyzing file 372 of 515310: /home/faeron/Desktop/ML Exam Project/data/en/clips/common_voice_en_101449.mp3\n",
      "Analyzing file 373 of 515310: /home/faeron/Desktop/ML Exam Project/data/en/clips/common_voice_en_101450.mp3\n",
      "Analyzing file 374 of 515310: /home/faeron/Desktop/ML Exam Project/data/en/clips/common_voice_en_101451.mp3\n",
      "Analyzing file 375 of 515310: /home/faeron/Desktop/ML Exam Project/data/en/clips/common_voice_en_101452.mp3\n",
      "Analyzing file 376 of 515310: /home/faeron/Desktop/ML Exam Project/data/en/clips/common_voice_en_101453.mp3\n",
      "Analyzing file 377 of 515310: /home/faeron/Desktop/ML Exam Project/data/en/clips/common_voice_en_101454.mp3\n",
      "Analyzing file 378 of 515310: /home/faeron/Desktop/ML Exam Project/data/en/clips/common_voice_en_101455.mp3\n",
      "Analyzing file 379 of 515310: /home/faeron/Desktop/ML Exam Project/data/en/clips/common_voice_en_101456.mp3\n",
      "Analyzing file 380 of 515310: /home/faeron/Desktop/ML Exam Project/data/en/clips/common_voice_en_101457.mp3\n",
      "Analyzing file 381 of 515310: /home/faeron/Desktop/ML Exam Project/data/en/clips/common_voice_en_101458.mp3\n"
     ]
    },
    {
     "name": "stdout",
     "output_type": "stream",
     "text": [
      "Analyzing file 382 of 515310: /home/faeron/Desktop/ML Exam Project/data/en/clips/common_voice_en_101459.mp3\n",
      "Analyzing file 383 of 515310: /home/faeron/Desktop/ML Exam Project/data/en/clips/common_voice_en_101460.mp3\n",
      "Analyzing file 384 of 515310: /home/faeron/Desktop/ML Exam Project/data/en/clips/common_voice_en_101461.mp3\n",
      "Analyzing file 385 of 515310: /home/faeron/Desktop/ML Exam Project/data/en/clips/common_voice_en_101462.mp3\n",
      "Analyzing file 386 of 515310: /home/faeron/Desktop/ML Exam Project/data/en/clips/common_voice_en_101463.mp3\n",
      "Analyzing file 387 of 515310: /home/faeron/Desktop/ML Exam Project/data/en/clips/common_voice_en_101464.mp3\n",
      "Analyzing file 388 of 515310: /home/faeron/Desktop/ML Exam Project/data/en/clips/common_voice_en_101465.mp3\n",
      "Analyzing file 389 of 515310: /home/faeron/Desktop/ML Exam Project/data/en/clips/common_voice_en_101466.mp3\n",
      "Analyzing file 390 of 515310: /home/faeron/Desktop/ML Exam Project/data/en/clips/common_voice_en_101467.mp3\n",
      "Analyzing file 391 of 515310: /home/faeron/Desktop/ML Exam Project/data/en/clips/common_voice_en_101468.mp3\n",
      "Analyzing file 392 of 515310: /home/faeron/Desktop/ML Exam Project/data/en/clips/common_voice_en_101469.mp3\n",
      "Analyzing file 393 of 515310: /home/faeron/Desktop/ML Exam Project/data/en/clips/common_voice_en_101470.mp3\n",
      "Analyzing file 394 of 515310: /home/faeron/Desktop/ML Exam Project/data/en/clips/common_voice_en_101471.mp3\n",
      "Analyzing file 395 of 515310: /home/faeron/Desktop/ML Exam Project/data/en/clips/common_voice_en_101472.mp3\n",
      "Analyzing file 396 of 515310: /home/faeron/Desktop/ML Exam Project/data/en/clips/common_voice_en_101473.mp3\n",
      "Analyzing file 397 of 515310: /home/faeron/Desktop/ML Exam Project/data/en/clips/common_voice_en_101474.mp3\n",
      "Analyzing file 398 of 515310: /home/faeron/Desktop/ML Exam Project/data/en/clips/common_voice_en_101475.mp3\n",
      "Analyzing file 399 of 515310: /home/faeron/Desktop/ML Exam Project/data/en/clips/common_voice_en_101476.mp3\n",
      "Analyzing file 400 of 515310: /home/faeron/Desktop/ML Exam Project/data/en/clips/common_voice_en_101477.mp3\n",
      "Analyzing file 401 of 515310: /home/faeron/Desktop/ML Exam Project/data/en/clips/common_voice_en_101478.mp3\n",
      "Analyzing file 402 of 515310: /home/faeron/Desktop/ML Exam Project/data/en/clips/common_voice_en_101479.mp3\n",
      "Analyzing file 403 of 515310: /home/faeron/Desktop/ML Exam Project/data/en/clips/common_voice_en_10148.mp3\n",
      "Analyzing file 404 of 515310: /home/faeron/Desktop/ML Exam Project/data/en/clips/common_voice_en_101481.mp3\n",
      "Analyzing file 405 of 515310: /home/faeron/Desktop/ML Exam Project/data/en/clips/common_voice_en_101482.mp3\n",
      "Analyzing file 406 of 515310: /home/faeron/Desktop/ML Exam Project/data/en/clips/common_voice_en_101483.mp3\n",
      "Analyzing file 407 of 515310: /home/faeron/Desktop/ML Exam Project/data/en/clips/common_voice_en_101484.mp3\n",
      "Analyzing file 408 of 515310: /home/faeron/Desktop/ML Exam Project/data/en/clips/common_voice_en_101485.mp3\n",
      "Analyzing file 409 of 515310: /home/faeron/Desktop/ML Exam Project/data/en/clips/common_voice_en_101486.mp3\n",
      "Analyzing file 410 of 515310: /home/faeron/Desktop/ML Exam Project/data/en/clips/common_voice_en_101487.mp3\n",
      "Analyzing file 411 of 515310: /home/faeron/Desktop/ML Exam Project/data/en/clips/common_voice_en_101488.mp3\n",
      "Analyzing file 412 of 515310: /home/faeron/Desktop/ML Exam Project/data/en/clips/common_voice_en_10150.mp3\n",
      "Analyzing file 413 of 515310: /home/faeron/Desktop/ML Exam Project/data/en/clips/common_voice_en_10152.mp3\n",
      "Analyzing file 414 of 515310: /home/faeron/Desktop/ML Exam Project/data/en/clips/common_voice_en_101521.mp3\n",
      "Analyzing file 415 of 515310: /home/faeron/Desktop/ML Exam Project/data/en/clips/common_voice_en_101524.mp3\n",
      "Analyzing file 416 of 515310: /home/faeron/Desktop/ML Exam Project/data/en/clips/common_voice_en_101528.mp3\n",
      "Analyzing file 417 of 515310: /home/faeron/Desktop/ML Exam Project/data/en/clips/common_voice_en_101529.mp3\n",
      "Analyzing file 418 of 515310: /home/faeron/Desktop/ML Exam Project/data/en/clips/common_voice_en_10153.mp3\n",
      "Analyzing file 419 of 515310: /home/faeron/Desktop/ML Exam Project/data/en/clips/common_voice_en_101530.mp3\n",
      "Analyzing file 420 of 515310: /home/faeron/Desktop/ML Exam Project/data/en/clips/common_voice_en_101534.mp3\n",
      "Analyzing file 421 of 515310: /home/faeron/Desktop/ML Exam Project/data/en/clips/common_voice_en_101535.mp3\n",
      "Analyzing file 422 of 515310: /home/faeron/Desktop/ML Exam Project/data/en/clips/common_voice_en_101538.mp3\n",
      "Analyzing file 423 of 515310: /home/faeron/Desktop/ML Exam Project/data/en/clips/common_voice_en_101539.mp3\n",
      "Analyzing file 424 of 515310: /home/faeron/Desktop/ML Exam Project/data/en/clips/common_voice_en_101540.mp3\n",
      "Analyzing file 425 of 515310: /home/faeron/Desktop/ML Exam Project/data/en/clips/common_voice_en_101543.mp3\n",
      "Analyzing file 426 of 515310: /home/faeron/Desktop/ML Exam Project/data/en/clips/common_voice_en_101545.mp3\n",
      "Analyzing file 427 of 515310: /home/faeron/Desktop/ML Exam Project/data/en/clips/common_voice_en_101552.mp3\n",
      "Analyzing file 428 of 515310: /home/faeron/Desktop/ML Exam Project/data/en/clips/common_voice_en_101558.mp3\n",
      "Analyzing file 429 of 515310: /home/faeron/Desktop/ML Exam Project/data/en/clips/common_voice_en_101561.mp3\n",
      "Analyzing file 430 of 515310: /home/faeron/Desktop/ML Exam Project/data/en/clips/common_voice_en_101562.mp3\n",
      "Analyzing file 431 of 515310: /home/faeron/Desktop/ML Exam Project/data/en/clips/common_voice_en_10157.mp3\n",
      "Analyzing file 432 of 515310: /home/faeron/Desktop/ML Exam Project/data/en/clips/common_voice_en_101570.mp3\n",
      "Analyzing file 433 of 515310: /home/faeron/Desktop/ML Exam Project/data/en/clips/common_voice_en_101573.mp3\n",
      "Analyzing file 434 of 515310: /home/faeron/Desktop/ML Exam Project/data/en/clips/common_voice_en_101578.mp3\n",
      "Analyzing file 435 of 515310: /home/faeron/Desktop/ML Exam Project/data/en/clips/common_voice_en_10158.mp3\n",
      "Analyzing file 436 of 515310: /home/faeron/Desktop/ML Exam Project/data/en/clips/common_voice_en_101627.mp3\n",
      "Analyzing file 437 of 515310: /home/faeron/Desktop/ML Exam Project/data/en/clips/common_voice_en_101639.mp3\n",
      "Analyzing file 438 of 515310: /home/faeron/Desktop/ML Exam Project/data/en/clips/common_voice_en_10164.mp3\n",
      "Analyzing file 439 of 515310: /home/faeron/Desktop/ML Exam Project/data/en/clips/common_voice_en_101640.mp3\n",
      "Analyzing file 440 of 515310: /home/faeron/Desktop/ML Exam Project/data/en/clips/common_voice_en_101645.mp3\n",
      "Analyzing file 441 of 515310: /home/faeron/Desktop/ML Exam Project/data/en/clips/common_voice_en_101646.mp3\n",
      "Analyzing file 442 of 515310: /home/faeron/Desktop/ML Exam Project/data/en/clips/common_voice_en_101648.mp3\n",
      "Analyzing file 443 of 515310: /home/faeron/Desktop/ML Exam Project/data/en/clips/common_voice_en_101657.mp3\n",
      "Analyzing file 444 of 515310: /home/faeron/Desktop/ML Exam Project/data/en/clips/common_voice_en_101658.mp3\n",
      "Analyzing file 445 of 515310: /home/faeron/Desktop/ML Exam Project/data/en/clips/common_voice_en_101659.mp3\n",
      "Analyzing file 446 of 515310: /home/faeron/Desktop/ML Exam Project/data/en/clips/common_voice_en_101660.mp3\n",
      "Analyzing file 447 of 515310: /home/faeron/Desktop/ML Exam Project/data/en/clips/common_voice_en_101661.mp3\n",
      "Analyzing file 448 of 515310: /home/faeron/Desktop/ML Exam Project/data/en/clips/common_voice_en_101662.mp3\n",
      "Analyzing file 449 of 515310: /home/faeron/Desktop/ML Exam Project/data/en/clips/common_voice_en_101663.mp3\n",
      "Analyzing file 450 of 515310: /home/faeron/Desktop/ML Exam Project/data/en/clips/common_voice_en_101664.mp3\n",
      "Analyzing file 451 of 515310: /home/faeron/Desktop/ML Exam Project/data/en/clips/common_voice_en_101665.mp3\n",
      "Analyzing file 452 of 515310: /home/faeron/Desktop/ML Exam Project/data/en/clips/common_voice_en_101678.mp3\n",
      "Analyzing file 453 of 515310: /home/faeron/Desktop/ML Exam Project/data/en/clips/common_voice_en_101680.mp3\n",
      "Analyzing file 454 of 515310: /home/faeron/Desktop/ML Exam Project/data/en/clips/common_voice_en_101681.mp3\n",
      "Analyzing file 455 of 515310: /home/faeron/Desktop/ML Exam Project/data/en/clips/common_voice_en_101687.mp3\n",
      "Analyzing file 456 of 515310: /home/faeron/Desktop/ML Exam Project/data/en/clips/common_voice_en_101690.mp3\n",
      "Analyzing file 457 of 515310: /home/faeron/Desktop/ML Exam Project/data/en/clips/common_voice_en_101696.mp3\n"
     ]
    },
    {
     "name": "stdout",
     "output_type": "stream",
     "text": [
      "Analyzing file 458 of 515310: /home/faeron/Desktop/ML Exam Project/data/en/clips/common_voice_en_101703.mp3\n",
      "Analyzing file 459 of 515310: /home/faeron/Desktop/ML Exam Project/data/en/clips/common_voice_en_101706.mp3\n",
      "Analyzing file 460 of 515310: /home/faeron/Desktop/ML Exam Project/data/en/clips/common_voice_en_101708.mp3\n",
      "Analyzing file 461 of 515310: /home/faeron/Desktop/ML Exam Project/data/en/clips/common_voice_en_10171.mp3\n",
      "Analyzing file 462 of 515310: /home/faeron/Desktop/ML Exam Project/data/en/clips/common_voice_en_101712.mp3\n",
      "Analyzing file 463 of 515310: /home/faeron/Desktop/ML Exam Project/data/en/clips/common_voice_en_101714.mp3\n",
      "Analyzing file 464 of 515310: /home/faeron/Desktop/ML Exam Project/data/en/clips/common_voice_en_10172.mp3\n",
      "Analyzing file 465 of 515310: /home/faeron/Desktop/ML Exam Project/data/en/clips/common_voice_en_10174.mp3\n",
      "Analyzing file 466 of 515310: /home/faeron/Desktop/ML Exam Project/data/en/clips/common_voice_en_10178.mp3\n",
      "Analyzing file 467 of 515310: /home/faeron/Desktop/ML Exam Project/data/en/clips/common_voice_en_101797.mp3\n",
      "Analyzing file 468 of 515310: /home/faeron/Desktop/ML Exam Project/data/en/clips/common_voice_en_101798.mp3\n",
      "Analyzing file 469 of 515310: /home/faeron/Desktop/ML Exam Project/data/en/clips/common_voice_en_101799.mp3\n",
      "Analyzing file 470 of 515310: /home/faeron/Desktop/ML Exam Project/data/en/clips/common_voice_en_101800.mp3\n",
      "Analyzing file 471 of 515310: /home/faeron/Desktop/ML Exam Project/data/en/clips/common_voice_en_101801.mp3\n",
      "Analyzing file 472 of 515310: /home/faeron/Desktop/ML Exam Project/data/en/clips/common_voice_en_101802.mp3\n",
      "Analyzing file 473 of 515310: /home/faeron/Desktop/ML Exam Project/data/en/clips/common_voice_en_101803.mp3\n",
      "Analyzing file 474 of 515310: /home/faeron/Desktop/ML Exam Project/data/en/clips/common_voice_en_101804.mp3\n",
      "Analyzing file 475 of 515310: /home/faeron/Desktop/ML Exam Project/data/en/clips/common_voice_en_101805.mp3\n",
      "Analyzing file 476 of 515310: /home/faeron/Desktop/ML Exam Project/data/en/clips/common_voice_en_101806.mp3\n",
      "Analyzing file 477 of 515310: /home/faeron/Desktop/ML Exam Project/data/en/clips/common_voice_en_101807.mp3\n",
      "Analyzing file 478 of 515310: /home/faeron/Desktop/ML Exam Project/data/en/clips/common_voice_en_101808.mp3\n",
      "Analyzing file 479 of 515310: /home/faeron/Desktop/ML Exam Project/data/en/clips/common_voice_en_101809.mp3\n",
      "Analyzing file 480 of 515310: /home/faeron/Desktop/ML Exam Project/data/en/clips/common_voice_en_101810.mp3\n",
      "Analyzing file 481 of 515310: /home/faeron/Desktop/ML Exam Project/data/en/clips/common_voice_en_101811.mp3\n",
      "Analyzing file 482 of 515310: /home/faeron/Desktop/ML Exam Project/data/en/clips/common_voice_en_101812.mp3\n",
      "Analyzing file 483 of 515310: /home/faeron/Desktop/ML Exam Project/data/en/clips/common_voice_en_101813.mp3\n",
      "Analyzing file 484 of 515310: /home/faeron/Desktop/ML Exam Project/data/en/clips/common_voice_en_101814.mp3\n",
      "Analyzing file 485 of 515310: /home/faeron/Desktop/ML Exam Project/data/en/clips/common_voice_en_101815.mp3\n",
      "Analyzing file 486 of 515310: /home/faeron/Desktop/ML Exam Project/data/en/clips/common_voice_en_101816.mp3\n",
      "Analyzing file 487 of 515310: /home/faeron/Desktop/ML Exam Project/data/en/clips/common_voice_en_101817.mp3\n",
      "Analyzing file 488 of 515310: /home/faeron/Desktop/ML Exam Project/data/en/clips/common_voice_en_101818.mp3\n",
      "Analyzing file 489 of 515310: /home/faeron/Desktop/ML Exam Project/data/en/clips/common_voice_en_101819.mp3\n",
      "Analyzing file 490 of 515310: /home/faeron/Desktop/ML Exam Project/data/en/clips/common_voice_en_101820.mp3\n",
      "Analyzing file 491 of 515310: /home/faeron/Desktop/ML Exam Project/data/en/clips/common_voice_en_10185.mp3\n",
      "Analyzing file 492 of 515310: /home/faeron/Desktop/ML Exam Project/data/en/clips/common_voice_en_10187.mp3\n",
      "Analyzing file 493 of 515310: /home/faeron/Desktop/ML Exam Project/data/en/clips/common_voice_en_10188.mp3\n",
      "Analyzing file 494 of 515310: /home/faeron/Desktop/ML Exam Project/data/en/clips/common_voice_en_101884.mp3\n",
      "Analyzing file 495 of 515310: /home/faeron/Desktop/ML Exam Project/data/en/clips/common_voice_en_101887.mp3\n",
      "Analyzing file 496 of 515310: /home/faeron/Desktop/ML Exam Project/data/en/clips/common_voice_en_101891.mp3\n",
      "Analyzing file 497 of 515310: /home/faeron/Desktop/ML Exam Project/data/en/clips/common_voice_en_101894.mp3\n",
      "Analyzing file 498 of 515310: /home/faeron/Desktop/ML Exam Project/data/en/clips/common_voice_en_101895.mp3\n",
      "Analyzing file 499 of 515310: /home/faeron/Desktop/ML Exam Project/data/en/clips/common_voice_en_10190.mp3\n",
      "Analyzing file 500 of 515310: /home/faeron/Desktop/ML Exam Project/data/en/clips/common_voice_en_101901.mp3\n",
      "Analyzing file 501 of 515310: /home/faeron/Desktop/ML Exam Project/data/en/clips/common_voice_en_101902.mp3\n",
      "Analyzing file 502 of 515310: /home/faeron/Desktop/ML Exam Project/data/en/clips/common_voice_en_101906.mp3\n",
      "Analyzing file 503 of 515310: /home/faeron/Desktop/ML Exam Project/data/en/clips/common_voice_en_10192.mp3\n",
      "Analyzing file 504 of 515310: /home/faeron/Desktop/ML Exam Project/data/en/clips/common_voice_en_101954.mp3\n",
      "Analyzing file 505 of 515310: /home/faeron/Desktop/ML Exam Project/data/en/clips/common_voice_en_101955.mp3\n",
      "Analyzing file 506 of 515310: /home/faeron/Desktop/ML Exam Project/data/en/clips/common_voice_en_101956.mp3\n",
      "Analyzing file 507 of 515310: /home/faeron/Desktop/ML Exam Project/data/en/clips/common_voice_en_10196.mp3\n",
      "Analyzing file 508 of 515310: /home/faeron/Desktop/ML Exam Project/data/en/clips/common_voice_en_10199.mp3\n",
      "Analyzing file 509 of 515310: /home/faeron/Desktop/ML Exam Project/data/en/clips/common_voice_en_10200.mp3\n",
      "Analyzing file 510 of 515310: /home/faeron/Desktop/ML Exam Project/data/en/clips/common_voice_en_102002.mp3\n",
      "Analyzing file 511 of 515310: /home/faeron/Desktop/ML Exam Project/data/en/clips/common_voice_en_102006.mp3\n",
      "Analyzing file 512 of 515310: /home/faeron/Desktop/ML Exam Project/data/en/clips/common_voice_en_102008.mp3\n",
      "Analyzing file 513 of 515310: /home/faeron/Desktop/ML Exam Project/data/en/clips/common_voice_en_102011.mp3\n",
      "Analyzing file 514 of 515310: /home/faeron/Desktop/ML Exam Project/data/en/clips/common_voice_en_102012.mp3\n",
      "Analyzing file 515 of 515310: /home/faeron/Desktop/ML Exam Project/data/en/clips/common_voice_en_102014.mp3\n",
      "Analyzing file 516 of 515310: /home/faeron/Desktop/ML Exam Project/data/en/clips/common_voice_en_102028.mp3\n",
      "Analyzing file 517 of 515310: /home/faeron/Desktop/ML Exam Project/data/en/clips/common_voice_en_102030.mp3\n",
      "Analyzing file 518 of 515310: /home/faeron/Desktop/ML Exam Project/data/en/clips/common_voice_en_102031.mp3\n",
      "Analyzing file 519 of 515310: /home/faeron/Desktop/ML Exam Project/data/en/clips/common_voice_en_102032.mp3\n",
      "Analyzing file 520 of 515310: /home/faeron/Desktop/ML Exam Project/data/en/clips/common_voice_en_102034.mp3\n",
      "Analyzing file 521 of 515310: /home/faeron/Desktop/ML Exam Project/data/en/clips/common_voice_en_10204.mp3\n",
      "Analyzing file 522 of 515310: /home/faeron/Desktop/ML Exam Project/data/en/clips/common_voice_en_10208.mp3\n",
      "Analyzing file 523 of 515310: /home/faeron/Desktop/ML Exam Project/data/en/clips/common_voice_en_10208625.mp3\n",
      "Analyzing file 524 of 515310: /home/faeron/Desktop/ML Exam Project/data/en/clips/common_voice_en_10208626.mp3\n",
      "Analyzing file 525 of 515310: /home/faeron/Desktop/ML Exam Project/data/en/clips/common_voice_en_10208627.mp3\n",
      "Analyzing file 526 of 515310: /home/faeron/Desktop/ML Exam Project/data/en/clips/common_voice_en_10208628.mp3\n",
      "Analyzing file 527 of 515310: /home/faeron/Desktop/ML Exam Project/data/en/clips/common_voice_en_10208629.mp3\n",
      "Analyzing file 528 of 515310: /home/faeron/Desktop/ML Exam Project/data/en/clips/common_voice_en_10208630.mp3\n",
      "Analyzing file 529 of 515310: /home/faeron/Desktop/ML Exam Project/data/en/clips/common_voice_en_10208631.mp3\n",
      "Analyzing file 530 of 515310: /home/faeron/Desktop/ML Exam Project/data/en/clips/common_voice_en_10208632.mp3\n",
      "Analyzing file 531 of 515310: /home/faeron/Desktop/ML Exam Project/data/en/clips/common_voice_en_10208633.mp3\n",
      "Analyzing file 532 of 515310: /home/faeron/Desktop/ML Exam Project/data/en/clips/common_voice_en_10208634.mp3\n",
      "Analyzing file 533 of 515310: /home/faeron/Desktop/ML Exam Project/data/en/clips/common_voice_en_10208635.mp3\n"
     ]
    },
    {
     "name": "stdout",
     "output_type": "stream",
     "text": [
      "Analyzing file 534 of 515310: /home/faeron/Desktop/ML Exam Project/data/en/clips/common_voice_en_10208636.mp3\n",
      "Analyzing file 535 of 515310: /home/faeron/Desktop/ML Exam Project/data/en/clips/common_voice_en_10208637.mp3\n",
      "Analyzing file 536 of 515310: /home/faeron/Desktop/ML Exam Project/data/en/clips/common_voice_en_10208638.mp3\n",
      "Analyzing file 537 of 515310: /home/faeron/Desktop/ML Exam Project/data/en/clips/common_voice_en_10208639.mp3\n",
      "Analyzing file 538 of 515310: /home/faeron/Desktop/ML Exam Project/data/en/clips/common_voice_en_10208640.mp3\n",
      "Analyzing file 539 of 515310: /home/faeron/Desktop/ML Exam Project/data/en/clips/common_voice_en_10208641.mp3\n",
      "Analyzing file 540 of 515310: /home/faeron/Desktop/ML Exam Project/data/en/clips/common_voice_en_10208642.mp3\n",
      "Analyzing file 541 of 515310: /home/faeron/Desktop/ML Exam Project/data/en/clips/common_voice_en_10208643.mp3\n",
      "Analyzing file 542 of 515310: /home/faeron/Desktop/ML Exam Project/data/en/clips/common_voice_en_10208644.mp3\n",
      "Analyzing file 543 of 515310: /home/faeron/Desktop/ML Exam Project/data/en/clips/common_voice_en_10208647.mp3\n",
      "Analyzing file 544 of 515310: /home/faeron/Desktop/ML Exam Project/data/en/clips/common_voice_en_10208649.mp3\n",
      "Analyzing file 545 of 515310: /home/faeron/Desktop/ML Exam Project/data/en/clips/common_voice_en_10208651.mp3\n",
      "Analyzing file 546 of 515310: /home/faeron/Desktop/ML Exam Project/data/en/clips/common_voice_en_10208652.mp3\n",
      "Analyzing file 547 of 515310: /home/faeron/Desktop/ML Exam Project/data/en/clips/common_voice_en_10208654.mp3\n",
      "Analyzing file 548 of 515310: /home/faeron/Desktop/ML Exam Project/data/en/clips/common_voice_en_10208655.mp3\n",
      "Analyzing file 549 of 515310: /home/faeron/Desktop/ML Exam Project/data/en/clips/common_voice_en_10208656.mp3\n",
      "Analyzing file 550 of 515310: /home/faeron/Desktop/ML Exam Project/data/en/clips/common_voice_en_10208657.mp3\n",
      "Analyzing file 551 of 515310: /home/faeron/Desktop/ML Exam Project/data/en/clips/common_voice_en_10208658.mp3\n",
      "Analyzing file 552 of 515310: /home/faeron/Desktop/ML Exam Project/data/en/clips/common_voice_en_10208659.mp3\n",
      "Analyzing file 553 of 515310: /home/faeron/Desktop/ML Exam Project/data/en/clips/common_voice_en_10208660.mp3\n",
      "Analyzing file 554 of 515310: /home/faeron/Desktop/ML Exam Project/data/en/clips/common_voice_en_10208661.mp3\n",
      "Analyzing file 555 of 515310: /home/faeron/Desktop/ML Exam Project/data/en/clips/common_voice_en_10208663.mp3\n",
      "Analyzing file 556 of 515310: /home/faeron/Desktop/ML Exam Project/data/en/clips/common_voice_en_10208664.mp3\n",
      "Analyzing file 557 of 515310: /home/faeron/Desktop/ML Exam Project/data/en/clips/common_voice_en_10208665.mp3\n",
      "Analyzing file 558 of 515310: /home/faeron/Desktop/ML Exam Project/data/en/clips/common_voice_en_10208667.mp3\n",
      "Analyzing file 559 of 515310: /home/faeron/Desktop/ML Exam Project/data/en/clips/common_voice_en_10208668.mp3\n",
      "Analyzing file 560 of 515310: /home/faeron/Desktop/ML Exam Project/data/en/clips/common_voice_en_10208669.mp3\n",
      "Analyzing file 561 of 515310: /home/faeron/Desktop/ML Exam Project/data/en/clips/common_voice_en_10208670.mp3\n",
      "Analyzing file 562 of 515310: /home/faeron/Desktop/ML Exam Project/data/en/clips/common_voice_en_10208672.mp3\n",
      "Analyzing file 563 of 515310: /home/faeron/Desktop/ML Exam Project/data/en/clips/common_voice_en_10208673.mp3\n",
      "Analyzing file 564 of 515310: /home/faeron/Desktop/ML Exam Project/data/en/clips/common_voice_en_10208674.mp3\n",
      "Analyzing file 565 of 515310: /home/faeron/Desktop/ML Exam Project/data/en/clips/common_voice_en_10208675.mp3\n",
      "Analyzing file 566 of 515310: /home/faeron/Desktop/ML Exam Project/data/en/clips/common_voice_en_10208676.mp3\n",
      "Analyzing file 567 of 515310: /home/faeron/Desktop/ML Exam Project/data/en/clips/common_voice_en_10208677.mp3\n",
      "Analyzing file 568 of 515310: /home/faeron/Desktop/ML Exam Project/data/en/clips/common_voice_en_10208678.mp3\n",
      "Analyzing file 569 of 515310: /home/faeron/Desktop/ML Exam Project/data/en/clips/common_voice_en_10208679.mp3\n",
      "Analyzing file 570 of 515310: /home/faeron/Desktop/ML Exam Project/data/en/clips/common_voice_en_10208682.mp3\n",
      "Analyzing file 571 of 515310: /home/faeron/Desktop/ML Exam Project/data/en/clips/common_voice_en_10208683.mp3\n",
      "Analyzing file 572 of 515310: /home/faeron/Desktop/ML Exam Project/data/en/clips/common_voice_en_10208684.mp3\n",
      "Analyzing file 573 of 515310: /home/faeron/Desktop/ML Exam Project/data/en/clips/common_voice_en_10208685.mp3\n",
      "Analyzing file 574 of 515310: /home/faeron/Desktop/ML Exam Project/data/en/clips/common_voice_en_10208686.mp3\n",
      "Analyzing file 575 of 515310: /home/faeron/Desktop/ML Exam Project/data/en/clips/common_voice_en_10208687.mp3\n",
      "Analyzing file 576 of 515310: /home/faeron/Desktop/ML Exam Project/data/en/clips/common_voice_en_10208688.mp3\n",
      "Analyzing file 577 of 515310: /home/faeron/Desktop/ML Exam Project/data/en/clips/common_voice_en_10208689.mp3\n",
      "Analyzing file 578 of 515310: /home/faeron/Desktop/ML Exam Project/data/en/clips/common_voice_en_10208690.mp3\n",
      "Analyzing file 579 of 515310: /home/faeron/Desktop/ML Exam Project/data/en/clips/common_voice_en_10208691.mp3\n",
      "Error: file not found or other I/O error. (DECODING FAILED)\n"
     ]
    },
    {
     "ename": "ValueError",
     "evalue": "zero-size array to reduction operation maximum which has no identity",
     "output_type": "error",
     "traceback": [
      "\u001b[0;31m---------------------------------------------------------------------------\u001b[0m",
      "\u001b[0;31mValueError\u001b[0m                                Traceback (most recent call last)",
      "\u001b[0;32m/tmp/ipykernel_39940/1911171540.py\u001b[0m in \u001b[0;36m<module>\u001b[0;34m\u001b[0m\n\u001b[0;32m----> 1\u001b[0;31m \u001b[0mdata_features\u001b[0m \u001b[0;34m=\u001b[0m \u001b[0mmt_feature_extractor\u001b[0m\u001b[0;34m(\u001b[0m\u001b[0mAUDIO_PATH\u001b[0m\u001b[0;34m)\u001b[0m\u001b[0;34m\u001b[0m\u001b[0;34m\u001b[0m\u001b[0m\n\u001b[0m",
      "\u001b[0;32m/tmp/ipykernel_39940/3079640964.py\u001b[0m in \u001b[0;36mmt_feature_extractor\u001b[0;34m(path)\u001b[0m\n\u001b[1;32m      1\u001b[0m \u001b[0;32mdef\u001b[0m \u001b[0mmt_feature_extractor\u001b[0m\u001b[0;34m(\u001b[0m\u001b[0mpath\u001b[0m\u001b[0;34m)\u001b[0m\u001b[0;34m:\u001b[0m\u001b[0;34m\u001b[0m\u001b[0;34m\u001b[0m\u001b[0m\n\u001b[0;32m----> 2\u001b[0;31m     \u001b[0mfeatures\u001b[0m\u001b[0;34m,\u001b[0m \u001b[0mfiles\u001b[0m\u001b[0;34m,\u001b[0m \u001b[0mfeature_names\u001b[0m \u001b[0;34m=\u001b[0m \u001b[0mMTF\u001b[0m\u001b[0;34m.\u001b[0m\u001b[0mdirectory_feature_extraction\u001b[0m\u001b[0;34m(\u001b[0m\u001b[0mpath\u001b[0m\u001b[0;34m,\u001b[0m \u001b[0;36m1\u001b[0m\u001b[0;34m,\u001b[0m \u001b[0;36m1\u001b[0m\u001b[0;34m,\u001b[0m \u001b[0;36m0.1\u001b[0m\u001b[0;34m,\u001b[0m \u001b[0;36m0.05\u001b[0m\u001b[0;34m)\u001b[0m\u001b[0;34m\u001b[0m\u001b[0;34m\u001b[0m\u001b[0m\n\u001b[0m\u001b[1;32m      3\u001b[0m \u001b[0;34m\u001b[0m\u001b[0m\n\u001b[1;32m      4\u001b[0m     \u001b[0mdf\u001b[0m \u001b[0;34m=\u001b[0m \u001b[0mpd\u001b[0m\u001b[0;34m.\u001b[0m\u001b[0mDataFrame\u001b[0m\u001b[0;34m(\u001b[0m\u001b[0mfeatures\u001b[0m\u001b[0;34m,\u001b[0m \u001b[0mcolumns\u001b[0m \u001b[0;34m=\u001b[0m \u001b[0mfeature_names\u001b[0m\u001b[0;34m)\u001b[0m\u001b[0;34m\u001b[0m\u001b[0;34m\u001b[0m\u001b[0m\n\u001b[1;32m      5\u001b[0m     \u001b[0mdf\u001b[0m\u001b[0;34m[\u001b[0m\u001b[0;34m\"filename\"\u001b[0m\u001b[0;34m]\u001b[0m \u001b[0;34m=\u001b[0m \u001b[0;34m[\u001b[0m\u001b[0mfile\u001b[0m \u001b[0;32mfor\u001b[0m \u001b[0mfile\u001b[0m \u001b[0;32min\u001b[0m \u001b[0mfiles\u001b[0m\u001b[0;34m]\u001b[0m\u001b[0;34m\u001b[0m\u001b[0;34m\u001b[0m\u001b[0m\n",
      "\u001b[0;32m~/anaconda3/envs/introsphere/lib/python3.7/site-packages/pyAudioAnalysis/MidTermFeatures.py\u001b[0m in \u001b[0;36mdirectory_feature_extraction\u001b[0;34m(folder_path, mid_window, mid_step, short_window, short_step, compute_beat)\u001b[0m\n\u001b[1;32m    188\u001b[0m                                        \u001b[0mround\u001b[0m\u001b[0;34m(\u001b[0m\u001b[0mmid_step\u001b[0m \u001b[0;34m*\u001b[0m \u001b[0msampling_rate\u001b[0m\u001b[0;34m)\u001b[0m\u001b[0;34m,\u001b[0m\u001b[0;34m\u001b[0m\u001b[0;34m\u001b[0m\u001b[0m\n\u001b[1;32m    189\u001b[0m                                        \u001b[0mround\u001b[0m\u001b[0;34m(\u001b[0m\u001b[0msampling_rate\u001b[0m \u001b[0;34m*\u001b[0m \u001b[0mshort_window\u001b[0m\u001b[0;34m)\u001b[0m\u001b[0;34m,\u001b[0m\u001b[0;34m\u001b[0m\u001b[0;34m\u001b[0m\u001b[0m\n\u001b[0;32m--> 190\u001b[0;31m                                        round(sampling_rate * short_step))\n\u001b[0m\u001b[1;32m    191\u001b[0m             \u001b[0mbeat\u001b[0m\u001b[0;34m,\u001b[0m \u001b[0mbeat_conf\u001b[0m \u001b[0;34m=\u001b[0m \u001b[0mbeat_extraction\u001b[0m\u001b[0;34m(\u001b[0m\u001b[0mshort_features\u001b[0m\u001b[0;34m,\u001b[0m \u001b[0mshort_step\u001b[0m\u001b[0;34m)\u001b[0m\u001b[0;34m\u001b[0m\u001b[0;34m\u001b[0m\u001b[0m\n\u001b[1;32m    192\u001b[0m         \u001b[0;32melse\u001b[0m\u001b[0;34m:\u001b[0m\u001b[0;34m\u001b[0m\u001b[0;34m\u001b[0m\u001b[0m\n",
      "\u001b[0;32m~/anaconda3/envs/introsphere/lib/python3.7/site-packages/pyAudioAnalysis/MidTermFeatures.py\u001b[0m in \u001b[0;36mmid_feature_extraction\u001b[0;34m(signal, sampling_rate, mid_window, mid_step, short_window, short_step)\u001b[0m\n\u001b[1;32m     93\u001b[0m     \u001b[0mshort_features\u001b[0m\u001b[0;34m,\u001b[0m \u001b[0mshort_feature_names\u001b[0m \u001b[0;34m=\u001b[0m\u001b[0;31m \u001b[0m\u001b[0;31m\\\u001b[0m\u001b[0;34m\u001b[0m\u001b[0;34m\u001b[0m\u001b[0m\n\u001b[1;32m     94\u001b[0m         ShortTermFeatures.feature_extraction(signal, sampling_rate,\n\u001b[0;32m---> 95\u001b[0;31m                                              short_window, short_step)\n\u001b[0m\u001b[1;32m     96\u001b[0m \u001b[0;34m\u001b[0m\u001b[0m\n\u001b[1;32m     97\u001b[0m     \u001b[0mn_stats\u001b[0m \u001b[0;34m=\u001b[0m \u001b[0;36m2\u001b[0m\u001b[0;34m\u001b[0m\u001b[0;34m\u001b[0m\u001b[0m\n",
      "\u001b[0;32m~/anaconda3/envs/introsphere/lib/python3.7/site-packages/pyAudioAnalysis/ShortTermFeatures.py\u001b[0m in \u001b[0;36mfeature_extraction\u001b[0;34m(signal, sampling_rate, window, step, deltas)\u001b[0m\n\u001b[1;32m    568\u001b[0m     \u001b[0msignal\u001b[0m \u001b[0;34m=\u001b[0m \u001b[0msignal\u001b[0m \u001b[0;34m/\u001b[0m \u001b[0;34m(\u001b[0m\u001b[0;36m2.0\u001b[0m \u001b[0;34m**\u001b[0m \u001b[0;36m15\u001b[0m\u001b[0;34m)\u001b[0m\u001b[0;34m\u001b[0m\u001b[0;34m\u001b[0m\u001b[0m\n\u001b[1;32m    569\u001b[0m \u001b[0;34m\u001b[0m\u001b[0m\n\u001b[0;32m--> 570\u001b[0;31m     \u001b[0msignal\u001b[0m \u001b[0;34m=\u001b[0m \u001b[0mdc_normalize\u001b[0m\u001b[0;34m(\u001b[0m\u001b[0msignal\u001b[0m\u001b[0;34m)\u001b[0m\u001b[0;34m\u001b[0m\u001b[0;34m\u001b[0m\u001b[0m\n\u001b[0m\u001b[1;32m    571\u001b[0m \u001b[0;34m\u001b[0m\u001b[0m\n\u001b[1;32m    572\u001b[0m     \u001b[0mnumber_of_samples\u001b[0m \u001b[0;34m=\u001b[0m \u001b[0mlen\u001b[0m\u001b[0;34m(\u001b[0m\u001b[0msignal\u001b[0m\u001b[0;34m)\u001b[0m  \u001b[0;31m# total number of samples\u001b[0m\u001b[0;34m\u001b[0m\u001b[0;34m\u001b[0m\u001b[0m\n",
      "\u001b[0;32m~/anaconda3/envs/introsphere/lib/python3.7/site-packages/pyAudioAnalysis/ShortTermFeatures.py\u001b[0m in \u001b[0;36mdc_normalize\u001b[0;34m(sig_array)\u001b[0m\n\u001b[1;32m     16\u001b[0m     \u001b[0msig_array_norm\u001b[0m \u001b[0;34m=\u001b[0m \u001b[0msig_array\u001b[0m\u001b[0;34m.\u001b[0m\u001b[0mcopy\u001b[0m\u001b[0;34m(\u001b[0m\u001b[0;34m)\u001b[0m\u001b[0;34m\u001b[0m\u001b[0;34m\u001b[0m\u001b[0m\n\u001b[1;32m     17\u001b[0m     \u001b[0msig_array_norm\u001b[0m \u001b[0;34m-=\u001b[0m \u001b[0msig_array_norm\u001b[0m\u001b[0;34m.\u001b[0m\u001b[0mmean\u001b[0m\u001b[0;34m(\u001b[0m\u001b[0;34m)\u001b[0m\u001b[0;34m\u001b[0m\u001b[0;34m\u001b[0m\u001b[0m\n\u001b[0;32m---> 18\u001b[0;31m     \u001b[0msig_array_norm\u001b[0m \u001b[0;34m/=\u001b[0m \u001b[0mabs\u001b[0m\u001b[0;34m(\u001b[0m\u001b[0msig_array_norm\u001b[0m\u001b[0;34m)\u001b[0m\u001b[0;34m.\u001b[0m\u001b[0mmax\u001b[0m\u001b[0;34m(\u001b[0m\u001b[0;34m)\u001b[0m \u001b[0;34m+\u001b[0m \u001b[0;36m1e-10\u001b[0m\u001b[0;34m\u001b[0m\u001b[0;34m\u001b[0m\u001b[0m\n\u001b[0m\u001b[1;32m     19\u001b[0m     \u001b[0;32mreturn\u001b[0m \u001b[0msig_array_norm\u001b[0m\u001b[0;34m\u001b[0m\u001b[0;34m\u001b[0m\u001b[0m\n\u001b[1;32m     20\u001b[0m \u001b[0;34m\u001b[0m\u001b[0m\n",
      "\u001b[0;32m~/anaconda3/envs/introsphere/lib/python3.7/site-packages/numpy/core/_methods.py\u001b[0m in \u001b[0;36m_amax\u001b[0;34m(a, axis, out, keepdims, initial, where)\u001b[0m\n\u001b[1;32m     38\u001b[0m def _amax(a, axis=None, out=None, keepdims=False,\n\u001b[1;32m     39\u001b[0m           initial=_NoValue, where=True):\n\u001b[0;32m---> 40\u001b[0;31m     \u001b[0;32mreturn\u001b[0m \u001b[0mumr_maximum\u001b[0m\u001b[0;34m(\u001b[0m\u001b[0ma\u001b[0m\u001b[0;34m,\u001b[0m \u001b[0maxis\u001b[0m\u001b[0;34m,\u001b[0m \u001b[0;32mNone\u001b[0m\u001b[0;34m,\u001b[0m \u001b[0mout\u001b[0m\u001b[0;34m,\u001b[0m \u001b[0mkeepdims\u001b[0m\u001b[0;34m,\u001b[0m \u001b[0minitial\u001b[0m\u001b[0;34m,\u001b[0m \u001b[0mwhere\u001b[0m\u001b[0;34m)\u001b[0m\u001b[0;34m\u001b[0m\u001b[0;34m\u001b[0m\u001b[0m\n\u001b[0m\u001b[1;32m     41\u001b[0m \u001b[0;34m\u001b[0m\u001b[0m\n\u001b[1;32m     42\u001b[0m def _amin(a, axis=None, out=None, keepdims=False,\n",
      "\u001b[0;31mValueError\u001b[0m: zero-size array to reduction operation maximum which has no identity"
     ]
    }
   ],
   "source": [
    "data_features = mt_feature_extractor(AUDIO_PATH)"
   ]
  },
  {
   "cell_type": "markdown",
   "id": "94c0aa2b-b409-4b65-84f4-0d7df3ebb5a2",
   "metadata": {
    "id": "94c0aa2b-b409-4b65-84f4-0d7df3ebb5a2"
   },
   "source": [
    "- And finally, let's save the new .csv files, so we don't need to execute the previous functions anew..."
   ]
  },
  {
   "cell_type": "code",
   "execution_count": null,
   "id": "41976e33-44dc-4a4c-b9b8-ad1eab3c5141",
   "metadata": {
    "id": "41976e33-44dc-4a4c-b9b8-ad1eab3c5141"
   },
   "outputs": [],
   "source": [
    "data_features.to_csv(\"data_features.csv\", index = False)"
   ]
  },
  {
   "cell_type": "code",
   "execution_count": null,
   "id": "b5b6d399",
   "metadata": {
    "id": "b5b6d399"
   },
   "outputs": [],
   "source": [
    "data_features = pd.read_csv(\"audio_data_features.csv\")"
   ]
  },
  {
   "cell_type": "code",
   "execution_count": null,
   "id": "ecf55087",
   "metadata": {
    "id": "ecf55087",
    "outputId": "aaed4bd4-14d9-4c1e-9d56-2f04b1d3d8e2"
   },
   "outputs": [],
   "source": [
    "data_features.head()"
   ]
  },
  {
   "cell_type": "markdown",
   "id": "0046e4f6",
   "metadata": {
    "id": "0046e4f6"
   },
   "source": [
    "Next steps:\n",
    "\n",
    "1. Merge the features and the gender datasets.\n",
    "\n",
    "\n",
    "2. See if our extraction produced some missing values and handle them.\n",
    "\n",
    "\n",
    "3. Decide what to do with outliers.\n"
   ]
  },
  {
   "cell_type": "code",
   "execution_count": null,
   "id": "2f4f6aa8",
   "metadata": {},
   "outputs": [],
   "source": [
    "cols_to_drop = [\"filename\", \"down_votes\"]"
   ]
  },
  {
   "cell_type": "code",
   "execution_count": null,
   "id": "2bde6987",
   "metadata": {
    "executionInfo": {
     "elapsed": 286,
     "status": "ok",
     "timestamp": 1667999195651,
     "user": {
      "displayName": "Tihomir Todorov",
      "userId": "04188387160388165689"
     },
     "user_tz": -120
    },
    "id": "2bde6987"
   },
   "outputs": [],
   "source": [
    "final_data[final_data.isna().any(axis = 1)]\n"
   ]
  },
  {
   "cell_type": "markdown",
   "id": "46d01588",
   "metadata": {
    "id": "46d01588"
   },
   "source": [
    "- Now we can also replace the gender values into a more understandable format for our models:"
   ]
  },
  {
   "cell_type": "code",
   "execution_count": null,
   "id": "68768dd9",
   "metadata": {
    "executionInfo": {
     "elapsed": 12,
     "status": "ok",
     "timestamp": 1668001511040,
     "user": {
      "displayName": "Tihomir Todorov",
      "userId": "04188387160388165689"
     },
     "user_tz": -120
    },
    "id": "68768dd9"
   },
   "outputs": [],
   "source": [
    "def replace_gender(data):\n",
    "    data.gender.replace([\"female\", \"male\"], [0, 1], inplace = True)\n",
    "    return data"
   ]
  },
  {
   "cell_type": "code",
   "execution_count": null,
   "id": "2805199b",
   "metadata": {
    "executionInfo": {
     "elapsed": 10,
     "status": "ok",
     "timestamp": 1668001511040,
     "user": {
      "displayName": "Tihomir Todorov",
      "userId": "04188387160388165689"
     },
     "user_tz": -120
    },
    "id": "2805199b"
   },
   "outputs": [],
   "source": [
    "final_data = replace_gender(final_data)"
   ]
  },
  {
   "cell_type": "code",
   "execution_count": null,
   "id": "7173d847",
   "metadata": {},
   "outputs": [],
   "source": [
    "final_data.gender.unique()"
   ]
  },
  {
   "cell_type": "code",
   "execution_count": null,
   "id": "b26585ab",
   "metadata": {},
   "outputs": [],
   "source": [
    "final_data.gender.value_counts()"
   ]
  },
  {
   "cell_type": "markdown",
   "id": "04af4f9e-fddc-4181-8e11-16857bf7029e",
   "metadata": {
    "id": "04af4f9e-fddc-4181-8e11-16857bf7029e"
   },
   "source": [
    "As a final step of the cleaning will be good to handle the outliers.\n",
    "\n",
    "__Note: There are too many features to observe in order to understand the outlier situation better and decide either to remove or replace them. We also need deep understanding of all the audio features which we might not have enough to understand what is actually an outlier in this data and which outliers will be useful.__\n",
    "\n",
    "__For the purpose of keeping things as simple as possible we can skip that part and use the whole dataset as it is.__\n",
    "\n"
   ]
  },
  {
   "cell_type": "code",
   "execution_count": null,
   "id": "041df91e",
   "metadata": {
    "executionInfo": {
     "elapsed": 55175,
     "status": "ok",
     "timestamp": 1668001567485,
     "user": {
      "displayName": "Tihomir Todorov",
      "userId": "04188387160388165689"
     },
     "user_tz": -120
    },
    "id": "041df91e"
   },
   "outputs": [],
   "source": [
    "final_data.to_csv(\"final_data.csv\", index = False)"
   ]
  },
  {
   "cell_type": "markdown",
   "id": "7da31d7c-ff79-43e3-a397-9918d0b94af2",
   "metadata": {
    "id": "7da31d7c-ff79-43e3-a397-9918d0b94af2"
   },
   "source": [
    "## Model Selection - Determining the proper type of algorithm for our problem:\n",
    "\n",
    "\n",
    "In this section, we will test different types of models to see which one is best for our data. We will test a common representative of each of the following types: __Ensemble, Regresion, Bayesian, SVM, Instance Based, Neural Network:__\n",
    "\n",
    "- [**LGBM Classifier**](https://scikit-learn.org/stable/modules/generated/sklearn.ensemble.RandomForestClassifier.html) - an ensemble estimator that fits a number of decision tree classifiers on various sub-samples of the dataset and uses averaging to improve the predictive accuracy and control over-fitting.\n",
    "\n",
    "\n",
    "- [**Logistic Regression**](https://scikit-learn.org/stable/modules/generated/sklearn.linear_model.LogisticRegression.html) -  predicts a dependent data variable by analyzing the relationship between one or more existing independent variables.\n",
    "\n",
    "\n",
    "- [**Gaussian Naive Bayes**](https://scikit-learn.org/stable/modules/generated/sklearn.naive_bayes.GaussianNB.html) -  a classification technique used in Machine Learning (ML) based on the probabilistic approach and Gaussian distribution.\n",
    "\n",
    "\n",
    "- [**SVC (Support Vector Classifier)**](https://scikit-learn.org/stable/modules/generated/sklearn.svm.SVC.html) - Since the separating hyperplane is supported (defined) by the vectors (data points) nearest the margin, so the algorithm is called SVM. SVM has been shown to perform well in many real learning problems with a variety of settings and is often considered one of the best “out-of-the-box” classifiers.\n",
    "\n",
    "\n",
    "- [**K-Neighbors Classifier**](https://scikit-learn.org/stable/modules/generated/sklearn.neighbors.KNeighborsClassifier.html) - a classifier implementing the k-nearest neighbors vote, if it is found that two neighbors, neighbor k+1 and k, have identical distances but different labels, the results will depend on the ordering of the training data\n",
    "\n",
    "\n",
    "- [**Perceptron**](https://scikit-learn.org/stable/modules/generated/sklearn.linear_model.Perceptron.html) - one of the earliest machine learning techniques and still from the foundation of many modern neural networks. \n",
    "\n",
    "<br>\n",
    "\n",
    "It will be useful to observe how each of the baseline models perform to use as a reference. We will just scale the features (because some algorithms require it, and the rest will not be affected by it), and define a few parameters to speed up the test, no additional tuning."
   ]
  },
  {
   "cell_type": "code",
   "execution_count": null,
   "id": "V4MkFv3pmkWO",
   "metadata": {
    "executionInfo": {
     "elapsed": 11252,
     "status": "ok",
     "timestamp": 1668005036678,
     "user": {
      "displayName": "Tihomir Todorov",
      "userId": "04188387160388165689"
     },
     "user_tz": -120
    },
    "id": "V4MkFv3pmkWO"
   },
   "outputs": [],
   "source": [
    "final_data = pd.read_csv(\"final_data.csv\")"
   ]
  },
  {
   "cell_type": "code",
   "execution_count": null,
   "id": "6c3c4fe8",
   "metadata": {},
   "outputs": [],
   "source": [
    "final_data.shape"
   ]
  },
  {
   "cell_type": "markdown",
   "id": "db077f08",
   "metadata": {
    "id": "db077f08"
   },
   "source": [
    "- We are left with 302,329 observations and 139 features in our balanced dataset, where we've selected the best representations of all the original and augmented data."
   ]
  },
  {
   "cell_type": "code",
   "execution_count": null,
   "id": "ubpGp8-7nfRd",
   "metadata": {
    "execution": {
     "iopub.execute_input": "2022-11-08T13:26:30.676329Z",
     "iopub.status.busy": "2022-11-08T13:26:30.676034Z",
     "iopub.status.idle": "2022-11-08T13:26:30.683892Z",
     "shell.execute_reply": "2022-11-08T13:26:30.683131Z",
     "shell.execute_reply.started": "2022-11-08T13:26:30.676308Z"
    },
    "executionInfo": {
     "elapsed": 4,
     "status": "ok",
     "timestamp": 1668001594766,
     "user": {
      "displayName": "Tihomir Todorov",
      "userId": "04188387160388165689"
     },
     "user_tz": -120
    },
    "id": "ubpGp8-7nfRd"
   },
   "outputs": [],
   "source": [
    "def baseline_accuracy_with_scaling(model, data, to_drop, target):\n",
    "    test_label = data[target]\n",
    "    test_features = data.drop(columns = to_drop, axis = 1)\n",
    "\n",
    "    x_train, x_test, y_train, y_test = train_test_split(test_features, test_label, test_size = 0.1)\n",
    "\n",
    "    scaler = MinMaxScaler()\n",
    "    scaler.fit(x_train)\n",
    "    x_train_scaled = scaler.transform(x_train)\n",
    "    x_test_scaled = scaler.transform(x_test)\n",
    "\n",
    "    classifier = model\n",
    "    classifier.fit(x_train_scaled, y_train)\n",
    "\n",
    "    model_name = str(type(model)).split(\".\")[-1].replace(\"'\", \"\").replace(\">\", \"\")\n",
    "    \n",
    "    train_acc = round(classifier.score(x_train_scaled, y_train), 3)\n",
    "    test_acc = round(classifier.score(x_test_scaled, y_test), 3)\n",
    "    \n",
    "    result = [model_name, train_acc, test_acc]\n",
    "    return result"
   ]
  },
  {
   "cell_type": "code",
   "execution_count": null,
   "id": "NoLRazTgp-05",
   "metadata": {
    "execution": {
     "iopub.execute_input": "2022-11-08T13:26:48.309820Z",
     "iopub.status.busy": "2022-11-08T13:26:48.309493Z"
    },
    "executionInfo": {
     "elapsed": 4,
     "status": "ok",
     "timestamp": 1667999701875,
     "user": {
      "displayName": "Tihomir Todorov",
      "userId": "04188387160388165689"
     },
     "user_tz": -120
    },
    "id": "NoLRazTgp-05"
   },
   "outputs": [],
   "source": [
    "def test_baseline_models(models, data, to_drop, target, csv_name):\n",
    "    results = list()\n",
    "    for model in models:\n",
    "        results.append(baseline_accuracy_with_scaling(model = model, data = data, to_drop = to_drop, target = target))\n",
    "        \n",
    "    baseline_results = pd.DataFrame(results, columns = [\"Model\", \"Train Accuracy\", \"Test Accuracy\"])\n",
    "    baseline_results.to_csv(csv_name, index = False)"
   ]
  },
  {
   "cell_type": "markdown",
   "id": "ae38d47c",
   "metadata": {
    "id": "ae38d47c"
   },
   "source": [
    "- To save computing time, but still, get a picture of the performance, we can predefine some hyperparameters"
   ]
  },
  {
   "cell_type": "code",
   "execution_count": null,
   "id": "8b6aa4bf",
   "metadata": {
    "executionInfo": {
     "elapsed": 9,
     "status": "ok",
     "timestamp": 1667999700380,
     "user": {
      "displayName": "Tihomir Todorov",
      "userId": "04188387160388165689"
     },
     "user_tz": -120
    },
    "id": "8b6aa4bf"
   },
   "outputs": [],
   "source": [
    "def plot_model_test(data, x, hue, y, figsize, title, x_label, y_label):\n",
    "    \n",
    "    plt.figure(figsize = figsize)\n",
    "        \n",
    "    ax = sns.barplot(x = x, hue = hue, y = y, data = data, palette = colors, dodge = False)\n",
    "\n",
    "    plt.title(title, fontsize = 14)\n",
    "    plt.xlabel(x_label, fontsize = 10)\n",
    "    plt.ylabel(y_label, fontsize = 10)\n",
    "\n",
    "    ax.legend_.remove()\n",
    "    \n",
    "    plt.show()"
   ]
  },
  {
   "cell_type": "code",
   "execution_count": null,
   "id": "N99ZX2JKw6-s",
   "metadata": {
    "executionInfo": {
     "elapsed": 252611,
     "status": "ok",
     "timestamp": 1668002025295,
     "user": {
      "displayName": "Tihomir Todorov",
      "userId": "04188387160388165689"
     },
     "user_tz": -120
    },
    "id": "N99ZX2JKw6-s"
   },
   "outputs": [],
   "source": [
    "test_baseline_models(\n",
    "    models = [\n",
    "        LGBMClassifier(n_estimators = 100, n_jobs = -1), \n",
    "        LogisticRegression(solver = \"liblinear\", n_jobs = -1), \n",
    "        GaussianNB(),\n",
    "        SVC(),\n",
    "        KNeighborsClassifier(n_jobs = -1),\n",
    "        Perceptron(n_jobs = -1)\n",
    "    ], \n",
    "    data = final_data,\n",
    "    to_drop = \"gender\",\n",
    "    target = \"gender\",\n",
    "    csv_name = \"baseline_results.csv\"\n",
    ")"
   ]
  },
  {
   "cell_type": "code",
   "execution_count": null,
   "id": "wL4as_x5zNoA",
   "metadata": {
    "executionInfo": {
     "elapsed": 485,
     "status": "ok",
     "timestamp": 1668002071095,
     "user": {
      "displayName": "Tihomir Todorov",
      "userId": "04188387160388165689"
     },
     "user_tz": -120
    },
    "id": "wL4as_x5zNoA",
    "tags": []
   },
   "outputs": [],
   "source": [
    "baseline_results = pd.read_csv(\"baseline_results.csv\")"
   ]
  },
  {
   "cell_type": "code",
   "execution_count": null,
   "id": "1b6004c2",
   "metadata": {
    "colab": {
     "base_uri": "https://localhost:8080/",
     "height": 405
    },
    "executionInfo": {
     "elapsed": 809,
     "status": "ok",
     "timestamp": 1668002073068,
     "user": {
      "displayName": "Tihomir Todorov",
      "userId": "04188387160388165689"
     },
     "user_tz": -120
    },
    "id": "1b6004c2",
    "outputId": "8a2f683f-b621-4746-e512-0034404ad6da"
   },
   "outputs": [],
   "source": [
    "plot_model_test(\n",
    "    data = baseline_results.sort_values(\"Test Accuracy\", ascending = False),\n",
    "    x = \"Test Accuracy\",\n",
    "    y = \"Model\",\n",
    "    hue = \"Model\",\n",
    "    figsize = (10, 6),\n",
    "    title = \"Comparisson of Baseline Models\",\n",
    "    x_label = \"Accuracy\",\n",
    "    y_label = \"Model\"\n",
    ")"
   ]
  },
  {
   "cell_type": "code",
   "execution_count": null,
   "id": "d5ed715b",
   "metadata": {},
   "outputs": [],
   "source": [
    "baseline_results"
   ]
  },
  {
   "cell_type": "markdown",
   "id": "zQyvOv1xOrhk",
   "metadata": {
    "id": "zQyvOv1xOrhk"
   },
   "source": [
    "Obviously, Random Forest outperforms the others and the rest of the models are not performing very well.\n",
    "\n",
    "Further, we will test two different ensemble models, and we will select the best one among them.\n",
    "\n",
    "#### We will compare two bagging and two boosting classifiers and select the one that performs best without tuning (n_estimators = 100 will be selected for all of them to ensure equality in the number of trees):"
   ]
  },
  {
   "cell_type": "code",
   "execution_count": null,
   "id": "e86aebee",
   "metadata": {},
   "outputs": [],
   "source": [
    "test_data = pd.read_csv(\"balanced_audio_data.csv\")"
   ]
  },
  {
   "cell_type": "code",
   "execution_count": null,
   "id": "24d6ea41",
   "metadata": {},
   "outputs": [],
   "source": [
    "test_data.gender.value_counts()"
   ]
  },
  {
   "cell_type": "code",
   "execution_count": null,
   "id": "tInojbf8xdD9",
   "metadata": {
    "executionInfo": {
     "elapsed": 532378,
     "status": "ok",
     "timestamp": 1668002637332,
     "user": {
      "displayName": "Tihomir Todorov",
      "userId": "04188387160388165689"
     },
     "user_tz": -120
    },
    "id": "tInojbf8xdD9",
    "scrolled": true
   },
   "outputs": [],
   "source": [
    "test_baseline_models(\n",
    "    models = [\n",
    "        CatBoostClassifier(n_estimators = 100),\n",
    "        XGBClassifier(n_estimators = 100),\n",
    "        LGBMClassifier(n_estimators = 100),\n",
    "    ],  \n",
    "    data = test_data,\n",
    "    to_drop = \"gender\",\n",
    "    target = \"gender\",\n",
    "    csv_name = \"ensemble_baseline_results.csv\"\n",
    ")"
   ]
  },
  {
   "cell_type": "code",
   "execution_count": null,
   "id": "7b663dbd",
   "metadata": {
    "execution": {
     "iopub.execute_input": "2022-11-08T09:04:04.269618Z",
     "iopub.status.busy": "2022-11-08T09:04:04.269058Z",
     "iopub.status.idle": "2022-11-08T09:04:04.279729Z",
     "shell.execute_reply": "2022-11-08T09:04:04.279232Z",
     "shell.execute_reply.started": "2022-11-08T09:04:04.269592Z"
    },
    "executionInfo": {
     "elapsed": 15,
     "status": "ok",
     "timestamp": 1668002637334,
     "user": {
      "displayName": "Tihomir Todorov",
      "userId": "04188387160388165689"
     },
     "user_tz": -120
    },
    "id": "7b663dbd"
   },
   "outputs": [],
   "source": [
    "ensemble_baseline_results = pd.read_csv(\"ensemble_baseline_results.csv\")"
   ]
  },
  {
   "cell_type": "code",
   "execution_count": null,
   "id": "8a6053c1",
   "metadata": {
    "colab": {
     "base_uri": "https://localhost:8080/",
     "height": 405
    },
    "execution": {
     "iopub.execute_input": "2022-11-08T09:04:23.415298Z",
     "iopub.status.busy": "2022-11-08T09:04:23.414790Z",
     "iopub.status.idle": "2022-11-08T09:04:23.626990Z",
     "shell.execute_reply": "2022-11-08T09:04:23.625896Z",
     "shell.execute_reply.started": "2022-11-08T09:04:23.415275Z"
    },
    "executionInfo": {
     "elapsed": 604,
     "status": "ok",
     "timestamp": 1668002637926,
     "user": {
      "displayName": "Tihomir Todorov",
      "userId": "04188387160388165689"
     },
     "user_tz": -120
    },
    "id": "8a6053c1",
    "outputId": "1a113509-66c2-4c1d-aaf4-eaffa386c85a"
   },
   "outputs": [],
   "source": [
    "plot_model_test(\n",
    "    data = ensemble_baseline_results,\n",
    "    x = \"Test Accuracy\",\n",
    "    y = \"Model\",\n",
    "    hue = \"Model\",\n",
    "    figsize = (10, 6),\n",
    "    title = \"Comparisson of Ensemble Baseline Models\",\n",
    "    x_label = \"Accuracy\",\n",
    "    y_label = \"Model\"\n",
    ")"
   ]
  },
  {
   "cell_type": "code",
   "execution_count": null,
   "id": "e2COv8A632aq",
   "metadata": {
    "colab": {
     "base_uri": "https://localhost:8080/",
     "height": 175
    },
    "executionInfo": {
     "elapsed": 22,
     "status": "ok",
     "timestamp": 1668002637929,
     "user": {
      "displayName": "Tihomir Todorov",
      "userId": "04188387160388165689"
     },
     "user_tz": -120
    },
    "id": "e2COv8A632aq",
    "outputId": "d3d35344-9f3d-4e20-ce50-09f353312370"
   },
   "outputs": [],
   "source": [
    "ensemble_baseline_results"
   ]
  },
  {
   "cell_type": "markdown",
   "id": "c135c4a2",
   "metadata": {
    "id": "c135c4a2"
   },
   "source": [
    "The outcome of this test shows us that ExtraTreesClassifier performs better than the rest, the difference is quite significant.\n",
    "\n",
    "We will use ExtraTrees as our main model in this project not only because it performs better in terms of accuracy, but also is faster than RandomForest.\n",
    "\n",
    "- This algorithm saves time because the whole procedure is the same, but it randomly chooses the split point and does not calculate the optimal one. "
   ]
  },
  {
   "cell_type": "markdown",
   "id": "fr3NafADuPKl",
   "metadata": {
    "id": "fr3NafADuPKl"
   },
   "source": [
    "## Model Tuning\n",
    "\n",
    "It is time to tune our model and see how far it could go.\n",
    "\n",
    "__Note: We will train and test the model only on the large datasets that we've created previously.__\n",
    "\n",
    "#### First, let's discuss the steps:\n",
    "\n",
    "1. We will split the data on training and testing sets. To avoid “wasting” too much training data in validation sets, a common technique is to use cross-validation (ideally 10-fold). As Kuhn & Johnson mention about the choice of k value in their book:\n",
    "\n",
    "    \"The choice of k is usually 5 or 10, but there is no formal rule. As k gets larger, the difference in size between the training set and the resampling subsets gets smaller. As this difference decreases, the bias of the technique becomes smaller (i.e., the bias is smaller for k = 10 than k = 5). In this context, the bias is the difference between the estimated and true values of performance\"\n",
    "    \n",
    "\n",
    "2. Then we will create our model including the following steps in a pipeline:\n",
    "\n",
    "    2.1. - **Normalizing or Standardization**? Actually, ExtraTrees, or any ensemble where the base learner is a tree, don't require scaling. That's a property of tree based models, but in order to reduce the dimensions of our data with PCA we will need to scale our data as this algorithm requires it.\n",
    "\n",
    "    2.2. **Dimensionality reduction (PCA)** - To deal with overfitting: it reduces the model’s complexity and also removes some noise in the data. We will also reduce the deal with the multicolinearity problem in this way.\n",
    "    \n",
    "    2.3. **LGBM Classifier** - We will optimize the model by cross-validation and check different metrics to see how it performs.\n",
    "\n",
    "\n",
    "<br>\n",
    "\n",
    "### Data Splitting\n",
    "\n",
    "- Before continuing, let's make a quick check for duplicates. It is curious to see if some identical observations were created when oversampling our data."
   ]
  },
  {
   "cell_type": "code",
   "execution_count": null,
   "id": "88121f32",
   "metadata": {
    "colab": {
     "base_uri": "https://localhost:8080/"
    },
    "executionInfo": {
     "elapsed": 3547,
     "status": "ok",
     "timestamp": 1668005048868,
     "user": {
      "displayName": "Tihomir Todorov",
      "userId": "04188387160388165689"
     },
     "user_tz": -120
    },
    "id": "88121f32",
    "outputId": "b1d225ac-15f1-40d3-b91b-141810a11ebc"
   },
   "outputs": [],
   "source": [
    "final_data[final_data.duplicated()].value_counts().sum()"
   ]
  },
  {
   "cell_type": "code",
   "execution_count": null,
   "id": "_DYn7fqxvHx-",
   "metadata": {
    "executionInfo": {
     "elapsed": 3468,
     "status": "ok",
     "timestamp": 1668005053953,
     "user": {
      "displayName": "Tihomir Todorov",
      "userId": "04188387160388165689"
     },
     "user_tz": -120
    },
    "id": "_DYn7fqxvHx-"
   },
   "outputs": [],
   "source": [
    "final_data = final_data[~final_data.duplicated()]"
   ]
  },
  {
   "cell_type": "markdown",
   "id": "b1636760",
   "metadata": {
    "id": "b1636760"
   },
   "source": [
    "- 4 duplicates removed, we can continue and split our train and test data, using a sample of 2,343 observations for the test and leaving 270,000 for training.\n"
   ]
  },
  {
   "cell_type": "code",
   "execution_count": null,
   "id": "4a743f20-d307-4b93-b9ae-018600d88702",
   "metadata": {
    "execution": {
     "iopub.execute_input": "2022-11-08T12:28:19.178808Z",
     "iopub.status.busy": "2022-11-08T12:28:19.178506Z",
     "iopub.status.idle": "2022-11-08T12:28:19.440196Z",
     "shell.execute_reply": "2022-11-08T12:28:19.439347Z",
     "shell.execute_reply.started": "2022-11-08T12:28:19.178787Z"
    },
    "executionInfo": {
     "elapsed": 263,
     "status": "ok",
     "timestamp": 1668005057280,
     "user": {
      "displayName": "Tihomir Todorov",
      "userId": "04188387160388165689"
     },
     "user_tz": -120
    },
    "id": "4a743f20-d307-4b93-b9ae-018600d88702",
    "tags": []
   },
   "outputs": [],
   "source": [
    "gender_label = final_data.gender\n",
    "audio_features = final_data.drop(columns = [\"gender\"], axis = 1)\n",
    "\n",
    "features_train, features_test, target_train, target_test = train_test_split(\n",
    "                                                                audio_features, \n",
    "                                                                gender_label, \n",
    "                                                                test_size = 2343\n",
    "                                                                )"
   ]
  },
  {
   "cell_type": "markdown",
   "id": "05FpYYPaBwHL",
   "metadata": {
    "id": "05FpYYPaBwHL"
   },
   "source": [
    "### Feature importances\n",
    "\n",
    "If we want to see which features are most important to the Extra Trees model to predict the gender from our audio data, we can visualize and quantify the importances:"
   ]
  },
  {
   "cell_type": "code",
   "execution_count": null,
   "id": "mEdZ8Lr-3tiP",
   "metadata": {
    "executionInfo": {
     "elapsed": 107044,
     "status": "ok",
     "timestamp": 1668003573997,
     "user": {
      "displayName": "Tihomir Todorov",
      "userId": "04188387160388165689"
     },
     "user_tz": -120
    },
    "id": "mEdZ8Lr-3tiP",
    "tags": []
   },
   "outputs": [],
   "source": [
    "extra_trees = ExtraTreesClassifier(n_estimators = 100, n_jobs = -1)\n",
    "et_importances_model = extra_trees.fit(features_train, target_train)"
   ]
  },
  {
   "cell_type": "code",
   "execution_count": null,
   "id": "23AJkfs2FvGf",
   "metadata": {
    "colab": {
     "base_uri": "https://localhost:8080/",
     "height": 769
    },
    "executionInfo": {
     "elapsed": 1392,
     "status": "ok",
     "timestamp": 1668003592697,
     "user": {
      "displayName": "Tihomir Todorov",
      "userId": "04188387160388165689"
     },
     "user_tz": -120
    },
    "id": "23AJkfs2FvGf",
    "outputId": "44641d00-b7bf-4a2c-ccdc-b9b406b358cd",
    "tags": []
   },
   "outputs": [],
   "source": [
    "features = {}\n",
    "for feature, importance in zip(features_train.columns, et_importances_model.feature_importances_):\n",
    "    features[feature] = importance\n",
    "\n",
    "importances = pd.DataFrame.from_dict(features, orient = \"index\").rename(columns = {0: \"Gini - Importance\"})\n",
    "importances = importances.sort_values(by = \"Gini - Importance\", ascending=False)\n",
    "importances = importances.reset_index()\n",
    "importances = importances.rename(columns = {\"index\": \"Features\"})\n",
    "\n",
    "fig, ax = plt.subplots()\n",
    "fig.set_size_inches(12, 6)\n",
    "\n",
    "sns.barplot(x = importances[\"Gini - Importance\"].nlargest(10), y = importances[\"Features\"][:10], data = importances, palette = colors)\n",
    "\n",
    "plt.title(\"Feature Importance\", fontsize = 14)\n",
    "plt.xlabel(\"Importance\", fontsize = 10)\n",
    "plt.ylabel(\"Features\", fontsize = 10)\n",
    "\n",
    "display(plt.show())\n",
    "display(importances.nlargest(10, columns = \"Gini - Importance\"))"
   ]
  },
  {
   "cell_type": "markdown",
   "id": "oM0paUrkNi5-",
   "metadata": {
    "id": "oM0paUrkNi5-"
   },
   "source": [
    "#### Key Findings:\n",
    "\n",
    "- Obviously, the mel spectrogram features are the most important to determine the gender of our speaker, leading with mfcc_13 which shows the energy of the audio. Therefore, the energy is the most important factor to differentiate between the gender.\n",
    "\n",
    "- The rest of the features represent the [cepstral coefficients](https://en.wikipedia.org/wiki/Mel-frequency_cepstrum) of the signal.\n",
    "\n",
    "<br>\n",
    "\n",
    "We can try to select our features manually and exctract a certain ammount of them, but there is a better option - instantiate a PCA function and set the number of components (features) that we want to consider.\n",
    "\n",
    "- Let's first scale our features, because they need to be scaled for PCA:"
   ]
  },
  {
   "cell_type": "code",
   "execution_count": null,
   "id": "-FuAyjbAOsKD",
   "metadata": {
    "executionInfo": {
     "elapsed": 698,
     "status": "ok",
     "timestamp": 1668003748770,
     "user": {
      "displayName": "Tihomir Todorov",
      "userId": "04188387160388165689"
     },
     "user_tz": -120
    },
    "id": "-FuAyjbAOsKD",
    "tags": []
   },
   "outputs": [],
   "source": [
    "scaler = StandardScaler()\n",
    "features_scaled = scaler.fit_transform(audio_features)"
   ]
  },
  {
   "cell_type": "code",
   "execution_count": null,
   "id": "llP-c4SRQ24R",
   "metadata": {
    "colab": {
     "base_uri": "https://localhost:8080/"
    },
    "executionInfo": {
     "elapsed": 7011,
     "status": "ok",
     "timestamp": 1668003767676,
     "user": {
      "displayName": "Tihomir Todorov",
      "userId": "04188387160388165689"
     },
     "user_tz": -120
    },
    "id": "llP-c4SRQ24R",
    "outputId": "9323ea56-c772-4226-8c3c-e0626f59bb51",
    "tags": []
   },
   "outputs": [],
   "source": [
    "pca_test = PCA(n_components = 138)\n",
    "pca_test.fit(features_scaled)"
   ]
  },
  {
   "cell_type": "code",
   "execution_count": null,
   "id": "QdgDeH3jOS4P",
   "metadata": {
    "colab": {
     "base_uri": "https://localhost:8080/",
     "height": 422
    },
    "executionInfo": {
     "elapsed": 846,
     "status": "ok",
     "timestamp": 1668003882367,
     "user": {
      "displayName": "Tihomir Todorov",
      "userId": "04188387160388165689"
     },
     "user_tz": -120
    },
    "id": "QdgDeH3jOS4P",
    "outputId": "6647b46a-0e29-4304-ddb1-2df3768348bd",
    "tags": []
   },
   "outputs": [],
   "source": [
    "plt.figure(figsize = (10, 6))\n",
    "plt.plot(np.cumsum(pca_test.explained_variance_ratio_))\n",
    "\n",
    "\n",
    "plt.axhline(linewidth = 2, color = \"r\", linestyle = \"--\", y = 0.95, xmin = 0, xmax = 138)\n",
    "plt.axvline(linewidth = 2, color = \"r\", linestyle = \"--\", x = 73, ymin = 0, ymax = 1)\n",
    "\n",
    "plt.xlabel(\"Number of components\", fontsize = 10)\n",
    "plt.ylabel(\"Cumulative explained variance\", fontsize = 10)\n",
    "plt.title(\"Components vs Variance\", fontsize = 14)\n",
    "\n",
    "display(plt.show())"
   ]
  },
  {
   "cell_type": "markdown",
   "id": "O27qQyvCR7i3",
   "metadata": {
    "id": "O27qQyvCR7i3"
   },
   "source": [
    "Looking at the plot above, when we use PCA to reduce our 138 predicting variables down to 73, we can still explain around 95% of the variance. \n",
    "\n",
    "- The other 65 features we have explain 5% of the variance, so we can remove them. Using this logic, we will use PCA and integrate it to our pipeline to reduce the features.\n",
    "\n",
    "\n",
    "- This visualization definitely saved us some time, we wouldn't need to fine-tune PCA and create a pipeline, we can just set n_components to 73:\n",
    "\n",
    "<br>\n",
    "\n",
    "## Model Optimization\n",
    "\n",
    "Now that we've learned more about our features, it is time to train, test, and optimize.\n",
    "\n",
    "- First step is to defined a cross-validation function, using the experimental [HalvingGridSearchCV](https://scikit-learn.org/stable/modules/generated/sklearn.model_selection.HalvingGridSearchCV.html) from sklearn to save some time, it is said to perform over 10 times faster than the normal [GridSearchCV](https://scikit-learn.org/stable/modules/generated/sklearn.model_selection.GridSearchCV.html)"
   ]
  },
  {
   "cell_type": "code",
   "execution_count": null,
   "id": "yZ7qPJwa-Zz2",
   "metadata": {
    "execution": {
     "iopub.execute_input": "2022-11-08T10:57:13.408747Z",
     "iopub.status.busy": "2022-11-08T10:57:13.408560Z",
     "iopub.status.idle": "2022-11-08T10:57:13.412755Z",
     "shell.execute_reply": "2022-11-08T10:57:13.412302Z",
     "shell.execute_reply.started": "2022-11-08T10:57:13.408730Z"
    },
    "executionInfo": {
     "elapsed": 284,
     "status": "ok",
     "timestamp": 1668005078876,
     "user": {
      "displayName": "Tihomir Todorov",
      "userId": "04188387160388165689"
     },
     "user_tz": -120
    },
    "id": "yZ7qPJwa-Zz2",
    "tags": []
   },
   "outputs": [],
   "source": [
    "def halving_grid_search(x_train, y_train, model, param_grid, cv):\n",
    "\n",
    "    grid = HalvingGridSearchCV(\n",
    "    model,\n",
    "    param_grid,\n",
    "    cv = cv,\n",
    "    scoring = \"accuracy\",\n",
    "    resource = \"n_samples\",\n",
    "    n_jobs = -1,\n",
    "    random_state = 42,\n",
    "    verbose = 1,\n",
    "    factor = 2,\n",
    "    )\n",
    "    model = grid.fit(x_train, y_train)\n",
    "\n",
    "    best_score = np.round(model.best_score_, 3)\n",
    "    best_params = model.best_params_\n",
    "\n",
    "    return model"
   ]
  },
  {
   "cell_type": "markdown",
   "id": "Wy7GhKr7E0GG",
   "metadata": {
    "id": "Wy7GhKr7E0GG"
   },
   "source": [
    "<br>\n",
    "\n",
    "### Now... Let's build our Pipeline!\n",
    "\n",
    "The most important hyper-parameters of a Random Forest that can be tuned and those known for helping us reduce overfitting are:\n",
    "\n",
    "\n",
    "- **n_estimators** - this is the number of trees we want to build before taking the maximum voting or averages of predictions. Higher number of trees = better performance = more computational time.\n",
    "\n",
    "\n",
    "- **criterion** - the criteria with which to split on each node (Gini or Entropy for a classification task, or the MSE or MAE for regression).\n",
    "\n",
    "\n",
    "- **min_samples_leaf** - leaf is the end node of a decision tree. A smaller leaf makes the model more prone to capturing noise in train data.\n",
    "\n",
    "\n",
    "\n",
    "- **min_samples_split** - the minimum number of observations required before a node of a tree can split itself.\n",
    "\n",
    "\n",
    "- **max_features** - The number of features to consider when looking for the best split.\n",
    "\n",
    "\n",
    "<br>\n",
    "\n",
    "#### Defining the base pipeline and the parameter grid:"
   ]
  },
  {
   "cell_type": "markdown",
   "id": "be423d5e-c644-4e2d-8b2b-60a84f39c26c",
   "metadata": {
    "id": "be423d5e-c644-4e2d-8b2b-60a84f39c26c"
   },
   "source": [
    "It is important to know that we can get a good range of values for our grid by creating a bar plot of each hyperparameter on the x-axis, and the mean score of the models made at each value. This way we can see which approximate values were most successful on average and then fine tune them.\n",
    "\n",
    "- So let's create our pipeline and cross-validate with a given set of values:"
   ]
  },
  {
   "cell_type": "code",
   "execution_count": null,
   "id": "2e975710",
   "metadata": {},
   "outputs": [],
   "source": [
    "pipeline_svc = Pipeline([\n",
    "    (\"scaler\", StandardScaler()),\n",
    "    (\"selector\", PCA(n_components = 75)),\n",
    "    (\"classifier\", SVC(max_iter = 10000))\n",
    "])"
   ]
  },
  {
   "cell_type": "code",
   "execution_count": null,
   "id": "266bfd35",
   "metadata": {
    "execution": {
     "iopub.execute_input": "2022-11-08T10:20:01.138679Z",
     "iopub.status.busy": "2022-11-08T10:20:01.138333Z",
     "iopub.status.idle": "2022-11-08T10:20:01.142017Z",
     "shell.execute_reply": "2022-11-08T10:20:01.141589Z",
     "shell.execute_reply.started": "2022-11-08T10:20:01.138659Z"
    },
    "executionInfo": {
     "elapsed": 294,
     "status": "ok",
     "timestamp": 1668005081890,
     "user": {
      "displayName": "Tihomir Todorov",
      "userId": "04188387160388165689"
     },
     "user_tz": -120
    },
    "id": "266bfd35"
   },
   "outputs": [],
   "source": [
    "pipeline_1 = Pipeline([\n",
    "    (\"scaler\", StandardScaler()),\n",
    "    (\"selector\", PCA(n_components = 73)),\n",
    "    (\"classifier\", LGBMClassifier(\n",
    "                        n_estimators = 10000,\n",
    "                        n_jobs = -1, \n",
    "                        random_state = 42,\n",
    "    ))\n",
    "])"
   ]
  },
  {
   "cell_type": "code",
   "execution_count": null,
   "id": "41e3388d",
   "metadata": {
    "execution": {
     "iopub.execute_input": "2022-11-07T11:31:32.592107Z",
     "iopub.status.busy": "2022-11-07T11:31:32.591865Z",
     "iopub.status.idle": "2022-11-07T11:31:57.347158Z",
     "shell.execute_reply": "2022-11-07T11:31:57.345594Z",
     "shell.execute_reply.started": "2022-11-07T11:31:32.592090Z"
    },
    "id": "41e3388d"
   },
   "outputs": [],
   "source": [
    "pipeline_svc.fit(features_train, target_train)\n",
    " \n",
    "print('Training set score: ' + str(pipeline_svc.score(features_train, target_train)))\n",
    "print('Test set score: ' + str(pipeline_svc.score(features_test, target_test)))"
   ]
  },
  {
   "cell_type": "markdown",
   "id": "qiemWPTgzcnE",
   "metadata": {
    "id": "qiemWPTgzcnE"
   },
   "source": [
    "As we can see, our model is most probab"
   ]
  },
  {
   "cell_type": "code",
   "execution_count": null,
   "id": "d77c9c25-36c5-4efe-abf4-e362d7552b33",
   "metadata": {
    "execution": {
     "iopub.execute_input": "2022-11-07T11:50:41.225882Z",
     "iopub.status.busy": "2022-11-07T11:50:41.225603Z",
     "iopub.status.idle": "2022-11-07T11:50:41.230985Z",
     "shell.execute_reply": "2022-11-07T11:50:41.229999Z",
     "shell.execute_reply.started": "2022-11-07T11:50:41.225863Z"
    },
    "id": "d77c9c25-36c5-4efe-abf4-e362d7552b33"
   },
   "outputs": [],
   "source": [
    "param_grid_1 = {\n",
    "    \"scaler\": [StandardScaler(), MinMaxScaler(), MaxAbsScaler()],\n",
    "    \"classifier__n_estimators\": [100, 250, 500],\n",
    "    \"classifier__criterion\": [\"gini\", \"entropy\"],\n",
    "    \"classifier__min_samples_leaf\": [2, 4, 6],\n",
    "    \"classifier__min_samples_split\": [3, 5, 7],\n",
    "    \"classifier__max_features\": [0.1, \"sqrt\", \"log2\"]\n",
    "}"
   ]
  },
  {
   "cell_type": "code",
   "execution_count": null,
   "id": "vG7xAxrZlSo8",
   "metadata": {
    "execution": {
     "iopub.execute_input": "2022-11-07T20:00:28.000833Z",
     "iopub.status.busy": "2022-11-07T20:00:28.000531Z",
     "iopub.status.idle": "2022-11-07T20:00:28.003857Z",
     "shell.execute_reply": "2022-11-07T20:00:28.003241Z",
     "shell.execute_reply.started": "2022-11-07T20:00:28.000813Z"
    },
    "executionInfo": {
     "elapsed": 25,
     "status": "ok",
     "timestamp": 1667294259733,
     "user": {
      "displayName": "Tihomir Todorov",
      "userId": "04188387160388165689"
     },
     "user_tz": -120
    },
    "id": "vG7xAxrZlSo8",
    "outputId": "d8114292-318c-4556-e079-c87bc91637b2",
    "tags": []
   },
   "outputs": [],
   "source": [
    "# model_tuning_1 = halving_grid_search(\n",
    "#     x_train = features_train, \n",
    "#     y_train = target_train, \n",
    "#     model = pipeline_1, \n",
    "#     param_grid = param_grid_1, \n",
    "#     cv = 5,\n",
    "# )"
   ]
  },
  {
   "cell_type": "code",
   "execution_count": null,
   "id": "9289b232-6af9-4320-b88f-c1d1102810a9",
   "metadata": {
    "execution": {
     "iopub.execute_input": "2022-11-07T20:00:47.453791Z",
     "iopub.status.busy": "2022-11-07T20:00:47.453489Z",
     "iopub.status.idle": "2022-11-07T20:00:47.456709Z",
     "shell.execute_reply": "2022-11-07T20:00:47.456165Z",
     "shell.execute_reply.started": "2022-11-07T20:00:47.453771Z"
    },
    "id": "9289b232-6af9-4320-b88f-c1d1102810a9"
   },
   "outputs": [],
   "source": [
    "# model_tuning_1_results = pd.DataFrame(model_tuning_1.cv_results_).sort_values(\"mean_test_score\", ascending = False).reset_index(drop = True)\n",
    "# model_tuning_1_results = model_tuning_1_results[[\n",
    "#     \"n_resources\",\n",
    "#     \"param_scaler\",\n",
    "#     \"param_classifier__n_estimators\", \n",
    "#     \"param_classifier__criterion\",  \n",
    "#     \"param_classifier__min_samples_leaf\", \n",
    "#     \"param_classifier__min_samples_split\", \n",
    "#     \"param_classifier__max_features\", \n",
    "#     \"rank_test_score\", \n",
    "#     \"mean_test_score\", \n",
    "#     \"mean_train_score\"\n",
    "# ]]"
   ]
  },
  {
   "cell_type": "code",
   "execution_count": null,
   "id": "e6a69e3f-ac5b-4d1a-9bad-31023d385a24",
   "metadata": {
    "execution": {
     "iopub.execute_input": "2022-11-07T12:19:52.384388Z",
     "iopub.status.busy": "2022-11-07T12:19:52.383984Z",
     "iopub.status.idle": "2022-11-07T12:19:52.460063Z",
     "shell.execute_reply": "2022-11-07T12:19:52.459586Z",
     "shell.execute_reply.started": "2022-11-07T12:19:52.384367Z"
    },
    "id": "e6a69e3f-ac5b-4d1a-9bad-31023d385a24"
   },
   "outputs": [],
   "source": [
    "# model_tuning_1_results.to_csv(\"model_tuning_1_results.csv\")"
   ]
  },
  {
   "cell_type": "code",
   "execution_count": null,
   "id": "22be60ac-1ef0-4744-be55-f9b89191bca8",
   "metadata": {
    "execution": {
     "iopub.execute_input": "2022-11-07T20:01:07.681674Z",
     "iopub.status.busy": "2022-11-07T20:01:07.681369Z",
     "iopub.status.idle": "2022-11-07T20:01:07.701823Z",
     "shell.execute_reply": "2022-11-07T20:01:07.701241Z",
     "shell.execute_reply.started": "2022-11-07T20:01:07.681653Z"
    },
    "id": "22be60ac-1ef0-4744-be55-f9b89191bca8",
    "outputId": "7689d6bc-a8ab-454a-bfca-7a19fb844053"
   },
   "outputs": [],
   "source": [
    "model_tuning_1_results = pd.read_csv(\"model_tuning_1_results.csv\")\n",
    "model_tuning_1_results.head(5)"
   ]
  },
  {
   "cell_type": "markdown",
   "id": "190e4cfb-759a-4b51-970d-76ab94696eef",
   "metadata": {
    "id": "190e4cfb-759a-4b51-970d-76ab94696eef"
   },
   "source": [
    "#### Key Findings:\n",
    "\n",
    "We can see that the higherst scores come with the highest n_resources (number of observations used in the validation). This means that our model works best with high amounts of data, and its performance drops if data is less than the maximum in this dataset.\n",
    "\n",
    "1. n_estimators - the highest value gave the best results, and we can try even higher in the next round.\n",
    "\n",
    "2. criterion - we can still explore this performance.\n",
    "\n",
    "3. min_samples_leaf - 2 is the minimum that we can select here, so we can check how it performs with the value of 3 as well.\n",
    "\n",
    "4. min_samples_split - 3 and 5 seem to be the best fit, but we can check also 4 in the next test.\n",
    "\n",
    "5. max_features - we will continue exploring with the same values.\n",
    "\n",
    "6. scaler - MaxAbsScaler seems to outperform the rest significantly, but let's see if this will change."
   ]
  },
  {
   "cell_type": "code",
   "execution_count": null,
   "id": "e50e2bee-fd67-417a-a1ac-ca9626af1444",
   "metadata": {
    "execution": {
     "iopub.execute_input": "2022-11-07T12:35:34.246290Z",
     "iopub.status.busy": "2022-11-07T12:35:34.245575Z",
     "iopub.status.idle": "2022-11-07T12:35:34.253487Z",
     "shell.execute_reply": "2022-11-07T12:35:34.252779Z",
     "shell.execute_reply.started": "2022-11-07T12:35:34.246249Z"
    },
    "id": "e50e2bee-fd67-417a-a1ac-ca9626af1444"
   },
   "outputs": [],
   "source": [
    "param_grid_2 = {\n",
    "    \"scaler\": [StandardScaler(), MinMaxScaler(), MaxAbsScaler()],\n",
    "    \"classifier__n_estimators\": [500, 1000, 1500],\n",
    "    \"classifier__criterion\": [\"gini\", \"entropy\"],\n",
    "    \"classifier__min_samples_leaf\": [2, 3, 4],\n",
    "    \"classifier__min_samples_split\": [3, 4, 5],\n",
    "    \"classifier__max_features\": [0.1, \"sqrt\", \"log2\"]\n",
    "}"
   ]
  },
  {
   "cell_type": "code",
   "execution_count": null,
   "id": "9fa6e022-bc82-4f5e-9a76-f2b93e3d8169",
   "metadata": {
    "execution": {
     "iopub.execute_input": "2022-11-07T20:01:23.253182Z",
     "iopub.status.busy": "2022-11-07T20:01:23.252872Z",
     "iopub.status.idle": "2022-11-07T20:01:23.256832Z",
     "shell.execute_reply": "2022-11-07T20:01:23.255934Z",
     "shell.execute_reply.started": "2022-11-07T20:01:23.253155Z"
    },
    "id": "9fa6e022-bc82-4f5e-9a76-f2b93e3d8169"
   },
   "outputs": [],
   "source": [
    "# model_tuning_2 = halving_grid_search(\n",
    "#     x_train = features_train, \n",
    "#     y_train = target_train, \n",
    "#     model = pipeline_1, \n",
    "#     param_grid = param_grid_2, \n",
    "#     cv = 5,\n",
    "# )"
   ]
  },
  {
   "cell_type": "code",
   "execution_count": null,
   "id": "93b4cb04-ef4c-4a2f-a639-7e7e38529de5",
   "metadata": {
    "execution": {
     "iopub.execute_input": "2022-11-07T20:01:32.301711Z",
     "iopub.status.busy": "2022-11-07T20:01:32.301415Z",
     "iopub.status.idle": "2022-11-07T20:01:32.304816Z",
     "shell.execute_reply": "2022-11-07T20:01:32.304273Z",
     "shell.execute_reply.started": "2022-11-07T20:01:32.301691Z"
    },
    "id": "93b4cb04-ef4c-4a2f-a639-7e7e38529de5"
   },
   "outputs": [],
   "source": [
    "# model_tuning_2_results = pd.DataFrame(model_tuning_2.cv_results_).sort_values(\"mean_test_score\", ascending = False).reset_index(drop = True)\n",
    "# model_tuning_2_results = model_tuning_2_results[[\n",
    "#     \"n_resources\",\n",
    "#     \"param_scaler\",\n",
    "#     \"param_classifier__n_estimators\", \n",
    "#     \"param_classifier__criterion\", \n",
    "#     \"param_classifier__min_samples_leaf\", \n",
    "#     \"param_classifier__min_samples_split\", \n",
    "#     \"param_classifier__max_features\", \n",
    "#     \"rank_test_score\", \n",
    "#     \"mean_test_score\", \n",
    "#     \"mean_train_score\"\n",
    "# ]]"
   ]
  },
  {
   "cell_type": "code",
   "execution_count": null,
   "id": "7d67c411-3563-48e5-84b7-abe094681dc0",
   "metadata": {
    "execution": {
     "iopub.execute_input": "2022-11-07T13:25:59.424128Z",
     "iopub.status.busy": "2022-11-07T13:25:59.423950Z",
     "iopub.status.idle": "2022-11-07T13:25:59.500050Z",
     "shell.execute_reply": "2022-11-07T13:25:59.499408Z",
     "shell.execute_reply.started": "2022-11-07T13:25:59.424111Z"
    },
    "id": "7d67c411-3563-48e5-84b7-abe094681dc0"
   },
   "outputs": [],
   "source": [
    "# model_tuning_2_results.to_csv(\"model_tuning_2_results.csv\")"
   ]
  },
  {
   "cell_type": "code",
   "execution_count": null,
   "id": "d2cbd394-08f0-4520-84ed-7be6ed016d6f",
   "metadata": {
    "execution": {
     "iopub.execute_input": "2022-11-07T20:01:50.766354Z",
     "iopub.status.busy": "2022-11-07T20:01:50.766054Z",
     "iopub.status.idle": "2022-11-07T20:01:50.778637Z",
     "shell.execute_reply": "2022-11-07T20:01:50.778083Z",
     "shell.execute_reply.started": "2022-11-07T20:01:50.766335Z"
    },
    "id": "d2cbd394-08f0-4520-84ed-7be6ed016d6f",
    "outputId": "9794b8ba-0069-4f45-8405-64c76a4d1477"
   },
   "outputs": [],
   "source": [
    "model_tuning_2_results = pd.read_csv(\"model_tuning_2_results.csv\")\n",
    "model_tuning_2_results.head(5)"
   ]
  },
  {
   "cell_type": "markdown",
   "id": "09c6c442-aad2-4a31-81b4-90f6a8132f4a",
   "metadata": {
    "id": "09c6c442-aad2-4a31-81b4-90f6a8132f4a"
   },
   "source": [
    "#### Key Findings:\n",
    "\n",
    "There was a slight improvement in the scores.\n",
    "\n",
    "\n",
    "1. n_estimators - the higher - the better, for now, let's get them up to 4500 in the next run.\n",
    "\n",
    "2. min_samples_leaf will be tested at 1, 2, 3\n",
    "\n",
    "3. min_samples split will be tested at 2, 3 and 4.\n",
    "\n",
    "The rest will stay the same."
   ]
  },
  {
   "cell_type": "code",
   "execution_count": null,
   "id": "1a83038d-f813-4fe5-b1cc-d9be7cc1e1e4",
   "metadata": {
    "execution": {
     "iopub.execute_input": "2022-11-07T13:28:18.691724Z",
     "iopub.status.busy": "2022-11-07T13:28:18.691377Z",
     "iopub.status.idle": "2022-11-07T13:28:18.696440Z",
     "shell.execute_reply": "2022-11-07T13:28:18.695720Z",
     "shell.execute_reply.started": "2022-11-07T13:28:18.691702Z"
    },
    "id": "1a83038d-f813-4fe5-b1cc-d9be7cc1e1e4"
   },
   "outputs": [],
   "source": [
    "param_grid_3 = {\n",
    "    \"scaler\": [StandardScaler(), MinMaxScaler(), MaxAbsScaler()],\n",
    "    \"classifier__n_estimators\": [1500, 3000, 4500],\n",
    "    \"classifier__criterion\": [\"gini\", \"entropy\"],\n",
    "    \"classifier__min_samples_leaf\": [1, 2, 3],\n",
    "    \"classifier__min_samples_split\": [2, 3, 4],\n",
    "    \"classifier__max_features\": [0.1, \"sqrt\", \"log2\"]\n",
    "}"
   ]
  },
  {
   "cell_type": "code",
   "execution_count": null,
   "id": "53feea69-8e0f-4a7f-97ad-a34381782e89",
   "metadata": {
    "execution": {
     "iopub.execute_input": "2022-11-07T20:01:56.019795Z",
     "iopub.status.busy": "2022-11-07T20:01:56.019549Z",
     "iopub.status.idle": "2022-11-07T20:01:56.022957Z",
     "shell.execute_reply": "2022-11-07T20:01:56.022416Z",
     "shell.execute_reply.started": "2022-11-07T20:01:56.019769Z"
    },
    "id": "53feea69-8e0f-4a7f-97ad-a34381782e89"
   },
   "outputs": [],
   "source": [
    "# model_tuning_3 = halving_grid_search(\n",
    "#     x_train = features_train, \n",
    "#     y_train = target_train, \n",
    "#     model = pipeline_1, \n",
    "#     param_grid = param_grid_3, \n",
    "#     cv = 5,\n",
    "# )"
   ]
  },
  {
   "cell_type": "code",
   "execution_count": null,
   "id": "7a0963be-81b3-4ba8-aac4-035a828719f9",
   "metadata": {
    "execution": {
     "iopub.execute_input": "2022-11-07T20:02:03.621219Z",
     "iopub.status.busy": "2022-11-07T20:02:03.620888Z",
     "iopub.status.idle": "2022-11-07T20:02:03.624410Z",
     "shell.execute_reply": "2022-11-07T20:02:03.623835Z",
     "shell.execute_reply.started": "2022-11-07T20:02:03.621200Z"
    },
    "id": "7a0963be-81b3-4ba8-aac4-035a828719f9"
   },
   "outputs": [],
   "source": [
    "# model_tuning_3_results = pd.DataFrame(model_tuning_3.cv_results_).sort_values('mean_test_score').reset_index(drop = True)\n",
    "# model_tuning_3_results = model_tuning_3_results[[\n",
    "#     \"n_resources\",\n",
    "#     \"param_scaler\",\n",
    "#     \"param_classifier__n_estimators\", \n",
    "#     \"param_classifier__criterion\", \n",
    "#     \"param_classifier__min_samples_leaf\", \n",
    "#     \"param_classifier__min_samples_split\", \n",
    "#     \"param_classifier__max_features\", \n",
    "#     \"rank_test_score\", \n",
    "#     \"mean_test_score\", \n",
    "#     \"mean_train_score\"\n",
    "# ]]"
   ]
  },
  {
   "cell_type": "code",
   "execution_count": null,
   "id": "f2e32ffa-fe24-442e-b050-7f2567bb0035",
   "metadata": {
    "execution": {
     "iopub.execute_input": "2022-11-07T15:39:32.991614Z",
     "iopub.status.busy": "2022-11-07T15:39:32.991437Z",
     "iopub.status.idle": "2022-11-07T15:39:33.065936Z",
     "shell.execute_reply": "2022-11-07T15:39:33.065354Z",
     "shell.execute_reply.started": "2022-11-07T15:39:32.991596Z"
    },
    "id": "f2e32ffa-fe24-442e-b050-7f2567bb0035"
   },
   "outputs": [],
   "source": [
    "# model_tuning_3_results.to_csv(\"model_tuning_3_results.csv\")"
   ]
  },
  {
   "cell_type": "code",
   "execution_count": null,
   "id": "fcfc9668-fc4e-4aa1-9cf6-80c03c752ff0",
   "metadata": {
    "execution": {
     "iopub.execute_input": "2022-11-07T20:02:20.881454Z",
     "iopub.status.busy": "2022-11-07T20:02:20.881142Z",
     "iopub.status.idle": "2022-11-07T20:02:20.897239Z",
     "shell.execute_reply": "2022-11-07T20:02:20.896681Z",
     "shell.execute_reply.started": "2022-11-07T20:02:20.881435Z"
    },
    "id": "fcfc9668-fc4e-4aa1-9cf6-80c03c752ff0",
    "outputId": "22ac1775-1d95-4683-d3f0-eabe0e0cff1f"
   },
   "outputs": [],
   "source": [
    "model_tuning_3_results = pd.read_csv(\"model_tuning_3_results.csv\")\n",
    "model_tuning_3_results.head(5)"
   ]
  },
  {
   "cell_type": "markdown",
   "id": "92bcc270-8f35-4a7d-8d98-f78e2d51df05",
   "metadata": {
    "id": "92bcc270-8f35-4a7d-8d98-f78e2d51df05"
   },
   "source": [
    "#### Key Findings:\n",
    "\n",
    "Again, there is a bit of improvement here,\n",
    "\n",
    "- n_estimators - apparently there's hardly any difference between 1500 and 4500 estimators.\n",
    "\n",
    "- min_samples_leaf - the default value of 1 is the best one in this test.\n",
    "\n",
    "- min_samples_split - the results cannot really show us if 3 is better than 2.\n",
    "\n",
    "- max_features - log2 gave more consistent results for the previous test, but it didn't performed so great here.\n",
    "\n",
    "\n",
    "#### We can now now concatenate all 3 test results into one dataframe and visualize the parameters to gain more insight of the bigger picture:"
   ]
  },
  {
   "cell_type": "code",
   "execution_count": null,
   "id": "160e6fcc-6677-4e5b-ba5b-e1e4c23fa706",
   "metadata": {
    "execution": {
     "iopub.execute_input": "2022-11-07T20:10:53.729361Z",
     "iopub.status.busy": "2022-11-07T20:10:53.729061Z",
     "iopub.status.idle": "2022-11-07T20:10:53.760090Z",
     "shell.execute_reply": "2022-11-07T20:10:53.759408Z",
     "shell.execute_reply.started": "2022-11-07T20:10:53.729342Z"
    },
    "id": "160e6fcc-6677-4e5b-ba5b-e1e4c23fa706"
   },
   "outputs": [],
   "source": [
    "datasets = [model_tuning_1_results, model_tuning_2_results, model_tuning_3_results]\n",
    "merged_tuning_results = pd.concat(datasets)\n",
    "merged_tuning_results.reset_index(drop = True).to_csv(\"merged_tuning_results.csv\")"
   ]
  },
  {
   "cell_type": "code",
   "execution_count": null,
   "id": "56df5e86-22a7-4408-988d-924627ee7227",
   "metadata": {
    "execution": {
     "iopub.execute_input": "2022-11-07T20:10:56.621047Z",
     "iopub.status.busy": "2022-11-07T20:10:56.620798Z",
     "iopub.status.idle": "2022-11-07T20:10:56.629874Z",
     "shell.execute_reply": "2022-11-07T20:10:56.629313Z",
     "shell.execute_reply.started": "2022-11-07T20:10:56.621028Z"
    },
    "id": "56df5e86-22a7-4408-988d-924627ee7227"
   },
   "outputs": [],
   "source": [
    "merged_tuning_results = pd.read_csv(\"merged_tuning_results.csv\")"
   ]
  },
  {
   "cell_type": "code",
   "execution_count": null,
   "id": "ddf15032-a73f-4506-9416-a75c3d827a03",
   "metadata": {
    "execution": {
     "iopub.execute_input": "2022-11-07T20:15:41.873422Z",
     "iopub.status.busy": "2022-11-07T20:15:41.873150Z",
     "iopub.status.idle": "2022-11-07T20:15:41.877586Z",
     "shell.execute_reply": "2022-11-07T20:15:41.877016Z",
     "shell.execute_reply.started": "2022-11-07T20:15:41.873404Z"
    },
    "id": "ddf15032-a73f-4506-9416-a75c3d827a03",
    "outputId": "9075889d-41f4-4cea-e73a-a784f26cdfba"
   },
   "outputs": [],
   "source": [
    "merged_tuning_results.shape"
   ]
  },
  {
   "cell_type": "markdown",
   "id": "d48c063b-f6f6-4b40-86cb-faabf9f96159",
   "metadata": {
    "id": "d48c063b-f6f6-4b40-86cb-faabf9f96159"
   },
   "source": [
    "We have 2919 results from which we can select the top 10 performing models and visualize the parameters:"
   ]
  },
  {
   "cell_type": "code",
   "execution_count": null,
   "id": "de29b3be-5561-4b76-a653-dfdcec45a595",
   "metadata": {
    "execution": {
     "iopub.execute_input": "2022-11-07T20:19:28.701482Z",
     "iopub.status.busy": "2022-11-07T20:19:28.701188Z",
     "iopub.status.idle": "2022-11-07T20:19:29.693873Z",
     "shell.execute_reply": "2022-11-07T20:19:29.693229Z",
     "shell.execute_reply.started": "2022-11-07T20:19:28.701462Z"
    },
    "id": "de29b3be-5561-4b76-a653-dfdcec45a595",
    "outputId": "42c52436-5729-410f-f52d-4f3c24b435f2"
   },
   "outputs": [],
   "source": [
    "data = merged_tuning_results.nlargest(10, \"mean_test_score\")\n",
    "fig, axs = plt.subplots(ncols = 3, nrows = 2)\n",
    "\n",
    "fig.set_size_inches(16, 10)\n",
    "\n",
    "sns.barplot(x = \"param_classifier__n_estimators\", y = \"mean_test_score\", data = data, ax = axs[0, 0], color = \"#FF9CEE\")\n",
    "axs[0, 0].set_title(label = \"n_estimators\", size = 12)\n",
    "\n",
    "sns.barplot(x = \"param_classifier__criterion\", y = \"mean_test_score\", data = data, ax = axs[0, 1], color = \"#85E3FF\")\n",
    "axs[0, 1].set_title(label = \"criterion\", size = 12)\n",
    "\n",
    "sns.barplot(x = \"param_classifier__min_samples_leaf\", y = \"mean_test_score\", data = data, ax = axs[0, 2], color = \"#AFF8DB\")\n",
    "axs[0, 2].set_title(label = \"min_samples_leaf\", size = 12)\n",
    "\n",
    "sns.barplot(x = \"param_classifier__min_samples_split\", y = \"mean_test_score\", data = data, ax = axs[1, 0], color = \"#E7FFAC\")\n",
    "axs[1, 0].set_title(label = \"min_samples_split\", size = 12)\n",
    "\n",
    "sns.barplot(x = \"param_classifier__max_features\", y = \"mean_test_score\", data = data, ax = axs[1, 1], color = \"#FFABAB\")\n",
    "axs[1, 1].set_title(label = \"max_features\", size = 12)\n",
    "\n",
    "sns.barplot(x = \"param_scaler\", y = \"mean_test_score\", data = data, ax = axs[1, 2], color = \"#FFCBC1\")\n",
    "axs[1, 2].set_title(label = \"scaler\", size = 12)\n",
    "\n",
    "plt.show()"
   ]
  },
  {
   "cell_type": "markdown",
   "id": "40e6eae4-2667-4d75-8db8-03f003f2832c",
   "metadata": {
    "id": "40e6eae4-2667-4d75-8db8-03f003f2832c"
   },
   "source": [
    "#### Key Findings:\n",
    "\n",
    "1. Our model seems to perform best with 1500 estimators, this will be a good value to use as it is big enough to help with overfitting prevention and small enough to make our model relatively fast.\n",
    "\n",
    "\n",
    "2. Gini is definitely better than entropy in this case, and even though it can give similar results in some of the tests we will use it, because it is much less computationally expensive as well.\n",
    "\n",
    "\n",
    "3. min_samples_leaf helps reduce or prevent overfitting, the higher the value, the better. In our case we can select 2.\n",
    "\n",
    "\n",
    "4. min_samples_split - Having a default value as 2 poses the issue that a tree often keeps on splitting until the nodes are completely pure. As a result, the tree grows in size and therefore overfits the data. Hence, the higher its value, the lower the risk of overfitting - let's go with 5 here.\n",
    "\n",
    "\n",
    "5. This determines how many features each tree is randomly assigned. The smaller, the less likely to overfit, but too small will start to introduce under fitting. In our case log2 of 75 features means that each tree will be assignem approximately 6 features, which is quite a good number to reduce overfitting risk.\n",
    "\n",
    "\n",
    "6. MaxAbsScaler has no competition here - this estimator scales and translates each feature individually such that the maximal absolute value of each feature in the training set will be 1.0. It does not shift/center the data, and thus does not destroy any sparsity.\n",
    "\n",
    "\n",
    "<br>\n",
    "\n",
    "__Note:__\n",
    "\n",
    "We will perform one more test, to see if our model will perform good with limited amounts of features, we will tune the PCA function so it reduces to achieve this.\n",
    "\n",
    "What PCA does it to calculate linear combinations of our variables in such way that they get \"summarized\" in fewer variables."
   ]
  },
  {
   "cell_type": "code",
   "execution_count": null,
   "id": "2bff7770-3f5b-459c-9fd0-b5a5a981c8f3",
   "metadata": {
    "execution": {
     "iopub.execute_input": "2022-11-08T10:21:08.237492Z",
     "iopub.status.busy": "2022-11-08T10:21:08.237069Z",
     "iopub.status.idle": "2022-11-08T10:21:08.619419Z",
     "shell.execute_reply": "2022-11-08T10:21:08.618873Z",
     "shell.execute_reply.started": "2022-11-08T10:21:08.237471Z"
    },
    "id": "2bff7770-3f5b-459c-9fd0-b5a5a981c8f3"
   },
   "outputs": [],
   "source": [
    "rfc_pipeline = Pipeline([\n",
    "    (\"scaler\", StandardScaler()),\n",
    "    (\"selector\", PCA()),\n",
    "    (\"classifier\", RandomForestClassifier(\n",
    "                        n_estimators = 1500,\n",
    "                        criterion = \"gini\",\n",
    "                        bootstrap = True,\n",
    "                        min_samples_leaf = 2,\n",
    "                        min_samples_split = 5,\n",
    "                        max_features = \"log2\",\n",
    "                        # max_samples = 0.6,\n",
    "                        n_jobs = -1, \n",
    "                        random_state = 42, \n",
    "                        oob_score = True, \n",
    "                        warm_start = True\n",
    "                    ))\n",
    "])"
   ]
  },
  {
   "cell_type": "code",
   "execution_count": null,
   "id": "c816af61-4a4c-4886-9404-358c1b242576",
   "metadata": {
    "execution": {
     "iopub.execute_input": "2022-11-08T10:59:39.825449Z",
     "iopub.status.busy": "2022-11-08T10:59:39.825171Z",
     "iopub.status.idle": "2022-11-08T10:59:39.828817Z",
     "shell.execute_reply": "2022-11-08T10:59:39.828254Z",
     "shell.execute_reply.started": "2022-11-08T10:59:39.825425Z"
    },
    "id": "c816af61-4a4c-4886-9404-358c1b242576"
   },
   "outputs": [],
   "source": [
    "# param_grid_4 = {\n",
    "#     \"selector__n_components\": [60, 70]\n",
    "# }"
   ]
  },
  {
   "cell_type": "code",
   "execution_count": null,
   "id": "dba24a08-c70e-4c02-a27d-6e27910f0a1a",
   "metadata": {
    "execution": {
     "iopub.execute_input": "2022-11-08T11:42:08.942622Z",
     "iopub.status.busy": "2022-11-08T11:42:08.942272Z",
     "iopub.status.idle": "2022-11-08T11:42:08.945997Z",
     "shell.execute_reply": "2022-11-08T11:42:08.945343Z",
     "shell.execute_reply.started": "2022-11-08T11:42:08.942601Z"
    },
    "id": "dba24a08-c70e-4c02-a27d-6e27910f0a1a"
   },
   "outputs": [],
   "source": [
    "# model_tuning_4 = halving_grid_search(\n",
    "#     x_train = features_train, \n",
    "#     y_train = target_train, \n",
    "#     model = rfc_pipeline, \n",
    "#     param_grid = param_grid_4, \n",
    "#     cv = 5,\n",
    "# )"
   ]
  },
  {
   "cell_type": "code",
   "execution_count": null,
   "id": "6df10f7d-af2a-4c56-9e18-179930854a91",
   "metadata": {
    "execution": {
     "iopub.execute_input": "2022-11-08T11:32:28.768751Z",
     "iopub.status.busy": "2022-11-08T11:32:28.768387Z",
     "iopub.status.idle": "2022-11-08T11:32:28.787675Z",
     "shell.execute_reply": "2022-11-08T11:32:28.786943Z",
     "shell.execute_reply.started": "2022-11-08T11:32:28.768716Z"
    },
    "id": "6df10f7d-af2a-4c56-9e18-179930854a91"
   },
   "outputs": [],
   "source": [
    "# model_tuning_4_results = pd.DataFrame(model_tuning_4.cv_results_).sort_values('mean_test_score').reset_index(drop = True)\n",
    "# model_tuning_4_results = model_tuning_4_results[[\n",
    "#     \"n_resources\",\n",
    "#     \"param_selector__n_components\",\n",
    "#     \"rank_test_score\", \n",
    "#     \"mean_test_score\", \n",
    "#     \"mean_train_score\"\n",
    "# ]]\n",
    "\n",
    "# model_tuning_4_results.to_csv(\"model_tuning_4_results.csv\")"
   ]
  },
  {
   "cell_type": "code",
   "execution_count": null,
   "id": "f6379776-cdba-44bf-8e3a-8908d0f463a0",
   "metadata": {
    "execution": {
     "iopub.execute_input": "2022-11-08T11:41:25.682617Z",
     "iopub.status.busy": "2022-11-08T11:41:25.682255Z",
     "iopub.status.idle": "2022-11-08T11:41:25.693709Z",
     "shell.execute_reply": "2022-11-08T11:41:25.693053Z",
     "shell.execute_reply.started": "2022-11-08T11:41:25.682595Z"
    },
    "id": "f6379776-cdba-44bf-8e3a-8908d0f463a0",
    "outputId": "0b086fe9-2e9b-4fb4-913e-1961ddc3d610"
   },
   "outputs": [],
   "source": [
    "model_tuning_4_results = pd.read_csv(\"model_tuning_4_results.csv\")\n",
    "model_tuning_4_results.sort_values(\"mean_test_score\", ascending = False).head(2)"
   ]
  },
  {
   "cell_type": "markdown",
   "id": "177bceb4-b89f-434a-8eec-074fb867de3d",
   "metadata": {
    "id": "177bceb4-b89f-434a-8eec-074fb867de3d"
   },
   "source": [
    "#### Key Findings:\n",
    "\n",
    "- There is some decrease in the performance by minimizing the number of components of PCA, so we can stick to our 75 components that describe 95% of the variance of our data."
   ]
  },
  {
   "cell_type": "markdown",
   "id": "f035b9d6-162e-43d2-9c50-aa7a3631a1bd",
   "metadata": {
    "id": "f035b9d6-162e-43d2-9c50-aa7a3631a1bd"
   },
   "source": [
    "### Model Training and Evaluation\n",
    "\n",
    "We can configure our pipeline and test it with different metrics to see how it performs and where are its weak spots.\n",
    "\n",
    "- First, let's define a couple of useful functions for our visualizations:"
   ]
  },
  {
   "cell_type": "code",
   "execution_count": null,
   "id": "6e99c8be-09cf-4ae6-9cc2-1070b202e5b4",
   "metadata": {
    "execution": {
     "iopub.execute_input": "2022-11-08T13:48:00.617431Z",
     "iopub.status.busy": "2022-11-08T13:48:00.617138Z",
     "iopub.status.idle": "2022-11-08T13:48:00.625227Z",
     "shell.execute_reply": "2022-11-08T13:48:00.624552Z",
     "shell.execute_reply.started": "2022-11-08T13:48:00.617412Z"
    },
    "id": "6e99c8be-09cf-4ae6-9cc2-1070b202e5b4"
   },
   "outputs": [],
   "source": [
    "def plot_confusion(y_test, y_pred, model_name):\n",
    "    cm = confusion_matrix(y_test, y_pred)\n",
    "    cm_flat = cm.flatten()\n",
    "\n",
    "    true_pos = cm_flat[0]\n",
    "    false_pos = cm_flat[1]\n",
    "    false_neg = cm_flat[2]\n",
    "    truen_neg = cm_flat[3]\n",
    "\n",
    "    precision = true_pos / (true_pos + false_pos)\n",
    "    recall = true_pos / (true_pos + false_neg)\n",
    "    f1_score = 2 * precision * recall / (precision + recall)\n",
    "    print(\"Precision: \" + str(precision) + \"\\nRecall: \" + str(recall) + \"\\nF1 Score: \" + str(f1_score))\n",
    "    \n",
    "    group_counts = [str(value) for value in cm_flat]\n",
    "    f, ax = plt.subplots(figsize = (10, 8))\n",
    "\n",
    "    group_names = [\"True Negative\",\"False Positive\",\"False Negative\",\"True Positive\"]\n",
    "    labels = [v1 + \"\\n\" + v2 for v1, v2 in zip(group_names, group_counts)]\n",
    "    labels = np.asarray(labels).reshape(2, 2)\n",
    "\n",
    "    sns.heatmap(cm, annot = labels, fmt = \"\", ax = ax, cmap = colors)\n",
    "\n",
    "    plt.title(\"Confusion Matrix of \" + model_name)\n",
    "    plt.xlabel(\"Prediction\")\n",
    "    plt.ylabel(\"True\")\n",
    "    \n",
    "    plt.show()"
   ]
  },
  {
   "cell_type": "code",
   "execution_count": null,
   "id": "64031dbf-3494-47d2-8d1b-697b8a12478f",
   "metadata": {
    "execution": {
     "iopub.execute_input": "2022-11-08T13:48:03.945194Z",
     "iopub.status.busy": "2022-11-08T13:48:03.944962Z",
     "iopub.status.idle": "2022-11-08T13:48:03.953027Z",
     "shell.execute_reply": "2022-11-08T13:48:03.952354Z",
     "shell.execute_reply.started": "2022-11-08T13:48:03.945176Z"
    },
    "id": "64031dbf-3494-47d2-8d1b-697b8a12478f"
   },
   "outputs": [],
   "source": [
    "def plot_learning_curve(pipe, scoring, x_train, y_train, title, metric):\n",
    "    train_sizes, train_scores, test_scores = learning_curve(\n",
    "                                                estimator = pipe,\n",
    "                                                X = x_train,\n",
    "                                                y = y_train,\n",
    "                                                train_sizes = np.linspace(0.01, 1.0, 10),\n",
    "                                                cv = 10,\n",
    "                                                n_jobs = -1,\n",
    "                                                random_state = 42,\n",
    "                                                scoring = scoring\n",
    "                                            )\n",
    "\n",
    "    # Mean value of accuracy against training data\n",
    "    train_mean = np.mean(train_scores, axis = 1)\n",
    "\n",
    "    # Standard deviation of training accuracy per number of training samples\n",
    "    train_std = np.std(train_scores, axis = 1)\n",
    "\n",
    "    # Same as above for test data\n",
    "    test_mean = np.mean(test_scores, axis = 1)\n",
    "    test_std = np.std(test_scores, axis = 1)\n",
    "    \n",
    "    plt.figure(figsize = (10, 5))\n",
    "\n",
    "    plt.plot(train_sizes, train_mean, color = m_color, marker = \"o\", label = \"Train\")\n",
    "    plt.fill_between(\n",
    "        train_sizes,\n",
    "        train_mean + train_std,\n",
    "        train_mean - train_std,\n",
    "        alpha = 0.15, color = m_color)\n",
    "\n",
    "    plt.plot(train_sizes, test_mean, color = f_color, linestyle = \"--\", marker = \"s\", label = \"Test\")\n",
    "    plt.fill_between(\n",
    "        train_sizes,\n",
    "        test_mean + test_std,\n",
    "        test_mean - test_std,\n",
    "        alpha = 0.15, color = f_color)\n",
    "    \n",
    "    plt.title(title, fontsize = 14)\n",
    "    plt.xlabel(\"Number of training samples\", fontsize = 10)\n",
    "    plt.ylabel(metric, fontsize = 10)\n",
    "    plt.legend()\n",
    "    \n",
    "    plt.show()"
   ]
  },
  {
   "cell_type": "markdown",
   "id": "9e9ae7fa-60ea-4fc8-bdd2-27e4efed3a6c",
   "metadata": {
    "execution": {
     "iopub.execute_input": "2022-11-08T09:49:46.278689Z",
     "iopub.status.busy": "2022-11-08T09:49:46.278288Z",
     "iopub.status.idle": "2022-11-08T09:49:46.285838Z",
     "shell.execute_reply": "2022-11-08T09:49:46.285183Z",
     "shell.execute_reply.started": "2022-11-08T09:49:46.278667Z"
    },
    "id": "9e9ae7fa-60ea-4fc8-bdd2-27e4efed3a6c"
   },
   "source": [
    "__Note:__\n",
    "\n",
    "We have added three additional parameters to our classifier to improve its performance:\n",
    "\n",
    "\n",
    "1. bootstrap - a statistical resampling technique that involves random sampling of a dataset with replacement. It is often used as a means of quantifying the uncertainty associated with a machine learning model.\n",
    "\n",
    "\n",
    "2. oob_score - whether to use out-of-bag samples to estimate the generalization score. Only available if bootstrap = True.\n",
    "\n",
    "\n",
    "3. warm_start - when set to True, reuse the solution of the previous call to fit and add more estimators to the ensemble, otherwise, just fit a whole new forest.\n",
    "\n",
    "\n",
    "4. max_samples - if bootstrap is True, the number of samples to draw from X to train each base estimator. Actually we don't need to give all the samples to each tree, and we can try a run with 0.8 (80%) and see how it goes.\n",
    "\n",
    "\n",
    "__Note:__\n",
    "\n",
    "We will use n_estimators = 500, in order to save computational time,  the results with this parameter weren't so different than with 1500."
   ]
  },
  {
   "cell_type": "code",
   "execution_count": null,
   "id": "9178120a-08d1-4e77-95ce-564f005c4363",
   "metadata": {
    "execution": {
     "iopub.execute_input": "2022-11-08T13:55:53.657830Z",
     "iopub.status.busy": "2022-11-08T13:55:53.657539Z",
     "iopub.status.idle": "2022-11-08T13:55:53.760893Z",
     "shell.execute_reply": "2022-11-08T13:55:53.760063Z",
     "shell.execute_reply.started": "2022-11-08T13:55:53.657811Z"
    },
    "id": "9178120a-08d1-4e77-95ce-564f005c4363"
   },
   "outputs": [],
   "source": [
    "gender_label = final_data_cleaned.gender\n",
    "audio_features = final_data_cleaned.drop(columns = [\"gender\"], axis = 1)\n",
    "\n",
    "features_train, features_test, target_train, target_test = train_test_split(audio_features, gender_label, test_size = 5000)"
   ]
  },
  {
   "cell_type": "code",
   "execution_count": null,
   "id": "4c531a92-570a-4f15-8107-1a17732ae07c",
   "metadata": {
    "execution": {
     "iopub.execute_input": "2022-11-08T13:50:35.866257Z",
     "iopub.status.busy": "2022-11-08T13:50:35.865931Z",
     "iopub.status.idle": "2022-11-08T13:50:36.008010Z",
     "shell.execute_reply": "2022-11-08T13:50:36.007065Z",
     "shell.execute_reply.started": "2022-11-08T13:50:35.866236Z"
    },
    "id": "4c531a92-570a-4f15-8107-1a17732ae07c"
   },
   "outputs": [],
   "source": [
    "rfc_pipeline = Pipeline([\n",
    "    (\"scaler\", StandardScaler()),\n",
    "    (\"selector\", PCA(n_components = 90)),\n",
    "    (\"classifier\", RandomForestClassifier(\n",
    "                        n_estimators = 1500,\n",
    "                        criterion = \"gini\",\n",
    "                        bootstrap = True,\n",
    "                        min_samples_leaf = 2,\n",
    "                        min_samples_split = 5,\n",
    "                        max_features = \"log2\",\n",
    "                        # max_samples = 0.8,\n",
    "                        n_jobs = -1, \n",
    "                        random_state = 42, \n",
    "                        oob_score = True, \n",
    "                        warm_start = True\n",
    "                    ))\n",
    "])"
   ]
  },
  {
   "cell_type": "code",
   "execution_count": null,
   "id": "6cfa9329-133d-4f41-90c9-7361bb266129",
   "metadata": {
    "execution": {
     "iopub.execute_input": "2022-11-08T13:55:58.420812Z",
     "iopub.status.busy": "2022-11-08T13:55:58.420508Z",
     "iopub.status.idle": "2022-11-08T13:56:31.131394Z",
     "shell.execute_reply": "2022-11-08T13:56:31.129632Z",
     "shell.execute_reply.started": "2022-11-08T13:55:58.420793Z"
    },
    "id": "6cfa9329-133d-4f41-90c9-7361bb266129",
    "outputId": "d969b6e8-2ba7-4cbf-c45a-38596b7f0f5e"
   },
   "outputs": [],
   "source": [
    "rfc_pipeline.fit(features_train, target_train)\n",
    " \n",
    "print('Training set score: ' + str(rfc_pipeline.score(features_train, target_train)))\n",
    "print('Test set score: ' + str(rfc_pipeline.score(features_test, target_test)))"
   ]
  },
  {
   "cell_type": "code",
   "execution_count": null,
   "id": "e660cc59-2023-40d4-8d58-a0bfe8db7a9e",
   "metadata": {
    "execution": {
     "iopub.execute_input": "2022-11-08T13:56:49.216112Z",
     "iopub.status.busy": "2022-11-08T13:56:49.215818Z",
     "iopub.status.idle": "2022-11-08T13:56:53.711408Z",
     "shell.execute_reply": "2022-11-08T13:56:53.710453Z",
     "shell.execute_reply.started": "2022-11-08T13:56:49.216092Z"
    },
    "id": "e660cc59-2023-40d4-8d58-a0bfe8db7a9e",
    "outputId": "bc954f0f-0c4e-4a97-d416-fb4c685df120"
   },
   "outputs": [],
   "source": [
    "rfc = RandomForestClassifier(n_jobs = -1).fit(features_train, target_train)\n",
    " \n",
    "print('Training set score: ' + str(rfc.score(features_train, target_train)))\n",
    "print('Test set score: ' + str(rfc.score(features_test, target_test)))"
   ]
  },
  {
   "cell_type": "markdown",
   "id": "fa3a1912-dbd1-4484-8224-a5b384c44291",
   "metadata": {
    "id": "fa3a1912-dbd1-4484-8224-a5b384c44291"
   },
   "source": [
    "- The performance is nearly identical and generally, we get the same accuracy as with the \"vanilla\" Random Forest without any tuning\n",
    "\n",
    "<br>\n",
    "\n",
    "Now it will be useful to see a confusion matrix and evaluate the outcomes:"
   ]
  },
  {
   "cell_type": "code",
   "execution_count": null,
   "id": "71da4ef9-c707-4322-a801-01063f8d0252",
   "metadata": {
    "execution": {
     "iopub.execute_input": "2022-11-08T12:01:56.094586Z",
     "iopub.status.busy": "2022-11-08T12:01:56.094257Z",
     "iopub.status.idle": "2022-11-08T12:03:48.439340Z",
     "shell.execute_reply": "2022-11-08T12:03:48.438140Z",
     "shell.execute_reply.started": "2022-11-08T12:01:56.094560Z"
    },
    "id": "71da4ef9-c707-4322-a801-01063f8d0252",
    "outputId": "c535c206-aa49-4ffe-af21-7fbcacd09ee0"
   },
   "outputs": [],
   "source": [
    "rfc_classifier = rfc_pipeline.fit(features_train, target_train)\n",
    "pred = rfc_classifier.predict(features_test)\n",
    "\n",
    "plot_confusion(target_test, pred, \"Random Forest Classifier\")"
   ]
  },
  {
   "cell_type": "markdown",
   "id": "c26912bb-5597-497f-ab22-efd7dd7936a0",
   "metadata": {
    "id": "c26912bb-5597-497f-ab22-efd7dd7936a0"
   },
   "source": [
    "#### Key Findings:\n",
    "\n",
    "1. Our model tends to predict the 1 (male) class with higher accuracy, why would that be?\n",
    "\n",
    "    - If we recall our target variable was imbalanced and we had much more observations of the male class, then we generated \"artificially\" more samples for the female class to balance the data. It could be that the features generated are not as accurate representation of the female class as the \"organic\" ones.\n",
    "    \n",
    "        - This means that our model will perform best if our data is balanced, otherwise we can get some \"noise\" in the minority class.\n",
    "        \n",
    "\n",
    "Let's see if we will get the same outcome with the \"vanilla\" RFC:"
   ]
  },
  {
   "cell_type": "code",
   "execution_count": null,
   "id": "a9dfae32-a0ac-400d-99d2-40147d170ec8",
   "metadata": {
    "execution": {
     "iopub.execute_input": "2022-11-08T12:08:21.363161Z",
     "iopub.status.busy": "2022-11-08T12:08:21.362850Z",
     "iopub.status.idle": "2022-11-08T12:08:41.830543Z",
     "shell.execute_reply": "2022-11-08T12:08:41.829929Z",
     "shell.execute_reply.started": "2022-11-08T12:08:21.363141Z"
    },
    "id": "a9dfae32-a0ac-400d-99d2-40147d170ec8",
    "outputId": "a53a30e5-a007-4950-933f-fe9424885272"
   },
   "outputs": [],
   "source": [
    "rfc_classifier = RandomForestClassifier(n_jobs = -1).fit(features_train, target_train)\n",
    "pred = rfc_classifier.predict(features_test)\n",
    "\n",
    "plot_confusion(target_test, pred, \"Random Forest Classifier\")"
   ]
  },
  {
   "cell_type": "markdown",
   "id": "229a8a61-b1cf-4707-8dbd-3abcda32a950",
   "metadata": {
    "id": "229a8a61-b1cf-4707-8dbd-3abcda32a950"
   },
   "source": [
    "#### Key Findings:\n",
    "\n",
    "1. Slightly better performance in therms of accuracy and f1 score.\n",
    "\n",
    "2. There is still more accuracy for the male class, showing us that the previous conclusions might've been correct. Apparently, the fault is not in the model, but in the data.\n",
    "\n",
    "<br>\n",
    "\n",
    "#### Now we come to a very important part in our project - let's evaluate if our model overfits, because it obviously doesn't underfit.\n",
    "\n",
    "- We will plot a learning curve and evaluate it:"
   ]
  },
  {
   "cell_type": "code",
   "execution_count": null,
   "id": "1c226808-0328-4d00-a5b4-9ae43e094d91",
   "metadata": {
    "execution": {
     "iopub.execute_input": "2022-11-08T13:57:26.938362Z",
     "iopub.status.busy": "2022-11-08T13:57:26.938070Z",
     "iopub.status.idle": "2022-11-08T14:07:58.585872Z",
     "shell.execute_reply": "2022-11-08T14:07:58.585164Z",
     "shell.execute_reply.started": "2022-11-08T13:57:26.938342Z"
    },
    "id": "1c226808-0328-4d00-a5b4-9ae43e094d91",
    "outputId": "8626bf1d-eeaf-4fe0-bb5b-3fa0c0393e2f"
   },
   "outputs": [],
   "source": [
    "plot_learning_curve(rfc_pipeline, \"accuracy\", features_train, target_train, \"Random Forest Classifier\", \"Accuracy\")"
   ]
  },
  {
   "cell_type": "markdown",
   "id": "47860ec1-0f43-47f7-be2b-d5ef7a868fe4",
   "metadata": {
    "id": "47860ec1-0f43-47f7-be2b-d5ef7a868fe4"
   },
   "source": [
    "#### Key Findings:\n",
    "\n",
    "1. Obviously, given the constant near to 100% accuracy shown by the train test curve - the training data is overfitted, why would that be? Random Forest is said to NOT overfit!!\n",
    "\n",
    "    - Well, this statement is not entirely true, by leaving the max_depth parameter at None, there's no limit to the depth of the trees and this can cause significant overfitting in Random Forest.\n",
    "    \n",
    "    - We didn't tune it in the previous section, so that's what we get :)\n",
    "\n",
    "2. The good part is that with the increase of data and number of estimators (trees) this problem is being reduced significantly. We can see that above 200,000 samples the results are much better.\n",
    "\n",
    "\n",
    "Now let's see if the results are different with the \"vanilla\" classifier:\n"
   ]
  },
  {
   "cell_type": "code",
   "execution_count": null,
   "id": "d6f9deb1-54e3-463d-94aa-ee80fa8cec53",
   "metadata": {
    "execution": {
     "iopub.execute_input": "2022-11-08T12:41:07.385265Z",
     "iopub.status.busy": "2022-11-08T12:41:07.384961Z",
     "iopub.status.idle": "2022-11-08T12:45:02.349962Z",
     "shell.execute_reply": "2022-11-08T12:45:02.349217Z",
     "shell.execute_reply.started": "2022-11-08T12:41:07.385240Z"
    },
    "id": "d6f9deb1-54e3-463d-94aa-ee80fa8cec53",
    "outputId": "0e1666b4-e8b6-46dc-cc5f-2a4b7ce3cf81"
   },
   "outputs": [],
   "source": [
    "plot_learning_curve(RandomForestClassifier(n_jobs = -1), \"accuracy\", features_train, target_train, \"Random Forest Classifier\", \"Accuracy\")"
   ]
  },
  {
   "cell_type": "markdown",
   "id": "16832d10-780e-4ae3-a3e3-74b4fc8dce15",
   "metadata": {
    "id": "16832d10-780e-4ae3-a3e3-74b4fc8dce15"
   },
   "source": [
    "- Same results here... apparently the other parameters that we tuned doesn't reduce the overfitting in a significant way.\n",
    "\n",
    "<br>\n",
    "\n",
    "So, now, let's make a test with setting the max_depth to 5, this value is commonly believed and proven to reduce overfitting:"
   ]
  },
  {
   "cell_type": "code",
   "execution_count": null,
   "id": "f18849d8-2dbf-49cf-a3ea-240573646051",
   "metadata": {
    "execution": {
     "iopub.execute_input": "2022-11-08T12:59:39.213156Z",
     "iopub.status.busy": "2022-11-08T12:59:39.212826Z",
     "iopub.status.idle": "2022-11-08T12:59:39.218792Z",
     "shell.execute_reply": "2022-11-08T12:59:39.218072Z",
     "shell.execute_reply.started": "2022-11-08T12:59:39.213131Z"
    },
    "id": "f18849d8-2dbf-49cf-a3ea-240573646051"
   },
   "outputs": [],
   "source": [
    "rfc_depth_reduced = Pipeline([\n",
    "    (\"scaler\", StandardScaler()),\n",
    "    (\"selector\", PCA(n_components = 75)),\n",
    "    (\"classifier\", RandomForestClassifier(\n",
    "                        n_estimators = 1500,\n",
    "                        max_depth = 5,\n",
    "                        criterion = \"gini\",\n",
    "                        bootstrap = True,\n",
    "                        min_samples_leaf = 2,\n",
    "                        min_samples_split = 5,\n",
    "                        max_features = \"log2\",\n",
    "                        max_samples = 0.8,\n",
    "                        n_jobs = -1, \n",
    "                        random_state = 42, \n",
    "                        oob_score = True, \n",
    "                        warm_start = True\n",
    "                    ))\n",
    "])"
   ]
  },
  {
   "cell_type": "code",
   "execution_count": null,
   "id": "c5bb1676-709b-4a83-9509-aa03037ace1e",
   "metadata": {
    "execution": {
     "iopub.execute_input": "2022-11-08T13:10:28.075861Z",
     "iopub.status.busy": "2022-11-08T13:10:28.075568Z",
     "iopub.status.idle": "2022-11-08T13:10:28.079634Z",
     "shell.execute_reply": "2022-11-08T13:10:28.078979Z",
     "shell.execute_reply.started": "2022-11-08T13:10:28.075838Z"
    },
    "id": "c5bb1676-709b-4a83-9509-aa03037ace1e"
   },
   "outputs": [],
   "source": [
    "# plot_learning_curve(rfc_depth_reduced, \"accuracy\", features_train, target_train, \"Random Forest Classifier\", \"Accuracy\")"
   ]
  },
  {
   "cell_type": "markdown",
   "id": "b4d5c2d1-4848-489d-a74f-31be7718035e",
   "metadata": {
    "id": "b4d5c2d1-4848-489d-a74f-31be7718035e"
   },
   "source": [
    "#### Key Findings:\n",
    "\n",
    "1. This is different now, we see much better learning curve, but... our accuracy gets stuck at the 0.65 range. And no matter ho much data we will feed to the model, the result will be the same.\n",
    "\n",
    "2. We can conclude that our model needs more tree depth in order to give accurate predictions."
   ]
  }
 ],
 "metadata": {
  "accelerator": "GPU",
  "colab": {
   "collapsed_sections": [],
   "provenance": []
  },
  "gpuClass": "standard",
  "kernelspec": {
   "display_name": "Python 3 (ipykernel)",
   "language": "python",
   "name": "python3"
  },
  "language_info": {
   "codemirror_mode": {
    "name": "ipython",
    "version": 3
   },
   "file_extension": ".py",
   "mimetype": "text/x-python",
   "name": "python",
   "nbconvert_exporter": "python",
   "pygments_lexer": "ipython3",
   "version": "3.7.13"
  }
 },
 "nbformat": 4,
 "nbformat_minor": 5
}
